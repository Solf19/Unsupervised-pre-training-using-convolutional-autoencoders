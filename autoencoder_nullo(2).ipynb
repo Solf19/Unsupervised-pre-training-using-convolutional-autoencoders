{
  "cells": [
    {
      "cell_type": "code",
      "execution_count": null,
      "metadata": {
        "id": "D86fhDCtr_Er"
      },
      "outputs": [],
      "source": [
        "import torch\n",
        "from torch import nn\n",
        "from torch import optim\n",
        "import matplotlib.pyplot as plt\n",
        "import matplotlib.ticker as mtick\n",
        "import torchvision\n",
        "from statistics import mean\n",
        "import numpy as np\n",
        "import os\n",
        "#path_data = 'MyDrive/Dati CNN/'\n",
        "#path_mount = '/content/drive/'\n",
        "#from google.colab import drive\n",
        "#drive.mount('/content/drive')\n",
        "#subject = 'encoder_nullo'"
      ]
    },
    {
      "cell_type": "code",
      "execution_count": null,
      "metadata": {
        "colab": {
          "base_uri": "https://localhost:8080/"
        },
        "id": "PwYldpNQsPjz",
        "outputId": "272f5c09-bd86-4c21-9dd7-82ea757af9d2"
      },
      "outputs": [
        {
          "name": "stdout",
          "output_type": "stream",
          "text": [
            "cpu\n"
          ]
        }
      ],
      "source": [
        "device = torch.device(\"cuda:0\" if torch.cuda.is_available() else \"cpu\")\n",
        "\n",
        "print(device)"
      ]
    },
    {
      "cell_type": "markdown",
      "source": [
        "Encoder class"
      ],
      "metadata": {
        "id": "iDySbZqDIyON"
      }
    },
    {
      "cell_type": "code",
      "execution_count": null,
      "metadata": {
        "id": "Ay_hwIcOsPP0"
      },
      "outputs": [],
      "source": [
        "input_dim = (28 * 28)\n",
        "hidden_dim = 10\n",
        "out_dim = 10\n",
        "\n",
        "class Encoder(nn.Module):\n",
        "    def __init__(self, input_dim, out_dim):\n",
        "        super(Encoder, self).__init__()\n",
        "\n",
        "        # Encoder\n",
        "        self.encoder = nn.Sequential(nn.Conv2d(in_channels=1, out_channels=8, kernel_size=(3,3), stride=1, padding=1),  # 28 x 28 x 1 -> 28 x 28 x 8\n",
        "                                    nn.ReLU(),\n",
        "                                    nn.MaxPool2d(kernel_size=2, stride=2, padding=0),  # 28 x 28 x 8 -> 14 x 14 x 8\n",
        "                                    nn.Conv2d(8, 4, kernel_size=3, padding=1),  # 14 x 14 x 8 -> 14 x 14 x 4\n",
        "                                    nn.ReLU(),\n",
        "                                    nn.MaxPool2d(kernel_size=2, stride=2, padding=0)) # 14 x 14 x 4 -> 7 x 7 x 4\n",
        "\n",
        "\n",
        "    def forward(self, x):\n",
        "        encoded = self.encoder(x)\n",
        "\n",
        "        return encoded\n",
        "\n",
        "pret_autoenc = Encoder(input_dim, out_dim).to(device)"
      ]
    },
    {
      "cell_type": "markdown",
      "source": [
        "Extraction of test set"
      ],
      "metadata": {
        "id": "I3liiXL3I6FP"
      }
    },
    {
      "cell_type": "code",
      "execution_count": null,
      "metadata": {
        "id": "GuR1BeZCsPhD"
      },
      "outputs": [],
      "source": [
        "n_train = 8000\n",
        "n_test = 350\n",
        "\n",
        "batch_size_train = 16\n",
        "batch_size_test = 32\n",
        "\n",
        "transform = torchvision.transforms.Compose([\n",
        "                               torchvision.transforms.ToTensor(),\n",
        "                               torchvision.transforms.Normalize(\n",
        "                                 (0.1307,), (0.3081,))\n",
        "                             ])\n",
        "\n",
        "## TEST SET\n",
        "\n",
        "dataset_test =  torchvision.datasets.MNIST('./files/', train = False, download = True, transform=transform)\n",
        "\n",
        "dataset_test.data, dataset_test.targets = dataset_test.data[n_train:(n_train + n_test)], dataset_test.targets[n_train:(n_train + n_test)]\n",
        "test_loader = torch.utils.data.DataLoader(dataset_test, batch_size = batch_size_test, shuffle = False)"
      ]
    },
    {
      "cell_type": "markdown",
      "source": [
        "Summery of the encoder architeture"
      ],
      "metadata": {
        "id": "lpX04m8sI_uI"
      }
    },
    {
      "cell_type": "code",
      "execution_count": null,
      "metadata": {
        "colab": {
          "base_uri": "https://localhost:8080/"
        },
        "id": "vywvTC3mXEIO",
        "outputId": "7d2f06d2-514d-4914-e0b3-966abee7c44e"
      },
      "outputs": [
        {
          "name": "stdout",
          "output_type": "stream",
          "text": [
            "----------------------------------------------------------------\n",
            "        Layer (type)               Output Shape         Param #\n",
            "================================================================\n",
            "            Conv2d-1            [-1, 8, 28, 28]              80\n",
            "              ReLU-2            [-1, 8, 28, 28]               0\n",
            "         MaxPool2d-3            [-1, 8, 14, 14]               0\n",
            "            Conv2d-4            [-1, 4, 14, 14]             292\n",
            "              ReLU-5            [-1, 4, 14, 14]               0\n",
            "         MaxPool2d-6              [-1, 4, 7, 7]               0\n",
            "================================================================\n",
            "Total params: 372\n",
            "Trainable params: 372\n",
            "Non-trainable params: 0\n",
            "----------------------------------------------------------------\n",
            "Input size (MB): 0.00\n",
            "Forward/backward pass size (MB): 0.12\n",
            "Params size (MB): 0.00\n",
            "Estimated Total Size (MB): 0.13\n",
            "----------------------------------------------------------------\n"
          ]
        }
      ],
      "source": [
        "from torchsummary import summary\n",
        "summary(pret_autoenc, input_size=(1, 28, 28))"
      ]
    },
    {
      "cell_type": "markdown",
      "source": [
        "The model gets saved"
      ],
      "metadata": {
        "id": "S3ToUp8QJF_k"
      }
    },
    {
      "cell_type": "code",
      "execution_count": null,
      "metadata": {
        "id": "t8nHvU0l4b1B"
      },
      "outputs": [],
      "source": [
        "# Save the model\n",
        "torch.save(pret_autoenc.state_dict(), 'null_model.pth')"
      ]
    },
    {
      "cell_type": "markdown",
      "source": [
        "Initialization of the weights with different functions"
      ],
      "metadata": {
        "id": "Ss5LceMQJMTI"
      }
    },
    {
      "cell_type": "code",
      "execution_count": null,
      "metadata": {
        "id": "ExfQWvkYFIjE"
      },
      "outputs": [],
      "source": [
        "def weights_init(m):\n",
        "    if isinstance(m, nn.Conv2d):\n",
        "        torch.nn.init.kaiming_uniform_(m.weight, mode='fan_in', nonlinearity='relu')\n",
        "        m.bias.data.fill_(0.01)\n",
        "\n",
        "#pret_autoenc = Encoder(input_dim, out_dim).to(device)\n",
        "#pret_autoenc.apply(weights_init)"
      ]
    },
    {
      "cell_type": "markdown",
      "source": [
        "Encoder with Softmax class"
      ],
      "metadata": {
        "id": "KENG-RSiJqu-"
      }
    },
    {
      "cell_type": "code",
      "execution_count": null,
      "metadata": {
        "id": "ayfJU1cPsYYZ"
      },
      "outputs": [],
      "source": [
        "class EncoderWithSoftmax(nn.Module):\n",
        "    def __init__(self, pretrained_autoencoder):\n",
        "        super(EncoderWithSoftmax, self).__init__()\n",
        "\n",
        "        # Extraction of the encoder from the pretrained autoencoder\n",
        "        self.encoder = pretrained_autoencoder\n",
        "\n",
        "        for param in self.encoder.parameters():\n",
        "            param.requires_grad = False\n",
        "\n",
        "        # Add the softmax layer\n",
        "        self.flatten = nn.Flatten()\n",
        "        self.linear = nn.Linear(in_features = 4 * 7 * 7, out_features=10)\n",
        "        self.softmax = nn.Softmax(dim=1)\n",
        "\n",
        "\n",
        "    def forward(self, x):\n",
        "        x = self.encoder(x)\n",
        "        x = self.flatten(x)\n",
        "        x = self.linear(x)\n",
        "        x = self.softmax(x)\n",
        "        return x"
      ]
    },
    {
      "cell_type": "markdown",
      "source": [
        "Summery of the encoder + Softmax architeture"
      ],
      "metadata": {
        "id": "PBNetSetKDtf"
      }
    },
    {
      "cell_type": "code",
      "execution_count": null,
      "metadata": {
        "id": "Kce4-fa1IkWX",
        "outputId": "8a5f5afc-e18d-494b-ba70-581189d6ef99"
      },
      "outputs": [
        {
          "name": "stdout",
          "output_type": "stream",
          "text": [
            "----------------------------------------------------------------\n",
            "        Layer (type)               Output Shape         Param #\n",
            "================================================================\n",
            "            Conv2d-1            [-1, 8, 28, 28]              80\n",
            "              ReLU-2            [-1, 8, 28, 28]               0\n",
            "         MaxPool2d-3            [-1, 8, 14, 14]               0\n",
            "            Conv2d-4            [-1, 4, 14, 14]             292\n",
            "              ReLU-5            [-1, 4, 14, 14]               0\n",
            "         MaxPool2d-6              [-1, 4, 7, 7]               0\n",
            "           Encoder-7              [-1, 4, 7, 7]               0\n",
            "           Flatten-8                  [-1, 196]               0\n",
            "            Linear-9                   [-1, 10]           1,970\n",
            "          Softmax-10                   [-1, 10]               0\n",
            "================================================================\n",
            "Total params: 2,342\n",
            "Trainable params: 1,970\n",
            "Non-trainable params: 372\n",
            "----------------------------------------------------------------\n",
            "Input size (MB): 0.00\n",
            "Forward/backward pass size (MB): 0.12\n",
            "Params size (MB): 0.01\n",
            "Estimated Total Size (MB): 0.14\n",
            "----------------------------------------------------------------\n"
          ]
        }
      ],
      "source": [
        "temp = EncoderWithSoftmax(pret_autoenc)\n",
        "summary(temp, input_size=(1, 28, 28))"
      ]
    },
    {
      "cell_type": "markdown",
      "source": [
        "Functions to train the encoder + Softmax"
      ],
      "metadata": {
        "id": "F89fIKJvKKOU"
      }
    },
    {
      "cell_type": "code",
      "execution_count": null,
      "metadata": {
        "id": "pMHqnIc6sPd-"
      },
      "outputs": [],
      "source": [
        "def accuracy(y_pred, y):\n",
        "\n",
        "    pred = y_pred.detach().argmax(dim=1)\n",
        "    corrects = (pred == y)\n",
        "    accuracy = (corrects.sum()/corrects.size(0)).float()\n",
        "\n",
        "    return accuracy\n",
        "\n",
        "\n",
        "def evaluate(model, train_loader, test_loader):\n",
        "\n",
        "  # initialize the accuracy as 0\n",
        "\n",
        "    acc_train, acc_test = 0, 0\n",
        "    running_loss = 0.0\n",
        "\n",
        "    with torch.no_grad():\n",
        "\n",
        "        for x_train, y_train in train_loader:\n",
        "\n",
        "            x_train, y_train = x_train.to(device), y_train.to(device)        # remember that we need to load our data into the GPUs\n",
        "\n",
        "            out = model(x_train).squeeze()\n",
        "            acc_train += accuracy(out, y_train)\n",
        "\n",
        "        for x_test, y_test in test_loader:\n",
        "\n",
        "            x_test, y_test = x_test.to(device), y_test.to(device)\n",
        "\n",
        "            out = model(x_test).squeeze()\n",
        "            loss = loss_function(out, y_test)\n",
        "            running_loss += loss.item()\n",
        "            acc_test += accuracy(out, y_test)\n",
        "\n",
        "        val_loss = running_loss / len(test_loader)\n",
        "        acc_train, acc_test = acc_train / len(train_loader), acc_test / len(test_loader)\n",
        "\n",
        "    return float(acc_train.detach()) * 100, float(acc_test.detach()) * 100, val_loss\n",
        "\n",
        "\n",
        "def train(model, x, y, loss_function, optimizer):\n",
        "    model.train()\n",
        "    out = model(x).squeeze()\n",
        "\n",
        "    loss = loss_function(out, y)\n",
        "\n",
        "    optimizer.zero_grad()\n",
        "    loss.backward()\n",
        "\n",
        "    torch.nn.utils.clip_grad_norm_(model.parameters(), 1)\n",
        "\n",
        "    optimizer.step()\n",
        "    return float(loss)"
      ]
    },
    {
      "cell_type": "markdown",
      "source": [
        "Loss function"
      ],
      "metadata": {
        "id": "a_IpKb1PKPfd"
      }
    },
    {
      "cell_type": "code",
      "execution_count": null,
      "metadata": {
        "id": "IXzlf4NuMg0A"
      },
      "outputs": [],
      "source": [
        "loss_function = nn.CrossEntropyLoss()"
      ]
    },
    {
      "cell_type": "markdown",
      "source": [
        "Training of the Softmax for 100 epochs with 50 different dataset sizes"
      ],
      "metadata": {
        "id": "hJA-x_lCKStX"
      }
    },
    {
      "cell_type": "code",
      "execution_count": null,
      "metadata": {
        "colab": {
          "base_uri": "https://localhost:8080/"
        },
        "id": "AnGDWvWBsYS9",
        "outputId": "bdd6e383-a740-4e54-a0e5-35a93fcda161"
      },
      "outputs": [
        {
          "name": "stdout",
          "output_type": "stream",
          "text": [
            "Run Number: 1\n",
            "Epoch: 25 Loss: 2.1718710899353026 Test Loss: 2.2411774505268443 data: 160 train_acc 43.75 test_acc 35.41666567325592\n",
            "Epoch: 50 Loss: 2.0565442085266112 Test Loss: 2.1667079708792945 data: 160 train_acc 53.75000238418579 test_acc 40.56818187236786\n",
            "Epoch: 75 Loss: 1.9582252740859984 Test Loss: 2.109891241247004 data: 160 train_acc 73.7500011920929 test_acc 49.48863685131073\n",
            "Epoch: 100 Loss: 1.877472198009491 Test Loss: 2.063284310427579 data: 160 train_acc 78.125 test_acc 54.905301332473755\n",
            "Epoch: 25 Loss: 2.085508632659912 Test Loss: 2.181081078269265 data: 320 train_acc 50.93749761581421 test_acc 39.393940567970276\n",
            "Epoch: 50 Loss: 1.9265948832035065 Test Loss: 2.08096304806796 data: 320 train_acc 73.1249988079071 test_acc 53.44696640968323\n",
            "Epoch: 75 Loss: 1.8270367443561555 Test Loss: 2.0176593498750166 data: 320 train_acc 81.25 test_acc 59.185606241226196\n",
            "Epoch: 100 Loss: 1.7715290486812592 Test Loss: 1.980462995442477 data: 320 train_acc 81.87500238418579 test_acc 61.49621605873108\n",
            "Epoch: 25 Loss: 2.0237479408582053 Test Loss: 2.123768698085438 data: 480 train_acc 67.70833134651184 test_acc 54.88636493682861\n",
            "Epoch: 50 Loss: 1.8676788449287414 Test Loss: 2.015898650342768 data: 480 train_acc 75.83333253860474 test_acc 61.212122440338135\n",
            "Epoch: 75 Loss: 1.7973482012748718 Test Loss: 1.9619348916140469 data: 480 train_acc 79.16666865348816 test_acc 63.768941164016724\n",
            "Epoch: 100 Loss: 1.7561478932698569 Test Loss: 1.9269211400638928 data: 480 train_acc 80.83333373069763 test_acc 64.62121605873108\n",
            "Epoch: 25 Loss: 1.9719011813402176 Test Loss: 2.074819326400757 data: 640 train_acc 70.7812488079071 test_acc 58.92045497894287\n",
            "Epoch: 50 Loss: 1.8337127059698104 Test Loss: 1.9743948633020574 data: 640 train_acc 75.93749761581421 test_acc 61.49621605873108\n",
            "Epoch: 75 Loss: 1.7543235421180725 Test Loss: 1.910411769693548 data: 640 train_acc 84.0624988079071 test_acc 68.59848499298096\n",
            "Epoch: 100 Loss: 1.7072826415300368 Test Loss: 1.8714589422399348 data: 640 train_acc 86.71875 test_acc 69.45075988769531\n",
            "Epoch: 25 Loss: 1.9269691061973573 Test Loss: 2.045937332240018 data: 800 train_acc 72.87499904632568 test_acc 58.655303716659546\n",
            "Epoch: 50 Loss: 1.8053894066810607 Test Loss: 1.9561111710288308 data: 800 train_acc 77.99999713897705 test_acc 61.780303716659546\n",
            "Epoch: 75 Loss: 1.7252243566513061 Test Loss: 1.891922268000516 data: 800 train_acc 85.6249988079071 test_acc 68.03030371665955\n",
            "Epoch: 100 Loss: 1.683479118347168 Test Loss: 1.8571639819578691 data: 800 train_acc 87.74999976158142 test_acc 69.16666626930237\n",
            "Epoch: 25 Loss: 1.896820420026779 Test Loss: 2.010951053012501 data: 960 train_acc 73.54166507720947 test_acc 62.91666626930237\n",
            "Epoch: 50 Loss: 1.7843433678150178 Test Loss: 1.9244790835814043 data: 960 train_acc 78.125 test_acc 64.90530371665955\n",
            "Epoch: 75 Loss: 1.7092894713083904 Test Loss: 1.861937479539351 data: 960 train_acc 85.41666865348816 test_acc 72.02651500701904\n",
            "Epoch: 100 Loss: 1.6698994874954223 Test Loss: 1.8263296755877407 data: 960 train_acc 87.70833611488342 test_acc 72.87878394126892\n",
            "Epoch: 25 Loss: 1.8732018317495074 Test Loss: 1.992753798311407 data: 1120 train_acc 74.46428537368774 test_acc 62.34848499298096\n",
            "Epoch: 50 Loss: 1.7571453043392726 Test Loss: 1.897484768520702 data: 1120 train_acc 84.375 test_acc 68.6174213886261\n",
            "Epoch: 75 Loss: 1.6909892456872122 Test Loss: 1.8386650193821301 data: 1120 train_acc 86.60714030265808 test_acc 72.87878394126892\n",
            "Epoch: 100 Loss: 1.6557964188711984 Test Loss: 1.8046354814009233 data: 1120 train_acc 88.03571462631226 test_acc 74.01514649391174\n",
            "Epoch: 25 Loss: 1.8620051726698876 Test Loss: 1.9724123586307873 data: 1280 train_acc 74.45312738418579 test_acc 61.780303716659546\n",
            "Epoch: 50 Loss: 1.7342433348298072 Test Loss: 1.8675609827041626 data: 1280 train_acc 84.14062261581421 test_acc 72.31060266494751\n",
            "Epoch: 75 Loss: 1.6798739805817604 Test Loss: 1.8169922503558071 data: 1280 train_acc 87.1874988079071 test_acc 74.8674213886261\n",
            "Epoch: 100 Loss: 1.647143204510212 Test Loss: 1.7834863987835972 data: 1280 train_acc 89.0625 test_acc 76.57196521759033\n",
            "Epoch: 25 Loss: 1.8414162423875597 Test Loss: 1.9573059515519575 data: 1440 train_acc 74.86110925674438 test_acc 61.780303716659546\n",
            "Epoch: 50 Loss: 1.7194361646970113 Test Loss: 1.8535581827163696 data: 1440 train_acc 84.72222089767456 test_acc 72.02651500701904\n",
            "Epoch: 75 Loss: 1.6698418630494012 Test Loss: 1.8058584061535923 data: 1440 train_acc 86.73611283302307 test_acc 74.29924011230469\n",
            "Epoch: 100 Loss: 1.6398247136010065 Test Loss: 1.7730104814876209 data: 1440 train_acc 88.6805534362793 test_acc 76.28787755966187\n",
            "Epoch: 25 Loss: 1.8126023995876313 Test Loss: 1.932397105477073 data: 1600 train_acc 80.18749952316284 test_acc 66.04166626930237\n",
            "Epoch: 50 Loss: 1.708171100616455 Test Loss: 1.8407174348831177 data: 1600 train_acc 85.50000190734863 test_acc 72.31060266494751\n",
            "Epoch: 75 Loss: 1.6609241735935212 Test Loss: 1.796510642225092 data: 1600 train_acc 87.93749809265137 test_acc 75.15151500701904\n",
            "Epoch: 100 Loss: 1.632512229681015 Test Loss: 1.766495563767173 data: 1600 train_acc 89.62500095367432 test_acc 76.00378394126892\n",
            "Epoch: 25 Loss: 1.797616043957797 Test Loss: 1.9165917093103582 data: 1760 train_acc 81.36363625526428 test_acc 66.60985350608826\n",
            "Epoch: 50 Loss: 1.6987776983867993 Test Loss: 1.8279417861591687 data: 1760 train_acc 85.90909242630005 test_acc 73.16287755966187\n",
            "Epoch: 75 Loss: 1.654486678947102 Test Loss: 1.7795310020446777 data: 1760 train_acc 87.89772987365723 test_acc 76.57196521759033\n",
            "Epoch: 100 Loss: 1.627997304092754 Test Loss: 1.7512224045666782 data: 1760 train_acc 89.60227370262146 test_acc 77.70833373069763\n",
            "Epoch: 25 Loss: 1.782707436879476 Test Loss: 1.904064265164462 data: 1920 train_acc 82.18749761581421 test_acc 68.59848499298096\n",
            "Epoch: 50 Loss: 1.6880845924218495 Test Loss: 1.813255245035345 data: 1920 train_acc 86.30208373069763 test_acc 73.44696521759033\n",
            "Epoch: 75 Loss: 1.6460080097119014 Test Loss: 1.760904778133739 data: 1920 train_acc 88.48958611488342 test_acc 78.56060266494751\n",
            "Epoch: 100 Loss: 1.6204192052284876 Test Loss: 1.72295588796789 data: 1920 train_acc 89.73958492279053 test_acc 80.26514649391174\n",
            "Epoch: 25 Loss: 1.7723341079858632 Test Loss: 1.894317160953175 data: 2080 train_acc 82.4999988079071 test_acc 66.60985350608826\n",
            "Epoch: 50 Loss: 1.6813093698941743 Test Loss: 1.8040415482087568 data: 2080 train_acc 86.34615540504456 test_acc 74.58333373069763\n",
            "Epoch: 75 Loss: 1.6410530347090502 Test Loss: 1.7499180165204136 data: 2080 train_acc 88.50961327552795 test_acc 77.9924213886261\n",
            "Epoch: 100 Loss: 1.616245852983915 Test Loss: 1.7064518495039507 data: 2080 train_acc 89.85576629638672 test_acc 83.1250011920929\n",
            "Epoch: 25 Loss: 1.7619134741170066 Test Loss: 1.880295211618597 data: 2240 train_acc 83.08035731315613 test_acc 69.73485350608826\n",
            "Epoch: 50 Loss: 1.6755675324371884 Test Loss: 1.7905120741237293 data: 2240 train_acc 86.83035969734192 test_acc 76.57196521759033\n",
            "Epoch: 75 Loss: 1.6367572937692916 Test Loss: 1.7320810881527988 data: 2240 train_acc 88.34821581840515 test_acc 80.54924011230469\n",
            "Epoch: 100 Loss: 1.6129036213670458 Test Loss: 1.6920899911360308 data: 2240 train_acc 90.04464149475098 test_acc 84.26136374473572\n",
            "Epoch: 25 Loss: 1.7557437252998351 Test Loss: 1.8712689876556396 data: 2400 train_acc 83.08333158493042 test_acc 72.02651500701904\n",
            "Epoch: 50 Loss: 1.669782559076945 Test Loss: 1.778277657248757 data: 2400 train_acc 86.75000071525574 test_acc 76.30681991577148\n",
            "Epoch: 75 Loss: 1.6319506430625916 Test Loss: 1.7194369381124324 data: 2400 train_acc 88.83333206176758 test_acc 81.40151500701904\n",
            "Epoch: 100 Loss: 1.6093795108795166 Test Loss: 1.683893539688804 data: 2400 train_acc 90.37500023841858 test_acc 83.6931824684143\n",
            "Epoch: 25 Loss: 1.7454558193683625 Test Loss: 1.8650392402302136 data: 2560 train_acc 83.4765613079071 test_acc 73.44696521759033\n",
            "Epoch: 50 Loss: 1.6626689203083516 Test Loss: 1.772341630675576 data: 2560 train_acc 87.4218761920929 test_acc 77.9924213886261\n",
            "Epoch: 75 Loss: 1.626451825350523 Test Loss: 1.7122880870645696 data: 2560 train_acc 89.0625 test_acc 81.40151500701904\n",
            "Epoch: 100 Loss: 1.605316438525915 Test Loss: 1.6796296509829434 data: 2560 train_acc 90.27343988418579 test_acc 84.26136374473572\n"
          ]
        },
        {
          "name": "stdout",
          "output_type": "stream",
          "text": [
            "Epoch: 25 Loss: 1.7373007010011112 Test Loss: 1.8582835089076648 data: 2720 train_acc 83.60294103622437 test_acc 71.7424213886261\n",
            "Epoch: 50 Loss: 1.6579377539017621 Test Loss: 1.7690001834522595 data: 2720 train_acc 87.3161792755127 test_acc 77.9924213886261\n",
            "Epoch: 75 Loss: 1.6237244620042688 Test Loss: 1.716358639977195 data: 2720 train_acc 89.41176533699036 test_acc 81.40151500701904\n",
            "Epoch: 100 Loss: 1.603207076297087 Test Loss: 1.6797193939035588 data: 2720 train_acc 90.66176414489746 test_acc 83.97727608680725\n",
            "Epoch: 25 Loss: 1.7296145644452836 Test Loss: 1.8475853638215498 data: 2880 train_acc 83.57638716697693 test_acc 72.85985350608826\n",
            "Epoch: 50 Loss: 1.6533893333541023 Test Loss: 1.7550271966240623 data: 2880 train_acc 87.29166388511658 test_acc 78.56060266494751\n",
            "Epoch: 75 Loss: 1.619826187690099 Test Loss: 1.7017971060492776 data: 2880 train_acc 89.23611044883728 test_acc 83.40909481048584\n",
            "Epoch: 100 Loss: 1.600403579738405 Test Loss: 1.6735741658644243 data: 2880 train_acc 90.55555462837219 test_acc 84.82954502105713\n",
            "Epoch: 25 Loss: 1.7218341011750071 Test Loss: 1.8396205468611284 data: 3040 train_acc 83.9144766330719 test_acc 72.85985350608826\n",
            "Epoch: 50 Loss: 1.6484074925121508 Test Loss: 1.747021035714583 data: 3040 train_acc 87.76316046714783 test_acc 80.5681824684143\n",
            "Epoch: 75 Loss: 1.6167724596826654 Test Loss: 1.6920780593698674 data: 3040 train_acc 89.4407868385315 test_acc 83.1250011920929\n",
            "Epoch: 100 Loss: 1.5981012093393425 Test Loss: 1.668522834777832 data: 3040 train_acc 90.46052694320679 test_acc 85.11363863945007\n",
            "Epoch: 25 Loss: 1.7150765186548234 Test Loss: 1.830096504905007 data: 3200 train_acc 84.56249833106995 test_acc 74.58333373069763\n",
            "Epoch: 50 Loss: 1.6438406556844711 Test Loss: 1.736085523258556 data: 3200 train_acc 88.03125023841858 test_acc 81.40151500701904\n",
            "Epoch: 75 Loss: 1.6131580805778503 Test Loss: 1.686545642939481 data: 3200 train_acc 89.5312488079071 test_acc 83.97727608680725\n",
            "Epoch: 100 Loss: 1.5950805735588074 Test Loss: 1.66600793058222 data: 3200 train_acc 90.78124761581421 test_acc 84.26136374473572\n",
            "Epoch: 25 Loss: 1.7101270039876302 Test Loss: 1.8244902329011397 data: 3360 train_acc 84.70237851142883 test_acc 74.88636374473572\n",
            "Epoch: 50 Loss: 1.6400278011957805 Test Loss: 1.7293224768205122 data: 3360 train_acc 88.60118985176086 test_acc 81.42045736312866\n",
            "Epoch: 75 Loss: 1.6100253326552254 Test Loss: 1.6829043518413196 data: 3360 train_acc 89.85118865966797 test_acc 85.11363863945007\n",
            "Epoch: 100 Loss: 1.5927036166191102 Test Loss: 1.6620687463066794 data: 3360 train_acc 90.74404835700989 test_acc 85.11363863945007\n",
            "Epoch: 25 Loss: 1.7036358963359486 Test Loss: 1.8221092549237339 data: 3520 train_acc 85.02840995788574 test_acc 75.71969628334045\n",
            "Epoch: 50 Loss: 1.6358618308197368 Test Loss: 1.7235107313502918 data: 3520 train_acc 88.46591114997864 test_acc 81.40151500701904\n",
            "Epoch: 75 Loss: 1.606647943908518 Test Loss: 1.675143231045116 data: 3520 train_acc 90.11363387107849 test_acc 85.11363863945007\n",
            "Epoch: 100 Loss: 1.5895742708986456 Test Loss: 1.652921362356706 data: 3520 train_acc 91.16477370262146 test_acc 86.26893758773804\n",
            "Epoch: 25 Loss: 1.6982673308123712 Test Loss: 1.8185660947452893 data: 3680 train_acc 85.2445662021637 test_acc 75.41666626930237\n",
            "Epoch: 50 Loss: 1.6325159746667612 Test Loss: 1.7144837921315974 data: 3680 train_acc 88.722825050354 test_acc 82.55681991577148\n",
            "Epoch: 75 Loss: 1.6043295341989268 Test Loss: 1.6709428808905862 data: 3680 train_acc 90.27174115180969 test_acc 85.98484396934509\n",
            "Epoch: 100 Loss: 1.5879497367402782 Test Loss: 1.6476484645496716 data: 3680 train_acc 91.27717614173889 test_acc 86.83711886405945\n",
            "Epoch: 25 Loss: 1.6954857428868613 Test Loss: 1.814128203825517 data: 3840 train_acc 85.00000238418579 test_acc 72.85985350608826\n",
            "Epoch: 50 Loss: 1.6310272966821988 Test Loss: 1.712656714699485 data: 3840 train_acc 88.77604007720947 test_acc 82.55681991577148\n",
            "Epoch: 75 Loss: 1.6031399970253308 Test Loss: 1.6694677959788928 data: 3840 train_acc 90.36458134651184 test_acc 84.5643937587738\n",
            "Epoch: 100 Loss: 1.586944157878558 Test Loss: 1.6481482874263416 data: 3840 train_acc 91.19791388511658 test_acc 86.83711886405945\n",
            "Epoch: 25 Loss: 1.691410514831543 Test Loss: 1.8086720379916104 data: 4000 train_acc 84.95000004768372 test_acc 73.99621605873108\n",
            "Epoch: 50 Loss: 1.6283484835624695 Test Loss: 1.7046724991364912 data: 4000 train_acc 88.77500295639038 test_acc 83.1250011920929\n",
            "Epoch: 75 Loss: 1.6013551898002625 Test Loss: 1.6633240201256492 data: 4000 train_acc 90.14999866485596 test_acc 85.41666269302368\n",
            "Epoch: 100 Loss: 1.585410789012909 Test Loss: 1.6453671888871626 data: 4000 train_acc 91.25000238418579 test_acc 86.83711886405945\n",
            "Epoch: 25 Loss: 1.6869595266305484 Test Loss: 1.8059942722320557 data: 4160 train_acc 85.09615659713745 test_acc 74.8674213886261\n",
            "Epoch: 50 Loss: 1.6257675015009367 Test Loss: 1.7041853341189297 data: 4160 train_acc 88.96634578704834 test_acc 82.84091353416443\n",
            "Epoch: 75 Loss: 1.599454054924158 Test Loss: 1.6634287725795398 data: 4160 train_acc 90.48076868057251 test_acc 86.26893758773804\n",
            "Epoch: 100 Loss: 1.5836820244789123 Test Loss: 1.6425667892802844 data: 4160 train_acc 91.44230484962463 test_acc 87.70833611488342\n",
            "Epoch: 25 Loss: 1.6842767145898607 Test Loss: 1.7953785332766445 data: 4320 train_acc 85.41666865348816 test_acc 75.71969628334045\n",
            "Epoch: 50 Loss: 1.6244908575658445 Test Loss: 1.6968701969493518 data: 4320 train_acc 88.63425850868225 test_acc 83.40909481048584\n",
            "Epoch: 75 Loss: 1.5988748055917246 Test Loss: 1.6558666771108455 data: 4320 train_acc 90.32407402992249 test_acc 86.00378632545471\n",
            "Epoch: 100 Loss: 1.5836911722465798 Test Loss: 1.6388285160064697 data: 4320 train_acc 91.4814829826355 test_acc 87.99242377281189\n",
            "Epoch: 25 Loss: 1.681016127552305 Test Loss: 1.7896275520324707 data: 4480 train_acc 85.78125238418579 test_acc 76.55303478240967\n",
            "Epoch: 50 Loss: 1.6225399217435292 Test Loss: 1.6921794956380671 data: 4480 train_acc 88.97321224212646 test_acc 83.40909481048584\n",
            "Epoch: 75 Loss: 1.5975318989583425 Test Loss: 1.6547862074591897 data: 4480 train_acc 90.40178656578064 test_acc 86.5719735622406\n",
            "Epoch: 100 Loss: 1.5826858120305198 Test Loss: 1.6345139308409258 data: 4480 train_acc 91.36160612106323 test_acc 87.99242377281189\n",
            "Epoch: 25 Loss: 1.6786672645601732 Test Loss: 1.7865561897104436 data: 4640 train_acc 85.88362336158752 test_acc 76.85605883598328\n",
            "Epoch: 50 Loss: 1.6213678392870672 Test Loss: 1.6915742050517688 data: 4640 train_acc 88.94396424293518 test_acc 83.6931824684143\n",
            "Epoch: 75 Loss: 1.5963986598212143 Test Loss: 1.6507864648645574 data: 4640 train_acc 90.53879380226135 test_acc 86.85606122016907\n",
            "Epoch: 100 Loss: 1.5818444178022186 Test Loss: 1.6341469504616477 data: 4640 train_acc 91.5517270565033 test_acc 88.27651739120483\n",
            "Epoch: 25 Loss: 1.6747714308897654 Test Loss: 1.7825871597636829 data: 4800 train_acc 85.9375 test_acc 77.42424011230469\n",
            "Epoch: 50 Loss: 1.618560059070587 Test Loss: 1.687889500097795 data: 4800 train_acc 89.16666507720947 test_acc 83.39014649391174\n",
            "Epoch: 75 Loss: 1.594358177582423 Test Loss: 1.6494444825432517 data: 4800 train_acc 90.68750143051147 test_acc 87.14015483856201\n",
            "Epoch: 100 Loss: 1.579852591753006 Test Loss: 1.6287285956469448 data: 4800 train_acc 91.66666865348816 test_acc 88.84469866752625\n",
            "Epoch: 25 Loss: 1.6715920309866628 Test Loss: 1.7781876542351462 data: 4960 train_acc 86.20967864990234 test_acc 77.70833373069763\n",
            "Epoch: 50 Loss: 1.616597952381257 Test Loss: 1.683925520290028 data: 4960 train_acc 89.19354677200317 test_acc 83.6931824684143\n",
            "Epoch: 75 Loss: 1.5928251581807291 Test Loss: 1.650609384883534 data: 4960 train_acc 90.7056450843811 test_acc 86.83711886405945\n",
            "Epoch: 100 Loss: 1.5787475509028281 Test Loss: 1.6281041232022373 data: 4960 train_acc 91.61290526390076 test_acc 88.5606050491333\n",
            "Epoch: 25 Loss: 1.6689176194369792 Test Loss: 1.7549518455158581 data: 5120 train_acc 86.42578125 test_acc 81.13636374473572\n",
            "Epoch: 50 Loss: 1.6145709443837404 Test Loss: 1.667213038964705 data: 5120 train_acc 89.41406011581421 test_acc 85.71969866752625\n",
            "Epoch: 75 Loss: 1.591483885794878 Test Loss: 1.6349269910292192 data: 5120 train_acc 90.6445324420929 test_acc 87.44317889213562\n"
          ]
        },
        {
          "name": "stdout",
          "output_type": "stream",
          "text": [
            "Epoch: 100 Loss: 1.577782379090786 Test Loss: 1.6161157217892734 data: 5120 train_acc 91.5820300579071 test_acc 89.71590399742126\n",
            "Epoch: 25 Loss: 1.6660359209234064 Test Loss: 1.7355927228927612 data: 5280 train_acc 86.55303120613098 test_acc 81.72348141670227\n",
            "Epoch: 50 Loss: 1.6125087163665077 Test Loss: 1.6562686399980024 data: 5280 train_acc 89.73484635353088 test_acc 86.85606122016907\n",
            "Epoch: 75 Loss: 1.5898411324529937 Test Loss: 1.6242078976197676 data: 5280 train_acc 90.9469723701477 test_acc 89.4318163394928\n",
            "Epoch: 100 Loss: 1.5764215447685934 Test Loss: 1.6066909594969316 data: 5280 train_acc 91.79924130439758 test_acc 90.28408527374268\n",
            "Epoch: 25 Loss: 1.660097214053659 Test Loss: 1.7261801416223699 data: 5440 train_acc 87.07720637321472 test_acc 82.57575631141663\n",
            "Epoch: 50 Loss: 1.6080096335972056 Test Loss: 1.6500362699682063 data: 5440 train_acc 89.90808725357056 test_acc 86.85606122016907\n",
            "Epoch: 75 Loss: 1.5859100990435657 Test Loss: 1.6191745454614812 data: 5440 train_acc 91.23162031173706 test_acc 89.98106122016907\n",
            "Epoch: 100 Loss: 1.5731252435375662 Test Loss: 1.6038084030151367 data: 5440 train_acc 92.13235378265381 test_acc 90.56817889213562\n",
            "Epoch: 25 Loss: 1.655782938684736 Test Loss: 1.718338511206887 data: 5600 train_acc 87.41071224212646 test_acc 83.4280252456665\n",
            "Epoch: 50 Loss: 1.6041084739140101 Test Loss: 1.6472840742631392 data: 5600 train_acc 90.33928513526917 test_acc 87.42424249649048\n",
            "Epoch: 75 Loss: 1.582509617805481 Test Loss: 1.6158437187021428 data: 5600 train_acc 91.44642949104309 test_acc 90.28408527374268\n",
            "Epoch: 100 Loss: 1.5697251091684614 Test Loss: 1.60113018209284 data: 5600 train_acc 92.17857122421265 test_acc 91.13636016845703\n",
            "Epoch: 25 Loss: 1.6529693467749489 Test Loss: 1.7162873094732112 data: 5760 train_acc 87.63889074325562 test_acc 83.14393758773804\n",
            "Epoch: 50 Loss: 1.60238743060165 Test Loss: 1.6457526141946965 data: 5760 train_acc 90.32986164093018 test_acc 87.70833611488342\n",
            "Epoch: 75 Loss: 1.5811735110150442 Test Loss: 1.6169560822573574 data: 5760 train_acc 91.66666865348816 test_acc 89.71590399742126\n",
            "Epoch: 100 Loss: 1.568519373734792 Test Loss: 1.6005808981982144 data: 5760 train_acc 92.36111044883728 test_acc 90.85226655006409\n",
            "Epoch: 25 Loss: 1.6500353323446737 Test Loss: 1.7131501219489358 data: 5920 train_acc 87.95608282089233 test_acc 83.6931824684143\n",
            "Epoch: 50 Loss: 1.6002368620924048 Test Loss: 1.6374577500603416 data: 5920 train_acc 90.52364826202393 test_acc 89.14772272109985\n",
            "Epoch: 75 Loss: 1.5795182398847631 Test Loss: 1.613551291552457 data: 5920 train_acc 91.8749988079071 test_acc 89.99999761581421\n",
            "Epoch: 100 Loss: 1.56719523217227 Test Loss: 1.5973690314726396 data: 5920 train_acc 92.38175749778748 test_acc 90.85226655006409\n",
            "Epoch: 25 Loss: 1.648226567318565 Test Loss: 1.7124059742147273 data: 6080 train_acc 87.92763352394104 test_acc 83.97727608680725\n",
            "Epoch: 50 Loss: 1.5996033279519333 Test Loss: 1.6383348161523992 data: 6080 train_acc 90.55920839309692 test_acc 89.71590399742126\n",
            "Epoch: 75 Loss: 1.579033012766587 Test Loss: 1.6109911853616887 data: 6080 train_acc 91.71052575111389 test_acc 90.85226655006409\n",
            "Epoch: 100 Loss: 1.5669443478709772 Test Loss: 1.595318230715665 data: 6080 train_acc 92.45066046714783 test_acc 90.85226655006409\n",
            "Epoch: 25 Loss: 1.645920958580115 Test Loss: 1.706822687929327 data: 6240 train_acc 87.91666626930237 test_acc 84.82954502105713\n",
            "Epoch: 50 Loss: 1.5976634575770452 Test Loss: 1.6344030011783948 data: 6240 train_acc 90.6089723110199 test_acc 89.14772272109985\n",
            "Epoch: 75 Loss: 1.5773121956067206 Test Loss: 1.602683262391524 data: 6240 train_acc 91.74679517745972 test_acc 91.42045378684998\n",
            "Epoch: 100 Loss: 1.5654856779636481 Test Loss: 1.5916911255229602 data: 6240 train_acc 92.45192408561707 test_acc 91.42045378684998\n",
            "Epoch: 25 Loss: 1.641789409816265 Test Loss: 1.7017664259130305 data: 6400 train_acc 88.31250071525574 test_acc 84.5643937587738\n",
            "Epoch: 50 Loss: 1.5945137935876845 Test Loss: 1.6310278177261353 data: 6400 train_acc 90.90625047683716 test_acc 90.28408527374268\n",
            "Epoch: 75 Loss: 1.5746315225958825 Test Loss: 1.6032373146577314 data: 6400 train_acc 92.06249713897705 test_acc 91.98863506317139\n",
            "Epoch: 100 Loss: 1.5629758054018021 Test Loss: 1.5894100882790305 data: 6400 train_acc 92.6562488079071 test_acc 91.98863506317139\n",
            "Epoch: 25 Loss: 1.638956411001159 Test Loss: 1.6953208988363093 data: 6560 train_acc 88.62804770469666 test_acc 85.41666269302368\n",
            "Epoch: 50 Loss: 1.5927257375019352 Test Loss: 1.6263567317615857 data: 6560 train_acc 91.17377996444702 test_acc 89.99999761581421\n",
            "Epoch: 75 Loss: 1.5731623286154213 Test Loss: 1.6033570766448975 data: 6560 train_acc 92.27133989334106 test_acc 90.85226655006409\n",
            "Epoch: 100 Loss: 1.5617050656458227 Test Loss: 1.5862482027574019 data: 6560 train_acc 92.94207096099854 test_acc 91.98863506317139\n",
            "Epoch: 25 Loss: 1.6380769556476957 Test Loss: 1.6794391437010332 data: 6720 train_acc 88.7499988079071 test_acc 86.5719735622406\n",
            "Epoch: 50 Loss: 1.5920399716922216 Test Loss: 1.6184416792609475 data: 6720 train_acc 90.96726179122925 test_acc 90.56817889213562\n",
            "Epoch: 75 Loss: 1.5729292125928969 Test Loss: 1.5939824364402078 data: 6720 train_acc 92.03869104385376 test_acc 91.98863506317139\n",
            "Epoch: 100 Loss: 1.5616741177581606 Test Loss: 1.5828081477772107 data: 6720 train_acc 92.66369342803955 test_acc 91.98863506317139\n",
            "Epoch: 25 Loss: 1.6369382813919422 Test Loss: 1.6715882474725896 data: 6880 train_acc 88.61918449401855 test_acc 87.42424249649048\n",
            "Epoch: 50 Loss: 1.5911564261414284 Test Loss: 1.613291545347734 data: 6880 train_acc 91.13371968269348 test_acc 90.85226655006409\n",
            "Epoch: 75 Loss: 1.5721667231515397 Test Loss: 1.586711124940352 data: 6880 train_acc 92.04941987991333 test_acc 92.84090399742126\n",
            "Epoch: 100 Loss: 1.5612691039262816 Test Loss: 1.5759798938577825 data: 6880 train_acc 92.8052306175232 test_acc 92.84090399742126\n",
            "Epoch: 25 Loss: 1.6348662915554915 Test Loss: 1.6674831347032026 data: 7040 train_acc 88.93465995788574 test_acc 87.14015483856201\n",
            "Epoch: 50 Loss: 1.5897892515767704 Test Loss: 1.610856760631908 data: 7040 train_acc 91.17897748947144 test_acc 90.56817889213562\n",
            "Epoch: 75 Loss: 1.5709389952096071 Test Loss: 1.5853427323428066 data: 7040 train_acc 92.1875 test_acc 92.84090399742126\n",
            "Epoch: 100 Loss: 1.560009423440153 Test Loss: 1.5746832977641712 data: 7040 train_acc 92.75568127632141 test_acc 92.84090399742126\n",
            "Epoch: 25 Loss: 1.6320330097940232 Test Loss: 1.6631188609383323 data: 7200 train_acc 89.041668176651 test_acc 87.12120652198792\n",
            "Epoch: 50 Loss: 1.5878257735570271 Test Loss: 1.6046093810688367 data: 7200 train_acc 91.09722375869751 test_acc 91.70454144477844\n",
            "Epoch: 75 Loss: 1.5695460833443535 Test Loss: 1.5827386595986106 data: 7200 train_acc 92.34722256660461 test_acc 93.12499761581421\n",
            "Epoch: 100 Loss: 1.558922070397271 Test Loss: 1.5711787830699573 data: 7200 train_acc 93.0138885974884 test_acc 93.12499761581421\n",
            "Epoch: 25 Loss: 1.6296128819818083 Test Loss: 1.6520836678418247 data: 7360 train_acc 89.10326361656189 test_acc 89.12878632545471\n",
            "Epoch: 50 Loss: 1.5862565043179886 Test Loss: 1.599550182169134 data: 7360 train_acc 91.3994550704956 test_acc 91.42045378684998\n",
            "Epoch: 75 Loss: 1.5681404935277026 Test Loss: 1.5807204896753484 data: 7360 train_acc 92.3233687877655 test_acc 92.27272272109985\n",
            "Epoch: 100 Loss: 1.5577409308889638 Test Loss: 1.5671260140158914 data: 7360 train_acc 92.9483711719513 test_acc 93.40908527374268\n",
            "Epoch: 25 Loss: 1.6295298794482618 Test Loss: 1.645252607085488 data: 7520 train_acc 89.33510780334473 test_acc 89.41287994384766\n",
            "Epoch: 50 Loss: 1.5859755460252154 Test Loss: 1.5926719578829678 data: 7520 train_acc 91.32978916168213 test_acc 92.5568163394928\n",
            "Epoch: 75 Loss: 1.5680480335621123 Test Loss: 1.5753719156438655 data: 7520 train_acc 92.43351221084595 test_acc 92.84090399742126\n",
            "Epoch: 100 Loss: 1.5576686945367366 Test Loss: 1.5653304186734287 data: 7520 train_acc 93.03191304206848 test_acc 92.5568163394928\n",
            "Epoch: 25 Loss: 1.6274761386215686 Test Loss: 1.6400676857341419 data: 7680 train_acc 89.19270634651184 test_acc 90.26515483856201\n",
            "Epoch: 50 Loss: 1.5843072928488255 Test Loss: 1.5935411019758745 data: 7680 train_acc 91.57552123069763 test_acc 92.27272272109985\n"
          ]
        },
        {
          "name": "stdout",
          "output_type": "stream",
          "text": [
            "Epoch: 75 Loss: 1.5667328270773093 Test Loss: 1.5735877752304077 data: 7680 train_acc 92.36978888511658 test_acc 93.12499761581421\n",
            "Epoch: 100 Loss: 1.5564423196017743 Test Loss: 1.5622510801662097 data: 7680 train_acc 92.91666746139526 test_acc 93.69317889213562\n",
            "Epoch: 25 Loss: 1.6259492998220482 Test Loss: 1.6386905908584595 data: 7840 train_acc 89.34949040412903 test_acc 89.98106122016907\n",
            "Epoch: 50 Loss: 1.5832009918835699 Test Loss: 1.5906519998203625 data: 7840 train_acc 91.54336452484131 test_acc 91.98863506317139\n",
            "Epoch: 75 Loss: 1.565750550250618 Test Loss: 1.570927782492204 data: 7840 train_acc 92.5000011920929 test_acc 92.84090399742126\n",
            "Epoch: 100 Loss: 1.5558260961454742 Test Loss: 1.5619965466586025 data: 7840 train_acc 93.20152997970581 test_acc 93.40908527374268\n",
            "Epoch: 25 Loss: 1.6249277410507201 Test Loss: 1.6310894706032493 data: 8000 train_acc 89.28750157356262 test_acc 90.28408527374268\n",
            "Epoch: 50 Loss: 1.5825968754291535 Test Loss: 1.5825209400870583 data: 8000 train_acc 91.66250228881836 test_acc 92.27272272109985\n",
            "Epoch: 75 Loss: 1.5652996549606324 Test Loss: 1.5649778192693538 data: 8000 train_acc 92.58750081062317 test_acc 92.5568163394928\n",
            "Epoch: 100 Loss: 1.555313199043274 Test Loss: 1.556564905426719 data: 8000 train_acc 93.13750267028809 test_acc 93.12499761581421\n",
            "\n",
            "\n",
            "Run Number: 2\n",
            "Epoch: 25 Loss: 2.1712862253189087 Test Loss: 2.2401519905437124 data: 160 train_acc 44.999998807907104 test_acc 35.681816935539246\n",
            "Epoch: 50 Loss: 2.0500532507896425 Test Loss: 2.162425171245228 data: 160 train_acc 52.49999761581421 test_acc 40.56818187236786\n",
            "Epoch: 75 Loss: 1.9496274948120118 Test Loss: 2.1048166751861572 data: 160 train_acc 73.1249988079071 test_acc 49.772727489471436\n",
            "Epoch: 100 Loss: 1.8631728172302247 Test Loss: 2.061519676988775 data: 160 train_acc 81.87500238418579 test_acc 56.04166388511658\n",
            "Epoch: 25 Loss: 2.0855767726898193 Test Loss: 2.183963797309182 data: 320 train_acc 49.687498807907104 test_acc 39.67803120613098\n",
            "Epoch: 50 Loss: 1.9217761516571046 Test Loss: 2.081690874966708 data: 320 train_acc 73.7500011920929 test_acc 52.59469747543335\n",
            "Epoch: 75 Loss: 1.8233698606491089 Test Loss: 2.01805410601876 data: 320 train_acc 80.9374988079071 test_acc 59.75378751754761\n",
            "Epoch: 100 Loss: 1.7699261605739594 Test Loss: 1.9808183800090442 data: 320 train_acc 81.5625011920929 test_acc 62.04545497894287\n",
            "Epoch: 25 Loss: 2.0237496296564736 Test Loss: 2.125996719707142 data: 480 train_acc 67.5000011920929 test_acc 55.15151619911194\n",
            "Epoch: 50 Loss: 1.8664647459983825 Test Loss: 2.0143357515335083 data: 480 train_acc 76.04166865348816 test_acc 60.90908646583557\n",
            "Epoch: 75 Loss: 1.7969032843907675 Test Loss: 1.96077561378479 data: 480 train_acc 79.16666865348816 test_acc 63.768941164016724\n",
            "Epoch: 100 Loss: 1.7547863682111104 Test Loss: 1.9261658191680908 data: 480 train_acc 81.04166388511658 test_acc 64.33712244033813\n",
            "Epoch: 25 Loss: 1.9730607837438583 Test Loss: 2.074668212370439 data: 640 train_acc 70.15625238418579 test_acc 57.462120056152344\n",
            "Epoch: 50 Loss: 1.8316151350736618 Test Loss: 1.971209092573686 data: 640 train_acc 76.40625238418579 test_acc 62.91666626930237\n",
            "Epoch: 75 Loss: 1.7480620294809341 Test Loss: 1.906239238652316 data: 640 train_acc 84.0624988079071 test_acc 68.8825786113739\n",
            "Epoch: 100 Loss: 1.704542988538742 Test Loss: 1.868732582439076 data: 640 train_acc 86.4062488079071 test_acc 69.73485350608826\n",
            "Epoch: 25 Loss: 1.9287921285629273 Test Loss: 2.045578132976185 data: 800 train_acc 72.37499952316284 test_acc 60.07575988769531\n",
            "Epoch: 50 Loss: 1.8056352353096008 Test Loss: 1.9544739506461404 data: 800 train_acc 77.49999761581421 test_acc 62.06439733505249\n",
            "Epoch: 75 Loss: 1.7232386302947997 Test Loss: 1.8901002190329812 data: 800 train_acc 85.87499856948853 test_acc 68.03030371665955\n",
            "Epoch: 100 Loss: 1.6826162147521972 Test Loss: 1.8553697087547996 data: 800 train_acc 87.5 test_acc 69.16666626930237\n",
            "Epoch: 25 Loss: 1.9021502494812013 Test Loss: 2.0156372568824072 data: 960 train_acc 73.1249988079071 test_acc 62.6325786113739\n",
            "Epoch: 50 Loss: 1.785220096508662 Test Loss: 1.9252783060073853 data: 960 train_acc 78.4375011920929 test_acc 64.62121605873108\n",
            "Epoch: 75 Loss: 1.7107235531012217 Test Loss: 1.863613020290028 data: 960 train_acc 85.52083373069763 test_acc 72.31060266494751\n",
            "Epoch: 100 Loss: 1.671039992570877 Test Loss: 1.8273700258948586 data: 960 train_acc 87.70833611488342 test_acc 73.73105883598328\n",
            "Epoch: 25 Loss: 1.8701090148517063 Test Loss: 1.9913245764645664 data: 1120 train_acc 74.37499761581421 test_acc 61.212122440338135\n",
            "Epoch: 50 Loss: 1.7532976116452899 Test Loss: 1.894266670400446 data: 1120 train_acc 84.375 test_acc 70.03787755966187\n",
            "Epoch: 75 Loss: 1.6900201780455453 Test Loss: 1.8385641466487537 data: 1120 train_acc 86.42857074737549 test_acc 72.87878394126892\n",
            "Epoch: 100 Loss: 1.6551557626043047 Test Loss: 1.80384793064811 data: 1120 train_acc 88.03571462631226 test_acc 74.01514649391174\n",
            "Epoch: 25 Loss: 1.8562933221459388 Test Loss: 1.969308322126215 data: 1280 train_acc 76.01562738418579 test_acc 62.34848499298096\n",
            "Epoch: 50 Loss: 1.7306543096899987 Test Loss: 1.8643906658346003 data: 1280 train_acc 84.53124761581421 test_acc 71.7424213886261\n",
            "Epoch: 75 Loss: 1.6782151326537131 Test Loss: 1.814284237948331 data: 1280 train_acc 87.109375 test_acc 74.8674213886261\n",
            "Epoch: 100 Loss: 1.6464762046933175 Test Loss: 1.783835075118325 data: 1280 train_acc 88.90625238418579 test_acc 76.57196521759033\n",
            "Epoch: 25 Loss: 1.8424232138527765 Test Loss: 1.9606002569198608 data: 1440 train_acc 74.79166388511658 test_acc 61.212122440338135\n",
            "Epoch: 50 Loss: 1.721350027455224 Test Loss: 1.857073805548928 data: 1440 train_acc 84.58333611488342 test_acc 71.45833373069763\n",
            "Epoch: 75 Loss: 1.6708521207173666 Test Loss: 1.8069848364049739 data: 1440 train_acc 86.80555820465088 test_acc 74.58333373069763\n",
            "Epoch: 100 Loss: 1.6403056912951999 Test Loss: 1.7758195400238037 data: 1440 train_acc 88.61111402511597 test_acc 76.00378394126892\n",
            "Epoch: 25 Loss: 1.808950310945511 Test Loss: 1.9262335950678044 data: 1600 train_acc 80.56250214576721 test_acc 67.46212244033813\n",
            "Epoch: 50 Loss: 1.7069973742961884 Test Loss: 1.8399277166886763 data: 1600 train_acc 85.56249737739563 test_acc 72.87878394126892\n",
            "Epoch: 75 Loss: 1.6604406654834747 Test Loss: 1.7947393330660733 data: 1600 train_acc 87.93749809265137 test_acc 75.71969628334045\n",
            "Epoch: 100 Loss: 1.6318552029132842 Test Loss: 1.7644061933864246 data: 1600 train_acc 89.3750011920929 test_acc 76.28787755966187\n",
            "Epoch: 25 Loss: 1.7995864261280408 Test Loss: 1.9151914661580867 data: 1760 train_acc 81.19317889213562 test_acc 68.31439733505249\n",
            "Epoch: 50 Loss: 1.6994015368548308 Test Loss: 1.826915610920299 data: 1760 train_acc 85.6249988079071 test_acc 73.73105883598328\n",
            "Epoch: 75 Loss: 1.6548160282048312 Test Loss: 1.7808848077600652 data: 1760 train_acc 87.95454502105713 test_acc 76.57196521759033\n",
            "Epoch: 100 Loss: 1.6283185503699562 Test Loss: 1.7503675114024768 data: 1760 train_acc 89.31818008422852 test_acc 77.42424011230469\n",
            "Epoch: 25 Loss: 1.7813676377137502 Test Loss: 1.9037701975215564 data: 1920 train_acc 82.08333253860474 test_acc 67.46212244033813\n",
            "Epoch: 50 Loss: 1.6875321388244628 Test Loss: 1.8127324147657915 data: 1920 train_acc 86.61458492279053 test_acc 72.87878394126892\n",
            "Epoch: 75 Loss: 1.6457753419876098 Test Loss: 1.7641708634116433 data: 1920 train_acc 88.48958611488342 test_acc 78.01136374473572\n",
            "Epoch: 100 Loss: 1.6203446477651595 Test Loss: 1.7226371873508801 data: 1920 train_acc 89.79166746139526 test_acc 80.54924011230469\n",
            "Epoch: 25 Loss: 1.7742389037058903 Test Loss: 1.896123084154996 data: 2080 train_acc 82.21153616905212 test_acc 67.17803478240967\n",
            "Epoch: 50 Loss: 1.6824543494444626 Test Loss: 1.8046653812581843 data: 2080 train_acc 86.05769276618958 test_acc 74.58333373069763\n",
            "Epoch: 75 Loss: 1.6417429107886095 Test Loss: 1.7516813494942405 data: 2080 train_acc 88.50961327552795 test_acc 78.56060266494751\n",
            "Epoch: 100 Loss: 1.6169123897185693 Test Loss: 1.7082110101526433 data: 2080 train_acc 89.85576629638672 test_acc 82.25378394126892\n",
            "Epoch: 25 Loss: 1.7641810723713467 Test Loss: 1.879446419802579 data: 2240 train_acc 82.76785612106323 test_acc 69.45075988769531\n",
            "Epoch: 50 Loss: 1.6763278492859433 Test Loss: 1.7927317727695813 data: 2240 train_acc 86.87499761581421 test_acc 76.57196521759033\n"
          ]
        },
        {
          "name": "stdout",
          "output_type": "stream",
          "text": [
            "Epoch: 75 Loss: 1.6370507316929954 Test Loss: 1.7308631160042502 data: 2240 train_acc 88.43749761581421 test_acc 80.26514649391174\n",
            "Epoch: 100 Loss: 1.6129965535231998 Test Loss: 1.6933582696047695 data: 2240 train_acc 90.04464149475098 test_acc 84.26136374473572\n",
            "Epoch: 25 Loss: 1.7524531920750936 Test Loss: 1.8705486926165493 data: 2400 train_acc 83.45833420753479 test_acc 71.45833373069763\n",
            "Epoch: 50 Loss: 1.6686837299664816 Test Loss: 1.7793611288070679 data: 2400 train_acc 87.12499737739563 test_acc 77.14014649391174\n",
            "Epoch: 75 Loss: 1.6313815498352051 Test Loss: 1.718146031553095 data: 2400 train_acc 88.7083351612091 test_acc 82.53787755966187\n",
            "Epoch: 100 Loss: 1.6088829890886942 Test Loss: 1.685104164210233 data: 2400 train_acc 90.37500023841858 test_acc 83.6931824684143\n",
            "Epoch: 25 Loss: 1.7442172221839427 Test Loss: 1.8615574511614712 data: 2560 train_acc 83.16406011581421 test_acc 73.16287755966187\n",
            "Epoch: 50 Loss: 1.6624903932213784 Test Loss: 1.7711142084815286 data: 2560 train_acc 87.3046875 test_acc 77.14014649391174\n",
            "Epoch: 75 Loss: 1.6268850930035115 Test Loss: 1.7121252688494595 data: 2560 train_acc 89.1406238079071 test_acc 81.68560266494751\n",
            "Epoch: 100 Loss: 1.6054773561656475 Test Loss: 1.6800374876369129 data: 2560 train_acc 90.4296875 test_acc 83.97727608680725\n",
            "Epoch: 25 Loss: 1.735860543391284 Test Loss: 1.854562520980835 data: 2720 train_acc 83.38235020637512 test_acc 72.31060266494751\n",
            "Epoch: 50 Loss: 1.6573318299125224 Test Loss: 1.76930372281508 data: 2720 train_acc 87.35294342041016 test_acc 77.9924213886261\n",
            "Epoch: 75 Loss: 1.623356172617744 Test Loss: 1.714270450852134 data: 2720 train_acc 89.15441036224365 test_acc 81.1174213886261\n",
            "Epoch: 100 Loss: 1.6031250799403471 Test Loss: 1.6803437579761853 data: 2720 train_acc 90.51470756530762 test_acc 83.6931824684143\n",
            "Epoch: 25 Loss: 1.7288756065898472 Test Loss: 1.8445388187061658 data: 2880 train_acc 83.68055820465088 test_acc 72.57575988769531\n",
            "Epoch: 50 Loss: 1.6529199083646138 Test Loss: 1.7520129789005627 data: 2880 train_acc 87.5 test_acc 79.12878394126892\n",
            "Epoch: 75 Loss: 1.6195043126742046 Test Loss: 1.6988058957186611 data: 2880 train_acc 89.13194537162781 test_acc 83.1250011920929\n",
            "Epoch: 100 Loss: 1.6000198947058784 Test Loss: 1.6731372204693882 data: 2880 train_acc 90.45138955116272 test_acc 84.54545736312866\n",
            "Epoch: 25 Loss: 1.7216087046422457 Test Loss: 1.8395406332882969 data: 3040 train_acc 84.17763113975525 test_acc 72.85985350608826\n",
            "Epoch: 50 Loss: 1.6483895421028136 Test Loss: 1.7458442557941785 data: 3040 train_acc 87.63157725334167 test_acc 79.98105883598328\n",
            "Epoch: 75 Loss: 1.616674884369499 Test Loss: 1.6913778131658381 data: 3040 train_acc 89.24342393875122 test_acc 83.1250011920929\n",
            "Epoch: 100 Loss: 1.5981884862247266 Test Loss: 1.6682671416889538 data: 3040 train_acc 90.49342274665833 test_acc 85.11363863945007\n",
            "Epoch: 25 Loss: 1.7139785832166672 Test Loss: 1.8277972286397761 data: 3200 train_acc 84.46875214576721 test_acc 74.8674213886261\n",
            "Epoch: 50 Loss: 1.6434863877296448 Test Loss: 1.7361885417591443 data: 3200 train_acc 87.8125011920929 test_acc 80.54924011230469\n",
            "Epoch: 75 Loss: 1.612982096672058 Test Loss: 1.688186298717152 data: 3200 train_acc 89.62500095367432 test_acc 83.97727608680725\n",
            "Epoch: 100 Loss: 1.594935919046402 Test Loss: 1.6652523604306309 data: 3200 train_acc 90.65625071525574 test_acc 84.54545736312866\n",
            "Epoch: 25 Loss: 1.708511281581152 Test Loss: 1.8282059864564375 data: 3360 train_acc 84.8809540271759 test_acc 75.15151500701904\n",
            "Epoch: 50 Loss: 1.639412422407241 Test Loss: 1.7275672175667502 data: 3360 train_acc 88.54166865348816 test_acc 81.42045736312866\n",
            "Epoch: 75 Loss: 1.6100365173249018 Test Loss: 1.6839488744735718 data: 3360 train_acc 89.8809552192688 test_acc 84.82954502105713\n",
            "Epoch: 100 Loss: 1.5925516202336265 Test Loss: 1.6613757501948963 data: 3360 train_acc 90.71428775787354 test_acc 85.11363863945007\n",
            "Epoch: 25 Loss: 1.7032689782706174 Test Loss: 1.8197889544747092 data: 3520 train_acc 85.19886136054993 test_acc 74.84848499298096\n",
            "Epoch: 50 Loss: 1.6356850737875157 Test Loss: 1.723502668467435 data: 3520 train_acc 88.7499988079071 test_acc 81.68560266494751\n",
            "Epoch: 75 Loss: 1.6067185754125768 Test Loss: 1.6768043041229248 data: 3520 train_acc 90.05681872367859 test_acc 85.39772629737854\n",
            "Epoch: 100 Loss: 1.5896027234467593 Test Loss: 1.6540516506541858 data: 3520 train_acc 91.05113744735718 test_acc 85.98484396934509\n",
            "Epoch: 25 Loss: 1.6986215995705647 Test Loss: 1.8162905953147195 data: 3680 train_acc 85.3804349899292 test_acc 74.84848499298096\n",
            "Epoch: 50 Loss: 1.6326748573261758 Test Loss: 1.714462085203691 data: 3680 train_acc 88.6413037776947 test_acc 82.27272629737854\n",
            "Epoch: 75 Loss: 1.6043751426365065 Test Loss: 1.6712904518300837 data: 3680 train_acc 90.13587236404419 test_acc 85.39772629737854\n",
            "Epoch: 100 Loss: 1.587815080518308 Test Loss: 1.6469438942995938 data: 3680 train_acc 91.03260636329651 test_acc 86.83711886405945\n",
            "Epoch: 25 Loss: 1.6956075876951218 Test Loss: 1.8127583048560403 data: 3840 train_acc 85.02604365348816 test_acc 74.56439733505249\n",
            "Epoch: 50 Loss: 1.6310532266894977 Test Loss: 1.7142482129010288 data: 3840 train_acc 88.77604007720947 test_acc 81.40151500701904\n",
            "Epoch: 75 Loss: 1.6031161328156789 Test Loss: 1.6690352396531538 data: 3840 train_acc 90.10416865348816 test_acc 85.13257503509521\n",
            "Epoch: 100 Loss: 1.586879422267278 Test Loss: 1.644674994728782 data: 3840 train_acc 91.14583134651184 test_acc 87.42424249649048\n",
            "Epoch: 25 Loss: 1.6911891045570373 Test Loss: 1.8061889626763084 data: 4000 train_acc 85.44999957084656 test_acc 75.15151500701904\n",
            "Epoch: 50 Loss: 1.6284615368843078 Test Loss: 1.7065701267936013 data: 4000 train_acc 88.92499804496765 test_acc 83.40909481048584\n",
            "Epoch: 75 Loss: 1.6011245493888855 Test Loss: 1.6624809503555298 data: 4000 train_acc 90.24999737739563 test_acc 85.98484396934509\n",
            "Epoch: 100 Loss: 1.5854177026748657 Test Loss: 1.6452321247621016 data: 4000 train_acc 91.27500057220459 test_acc 86.5530252456665\n",
            "Epoch: 25 Loss: 1.6875117352375617 Test Loss: 1.8026400154287165 data: 4160 train_acc 85.24038195610046 test_acc 74.82954263687134\n",
            "Epoch: 50 Loss: 1.6259093600970047 Test Loss: 1.7022252624685115 data: 4160 train_acc 88.99038434028625 test_acc 83.40909481048584\n",
            "Epoch: 75 Loss: 1.5994707286357879 Test Loss: 1.6635218100114302 data: 4160 train_acc 90.67307710647583 test_acc 86.26893758773804\n",
            "Epoch: 100 Loss: 1.583926563996535 Test Loss: 1.6410513791170986 data: 4160 train_acc 91.37019515037537 test_acc 87.42424249649048\n",
            "Epoch: 25 Loss: 1.6848747893616005 Test Loss: 1.7933962561867454 data: 4320 train_acc 85.32407283782959 test_acc 75.98485350608826\n",
            "Epoch: 50 Loss: 1.6246982799635994 Test Loss: 1.6973010193217883 data: 4320 train_acc 88.7499988079071 test_acc 83.6931824684143\n",
            "Epoch: 75 Loss: 1.5991164626898589 Test Loss: 1.6578155755996704 data: 4320 train_acc 90.32407402992249 test_acc 86.00378632545471\n",
            "Epoch: 100 Loss: 1.5838252950597693 Test Loss: 1.6372987248680808 data: 4320 train_acc 91.45833253860474 test_acc 87.99242377281189\n",
            "Epoch: 25 Loss: 1.6812551332371575 Test Loss: 1.7902215068990535 data: 4480 train_acc 85.49107313156128 test_acc 76.55303478240967\n",
            "Epoch: 50 Loss: 1.622536837203162 Test Loss: 1.693350228396329 data: 4480 train_acc 88.83928656578064 test_acc 82.84091353416443\n",
            "Epoch: 75 Loss: 1.5976741884435925 Test Loss: 1.6536269079555164 data: 4480 train_acc 90.3124988079071 test_acc 86.00378632545471\n",
            "Epoch: 100 Loss: 1.5826065753187453 Test Loss: 1.6344786232168025 data: 4480 train_acc 91.36160612106323 test_acc 88.5606050491333\n",
            "Epoch: 25 Loss: 1.6784869563990625 Test Loss: 1.785101912238381 data: 4640 train_acc 85.96982955932617 test_acc 77.70833373069763\n",
            "Epoch: 50 Loss: 1.6208994553006928 Test Loss: 1.6924669959328391 data: 4640 train_acc 89.05172348022461 test_acc 83.97727608680725\n",
            "Epoch: 75 Loss: 1.5962528611051625 Test Loss: 1.6511939764022827 data: 4640 train_acc 90.53879380226135 test_acc 86.5719735622406\n",
            "Epoch: 100 Loss: 1.5818605353092325 Test Loss: 1.6334371133284136 data: 4640 train_acc 91.50862097740173 test_acc 87.42424249649048\n",
            "Epoch: 25 Loss: 1.674696234067281 Test Loss: 1.7832652222026477 data: 4800 train_acc 85.89583039283752 test_acc 76.85605883598328\n"
          ]
        },
        {
          "name": "stdout",
          "output_type": "stream",
          "text": [
            "Epoch: 50 Loss: 1.618654420375824 Test Loss: 1.6842220588163896 data: 4800 train_acc 89.12500143051147 test_acc 84.01515483856201\n",
            "Epoch: 75 Loss: 1.5943442821502685 Test Loss: 1.6496330499649048 data: 4800 train_acc 90.66666960716248 test_acc 86.3068163394928\n",
            "Epoch: 100 Loss: 1.57995752175649 Test Loss: 1.6310395002365112 data: 4800 train_acc 91.56249761581421 test_acc 88.27651739120483\n",
            "Epoch: 25 Loss: 1.6717004279936514 Test Loss: 1.7785609635439785 data: 4960 train_acc 86.16935610771179 test_acc 77.14014649391174\n",
            "Epoch: 50 Loss: 1.6166571290262284 Test Loss: 1.683043588291515 data: 4960 train_acc 89.21371102333069 test_acc 83.97727608680725\n",
            "Epoch: 75 Loss: 1.5929912017237755 Test Loss: 1.6465251445770264 data: 4960 train_acc 90.66532254219055 test_acc 87.14015483856201\n",
            "Epoch: 100 Loss: 1.5788878721575583 Test Loss: 1.6275315284729004 data: 4960 train_acc 91.55241847038269 test_acc 88.57954144477844\n",
            "Epoch: 25 Loss: 1.6691350989043712 Test Loss: 1.7523599646308206 data: 5120 train_acc 86.58202886581421 test_acc 81.42045736312866\n",
            "Epoch: 50 Loss: 1.6145356364548207 Test Loss: 1.6668563214215366 data: 5120 train_acc 89.55078125 test_acc 86.00378632545471\n",
            "Epoch: 75 Loss: 1.5915325425565243 Test Loss: 1.6331015500155361 data: 5120 train_acc 90.72265625 test_acc 88.01136016845703\n",
            "Epoch: 100 Loss: 1.5778119955211878 Test Loss: 1.6156566468152134 data: 5120 train_acc 91.56249761581421 test_acc 89.14772272109985\n",
            "Epoch: 25 Loss: 1.6661141475041708 Test Loss: 1.736821337179704 data: 5280 train_acc 86.66666746139526 test_acc 82.27272629737854\n",
            "Epoch: 50 Loss: 1.6123855063409516 Test Loss: 1.6554877216165715 data: 5280 train_acc 89.67803120613098 test_acc 86.85606122016907\n",
            "Epoch: 75 Loss: 1.5896749875762246 Test Loss: 1.6242112679914995 data: 5280 train_acc 90.92803001403809 test_acc 89.4318163394928\n",
            "Epoch: 100 Loss: 1.576314564184709 Test Loss: 1.6070899313146418 data: 5280 train_acc 91.8181836605072 test_acc 90.56817889213562\n",
            "Epoch: 25 Loss: 1.6604058153489056 Test Loss: 1.7287270914424548 data: 5440 train_acc 87.05882430076599 test_acc 82.84091353416443\n",
            "Epoch: 50 Loss: 1.6080176325405344 Test Loss: 1.6483728127046064 data: 5440 train_acc 89.98161554336548 test_acc 88.29545378684998\n",
            "Epoch: 75 Loss: 1.586126444269629 Test Loss: 1.6185584176670422 data: 5440 train_acc 91.17646813392639 test_acc 89.99999761581421\n",
            "Epoch: 100 Loss: 1.573297025526271 Test Loss: 1.604045943780379 data: 5440 train_acc 92.04044342041016 test_acc 90.85226655006409\n",
            "Epoch: 25 Loss: 1.6560052302905492 Test Loss: 1.7209345210682263 data: 5600 train_acc 87.5178575515747 test_acc 83.4280252456665\n",
            "Epoch: 50 Loss: 1.6041761755943298 Test Loss: 1.645901777527549 data: 5600 train_acc 90.32142758369446 test_acc 88.29545378684998\n",
            "Epoch: 75 Loss: 1.5826303720474244 Test Loss: 1.6171917481855913 data: 5600 train_acc 91.51785969734192 test_acc 90.56817889213562\n",
            "Epoch: 100 Loss: 1.5698932375226702 Test Loss: 1.6010577895424583 data: 5600 train_acc 92.32142567634583 test_acc 91.13636016845703\n",
            "Epoch: 25 Loss: 1.6525864958763123 Test Loss: 1.7164103876460681 data: 5760 train_acc 87.74305582046509 test_acc 83.4280252456665\n",
            "Epoch: 50 Loss: 1.6021876100036834 Test Loss: 1.64322077144276 data: 5760 train_acc 90.39930701255798 test_acc 87.70833611488342\n",
            "Epoch: 75 Loss: 1.5809192518393198 Test Loss: 1.6158800450238315 data: 5760 train_acc 91.57986044883728 test_acc 90.28408527374268\n",
            "Epoch: 100 Loss: 1.5685161338912117 Test Loss: 1.5994807048277422 data: 5760 train_acc 92.36111044883728 test_acc 90.56817889213562\n",
            "Epoch: 25 Loss: 1.6498457818417935 Test Loss: 1.7123307423158125 data: 5920 train_acc 87.85473108291626 test_acc 85.13257503509521\n",
            "Epoch: 50 Loss: 1.6002005467543732 Test Loss: 1.638542500409213 data: 5920 train_acc 90.54054021835327 test_acc 89.71590399742126\n",
            "Epoch: 75 Loss: 1.579447172139142 Test Loss: 1.611999663439664 data: 5920 train_acc 91.73986315727234 test_acc 89.99999761581421\n",
            "Epoch: 100 Loss: 1.5673659321424123 Test Loss: 1.5980908328836614 data: 5920 train_acc 92.44932532310486 test_acc 90.56817889213562\n",
            "Epoch: 25 Loss: 1.6485666413056224 Test Loss: 1.709433826533231 data: 6080 train_acc 87.8947377204895 test_acc 84.28030014038086\n",
            "Epoch: 50 Loss: 1.5994725189710919 Test Loss: 1.638214566490867 data: 6080 train_acc 90.49342274665833 test_acc 89.71590399742126\n",
            "Epoch: 75 Loss: 1.5789606244940506 Test Loss: 1.6111703244122593 data: 6080 train_acc 91.74342155456543 test_acc 90.28408527374268\n",
            "Epoch: 100 Loss: 1.5669889851620322 Test Loss: 1.5962152914567427 data: 6080 train_acc 92.41776466369629 test_acc 91.13636016845703\n",
            "Epoch: 25 Loss: 1.6453809239925483 Test Loss: 1.703188506039706 data: 6240 train_acc 88.07692527770996 test_acc 85.13257503509521\n",
            "Epoch: 50 Loss: 1.597331598171821 Test Loss: 1.6329651962627063 data: 6240 train_acc 90.73718190193176 test_acc 89.71590399742126\n",
            "Epoch: 75 Loss: 1.5771399886180193 Test Loss: 1.6062486605210737 data: 6240 train_acc 91.90705418586731 test_acc 91.42045378684998\n",
            "Epoch: 100 Loss: 1.5653380504021277 Test Loss: 1.5922997864809902 data: 6240 train_acc 92.59615540504456 test_acc 91.70454144477844\n",
            "Epoch: 25 Loss: 1.6416469898819923 Test Loss: 1.698413068597967 data: 6400 train_acc 88.40625286102295 test_acc 85.11363863945007\n",
            "Epoch: 50 Loss: 1.5945395797491073 Test Loss: 1.6311807307330044 data: 6400 train_acc 90.96875190734863 test_acc 89.71590399742126\n",
            "Epoch: 75 Loss: 1.5747767192125322 Test Loss: 1.6032605604691939 data: 6400 train_acc 92.04687476158142 test_acc 91.42045378684998\n",
            "Epoch: 100 Loss: 1.563059442937374 Test Loss: 1.5877319682728162 data: 6400 train_acc 92.75000095367432 test_acc 92.27272272109985\n",
            "Epoch: 25 Loss: 1.6392752894541112 Test Loss: 1.696313131939281 data: 6560 train_acc 88.61280679702759 test_acc 85.41666269302368\n",
            "Epoch: 50 Loss: 1.5927036009183744 Test Loss: 1.6291236660697244 data: 6560 train_acc 91.0365879535675 test_acc 89.4318163394928\n",
            "Epoch: 75 Loss: 1.5732177298243453 Test Loss: 1.6013766635547986 data: 6560 train_acc 92.28658676147461 test_acc 91.42045378684998\n",
            "Epoch: 100 Loss: 1.5617894751269643 Test Loss: 1.58818688175895 data: 6560 train_acc 92.88109540939331 test_acc 91.98863506317139\n",
            "Epoch: 25 Loss: 1.6377753981522152 Test Loss: 1.68180297721516 data: 6720 train_acc 88.58630657196045 test_acc 87.14015483856201\n",
            "Epoch: 50 Loss: 1.5919872414498102 Test Loss: 1.6178636225787075 data: 6720 train_acc 91.04166626930237 test_acc 90.85226655006409\n",
            "Epoch: 75 Loss: 1.5728553235530853 Test Loss: 1.5963607376272029 data: 6720 train_acc 92.20238327980042 test_acc 91.42045378684998\n",
            "Epoch: 100 Loss: 1.5616401590052105 Test Loss: 1.581065752289512 data: 6720 train_acc 92.66369342803955 test_acc 92.27272272109985\n",
            "Epoch: 25 Loss: 1.6364252977593001 Test Loss: 1.6721431016921997 data: 6880 train_acc 88.76453638076782 test_acc 86.28787994384766\n",
            "Epoch: 50 Loss: 1.5909200008525404 Test Loss: 1.6116290525956587 data: 6880 train_acc 91.03197455406189 test_acc 91.42045378684998\n",
            "Epoch: 75 Loss: 1.5721778567447218 Test Loss: 1.588666558265686 data: 6880 train_acc 91.93313717842102 test_acc 92.27272272109985\n",
            "Epoch: 100 Loss: 1.561151792282282 Test Loss: 1.5769124031066895 data: 6880 train_acc 92.68895387649536 test_acc 92.84090399742126\n",
            "Epoch: 25 Loss: 1.6345530317588286 Test Loss: 1.6669864004308528 data: 7040 train_acc 88.86363506317139 test_acc 86.83711886405945\n",
            "Epoch: 50 Loss: 1.58966533026912 Test Loss: 1.609078819101507 data: 7040 train_acc 91.27840995788574 test_acc 90.56817889213562\n",
            "Epoch: 75 Loss: 1.5710084893486715 Test Loss: 1.5872977863658557 data: 7040 train_acc 92.21590757369995 test_acc 92.5568163394928\n",
            "Epoch: 100 Loss: 1.560072444785725 Test Loss: 1.575732176954096 data: 7040 train_acc 92.81250238418579 test_acc 92.84090399742126\n",
            "Epoch: 25 Loss: 1.631716239452362 Test Loss: 1.6604544032703747 data: 7200 train_acc 88.94444704055786 test_acc 88.5606050491333\n",
            "Epoch: 50 Loss: 1.5877921334902445 Test Loss: 1.6045408682389692 data: 7200 train_acc 91.23610854148865 test_acc 91.42045378684998\n",
            "Epoch: 75 Loss: 1.5693996736738416 Test Loss: 1.5823645049875432 data: 7200 train_acc 92.19444394111633 test_acc 92.5568163394928\n",
            "Epoch: 100 Loss: 1.5588521607716879 Test Loss: 1.5716457041827114 data: 7200 train_acc 92.91666746139526 test_acc 93.12499761581421\n"
          ]
        },
        {
          "name": "stdout",
          "output_type": "stream",
          "text": [
            "Epoch: 25 Loss: 1.6297858994940053 Test Loss: 1.6532121029767124 data: 7360 train_acc 89.04891014099121 test_acc 87.97348141670227\n",
            "Epoch: 50 Loss: 1.5862153584542482 Test Loss: 1.6014156558296897 data: 7360 train_acc 91.3179337978363 test_acc 91.70454144477844\n",
            "Epoch: 75 Loss: 1.5681285104025966 Test Loss: 1.5816937576640735 data: 7360 train_acc 92.30978488922119 test_acc 92.5568163394928\n",
            "Epoch: 100 Loss: 1.5578942697981129 Test Loss: 1.568633870645003 data: 7360 train_acc 92.9619550704956 test_acc 93.12499761581421\n",
            "Epoch: 25 Loss: 1.6294944392873887 Test Loss: 1.6479706330732866 data: 7520 train_acc 89.1090452671051 test_acc 88.84469866752625\n",
            "Epoch: 50 Loss: 1.5858132823984674 Test Loss: 1.5941073135896162 data: 7520 train_acc 91.31649136543274 test_acc 91.98863506317139\n",
            "Epoch: 75 Loss: 1.5679490160434804 Test Loss: 1.5741856640035456 data: 7520 train_acc 92.42021441459656 test_acc 92.84090399742126\n",
            "Epoch: 100 Loss: 1.5576488842355445 Test Loss: 1.5638685118068347 data: 7520 train_acc 92.96542406082153 test_acc 93.40908527374268\n",
            "Epoch: 25 Loss: 1.627134561787049 Test Loss: 1.6422918818213723 data: 7680 train_acc 89.27083611488342 test_acc 89.6969735622406\n",
            "Epoch: 50 Loss: 1.5842567029098669 Test Loss: 1.5915251970291138 data: 7680 train_acc 91.62760376930237 test_acc 91.70454144477844\n",
            "Epoch: 75 Loss: 1.5666355016330877 Test Loss: 1.5712080977179788 data: 7680 train_acc 92.53906011581421 test_acc 92.27272272109985\n",
            "Epoch: 100 Loss: 1.556419059385856 Test Loss: 1.5641113086180254 data: 7680 train_acc 93.11197996139526 test_acc 93.97726655006409\n",
            "Epoch: 25 Loss: 1.6256398677825927 Test Loss: 1.6355552890084006 data: 7840 train_acc 89.47703838348389 test_acc 89.98106122016907\n",
            "Epoch: 50 Loss: 1.5830887188716811 Test Loss: 1.590221274982799 data: 7840 train_acc 91.64540767669678 test_acc 92.27272272109985\n",
            "Epoch: 75 Loss: 1.5657378488657425 Test Loss: 1.572364698756825 data: 7840 train_acc 92.41071343421936 test_acc 92.5568163394928\n",
            "Epoch: 100 Loss: 1.55575392854457 Test Loss: 1.5623143044385044 data: 7840 train_acc 92.99744963645935 test_acc 93.12499761581421\n",
            "Epoch: 25 Loss: 1.6246281113624572 Test Loss: 1.6278009089556607 data: 8000 train_acc 89.30000066757202 test_acc 90.85226655006409\n",
            "Epoch: 50 Loss: 1.5825934357643128 Test Loss: 1.5815867402336814 data: 8000 train_acc 91.66250228881836 test_acc 92.27272272109985\n",
            "Epoch: 75 Loss: 1.5651969437599182 Test Loss: 1.5650604204698042 data: 8000 train_acc 92.61249899864197 test_acc 92.84090399742126\n",
            "Epoch: 100 Loss: 1.5552283246517182 Test Loss: 1.5568889054385098 data: 8000 train_acc 93.15000176429749 test_acc 93.69317889213562\n",
            "\n",
            "\n",
            "Run Number: 3\n",
            "Epoch: 25 Loss: 2.168989872932434 Test Loss: 2.2373546903783623 data: 160 train_acc 48.750001192092896 test_acc 40.833333134651184\n",
            "Epoch: 50 Loss: 2.0518895983695984 Test Loss: 2.164320945739746 data: 160 train_acc 55.000001192092896 test_acc 40.00000059604645\n",
            "Epoch: 75 Loss: 1.9514729976654053 Test Loss: 2.107775558124889 data: 160 train_acc 72.50000238418579 test_acc 49.753788113594055\n",
            "Epoch: 100 Loss: 1.8620287775993347 Test Loss: 2.063271555033597 data: 160 train_acc 83.1250011920929 test_acc 56.60984516143799\n",
            "Epoch: 25 Loss: 2.083063226938248 Test Loss: 2.179657806049694 data: 320 train_acc 51.5625 test_acc 40.81439673900604\n",
            "Epoch: 50 Loss: 1.9229909360408783 Test Loss: 2.0809412869540127 data: 320 train_acc 72.81249761581421 test_acc 52.897727489471436\n",
            "Epoch: 75 Loss: 1.8241512894630432 Test Loss: 2.017592343417081 data: 320 train_acc 80.31250238418579 test_acc 59.185606241226196\n",
            "Epoch: 100 Loss: 1.7697882115840913 Test Loss: 1.9803070371801204 data: 320 train_acc 81.5625011920929 test_acc 61.193180084228516\n",
            "Epoch: 25 Loss: 2.0223224401474 Test Loss: 2.1285370913418857 data: 480 train_acc 66.8749988079071 test_acc 52.00757384300232\n",
            "Epoch: 50 Loss: 1.865541728337606 Test Loss: 2.0197164687243374 data: 480 train_acc 76.45833492279053 test_acc 59.48863625526428\n",
            "Epoch: 75 Loss: 1.7957813421885171 Test Loss: 1.9636023911562832 data: 480 train_acc 79.3749988079071 test_acc 62.6325786113739\n",
            "Epoch: 100 Loss: 1.7307954986890157 Test Loss: 1.9138415618376299 data: 480 train_acc 86.66666746139526 test_acc 68.8825786113739\n",
            "Epoch: 25 Loss: 1.9731482714414597 Test Loss: 2.076214378530329 data: 640 train_acc 70.46874761581421 test_acc 58.049243688583374\n",
            "Epoch: 50 Loss: 1.8337360680103303 Test Loss: 1.9750055399808017 data: 640 train_acc 75.93749761581421 test_acc 61.780303716659546\n",
            "Epoch: 75 Loss: 1.750775519013405 Test Loss: 1.9092312075875022 data: 640 train_acc 84.21875238418579 test_acc 68.59848499298096\n",
            "Epoch: 100 Loss: 1.706256055831909 Test Loss: 1.871235728263855 data: 640 train_acc 86.71875 test_acc 69.73485350608826\n",
            "Epoch: 25 Loss: 1.9275571131706237 Test Loss: 2.043616392395713 data: 800 train_acc 72.62499928474426 test_acc 59.5075786113739\n",
            "Epoch: 50 Loss: 1.8049715065956116 Test Loss: 1.9538062377409502 data: 800 train_acc 77.49999761581421 test_acc 62.06439733505249\n",
            "Epoch: 75 Loss: 1.7283031415939332 Test Loss: 1.8928653760389849 data: 800 train_acc 85.50000190734863 test_acc 68.31439733505249\n",
            "Epoch: 100 Loss: 1.6848954963684082 Test Loss: 1.8559587868777188 data: 800 train_acc 87.62500286102295 test_acc 69.45075988769531\n",
            "Epoch: 25 Loss: 1.907135401169459 Test Loss: 2.0184244350953535 data: 960 train_acc 70.83333134651184 test_acc 58.598482608795166\n",
            "Epoch: 50 Loss: 1.7662599722544352 Test Loss: 1.9087157899683171 data: 960 train_acc 83.95833373069763 test_acc 69.16666626930237\n",
            "Epoch: 75 Loss: 1.703651742140452 Test Loss: 1.8564007065512917 data: 960 train_acc 86.14583611488342 test_acc 71.7424213886261\n",
            "Epoch: 100 Loss: 1.6676494657993317 Test Loss: 1.823891737244346 data: 960 train_acc 87.91666626930237 test_acc 73.44696521759033\n",
            "Epoch: 25 Loss: 1.8692085930279323 Test Loss: 1.9882943846962668 data: 1120 train_acc 74.82143044471741 test_acc 61.212122440338135\n",
            "Epoch: 50 Loss: 1.7694411039352418 Test Loss: 1.9053420153531162 data: 1120 train_acc 78.83928418159485 test_acc 65.47348499298096\n",
            "Epoch: 75 Loss: 1.6942931992667063 Test Loss: 1.842072931202975 data: 1120 train_acc 86.42857074737549 test_acc 73.44696521759033\n",
            "Epoch: 100 Loss: 1.657378954546792 Test Loss: 1.8051752177151767 data: 1120 train_acc 87.76785731315613 test_acc 74.01514649391174\n",
            "Epoch: 25 Loss: 1.8597511768341064 Test Loss: 1.9711551557887683 data: 1280 train_acc 74.21875 test_acc 62.6325786113739\n",
            "Epoch: 50 Loss: 1.7324014902114868 Test Loss: 1.865371823310852 data: 1280 train_acc 84.6875011920929 test_acc 72.31060266494751\n",
            "Epoch: 75 Loss: 1.67896798402071 Test Loss: 1.8153352412310513 data: 1280 train_acc 87.0312511920929 test_acc 74.58333373069763\n",
            "Epoch: 100 Loss: 1.6465285122394562 Test Loss: 1.7843493656678633 data: 1280 train_acc 88.82812261581421 test_acc 76.00378394126892\n",
            "Epoch: 25 Loss: 1.8428392688433328 Test Loss: 1.9583111026070334 data: 1440 train_acc 75.0 test_acc 61.49621605873108\n",
            "Epoch: 50 Loss: 1.7208122809727986 Test Loss: 1.8546849380839954 data: 1440 train_acc 84.51389074325562 test_acc 72.02651500701904\n",
            "Epoch: 75 Loss: 1.6706451614697775 Test Loss: 1.8034877560355447 data: 1440 train_acc 86.94444298744202 test_acc 74.8674213886261\n",
            "Epoch: 100 Loss: 1.6402834892272948 Test Loss: 1.7724327499216253 data: 1440 train_acc 88.6805534362793 test_acc 76.57196521759033\n",
            "Epoch: 25 Loss: 1.8114366686344148 Test Loss: 1.9312156330455432 data: 1600 train_acc 80.87499737739563 test_acc 66.60985350608826\n",
            "Epoch: 50 Loss: 1.7077823436260224 Test Loss: 1.8409605568105525 data: 1600 train_acc 85.56249737739563 test_acc 71.45833373069763\n",
            "Epoch: 75 Loss: 1.660824065208435 Test Loss: 1.7946941310709172 data: 1600 train_acc 87.8125011920929 test_acc 75.43560266494751\n",
            "Epoch: 100 Loss: 1.6324023163318635 Test Loss: 1.7652288566936145 data: 1600 train_acc 89.49999809265137 test_acc 76.57196521759033\n",
            "Epoch: 25 Loss: 1.7945197690616954 Test Loss: 1.9091622287576848 data: 1760 train_acc 81.42045736312866 test_acc 69.45075988769531\n",
            "Epoch: 50 Loss: 1.6978707324374807 Test Loss: 1.8248310522599653 data: 1760 train_acc 86.02272868156433 test_acc 73.44696521759033\n",
            "Epoch: 75 Loss: 1.6538464405319908 Test Loss: 1.7796316580338911 data: 1760 train_acc 87.95454502105713 test_acc 76.28787755966187\n",
            "Epoch: 100 Loss: 1.6275924921035767 Test Loss: 1.7504244717684658 data: 1760 train_acc 89.4318163394928 test_acc 77.70833373069763\n"
          ]
        },
        {
          "name": "stdout",
          "output_type": "stream",
          "text": [
            "Epoch: 25 Loss: 1.7835687110821405 Test Loss: 1.9023797078566118 data: 1920 train_acc 81.5625011920929 test_acc 68.8825786113739\n",
            "Epoch: 50 Loss: 1.6882022221883137 Test Loss: 1.8141415877775713 data: 1920 train_acc 86.19791865348816 test_acc 72.87878394126892\n",
            "Epoch: 75 Loss: 1.6461138308048249 Test Loss: 1.7611144889484753 data: 1920 train_acc 88.54166865348816 test_acc 78.56060266494751\n",
            "Epoch: 100 Loss: 1.620461172858874 Test Loss: 1.7231346693905918 data: 1920 train_acc 89.73958492279053 test_acc 79.98105883598328\n",
            "Epoch: 25 Loss: 1.7712921720284682 Test Loss: 1.891344352201982 data: 2080 train_acc 82.11538195610046 test_acc 68.31439733505249\n",
            "Epoch: 50 Loss: 1.681458352162288 Test Loss: 1.8041160865263506 data: 2080 train_acc 86.2500011920929 test_acc 74.29924011230469\n",
            "Epoch: 75 Loss: 1.6410661532328679 Test Loss: 1.752125696702437 data: 2080 train_acc 88.60576748847961 test_acc 78.29545736312866\n",
            "Epoch: 100 Loss: 1.6164884796509376 Test Loss: 1.7105807716196233 data: 2080 train_acc 89.80769515037537 test_acc 81.40151500701904\n",
            "Epoch: 25 Loss: 1.761795553139278 Test Loss: 1.8808312741192905 data: 2240 train_acc 82.85714387893677 test_acc 69.73485350608826\n",
            "Epoch: 50 Loss: 1.6753217237336295 Test Loss: 1.7896323529156772 data: 2240 train_acc 86.74107193946838 test_acc 76.28787755966187\n",
            "Epoch: 75 Loss: 1.6366566445146289 Test Loss: 1.733084656975486 data: 2240 train_acc 88.43749761581421 test_acc 79.98105883598328\n",
            "Epoch: 100 Loss: 1.6127964156014578 Test Loss: 1.6940129019997336 data: 2240 train_acc 89.99999761581421 test_acc 83.1250011920929\n",
            "Epoch: 25 Loss: 1.7536271659533182 Test Loss: 1.8723628195849331 data: 2400 train_acc 83.20833444595337 test_acc 70.30303478240967\n",
            "Epoch: 50 Loss: 1.6690602191289265 Test Loss: 1.7791906161741777 data: 2400 train_acc 86.79166436195374 test_acc 77.14014649391174\n",
            "Epoch: 75 Loss: 1.6316149028142293 Test Loss: 1.7208046046170322 data: 2400 train_acc 88.79166841506958 test_acc 81.40151500701904\n",
            "Epoch: 100 Loss: 1.6091277241706847 Test Loss: 1.6843769550323486 data: 2400 train_acc 90.45833349227905 test_acc 83.6931824684143\n",
            "Epoch: 25 Loss: 1.7437790580093862 Test Loss: 1.8622519211335615 data: 2560 train_acc 83.5156261920929 test_acc 71.72348499298096\n",
            "Epoch: 50 Loss: 1.6624018900096416 Test Loss: 1.7682661359960383 data: 2560 train_acc 87.3828113079071 test_acc 78.27651500701904\n",
            "Epoch: 75 Loss: 1.626513770967722 Test Loss: 1.7119950489564375 data: 2560 train_acc 89.1796886920929 test_acc 81.98863863945007\n",
            "Epoch: 100 Loss: 1.6054818749427795 Test Loss: 1.6764401956038042 data: 2560 train_acc 90.3124988079071 test_acc 85.13257503509521\n",
            "Epoch: 25 Loss: 1.7354389835806454 Test Loss: 1.8566356355493718 data: 2720 train_acc 83.3088219165802 test_acc 72.31060266494751\n",
            "Epoch: 50 Loss: 1.6573115804616143 Test Loss: 1.7722614353353328 data: 2720 train_acc 87.5 test_acc 77.12121605873108\n",
            "Epoch: 75 Loss: 1.6235606046283946 Test Loss: 1.718230507590554 data: 2720 train_acc 89.15441036224365 test_acc 81.1174213886261\n",
            "Epoch: 100 Loss: 1.6031570680001204 Test Loss: 1.6786544214595447 data: 2720 train_acc 90.55147171020508 test_acc 84.26136374473572\n",
            "Epoch: 25 Loss: 1.728433612982432 Test Loss: 1.8487032868645408 data: 2880 train_acc 83.92361402511597 test_acc 72.85985350608826\n",
            "Epoch: 50 Loss: 1.652727927101983 Test Loss: 1.7574212984605269 data: 2880 train_acc 87.60416507720947 test_acc 78.56060266494751\n",
            "Epoch: 75 Loss: 1.619563690159056 Test Loss: 1.7027876810594038 data: 2880 train_acc 89.34027552604675 test_acc 82.84091353416443\n",
            "Epoch: 100 Loss: 1.599939889378018 Test Loss: 1.6740415313027122 data: 2880 train_acc 90.45138955116272 test_acc 84.82954502105713\n",
            "Epoch: 25 Loss: 1.7240060793726069 Test Loss: 1.8412902463566174 data: 3040 train_acc 83.9802622795105 test_acc 73.73105883598328\n",
            "Epoch: 50 Loss: 1.649176623946742 Test Loss: 1.7440140572461216 data: 3040 train_acc 87.69736886024475 test_acc 80.0000011920929\n",
            "Epoch: 75 Loss: 1.6169671466476039 Test Loss: 1.6923115903680974 data: 3040 train_acc 89.47368264198303 test_acc 83.1250011920929\n",
            "Epoch: 100 Loss: 1.5982918369142634 Test Loss: 1.6663106138055974 data: 3040 train_acc 90.49342274665833 test_acc 85.41666269302368\n",
            "Epoch: 25 Loss: 1.714122924208641 Test Loss: 1.831488392569802 data: 3200 train_acc 84.81249809265137 test_acc 74.8674213886261\n",
            "Epoch: 50 Loss: 1.6436129659414291 Test Loss: 1.7385036836970935 data: 3200 train_acc 88.21874856948853 test_acc 79.98105883598328\n",
            "Epoch: 75 Loss: 1.6130153304338455 Test Loss: 1.6877047365361995 data: 3200 train_acc 89.5312488079071 test_acc 83.6931824684143\n",
            "Epoch: 100 Loss: 1.59504150390625 Test Loss: 1.665241913361983 data: 3200 train_acc 90.81249833106995 test_acc 84.82954502105713\n",
            "Epoch: 25 Loss: 1.709226465792883 Test Loss: 1.8252945054661145 data: 3360 train_acc 84.85119342803955 test_acc 74.29924011230469\n",
            "Epoch: 50 Loss: 1.6396874603771028 Test Loss: 1.729422471740029 data: 3360 train_acc 88.45238089561462 test_acc 81.40151500701904\n",
            "Epoch: 75 Loss: 1.6102088201613654 Test Loss: 1.6823487932031804 data: 3360 train_acc 89.82142806053162 test_acc 84.82954502105713\n",
            "Epoch: 100 Loss: 1.5928511313029698 Test Loss: 1.6622036045247859 data: 3360 train_acc 90.92261791229248 test_acc 85.11363863945007\n",
            "Epoch: 25 Loss: 1.7027431363409216 Test Loss: 1.8217862952839246 data: 3520 train_acc 84.97158885002136 test_acc 75.1325786113739\n",
            "Epoch: 50 Loss: 1.6352808930657126 Test Loss: 1.7234572063792835 data: 3520 train_acc 88.60795497894287 test_acc 81.68560266494751\n",
            "Epoch: 75 Loss: 1.6063069419427352 Test Loss: 1.673837575045499 data: 3520 train_acc 90.02841114997864 test_acc 85.39772629737854\n",
            "Epoch: 100 Loss: 1.589464891498739 Test Loss: 1.6537431478500366 data: 3520 train_acc 91.02272987365723 test_acc 86.5530252456665\n",
            "Epoch: 25 Loss: 1.6984629180120385 Test Loss: 1.813304445960305 data: 3680 train_acc 85.02717614173889 test_acc 75.41666626930237\n",
            "Epoch: 50 Loss: 1.6325389053510584 Test Loss: 1.7150405862114646 data: 3680 train_acc 88.5869562625885 test_acc 81.96969628334045\n",
            "Epoch: 75 Loss: 1.6045117098352184 Test Loss: 1.6687421040101484 data: 3680 train_acc 90.13587236404419 test_acc 85.41666269302368\n",
            "Epoch: 100 Loss: 1.5880770320477693 Test Loss: 1.6490784775127063 data: 3680 train_acc 91.05978012084961 test_acc 86.26893758773804\n",
            "Epoch: 25 Loss: 1.6970196679234504 Test Loss: 1.8131010857495395 data: 3840 train_acc 85.0781261920929 test_acc 74.8674213886261\n",
            "Epoch: 50 Loss: 1.6315231531858445 Test Loss: 1.7135875658555464 data: 3840 train_acc 88.72395753860474 test_acc 81.68560266494751\n",
            "Epoch: 75 Loss: 1.6034389485915501 Test Loss: 1.6661411632191052 data: 3840 train_acc 90.10416865348816 test_acc 85.98484396934509\n",
            "Epoch: 100 Loss: 1.587330362200737 Test Loss: 1.6466455026106401 data: 3840 train_acc 91.14583134651184 test_acc 86.26893758773804\n",
            "Epoch: 25 Loss: 1.6912909517288208 Test Loss: 1.8056870807300915 data: 4000 train_acc 85.32500267028809 test_acc 75.1325786113739\n",
            "Epoch: 50 Loss: 1.6282582578659057 Test Loss: 1.705102183602073 data: 4000 train_acc 88.82499933242798 test_acc 83.6931824684143\n",
            "Epoch: 75 Loss: 1.6010312056541443 Test Loss: 1.6624587232416326 data: 4000 train_acc 90.14999866485596 test_acc 85.70075631141663\n",
            "Epoch: 100 Loss: 1.5853620462417604 Test Loss: 1.6459902633320203 data: 4000 train_acc 91.35000109672546 test_acc 87.12120652198792\n",
            "Epoch: 25 Loss: 1.6869137209195357 Test Loss: 1.8044789054177024 data: 4160 train_acc 85.09615659713745 test_acc 74.8674213886261\n",
            "Epoch: 50 Loss: 1.6257077033703144 Test Loss: 1.7050599401647395 data: 4160 train_acc 88.82211446762085 test_acc 82.84091353416443\n",
            "Epoch: 75 Loss: 1.599260845551124 Test Loss: 1.6647429791363804 data: 4160 train_acc 90.48076868057251 test_acc 85.41666269302368\n",
            "Epoch: 100 Loss: 1.5837686277352847 Test Loss: 1.6441578431562944 data: 4160 train_acc 91.39423370361328 test_acc 87.42424249649048\n",
            "Epoch: 25 Loss: 1.6848005608276084 Test Loss: 1.7961518222635442 data: 4320 train_acc 85.4629635810852 test_acc 76.00378394126892\n",
            "Epoch: 50 Loss: 1.6245473031644468 Test Loss: 1.6974759860472246 data: 4320 train_acc 88.88888955116272 test_acc 83.40909481048584\n",
            "Epoch: 75 Loss: 1.5987682497059856 Test Loss: 1.657761118628762 data: 4320 train_acc 90.37036895751953 test_acc 86.5719735622406\n"
          ]
        },
        {
          "name": "stdout",
          "output_type": "stream",
          "text": [
            "Epoch: 100 Loss: 1.5835553314950732 Test Loss: 1.6383303187110207 data: 4320 train_acc 91.38888716697693 test_acc 87.70833611488342\n",
            "Epoch: 25 Loss: 1.6814047349350794 Test Loss: 1.7911531925201416 data: 4480 train_acc 85.60267686843872 test_acc 76.85605883598328\n",
            "Epoch: 50 Loss: 1.6224766812154225 Test Loss: 1.6933464787223123 data: 4480 train_acc 88.79464268684387 test_acc 83.1250011920929\n",
            "Epoch: 75 Loss: 1.597441303730011 Test Loss: 1.6567956100810657 data: 4480 train_acc 90.22321701049805 test_acc 85.71969866752625\n",
            "Epoch: 100 Loss: 1.5828018235308783 Test Loss: 1.6335440548983486 data: 4480 train_acc 91.36160612106323 test_acc 87.99242377281189\n",
            "Epoch: 25 Loss: 1.678321751232805 Test Loss: 1.7859129472212358 data: 4640 train_acc 85.6249988079071 test_acc 76.85605883598328\n",
            "Epoch: 50 Loss: 1.620949754221686 Test Loss: 1.689820181239735 data: 4640 train_acc 88.98707032203674 test_acc 83.40909481048584\n",
            "Epoch: 75 Loss: 1.5964390376518514 Test Loss: 1.6510705514387651 data: 4640 train_acc 90.43103456497192 test_acc 86.00378632545471\n",
            "Epoch: 100 Loss: 1.581806700805138 Test Loss: 1.6317585164850408 data: 4640 train_acc 91.46551489830017 test_acc 88.27651739120483\n",
            "Epoch: 25 Loss: 1.6745464078585306 Test Loss: 1.7797406044873325 data: 4800 train_acc 86.20833158493042 test_acc 78.27651500701904\n",
            "Epoch: 50 Loss: 1.6186367150147756 Test Loss: 1.6859700896523215 data: 4800 train_acc 89.20833468437195 test_acc 83.97727608680725\n",
            "Epoch: 75 Loss: 1.5941876351833344 Test Loss: 1.6469777605750344 data: 4800 train_acc 90.83333611488342 test_acc 87.14015483856201\n",
            "Epoch: 100 Loss: 1.579895577430725 Test Loss: 1.6304993954571811 data: 4800 train_acc 91.68750047683716 test_acc 89.41287994384766\n",
            "Epoch: 25 Loss: 1.6719580100428673 Test Loss: 1.7765453186902134 data: 4960 train_acc 86.330646276474 test_acc 78.84469628334045\n",
            "Epoch: 50 Loss: 1.6166041781825404 Test Loss: 1.6820752837441184 data: 4960 train_acc 89.19354677200317 test_acc 84.26136374473572\n",
            "Epoch: 75 Loss: 1.5928853146491513 Test Loss: 1.6438977176492864 data: 4960 train_acc 90.72580933570862 test_acc 87.70833611488342\n",
            "Epoch: 100 Loss: 1.5788827611554053 Test Loss: 1.628595763986761 data: 4960 train_acc 91.59274101257324 test_acc 88.57954144477844\n",
            "Epoch: 25 Loss: 1.6692540906369686 Test Loss: 1.7530478780919856 data: 5120 train_acc 86.42578125 test_acc 80.85227608680725\n",
            "Epoch: 50 Loss: 1.6146817553788424 Test Loss: 1.667833685874939 data: 5120 train_acc 89.35546875 test_acc 85.15151739120483\n",
            "Epoch: 75 Loss: 1.591480888798833 Test Loss: 1.6323843652551824 data: 5120 train_acc 90.8007800579071 test_acc 88.01136016845703\n",
            "Epoch: 100 Loss: 1.577999747171998 Test Loss: 1.6158143823797053 data: 5120 train_acc 91.69921875 test_acc 89.99999761581421\n",
            "Epoch: 25 Loss: 1.665612711689689 Test Loss: 1.7376629114151 data: 5280 train_acc 86.57196760177612 test_acc 81.70454502105713\n",
            "Epoch: 50 Loss: 1.6124387867522962 Test Loss: 1.6555020592429421 data: 5280 train_acc 89.65908885002136 test_acc 87.14015483856201\n",
            "Epoch: 75 Loss: 1.5896928017789667 Test Loss: 1.622094826264815 data: 5280 train_acc 91.02272987365723 test_acc 89.71590399742126\n",
            "Epoch: 100 Loss: 1.5763119997400226 Test Loss: 1.608722296628085 data: 5280 train_acc 91.85606241226196 test_acc 89.99999761581421\n",
            "Epoch: 25 Loss: 1.6602544419905718 Test Loss: 1.7289729985323818 data: 5440 train_acc 87.16911673545837 test_acc 83.4280252456665\n",
            "Epoch: 50 Loss: 1.6079795087085051 Test Loss: 1.6480690024115823 data: 5440 train_acc 89.88970518112183 test_acc 87.42424249649048\n",
            "Epoch: 75 Loss: 1.5861556796466603 Test Loss: 1.6210825768384067 data: 5440 train_acc 91.21323823928833 test_acc 89.14772272109985\n",
            "Epoch: 100 Loss: 1.5731679649914012 Test Loss: 1.6030115214261142 data: 5440 train_acc 92.02206134796143 test_acc 90.85226655006409\n",
            "Epoch: 25 Loss: 1.6558923258100238 Test Loss: 1.7196763320402666 data: 5600 train_acc 87.60714530944824 test_acc 83.71211886405945\n",
            "Epoch: 50 Loss: 1.6042927476337978 Test Loss: 1.6460462050004439 data: 5600 train_acc 90.30357003211975 test_acc 87.99242377281189\n",
            "Epoch: 75 Loss: 1.5825782816750662 Test Loss: 1.6156754602085461 data: 5600 train_acc 91.64285659790039 test_acc 90.28408527374268\n",
            "Epoch: 100 Loss: 1.5698711708613804 Test Loss: 1.6010967167941006 data: 5600 train_acc 92.26785898208618 test_acc 91.13636016845703\n",
            "Epoch: 25 Loss: 1.6528163406583998 Test Loss: 1.714810241352428 data: 5760 train_acc 87.76041865348816 test_acc 84.28030014038086\n",
            "Epoch: 50 Loss: 1.602232677075598 Test Loss: 1.6426372202959927 data: 5760 train_acc 90.45138955116272 test_acc 88.29545378684998\n",
            "Epoch: 75 Loss: 1.5810246129830678 Test Loss: 1.6145150553096423 data: 5760 train_acc 91.64930582046509 test_acc 90.28408527374268\n",
            "Epoch: 100 Loss: 1.56849694914288 Test Loss: 1.5986654108220881 data: 5760 train_acc 92.34374761581421 test_acc 91.42045378684998\n",
            "Epoch: 25 Loss: 1.6500291283066209 Test Loss: 1.7120673656463623 data: 5920 train_acc 87.8716230392456 test_acc 83.99620652198792\n",
            "Epoch: 50 Loss: 1.6003009557724 Test Loss: 1.6388611143285579 data: 5920 train_acc 90.52364826202393 test_acc 89.4318163394928\n",
            "Epoch: 75 Loss: 1.5793239332534172 Test Loss: 1.613790587945418 data: 5920 train_acc 91.58783555030823 test_acc 89.4318163394928\n",
            "Epoch: 100 Loss: 1.5672038271620468 Test Loss: 1.5980877117677168 data: 5920 train_acc 92.53378510475159 test_acc 90.85226655006409\n",
            "Epoch: 25 Loss: 1.6489086204453518 Test Loss: 1.7100438421422786 data: 6080 train_acc 87.92763352394104 test_acc 84.84848141670227\n",
            "Epoch: 50 Loss: 1.599635690764377 Test Loss: 1.6361729881980203 data: 6080 train_acc 90.52631855010986 test_acc 89.99999761581421\n",
            "Epoch: 75 Loss: 1.5789427710206885 Test Loss: 1.6100232926282017 data: 6080 train_acc 91.75986647605896 test_acc 91.42045378684998\n",
            "Epoch: 100 Loss: 1.5670517328538394 Test Loss: 1.5981421362270007 data: 6080 train_acc 92.41776466369629 test_acc 90.56817889213562\n",
            "Epoch: 25 Loss: 1.6461168600962712 Test Loss: 1.7040782191536643 data: 6240 train_acc 87.9807710647583 test_acc 85.41666269302368\n",
            "Epoch: 50 Loss: 1.5977416399197701 Test Loss: 1.6338801383972168 data: 6240 train_acc 90.70512652397156 test_acc 89.99999761581421\n",
            "Epoch: 75 Loss: 1.5773999134699503 Test Loss: 1.6048156239769675 data: 6240 train_acc 91.8910264968872 test_acc 91.42045378684998\n",
            "Epoch: 100 Loss: 1.5655473950581673 Test Loss: 1.5925313776189631 data: 6240 train_acc 92.58012771606445 test_acc 91.70454144477844\n",
            "Epoch: 25 Loss: 1.64146845638752 Test Loss: 1.702713749625466 data: 6400 train_acc 88.40625286102295 test_acc 85.13257503509521\n",
            "Epoch: 50 Loss: 1.5944481477141381 Test Loss: 1.6304182030937888 data: 6400 train_acc 91.03124737739563 test_acc 89.99999761581421\n",
            "Epoch: 75 Loss: 1.574746370613575 Test Loss: 1.6047442176125266 data: 6400 train_acc 92.12499856948853 test_acc 91.13636016845703\n",
            "Epoch: 100 Loss: 1.5629067447781564 Test Loss: 1.5911709070205688 data: 6400 train_acc 92.6562488079071 test_acc 91.70454144477844\n",
            "Epoch: 25 Loss: 1.63915591559759 Test Loss: 1.6900105584751477 data: 6560 train_acc 88.52134346961975 test_acc 84.82954502105713\n",
            "Epoch: 50 Loss: 1.5927207327470547 Test Loss: 1.6276724555275657 data: 6560 train_acc 91.1128044128418 test_acc 90.28408527374268\n",
            "Epoch: 75 Loss: 1.5733390435939882 Test Loss: 1.6026083772832698 data: 6560 train_acc 92.31707453727722 test_acc 90.85226655006409\n",
            "Epoch: 100 Loss: 1.5617436685213228 Test Loss: 1.5870752659710972 data: 6560 train_acc 92.91158318519592 test_acc 92.5568163394928\n",
            "Epoch: 25 Loss: 1.6382642450786773 Test Loss: 1.682317939671603 data: 6720 train_acc 88.7499988079071 test_acc 85.71969866752625\n",
            "Epoch: 50 Loss: 1.5919055422147115 Test Loss: 1.6188358935442837 data: 6720 train_acc 91.1309540271759 test_acc 90.28408527374268\n",
            "Epoch: 75 Loss: 1.5728063833145869 Test Loss: 1.5964409112930298 data: 6720 train_acc 92.14285612106323 test_acc 91.70454144477844\n",
            "Epoch: 100 Loss: 1.561591595127469 Test Loss: 1.580713152885437 data: 6720 train_acc 92.79761910438538 test_acc 91.98863506317139\n",
            "Epoch: 25 Loss: 1.6363922995190288 Test Loss: 1.6722394011237405 data: 6880 train_acc 88.64825367927551 test_acc 87.99242377281189\n",
            "Epoch: 50 Loss: 1.5911638517712439 Test Loss: 1.611754840070551 data: 6880 train_acc 91.00290536880493 test_acc 91.13636016845703\n"
          ]
        },
        {
          "name": "stdout",
          "output_type": "stream",
          "text": [
            "Epoch: 75 Loss: 1.5722250054048938 Test Loss: 1.5879893844777888 data: 6880 train_acc 92.00581312179565 test_acc 91.98863506317139\n",
            "Epoch: 100 Loss: 1.5611560120139012 Test Loss: 1.5762036063454368 data: 6880 train_acc 92.9215133190155 test_acc 91.98863506317139\n",
            "Epoch: 25 Loss: 1.6346548803827978 Test Loss: 1.6684345115314831 data: 7040 train_acc 88.90625238418579 test_acc 87.99242377281189\n",
            "Epoch: 50 Loss: 1.5896331228993155 Test Loss: 1.6091459447687322 data: 7040 train_acc 91.27840995788574 test_acc 90.56817889213562\n",
            "Epoch: 75 Loss: 1.5709196789698168 Test Loss: 1.5849305391311646 data: 7040 train_acc 92.20170378684998 test_acc 92.84090399742126\n",
            "Epoch: 100 Loss: 1.5601704841310329 Test Loss: 1.5729315064170144 data: 7040 train_acc 92.88352131843567 test_acc 93.12499761581421\n",
            "Epoch: 25 Loss: 1.6318162224027846 Test Loss: 1.6618005145679822 data: 7200 train_acc 88.99999856948853 test_acc 87.70833611488342\n",
            "Epoch: 50 Loss: 1.5877757332060072 Test Loss: 1.6052371263504028 data: 7200 train_acc 91.16666913032532 test_acc 91.13636016845703\n",
            "Epoch: 75 Loss: 1.5695012561480204 Test Loss: 1.582859223539179 data: 7200 train_acc 92.166668176651 test_acc 92.84090399742126\n",
            "Epoch: 100 Loss: 1.5588377695613438 Test Loss: 1.5707665790211072 data: 7200 train_acc 92.84722208976746 test_acc 93.12499761581421\n",
            "Epoch: 25 Loss: 1.6296196662861369 Test Loss: 1.6516699140722102 data: 7360 train_acc 89.23913240432739 test_acc 89.41287994384766\n",
            "Epoch: 50 Loss: 1.5861420113107432 Test Loss: 1.6000755049965598 data: 7360 train_acc 91.33152365684509 test_acc 91.42045378684998\n",
            "Epoch: 75 Loss: 1.5681663072627523 Test Loss: 1.5785544243725864 data: 7360 train_acc 92.3913061618805 test_acc 92.5568163394928\n",
            "Epoch: 100 Loss: 1.5577606390351835 Test Loss: 1.5694854909723455 data: 7360 train_acc 92.9076075553894 test_acc 93.12499761581421\n",
            "Epoch: 25 Loss: 1.629147581343955 Test Loss: 1.6444397406144575 data: 7520 train_acc 89.12234306335449 test_acc 89.41287994384766\n",
            "Epoch: 50 Loss: 1.5859356030504754 Test Loss: 1.594344745982777 data: 7520 train_acc 91.51595830917358 test_acc 91.70454144477844\n",
            "Epoch: 75 Loss: 1.5679753303527832 Test Loss: 1.5757485953244297 data: 7520 train_acc 92.367023229599 test_acc 93.12499761581421\n",
            "Epoch: 100 Loss: 1.5575942003980596 Test Loss: 1.564229206605391 data: 7520 train_acc 93.05850863456726 test_acc 93.12499761581421\n",
            "Epoch: 25 Loss: 1.6280454797049364 Test Loss: 1.6398605108261108 data: 7680 train_acc 89.30989503860474 test_acc 89.98106122016907\n",
            "Epoch: 50 Loss: 1.584534692267577 Test Loss: 1.5908292531967163 data: 7680 train_acc 91.43229126930237 test_acc 91.98863506317139\n",
            "Epoch: 75 Loss: 1.5667198444406192 Test Loss: 1.5751967430114746 data: 7680 train_acc 92.44791865348816 test_acc 92.84090399742126\n",
            "Epoch: 100 Loss: 1.5566083734234175 Test Loss: 1.5642646226015957 data: 7680 train_acc 92.95572638511658 test_acc 93.69317889213562\n",
            "Epoch: 25 Loss: 1.6258983461224303 Test Loss: 1.6387986594980413 data: 7840 train_acc 89.34949040412903 test_acc 90.26515483856201\n",
            "Epoch: 50 Loss: 1.5833503144127983 Test Loss: 1.5894864147359675 data: 7840 train_acc 91.58163070678711 test_acc 91.98863506317139\n",
            "Epoch: 75 Loss: 1.5659176748626087 Test Loss: 1.5714945251291448 data: 7840 train_acc 92.5765335559845 test_acc 92.84090399742126\n",
            "Epoch: 100 Loss: 1.5558019095537614 Test Loss: 1.5621310905976729 data: 7840 train_acc 93.06122660636902 test_acc 93.69317889213562\n",
            "Epoch: 25 Loss: 1.624955870628357 Test Loss: 1.6281743157993664 data: 8000 train_acc 89.3750011920929 test_acc 90.85226655006409\n",
            "Epoch: 50 Loss: 1.582732755422592 Test Loss: 1.5835073536092585 data: 8000 train_acc 91.66250228881836 test_acc 91.42045378684998\n",
            "Epoch: 75 Loss: 1.5653833358287812 Test Loss: 1.5670328357002952 data: 8000 train_acc 92.5125002861023 test_acc 92.5568163394928\n",
            "Epoch: 100 Loss: 1.5551368796825409 Test Loss: 1.557342681017789 data: 8000 train_acc 93.15000176429749 test_acc 93.12499761581421\n",
            "\n",
            "\n"
          ]
        }
      ],
      "source": [
        "old_acc = []\n",
        "old_train = []\n",
        "old_test = []\n",
        "\n",
        "ratio = 50\n",
        "EPOCHS = 100\n",
        "n_runs = 3 #every training is repeated 3 times and avaraged\n",
        "\n",
        "for j in range(n_runs):\n",
        "\n",
        "    ACCURACY_matrix = []\n",
        "    TrainLOSS_matrix = []\n",
        "    TestLOSS_matrix = []\n",
        "\n",
        "    print(f\"Run Number: {j+1}\")\n",
        "\n",
        "    for i in range (1, ratio+1):\n",
        "\n",
        "        train_losses = []\n",
        "        test_losses = []\n",
        "        test_accuracies = []\n",
        "\n",
        "        # Set the datasetsize\n",
        "        n_train_loop = int(n_train * i / ratio)\n",
        "        #batch_size_train_loop = int(batch_size_train * i / ratio)\n",
        "\n",
        "        # Create the train dataset and the train loader\n",
        "        dataset_train =  torchvision.datasets.MNIST('./files/', train = False, download = True, transform = transform)\n",
        "        dataset_train.data, dataset_train.targets = dataset_train.data[:n_train_loop], dataset_train.targets[:n_train_loop]\n",
        "        train_loader = torch.utils.data.DataLoader(dataset_train, batch_size=batch_size_train, shuffle = True, drop_last = True)\n",
        "\n",
        "        # Call our Net\n",
        "        model = EncoderWithSoftmax(pret_autoenc).to(device)\n",
        "\n",
        "        #Set the Optimazer\n",
        "        optimizer = torch.optim.Adam(model.parameters(), lr = 1e-3)\n",
        "\n",
        "        for epoch in range(1,EPOCHS+1):\n",
        "            train_loss = 0\n",
        "\n",
        "            for x_train, y_train in train_loader:\n",
        "                x_train, y_train = x_train.to(device), y_train.to(device)\n",
        "                loss = train(model, x_train, y_train, loss_function, optimizer)\n",
        "                train_loss += loss\n",
        "\n",
        "            train_loss /= len(train_loader)                    # we divide by the number of batches\n",
        "            train_losses.append(train_loss)\n",
        "\n",
        "            train_acc, test_acc, test_loss = evaluate(model, train_loader, test_loader)\n",
        "            test_accuracies.append(test_acc)\n",
        "            test_losses.append(test_loss)\n",
        "\n",
        "            if epoch % 25 == 0:\n",
        "                print(\"Epoch:\", epoch, \"Loss:\", float(train_loss), \"Test Loss:\", test_loss, \"data:\", len(dataset_train.data), \"train_acc\", train_acc, \"test_acc\", test_acc)\n",
        "\n",
        "        # Save in ACCURACY_matrix\n",
        "        ACCURACY_matrix.append(test_accuracies)\n",
        "        TrainLOSS_matrix.append(train_losses)\n",
        "        TestLOSS_matrix.append(test_losses)\n",
        "\n",
        "    if j == 0:\n",
        "\n",
        "        old_acc = ACCURACY_matrix\n",
        "        old_train = TrainLOSS_matrix\n",
        "        old_test = TestLOSS_matrix\n",
        "\n",
        "    else:\n",
        "\n",
        "        # For old_acc and ACCURACY_matrix\n",
        "        old_acc = [[old_acc[row][col] + ACCURACY_matrix[row][col] for col in range(len(old_acc[0]))] for row in range(len(old_acc))]\n",
        "\n",
        "        # For old_train and TrainLOSS_matrix\n",
        "        old_train = [[old_train[row][col] + TrainLOSS_matrix[row][col] for col in range(len(old_train[0]))] for row in range(len(old_train))]\n",
        "\n",
        "        # For old_test and TestLOSS_matrix\n",
        "        old_test = [[old_test[row][col] + TestLOSS_matrix[row][col] for col in range(len(old_test[0]))] for row in range(len(old_test))]\n",
        "\n",
        "\n",
        "    print(\"\\n\")"
      ]
    },
    {
      "cell_type": "markdown",
      "source": [
        "Avarage of the three runs"
      ],
      "metadata": {
        "id": "iLLj9t-DLF1r"
      }
    },
    {
      "cell_type": "code",
      "execution_count": null,
      "metadata": {
        "id": "blREZsJQIkWa"
      },
      "outputs": [],
      "source": [
        "ACCURACY_matrix = [[element / n_runs for element in row] for row in old_acc]\n",
        "TrainLOSS_matrix = [[element / n_runs for element in row] for row in old_train]\n",
        "TestLOSS_matrix = [[element / n_runs for element in row] for row in old_test]"
      ]
    },
    {
      "cell_type": "markdown",
      "source": [
        "Accuracy of encoder with Softmax over the dataset sizes"
      ],
      "metadata": {
        "id": "tteVq7nNL7NA"
      }
    },
    {
      "cell_type": "code",
      "execution_count": null,
      "metadata": {
        "id": "h4wK7skrh32t",
        "outputId": "dea6186a-a0e3-449c-a8ca-1834fccc568e"
      },
      "outputs": [
        {
          "data": {
            "image/png": "[encoded data removed]",
            "text/plain": [
              "<Figure size 432x288 with 1 Axes>"
            ]
          },
          "metadata": {
            "needs_background": "light"
          },
          "output_type": "display_data"
        }
      ],
      "source": [
        "# Extract last non-zero values from each list\n",
        "last_elements = [sublist[-1] for sublist in ACCURACY_matrix]\n",
        "\n",
        "\n",
        "# The size of the dataset\n",
        "data = [n_train * i/ratio for i in range(1, ratio + 1)]\n",
        "\n",
        "# Plot the values\n",
        "plt.plot(data, last_elements, label = \"Test\")\n",
        "plt.xlabel(\"Data\")\n",
        "plt.ylabel(\"Accuracy\")\n",
        "plt.title('Accuracy of EwithS')\n",
        "plt.legend()\n",
        "plt.show()"
      ]
    },
    {
      "cell_type": "markdown",
      "source": [
        "Loss in function of the epochs for all the dataset sizes"
      ],
      "metadata": {
        "id": "oJuK2RxbMK3I"
      }
    },
    {
      "cell_type": "code",
      "execution_count": null,
      "metadata": {
        "id": "zuv_osR3tnKl",
        "outputId": "fa9873b0-0774-48d9-dbe1-140d9bef9d40"
      },
      "outputs": [
        {
          "data": {
            "image/png": "[encoded data removed]",
            "text/plain": [
              "<Figure size 432x288 with 1 Axes>"
            ]
          },
          "metadata": {
            "needs_background": "light"
          },
          "output_type": "display_data"
        }
      ],
      "source": [
        "# Extract last non-zero values from each list\n",
        "for i in range(len(TrainLOSS_matrix)):\n",
        "    plt.plot(range(EPOCHS), TrainLOSS_matrix[i])\n",
        "plt.xlabel(\"Epochs\")\n",
        "plt.ylabel(\"Loss\")\n",
        "plt.title('Train Loss vs epochs')\n",
        "plt.show()"
      ]
    },
    {
      "cell_type": "code",
      "execution_count": null,
      "metadata": {
        "id": "nkarkoLyiAUZ",
        "outputId": "44808810-8620-462f-8dc8-986cd2b13c74"
      },
      "outputs": [
        {
          "data": {
            "image/png": "[encoded data removed]",
            "text/plain": [
              "<Figure size 432x288 with 1 Axes>"
            ]
          },
          "metadata": {
            "needs_background": "light"
          },
          "output_type": "display_data"
        }
      ],
      "source": [
        "plt.plot(range(1, EPOCHS + 1), TrainLOSS_matrix[-1], label = \"Train\")\n",
        "plt.plot(range(1, EPOCHS + 1), TestLOSS_matrix[-1], label = \"Test\")\n",
        "plt.xlabel(\"Epochs\")\n",
        "plt.ylabel(\"Loss\")\n",
        "plt.title('Train Loss vs Test Loss')\n",
        "plt.legend()\n",
        "plt.show()"
      ]
    },
    {
      "cell_type": "markdown",
      "source": [
        "Example of confusion matrix for the last run"
      ],
      "metadata": {
        "id": "hJLyZdcJMoNr"
      }
    },
    {
      "cell_type": "code",
      "execution_count": null,
      "metadata": {
        "id": "vV0maHoTtnE7",
        "outputId": "e0ee6982-3f4c-4295-8ada-c0600f8fc78a"
      },
      "outputs": [
        {
          "name": "stdout",
          "output_type": "stream",
          "text": [
            "[[0.97 0.   0.   0.   0.   0.   0.03 0.   0.   0.  ]\n",
            " [0.   0.97 0.   0.   0.   0.   0.   0.   0.03 0.  ]\n",
            " [0.   0.   0.78 0.03 0.08 0.   0.03 0.03 0.03 0.03]\n",
            " [0.   0.   0.   0.97 0.   0.   0.03 0.   0.   0.  ]\n",
            " [0.   0.   0.   0.   0.97 0.   0.   0.   0.   0.03]\n",
            " [0.   0.   0.   0.04 0.04 0.89 0.   0.   0.04 0.  ]\n",
            " [0.   0.   0.   0.06 0.   0.03 0.92 0.   0.   0.  ]\n",
            " [0.   0.   0.   0.   0.   0.   0.   1.   0.   0.  ]\n",
            " [0.   0.   0.   0.03 0.   0.03 0.03 0.   0.91 0.  ]\n",
            " [0.03 0.   0.   0.   0.   0.03 0.   0.03 0.   0.91]]\n"
          ]
        }
      ],
      "source": [
        "from sklearn.metrics import confusion_matrix\n",
        "import numpy as np\n",
        "model.eval()\n",
        "\n",
        "all_y = []\n",
        "all_predictions = []\n",
        "\n",
        "# Iterate over the dataset\n",
        "for x, y in test_loader:\n",
        "    x = x.to(device)\n",
        "\n",
        "    with torch.no_grad():\n",
        "        outputs = model(x)\n",
        "        _, predicted = torch.max(outputs, 1)\n",
        "\n",
        "    all_y.extend(y.numpy())\n",
        "    all_predictions.extend(predicted.cpu().numpy())\n",
        "\n",
        "all_y = np.array(all_y)\n",
        "all_predictions = np.array(all_predictions)\n",
        "\n",
        "conf_matrix = confusion_matrix(all_y, all_predictions, normalize = \"true\")\n",
        "\n",
        "print(conf_matrix.round(decimals=2))"
      ]
    },
    {
      "cell_type": "code",
      "execution_count": null,
      "metadata": {
        "id": "9Uo9011Ktm8d",
        "outputId": "1a0ef2dc-359e-4404-c388-4644ef3cba72"
      },
      "outputs": [
        {
          "data": {
            "text/plain": [
              "Text(0.5, -14.597979746446661, 'Predicted label')"
            ]
          },
          "execution_count": 18,
          "metadata": {},
          "output_type": "execute_result"
        },
        {
          "data": {
            "image/png": "[encoded data removed]",
            "text/plain": [
              "<Figure size 432x288 with 2 Axes>"
            ]
          },
          "metadata": {
            "needs_background": "light"
          },
          "output_type": "display_data"
        }
      ],
      "source": [
        "classes = dataset_test.classes\n",
        "\n",
        "plt.figure(figsize=(6, 4))\n",
        "plt.imshow(conf_matrix)\n",
        "plt.title(\"Confusion matrix\")\n",
        "plt.colorbar()\n",
        "\n",
        "tick_marks = np.arange(len(classes))\n",
        "plt.xticks(tick_marks, classes, rotation=45)\n",
        "plt.yticks(tick_marks, classes)\n",
        "\n",
        "\n",
        "plt.tight_layout()\n",
        "plt.ylabel('True label')\n",
        "plt.xlabel('Predicted label')"
      ]
    },
    {
      "cell_type": "markdown",
      "source": [
        "Saving the results in files"
      ],
      "metadata": {
        "id": "DUb-jZ8DMykX"
      }
    },
    {
      "cell_type": "code",
      "execution_count": null,
      "metadata": {
        "id": "bHEAPIntu7ON"
      },
      "outputs": [],
      "source": [
        "result_dir = 'result'\n",
        "os.makedirs(result_dir, exist_ok=True)\n",
        "\n",
        "file_name1 = 'TrainLOSS_matrix_MNIST_normal_NA.npy'\n",
        "np.save(os.path.join(result_dir, file_name1), TrainLOSS_matrix)\n",
        "\n",
        "file_name2 = 'ACCURACY_matrix_MNIST_normal_NA.npy'\n",
        "np.save(os.path.join(result_dir, file_name2), ACCURACY_matrix)\n",
        "\n",
        "file_name3 = 'TestLOSS_matrix_MNIST_normal_NA.npy'\n",
        "np.save(os.path.join(result_dir, file_name3), TestLOSS_matrix)"
      ]
    },
    {
      "cell_type": "code",
      "execution_count": null,
      "metadata": {
        "id": "5_fooqSZ_IcG"
      },
      "outputs": [],
      "source": []
    }
  ],
  "metadata": {
    "colab": {
      "provenance": []
    },
    "kernelspec": {
      "display_name": "Python 3 (ipykernel)",
      "language": "python",
      "name": "python3"
    },
    "language_info": {
      "codemirror_mode": {
        "name": "ipython",
        "version": 3
      },
      "file_extension": ".py",
      "mimetype": "text/x-python",
      "name": "python",
      "nbconvert_exporter": "python",
      "pygments_lexer": "ipython3",
      "version": "3.9.7"
    }
  },
  "nbformat": 4,
  "nbformat_minor": 0
}
