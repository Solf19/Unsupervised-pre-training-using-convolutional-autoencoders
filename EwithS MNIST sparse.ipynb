{
 "cells": [
  {
   "cell_type": "markdown",
   "metadata": {
    "id": "n2TYIftliqUB"
   },
   "source": [
    "#**Unsupervised pre-training**"
   ]
  },
  {
   "cell_type": "markdown",
   "metadata": {
    "id": "D48pgzTmjBVV"
   },
   "source": [
    "*Students:* --Valentina Barletta (Deep Learning) valentina.barletta@edu.unito.it --Sara De Benedetti (Reti Neurali) sara.debenedetti493@edu.unito.it"
   ]
  },
  {
   "cell_type": "markdown",
   "metadata": {
    "id": "oJ4qlErbDVON"
   },
   "source": [
    "# Encoder with Softmax\n"
   ]
  },
  {
   "cell_type": "markdown",
   "metadata": {
    "id": "MDKnYr-QD26b"
   },
   "source": [
    "Importing Modules"
   ]
  },
  {
   "cell_type": "code",
   "execution_count": 1,
   "metadata": {
    "colab": {
     "base_uri": "https://localhost:8080/"
    },
    "executionInfo": {
     "elapsed": 3845,
     "status": "ok",
     "timestamp": 1717776650868,
     "user": {
      "displayName": "Valentina Barletta",
      "userId": "10868763587431229161"
     },
     "user_tz": -120
    },
    "id": "PF8bMBu7iZZK",
    "outputId": "a5d890f8-4dc6-4f26-92d8-8cd1c5bd9f1b"
   },
   "outputs": [],
   "source": [
    "import torch\n",
    "from torch import nn\n",
    "from torch import optim\n",
    "import matplotlib.pyplot as plt\n",
    "import matplotlib.ticker as mtick\n",
    "import torchvision\n",
    "from statistics import mean\n",
    "import numpy as np\n",
    "\n",
    "from torchsummary import summary\n",
    "from tqdm import tqdm\n",
    "\n",
    "import os\n",
    "import time\n",
    "\n",
    "#path_data = 'MyDrive/Progetto Deep/Data/'\n",
    "#model_path = '/content/drive/MyDrive/Progetto Deep/Data/model.pth'\n",
    "#model_path = '/content/drive/MyDrive/Progetto Deep/Data/model_sparse.pth'\n",
    "\n",
    "\n",
    "#from google.colab import drive\n",
    "#drive.mount('/content/drive')\n",
    "\n",
    "#subject = 'EncoderWithSoftmax'"
   ]
  },
  {
   "cell_type": "markdown",
   "metadata": {
    "id": "uk11OXvwD_qr"
   },
   "source": [
    "Get the computation device"
   ]
  },
  {
   "cell_type": "code",
   "execution_count": 2,
   "metadata": {
    "colab": {
     "base_uri": "https://localhost:8080/"
    },
    "executionInfo": {
     "elapsed": 9,
     "status": "ok",
     "timestamp": 1717776650869,
     "user": {
      "displayName": "Valentina Barletta",
      "userId": "10868763587431229161"
     },
     "user_tz": -120
    },
    "id": "1-7m_spxIFDt",
    "outputId": "7545fe96-01a8-4345-a84e-ef85ecc48d4c"
   },
   "outputs": [
    {
     "name": "stdout",
     "output_type": "stream",
     "text": [
      "cpu\n"
     ]
    }
   ],
   "source": [
    "device = torch.device(\"cuda:0\" if torch.cuda.is_available() else \"cpu\")\n",
    "\n",
    "print(device)                                        # Check which device we got"
   ]
  },
  {
   "cell_type": "markdown",
   "metadata": {
    "id": "30wnbgr4EsVU"
   },
   "source": [
    "## Our net: Pretrained Convolutional Encoder with Softmax"
   ]
  },
  {
   "cell_type": "markdown",
   "metadata": {
    "id": "YG0okYB0FATo"
   },
   "source": [
    " Here it's represented the architecture of our Convolutional Autoencoder Neural Network pretrained."
   ]
  },
  {
   "cell_type": "code",
   "execution_count": 3,
   "metadata": {
    "executionInfo": {
     "elapsed": 4,
     "status": "ok",
     "timestamp": 1717776651563,
     "user": {
      "displayName": "Valentina Barletta",
      "userId": "10868763587431229161"
     },
     "user_tz": -120
    },
    "id": "4v6gakTDi6If"
   },
   "outputs": [],
   "source": [
    "input_dim = (28 * 28)\n",
    "hidden_dim = 10\n",
    "out_dim = 10\n",
    "\n",
    "class Autoencoder(nn.Module):\n",
    "    def __init__(self, input_dim, out_dim):\n",
    "        super(Autoencoder, self).__init__()\n",
    "\n",
    "        # Encoder\n",
    "        self.encoder = nn.Sequential(nn.Conv2d(in_channels=1, out_channels=8, kernel_size=(3,3), stride=1, padding=1),  # 28 x 28 x 1 -> 28 x 28 x 8\n",
    "                                    nn.ReLU(),\n",
    "                                    nn.MaxPool2d(kernel_size=2, stride=2, padding=0),  # 28 x 28 x 8 -> 14 x 14 x 8\n",
    "                                    nn.Conv2d(8, 4, kernel_size=3, padding=1),  # 14 x 14 x 8 -> 14 x 14 x 4\n",
    "                                    nn.ReLU(),\n",
    "                                    nn.MaxPool2d(kernel_size=2, stride=2, padding=0)) # 14 x 14 x 4 -> 7 x 7 x 4\n",
    "\n",
    "\n",
    "        # Decoder\n",
    "        self.decoder = nn. Sequential(nn.Conv2d(4, 4, kernel_size=3, padding=1),  # 7 x 7 x 4 -> 7 x 7 x 4\n",
    "                                      nn.ReLU(),\n",
    "                                      nn.Upsample(scale_factor=2, mode='nearest'),  # 7 x 7 x 4 -> 14 x 14 x 4\n",
    "                                      nn.Conv2d(4, 8, kernel_size=3, padding=1),  # 14 x 14 x 4 -> 14 x 14 x 8\n",
    "                                      nn.ReLU(),\n",
    "                                      nn.Upsample(scale_factor=2, mode='nearest'),  # 14 x 14 x 8 -> 28 x 28 x 8\n",
    "                                      nn.Conv2d(8, 1, kernel_size=3, padding=1))  # 28 x 28 x 8 -> 28 x 28 x 1\n",
    "\n",
    "\n",
    "    def forward(self, x):\n",
    "        encoded = self.encoder(x)\n",
    "        decoded = self.decoder(encoded)\n",
    "        return decoded\n",
    "\n",
    "\n",
    "pret_autoenc = Autoencoder(input_dim, out_dim).to(device)"
   ]
  },
  {
   "cell_type": "markdown",
   "metadata": {
    "id": "K3KOx2VWFX96"
   },
   "source": [
    "Restoring the model"
   ]
  },
  {
   "cell_type": "code",
   "execution_count": 4,
   "metadata": {
    "colab": {
     "base_uri": "https://localhost:8080/"
    },
    "executionInfo": {
     "elapsed": 4,
     "status": "ok",
     "timestamp": 1717776651563,
     "user": {
      "displayName": "Valentina Barletta",
      "userId": "10868763587431229161"
     },
     "user_tz": -120
    },
    "id": "HfFa2l7VKh1Q",
    "outputId": "d4d6b91c-78a7-4a51-b68d-216fa3e27b4a"
   },
   "outputs": [
    {
     "data": {
      "text/plain": [
       "<All keys matched successfully>"
      ]
     },
     "execution_count": 4,
     "metadata": {},
     "output_type": "execute_result"
    }
   ],
   "source": [
    "state_dict = torch.load(\"model_sparse.pth\", map_location=torch.device('cpu'))\n",
    "pret_autoenc.load_state_dict(state_dict)\n",
    "# pretrained_autoencoder.eval()"
   ]
  },
  {
   "cell_type": "markdown",
   "metadata": {
    "id": "qZvZslc9Fdyn"
   },
   "source": [
    "In this section, we will define our neural network made by our pretrained encoder combined with a softmax layer."
   ]
  },
  {
   "cell_type": "code",
   "execution_count": 5,
   "metadata": {
    "executionInfo": {
     "elapsed": 3,
     "status": "ok",
     "timestamp": 1717776651563,
     "user": {
      "displayName": "Valentina Barletta",
      "userId": "10868763587431229161"
     },
     "user_tz": -120
    },
    "id": "EgqhEKWJTpQR"
   },
   "outputs": [],
   "source": [
    "class EncoderWithSoftmax(nn.Module):\n",
    "    def __init__(self, pretrained_autoencoder):\n",
    "        super(EncoderWithSoftmax, self).__init__()\n",
    "\n",
    "        # Extraction of the encoder from the pretrained autoencoder\n",
    "        self.encoder = pretrained_autoencoder.encoder\n",
    "        \n",
    "        for param in self.encoder.parameters():\n",
    "            param.requires_grad = False\n",
    "\n",
    "        # Add the sfotmax layer\n",
    "        self.encoder_with_softmax = nn.Sequential(\n",
    "            self.encoder,\n",
    "            nn.Flatten(),\n",
    "            nn.Linear(in_features = (4 * 7 * 7), out_features = 10),\n",
    "            nn.Softmax(dim=1))\n",
    "\n",
    "\n",
    "    def forward(self, x):\n",
    "\n",
    "        x = self.encoder_with_softmax(x)\n",
    "        return x"
   ]
  },
  {
   "cell_type": "markdown",
   "metadata": {
    "id": "8OTolBy0ENHa"
   },
   "source": [
    "## Some Helper Functions"
   ]
  },
  {
   "cell_type": "code",
   "execution_count": 6,
   "metadata": {
    "executionInfo": {
     "elapsed": 7,
     "status": "ok",
     "timestamp": 1717776650870,
     "user": {
      "displayName": "Valentina Barletta",
      "userId": "10868763587431229161"
     },
     "user_tz": -120
    },
    "id": "eBB8CdvriOMF"
   },
   "outputs": [],
   "source": [
    "def accuracy(y_pred, y):\n",
    "\n",
    "    pred = y_pred.detach().argmax(dim=1)\n",
    "    corrects = (pred == y)\n",
    "    accuracy = (corrects.sum()/corrects.size(0)).float()\n",
    "\n",
    "    return accuracy\n",
    "\n",
    "\n",
    "def evaluate(model, train_loader, test_loader):\n",
    "\n",
    "  # initialize the accuracy as 0\n",
    "\n",
    "    acc_train, acc_test = 0, 0\n",
    "    running_loss = 0.0\n",
    "\n",
    "    with torch.no_grad():\n",
    "\n",
    "        for x_train, y_train in train_loader:\n",
    "\n",
    "            x_train, y_train = x_train.to(device), y_train.to(device)        # remember that we need to load our data into the GPUs\n",
    "\n",
    "            out = model(x_train).squeeze()\n",
    "            acc_train += accuracy(out, y_train)\n",
    "\n",
    "        for x_test, y_test in test_loader:\n",
    "\n",
    "            x_test, y_test = x_test.to(device), y_test.to(device)\n",
    "\n",
    "            out = model(x_test).squeeze()\n",
    "            loss = loss_function(out, y_test)\n",
    "            running_loss += loss.item()\n",
    "            acc_test += accuracy(out, y_test)\n",
    "            \n",
    "        val_loss = running_loss / len(test_loader)\n",
    "        acc_train, acc_test = acc_train / len(train_loader), acc_test / len(test_loader)\n",
    "\n",
    "    return float(acc_train.detach()) * 100, float(acc_test.detach()) * 100, val_loss\n",
    "\n",
    "\n",
    "def train(model, x, y, loss_function, optimizer):\n",
    "    model.train()\n",
    "    out = model(x).squeeze()\n",
    "    \n",
    "    loss = loss_function(out, y)\n",
    "\n",
    "    optimizer.zero_grad()\n",
    "    loss.backward()\n",
    "    \n",
    "    # Add Gradiet Clipping\n",
    "    torch.nn.utils.clip_grad_norm_(model.parameters(), 1)\n",
    "\n",
    "    optimizer.step()\n",
    "    return float(loss)\n",
    "\n"
   ]
  },
  {
   "cell_type": "markdown",
   "metadata": {
    "id": "Zseb0a6_GD4e"
   },
   "source": [
    "**Loss Function and Optimizer**\n",
    "\n",
    "For the loss function, we will use `CrossEntropyLoss` (Cross Entropy Loss).\n",
    "The optimizer is going to be `Adam` with a learning rate of 0.001."
   ]
  },
  {
   "cell_type": "code",
   "execution_count": 7,
   "metadata": {
    "executionInfo": {
     "elapsed": 3,
     "status": "ok",
     "timestamp": 1717776651563,
     "user": {
      "displayName": "Valentina Barletta",
      "userId": "10868763587431229161"
     },
     "user_tz": -120
    },
    "id": "wU3o_E2tGCGB"
   },
   "outputs": [],
   "source": [
    "loss_function = nn.CrossEntropyLoss()"
   ]
  },
  {
   "cell_type": "markdown",
   "metadata": {
    "id": "Dz1D2j5DECh3"
   },
   "source": [
    "Prepare the Data"
   ]
  },
  {
   "cell_type": "code",
   "execution_count": 8,
   "metadata": {
    "executionInfo": {
     "elapsed": 6,
     "status": "ok",
     "timestamp": 1717776650869,
     "user": {
      "displayName": "Valentina Barletta",
      "userId": "10868763587431229161"
     },
     "user_tz": -120
    },
    "id": "OAI7nqCWjlbK"
   },
   "outputs": [],
   "source": [
    "n_train = 8000\n",
    "n_test = 350\n",
    "\n",
    "batch_size_train = 16\n",
    "batch_size_test = 32\n",
    "\n",
    "transform = torchvision.transforms.Compose([\n",
    "                               torchvision.transforms.ToTensor(),\n",
    "                               torchvision.transforms.Normalize(\n",
    "                                 (0.1307,), (0.3081,))\n",
    "                             ])\n",
    "\n",
    "## TEST SET\n",
    "\n",
    "dataset_test =  torchvision.datasets.MNIST('./files/', train=False, download=True, transform=transform)\n",
    "\n",
    "dataset_test.data, dataset_test.targets = dataset_test.data[n_train:(n_train + n_test)], dataset_test.targets[n_train:(n_train + n_test)]\n",
    "test_loader = torch.utils.data.DataLoader(dataset_test, batch_size = batch_size_test, shuffle = False)"
   ]
  },
  {
   "cell_type": "markdown",
   "metadata": {
    "id": "uod0a5HmG4Hq"
   },
   "source": [
    "Since we want to derive how the accuracy changes as the size of the training dataset decreases, here there is the code which trains a neural network on the MNIST dataset, adjusting the size of the training dataset for each iteration of the loop.\n",
    "\n"
   ]
  },
  {
   "cell_type": "code",
   "execution_count": 9,
   "metadata": {
    "colab": {
     "base_uri": "https://localhost:8080/"
    },
    "id": "Hu1zpQ4OWh--",
    "outputId": "c8ca1a9d-4484-4fcb-d874-1953e2a60dc9",
    "scrolled": false
   },
   "outputs": [
    {
     "name": "stdout",
     "output_type": "stream",
     "text": [
      "Run Number: 1\n",
      "Epoch: 25 Loss: 1.8406848907470703 Test Loss: 1.9727541316639294 data: 160 train_acc 75.0 test_acc 57.1212112903595\n",
      "Epoch: 50 Loss: 1.7128782153129578 Test Loss: 1.910385402766141 data: 160 train_acc 82.4999988079071 test_acc 63.12499642372131\n",
      "Epoch: 75 Loss: 1.668516755104065 Test Loss: 1.8742278705943713 data: 160 train_acc 84.375 test_acc 64.82954621315002\n",
      "Epoch: 100 Loss: 1.6478172540664673 Test Loss: 1.8556335080753674 data: 160 train_acc 85.6249988079071 test_acc 65.37878513336182\n",
      "Epoch: 25 Loss: 1.7469920217990875 Test Loss: 1.847454916347157 data: 320 train_acc 80.9374988079071 test_acc 71.47727608680725\n",
      "Epoch: 50 Loss: 1.6539054274559022 Test Loss: 1.7972961880943992 data: 320 train_acc 87.8125011920929 test_acc 71.7424213886261\n",
      "Epoch: 75 Loss: 1.605153101682663 Test Loss: 1.7599196759137241 data: 320 train_acc 90.625 test_acc 75.17045736312866\n",
      "Epoch: 100 Loss: 1.548667275905609 Test Loss: 1.7069080417806453 data: 320 train_acc 95.6250011920929 test_acc 80.28409481048584\n",
      "Epoch: 25 Loss: 1.6817338148752847 Test Loss: 1.7643409425562078 data: 480 train_acc 87.08333373069763 test_acc 80.28409481048584\n",
      "Epoch: 50 Loss: 1.5945469578107199 Test Loss: 1.6969890811226584 data: 480 train_acc 93.12499761581421 test_acc 83.97727608680725\n",
      "Epoch: 75 Loss: 1.5653318405151366 Test Loss: 1.6768414107235996 data: 480 train_acc 94.16666626930237 test_acc 84.81060266494751\n",
      "Epoch: 100 Loss: 1.5408429185549417 Test Loss: 1.6640221205624668 data: 480 train_acc 96.24999761581421 test_acc 85.94696521759033\n",
      "Epoch: 25 Loss: 1.8017750084400177 Test Loss: 1.8636852611194958 data: 640 train_acc 70.46874761581421 test_acc 66.26893877983093\n",
      "Epoch: 50 Loss: 1.692809820175171 Test Loss: 1.7793666449460117 data: 640 train_acc 82.18749761581421 test_acc 73.617422580719\n",
      "Epoch: 75 Loss: 1.6453599989414216 Test Loss: 1.7406250888651067 data: 640 train_acc 85.4687511920929 test_acc 77.36742496490479\n",
      "Epoch: 100 Loss: 1.6274172723293305 Test Loss: 1.726309982213107 data: 640 train_acc 86.56250238418579 test_acc 76.51515603065491\n",
      "Epoch: 25 Loss: 1.6519950556755065 Test Loss: 1.7111972136930986 data: 800 train_acc 87.99999952316284 test_acc 82.55681991577148\n",
      "Epoch: 50 Loss: 1.590909676551819 Test Loss: 1.6882978894493796 data: 800 train_acc 92.37499833106995 test_acc 83.10605883598328\n",
      "Epoch: 75 Loss: 1.5625878286361694 Test Loss: 1.655396656556563 data: 800 train_acc 93.75 test_acc 85.39772629737854\n",
      "Epoch: 100 Loss: 1.5424352550506593 Test Loss: 1.6332433765584773 data: 800 train_acc 95.37500143051147 test_acc 86.83711886405945\n",
      "Epoch: 25 Loss: 1.763664565483729 Test Loss: 1.7863613258708606 data: 960 train_acc 73.54166507720947 test_acc 72.25378751754761\n",
      "Epoch: 50 Loss: 1.6692108392715455 Test Loss: 1.7291921160437844 data: 960 train_acc 82.60416388511658 test_acc 76.26894116401672\n",
      "Epoch: 75 Loss: 1.6483983894189198 Test Loss: 1.7214782238006592 data: 960 train_acc 84.0624988079071 test_acc 76.83712244033813\n",
      "Epoch: 100 Loss: 1.6321488042672476 Test Loss: 1.7169703136790881 data: 960 train_acc 84.89583134651184 test_acc 77.12121605873108\n",
      "Epoch: 25 Loss: 1.6870229993547712 Test Loss: 1.7266845378008755 data: 1120 train_acc 82.94642567634583 test_acc 79.3749988079071\n",
      "Epoch: 50 Loss: 1.5841105563299998 Test Loss: 1.6799253658814863 data: 1120 train_acc 91.60714149475098 test_acc 82.82196521759033\n",
      "Epoch: 75 Loss: 1.5548495871680124 Test Loss: 1.641891674561934 data: 1120 train_acc 94.55357193946838 test_acc 84.82954502105713\n",
      "Epoch: 100 Loss: 1.538688155582973 Test Loss: 1.632570906118913 data: 1120 train_acc 95.53571343421936 test_acc 85.68181991577148\n",
      "Epoch: 25 Loss: 1.689784750342369 Test Loss: 1.765830939466303 data: 1280 train_acc 82.26562738418579 test_acc 72.51893877983093\n",
      "Epoch: 50 Loss: 1.585370770096779 Test Loss: 1.6469311280684038 data: 1280 train_acc 92.2656238079071 test_acc 85.96591353416443\n",
      "Epoch: 75 Loss: 1.5578196123242378 Test Loss: 1.6627383665605024 data: 1280 train_acc 92.96875 test_acc 81.64772391319275\n",
      "Epoch: 100 Loss: 1.5410385355353355 Test Loss: 1.6365561810406772 data: 1280 train_acc 94.8437511920929 test_acc 84.79166626930237\n",
      "Epoch: 25 Loss: 1.677889358997345 Test Loss: 1.6941098299893467 data: 1440 train_acc 82.4999988079071 test_acc 80.24621605873108\n",
      "Epoch: 50 Loss: 1.5841934892866347 Test Loss: 1.6561447707089512 data: 1440 train_acc 92.22221970558167 test_acc 83.6931824684143\n",
      "Epoch: 75 Loss: 1.5602262417475383 Test Loss: 1.6476950428702615 data: 1440 train_acc 93.75 test_acc 84.26136374473572\n",
      "Epoch: 100 Loss: 1.5450925522380405 Test Loss: 1.6411266868764705 data: 1440 train_acc 94.86111402511597 test_acc 83.65530371665955\n",
      "Epoch: 25 Loss: 1.6243072760105133 Test Loss: 1.7067804661664097 data: 1600 train_acc 88.31250071525574 test_acc 79.71591353416443\n",
      "Epoch: 50 Loss: 1.5759868121147156 Test Loss: 1.6651617288589478 data: 1600 train_acc 92.56250262260437 test_acc 83.39014649391174\n",
      "Epoch: 75 Loss: 1.555364133119583 Test Loss: 1.6454089663245461 data: 1600 train_acc 93.75 test_acc 83.37121605873108\n",
      "Epoch: 100 Loss: 1.5446769487857819 Test Loss: 1.646246931769631 data: 1600 train_acc 94.56250071525574 test_acc 83.40909481048584\n",
      "Epoch: 25 Loss: 1.7609418890692972 Test Loss: 1.8401918844743208 data: 1760 train_acc 73.8068163394928 test_acc 65.15151262283325\n",
      "Epoch: 50 Loss: 1.6567559296434575 Test Loss: 1.7370618690143933 data: 1760 train_acc 83.63636136054993 test_acc 75.66288113594055\n",
      "Epoch: 75 Loss: 1.6364715381102128 Test Loss: 1.7220399379730225 data: 1760 train_acc 85.39772629737854 test_acc 76.51515603065491\n",
      "Epoch: 100 Loss: 1.5583407889712941 Test Loss: 1.6429470344023271 data: 1760 train_acc 92.95454621315002 test_acc 83.39014649391174\n",
      "Epoch: 25 Loss: 1.6137619326512018 Test Loss: 1.6613527861508457 data: 1920 train_acc 88.90625238418579 test_acc 83.99620652198792\n",
      "Epoch: 50 Loss: 1.571330945690473 Test Loss: 1.6590388471429998 data: 1920 train_acc 92.23958253860474 test_acc 82.84091353416443\n",
      "Epoch: 75 Loss: 1.5525122900803885 Test Loss: 1.62112604488026 data: 1920 train_acc 93.95833611488342 test_acc 86.2500011920929\n",
      "Epoch: 100 Loss: 1.5438291390736898 Test Loss: 1.6177170926874334 data: 1920 train_acc 94.32291388511658 test_acc 85.68181991577148\n",
      "Epoch: 25 Loss: 1.6142655987005967 Test Loss: 1.6604478034106167 data: 2080 train_acc 89.08653855323792 test_acc 83.40909481048584\n",
      "Epoch: 50 Loss: 1.5724163037080032 Test Loss: 1.6242308074777776 data: 2080 train_acc 92.16346144676208 test_acc 84.54545736312866\n",
      "Epoch: 75 Loss: 1.555157794402196 Test Loss: 1.610661669210954 data: 2080 train_acc 93.60576868057251 test_acc 87.40530014038086\n",
      "Epoch: 100 Loss: 1.5450154359524066 Test Loss: 1.6011469580910422 data: 2080 train_acc 94.2307710647583 test_acc 88.5606050491333\n",
      "Epoch: 25 Loss: 1.6051706842013769 Test Loss: 1.6373865496028552 data: 2240 train_acc 90.17857313156128 test_acc 86.83711886405945\n",
      "Epoch: 50 Loss: 1.5716350657599314 Test Loss: 1.60125301100991 data: 2240 train_acc 92.14285612106323 test_acc 88.25757503509521\n",
      "Epoch: 75 Loss: 1.5547647620950427 Test Loss: 1.6078103672374378 data: 2240 train_acc 93.4374988079071 test_acc 88.84469866752625\n",
      "Epoch: 100 Loss: 1.5435609562056405 Test Loss: 1.5898290005597202 data: 2240 train_acc 94.10714507102966 test_acc 88.54166269302368\n",
      "Epoch: 25 Loss: 1.7222354094187418 Test Loss: 1.747602029280229 data: 2400 train_acc 76.04166865348816 test_acc 74.01514649391174\n",
      "Epoch: 50 Loss: 1.7004493546485902 Test Loss: 1.7025412754579023 data: 2400 train_acc 77.8333306312561 test_acc 76.85605883598328\n",
      "Epoch: 75 Loss: 1.6909138258298237 Test Loss: 1.697803334756331 data: 2400 train_acc 78.29166650772095 test_acc 76.85605883598328\n",
      "Epoch: 100 Loss: 1.636096903483073 Test Loss: 1.6857557730241255 data: 2400 train_acc 84.87499952316284 test_acc 79.14772629737854\n",
      "Epoch: 25 Loss: 1.658822264522314 Test Loss: 1.6554266756231135 data: 2560 train_acc 83.24218988418579 test_acc 82.82196521759033\n",
      "Epoch: 50 Loss: 1.5714445844292642 Test Loss: 1.6296937357295642 data: 2560 train_acc 91.25000238418579 test_acc 85.68181991577148\n",
      "Epoch: 75 Loss: 1.5546681560575961 Test Loss: 1.5845874331214211 data: 2560 train_acc 93.71093511581421 test_acc 89.6780252456665\n",
      "Epoch: 100 Loss: 1.54332519993186 Test Loss: 1.5838064388795332 data: 2560 train_acc 94.3359375 test_acc 89.98106122016907\n"
     ]
    },
    {
     "name": "stdout",
     "output_type": "stream",
     "text": [
      "Epoch: 25 Loss: 1.5993228393442491 Test Loss: 1.6794787536967883 data: 2720 train_acc 89.00735378265381 test_acc 81.72348141670227\n",
      "Epoch: 50 Loss: 1.5668653474134557 Test Loss: 1.60183631290089 data: 2720 train_acc 91.76470637321472 test_acc 88.25757503509521\n",
      "Epoch: 75 Loss: 1.549630125129924 Test Loss: 1.5936838063326748 data: 2720 train_acc 93.5661792755127 test_acc 89.10984396934509\n",
      "Epoch: 100 Loss: 1.541994894252104 Test Loss: 1.5842704989693381 data: 2720 train_acc 94.30146813392639 test_acc 88.80681991577148\n",
      "Epoch: 25 Loss: 1.7212327573034498 Test Loss: 1.7192637053402988 data: 2880 train_acc 75.90277791023254 test_acc 75.70075988769531\n",
      "Epoch: 50 Loss: 1.6409966515170202 Test Loss: 1.677101492881775 data: 2880 train_acc 84.44444537162781 test_acc 80.5681824684143\n",
      "Epoch: 75 Loss: 1.6238395618067847 Test Loss: 1.6677743088115344 data: 2880 train_acc 85.17361283302307 test_acc 79.98105883598328\n",
      "Epoch: 100 Loss: 1.6153316504425472 Test Loss: 1.669569969177246 data: 2880 train_acc 86.11111044883728 test_acc 79.96212244033813\n",
      "Epoch: 25 Loss: 1.5974118320565476 Test Loss: 1.6332113526084207 data: 3040 train_acc 90.75657725334167 test_acc 87.6893937587738\n",
      "Epoch: 50 Loss: 1.5650702351018002 Test Loss: 1.5947845524007624 data: 3040 train_acc 91.8092131614685 test_acc 88.52272629737854\n",
      "Epoch: 75 Loss: 1.5500553764795002 Test Loss: 1.5807916684584185 data: 3040 train_acc 93.78289580345154 test_acc 90.26515483856201\n",
      "Epoch: 100 Loss: 1.5392663121223449 Test Loss: 1.578971418467435 data: 3040 train_acc 94.40789222717285 test_acc 88.80681991577148\n",
      "Epoch: 25 Loss: 1.5916603296995162 Test Loss: 1.625650254162875 data: 3200 train_acc 90.40625095367432 test_acc 86.28787994384766\n",
      "Epoch: 50 Loss: 1.5621311527490616 Test Loss: 1.590955918485468 data: 3200 train_acc 92.59374737739563 test_acc 88.82575631141663\n",
      "Epoch: 75 Loss: 1.550226410627365 Test Loss: 1.582463968883861 data: 3200 train_acc 93.00000071525574 test_acc 90.53030014038086\n",
      "Epoch: 100 Loss: 1.539918718934059 Test Loss: 1.5706723820079456 data: 3200 train_acc 94.09375190734863 test_acc 90.83333611488342\n",
      "Epoch: 25 Loss: 1.5962830435662043 Test Loss: 1.6398387930609963 data: 3360 train_acc 90.38690328598022 test_acc 84.54545736312866\n",
      "Epoch: 50 Loss: 1.5635741761752537 Test Loss: 1.6020722064104946 data: 3360 train_acc 92.44047403335571 test_acc 88.25757503509521\n",
      "Epoch: 75 Loss: 1.5478522681054614 Test Loss: 1.5801758766174316 data: 3360 train_acc 93.51190328598022 test_acc 89.96211886405945\n",
      "Epoch: 100 Loss: 1.5378226745696295 Test Loss: 1.5736894390799783 data: 3360 train_acc 94.34523582458496 test_acc 90.26515483856201\n",
      "Epoch: 25 Loss: 1.5878518971529874 Test Loss: 1.6151554476131091 data: 3520 train_acc 90.59659242630005 test_acc 88.25757503509521\n",
      "Epoch: 50 Loss: 1.5605746280063282 Test Loss: 1.5909187902103772 data: 3520 train_acc 92.01704263687134 test_acc 89.6780252456665\n",
      "Epoch: 75 Loss: 1.5445621214129708 Test Loss: 1.5804390798915515 data: 3520 train_acc 93.40909123420715 test_acc 89.10984396934509\n",
      "Epoch: 100 Loss: 1.5361938048492778 Test Loss: 1.5622800913724033 data: 3520 train_acc 94.37500238418579 test_acc 91.64772629737854\n",
      "Epoch: 25 Loss: 1.65209684268288 Test Loss: 1.6824561465870251 data: 3680 train_acc 83.96739363670349 test_acc 79.14772629737854\n",
      "Epoch: 50 Loss: 1.627047138110451 Test Loss: 1.6709032275459983 data: 3680 train_acc 85.2173924446106 test_acc 79.98105883598328\n",
      "Epoch: 75 Loss: 1.6150405562442283 Test Loss: 1.6502618464556607 data: 3680 train_acc 86.08695864677429 test_acc 81.40151500701904\n",
      "Epoch: 100 Loss: 1.606865554270537 Test Loss: 1.6536883982745083 data: 3680 train_acc 86.6576075553894 test_acc 81.1174213886261\n",
      "Epoch: 25 Loss: 1.6460832521319388 Test Loss: 1.6899009617892178 data: 3840 train_acc 83.72395634651184 test_acc 78.86363863945007\n",
      "Epoch: 50 Loss: 1.6256871193647384 Test Loss: 1.65320162339644 data: 3840 train_acc 85.44270992279053 test_acc 81.96969628334045\n",
      "Epoch: 75 Loss: 1.6146375144521394 Test Loss: 1.6445866172963923 data: 3840 train_acc 86.19791865348816 test_acc 83.10605883598328\n",
      "Epoch: 100 Loss: 1.6085285047690074 Test Loss: 1.6426760283383457 data: 3840 train_acc 86.61458492279053 test_acc 83.39014649391174\n",
      "Epoch: 25 Loss: 1.6615868096351623 Test Loss: 1.6867841482162476 data: 4000 train_acc 82.67499804496765 test_acc 80.53030371665955\n",
      "Epoch: 50 Loss: 1.5634477458000182 Test Loss: 1.5899440158497204 data: 4000 train_acc 92.57500171661377 test_acc 89.09091353416443\n",
      "Epoch: 75 Loss: 1.5508449120521546 Test Loss: 1.5830762169577859 data: 4000 train_acc 93.17499995231628 test_acc 89.9431824684143\n",
      "Epoch: 100 Loss: 1.538742847919464 Test Loss: 1.5721606449647383 data: 4000 train_acc 94.17499899864197 test_acc 90.24620652198792\n",
      "Epoch: 25 Loss: 1.7128315141567818 Test Loss: 1.7105206359516492 data: 4160 train_acc 76.27403736114502 test_acc 75.71969628334045\n",
      "Epoch: 50 Loss: 1.6827478147470034 Test Loss: 1.6644175052642822 data: 4160 train_acc 81.5625011920929 test_acc 81.4393937587738\n",
      "Epoch: 75 Loss: 1.623118979197282 Test Loss: 1.663613666187633 data: 4160 train_acc 84.97596383094788 test_acc 81.42045736312866\n",
      "Epoch: 100 Loss: 1.6141922075014847 Test Loss: 1.6533491936596958 data: 4160 train_acc 85.96153855323792 test_acc 81.96969628334045\n",
      "Epoch: 25 Loss: 1.582558067198153 Test Loss: 1.617295742034912 data: 4320 train_acc 90.48610925674438 test_acc 87.97348141670227\n",
      "Epoch: 50 Loss: 1.56028406046055 Test Loss: 1.577513575553894 data: 4320 train_acc 92.77777671813965 test_acc 89.6780252456665\n",
      "Epoch: 75 Loss: 1.547605237695906 Test Loss: 1.574497558853843 data: 4320 train_acc 92.29166507720947 test_acc 90.22727608680725\n",
      "Epoch: 100 Loss: 1.538135544017509 Test Loss: 1.5697797428477893 data: 4320 train_acc 94.09722089767456 test_acc 90.79545736312866\n",
      "Epoch: 25 Loss: 1.5818324284894125 Test Loss: 1.6014463793147693 data: 4480 train_acc 90.53571224212646 test_acc 87.6893937587738\n",
      "Epoch: 50 Loss: 1.559007717881884 Test Loss: 1.5894844098524614 data: 4480 train_acc 92.54464507102966 test_acc 89.3750011920929\n",
      "Epoch: 75 Loss: 1.545285169993128 Test Loss: 1.5746847282756458 data: 4480 train_acc 93.39285492897034 test_acc 89.65909481048584\n",
      "Epoch: 100 Loss: 1.5385614156723022 Test Loss: 1.5757920742034912 data: 4480 train_acc 94.10714507102966 test_acc 89.35605883598328\n",
      "Epoch: 25 Loss: 1.5835049329132869 Test Loss: 1.6023350412195378 data: 4640 train_acc 89.80603218078613 test_acc 88.80681991577148\n",
      "Epoch: 50 Loss: 1.5582016406388117 Test Loss: 1.5845671675421975 data: 4640 train_acc 92.3491358757019 test_acc 89.6780252456665\n",
      "Epoch: 75 Loss: 1.5456718576365505 Test Loss: 1.564749706875194 data: 4640 train_acc 93.2758629322052 test_acc 90.53030014038086\n",
      "Epoch: 100 Loss: 1.5367410729671347 Test Loss: 1.5602838667956265 data: 4640 train_acc 94.00861859321594 test_acc 91.11742377281189\n",
      "Epoch: 25 Loss: 1.5817409682273864 Test Loss: 1.596918593753468 data: 4800 train_acc 89.95833396911621 test_acc 89.10984396934509\n",
      "Epoch: 50 Loss: 1.5574715491135915 Test Loss: 1.583262725309892 data: 4800 train_acc 92.166668176651 test_acc 89.96211886405945\n",
      "Epoch: 75 Loss: 1.5452295156319935 Test Loss: 1.5687925707210193 data: 4800 train_acc 93.20833086967468 test_acc 91.40151739120483\n",
      "Epoch: 100 Loss: 1.5387877647082011 Test Loss: 1.571345936168324 data: 4800 train_acc 93.91666650772095 test_acc 89.09091353416443\n",
      "Epoch: 25 Loss: 1.5777993459855357 Test Loss: 1.6083589358763262 data: 4960 train_acc 90.08064270019531 test_acc 89.09091353416443\n",
      "Epoch: 50 Loss: 1.5551566585417718 Test Loss: 1.5783910209482366 data: 4960 train_acc 92.68144965171814 test_acc 89.65909481048584\n",
      "Epoch: 75 Loss: 1.543925614895359 Test Loss: 1.5649892091751099 data: 4960 train_acc 93.6693549156189 test_acc 91.98863506317139\n",
      "Epoch: 100 Loss: 1.5366579251904642 Test Loss: 1.5729237361387773 data: 4960 train_acc 94.37500238418579 test_acc 90.54924249649048\n",
      "Epoch: 25 Loss: 1.5786775190383195 Test Loss: 1.6082916043021462 data: 5120 train_acc 91.26952886581421 test_acc 88.54166269302368\n",
      "Epoch: 50 Loss: 1.556087627634406 Test Loss: 1.5742121176286177 data: 5120 train_acc 92.48046875 test_acc 91.42045378684998\n",
      "Epoch: 75 Loss: 1.5441681168973447 Test Loss: 1.565847472711043 data: 5120 train_acc 93.12499761581421 test_acc 90.24620652198792\n"
     ]
    },
    {
     "name": "stdout",
     "output_type": "stream",
     "text": [
      "Epoch: 100 Loss: 1.5366125673055648 Test Loss: 1.565019130706787 data: 5120 train_acc 94.08203363418579 test_acc 90.83333611488342\n",
      "Epoch: 25 Loss: 1.5852295980308995 Test Loss: 1.6079253608530217 data: 5280 train_acc 90.56817889213562 test_acc 88.27651739120483\n",
      "Epoch: 50 Loss: 1.5557849985180479 Test Loss: 1.5856841043992476 data: 5280 train_acc 92.08333492279053 test_acc 88.52272629737854\n",
      "Epoch: 75 Loss: 1.5440816420497316 Test Loss: 1.5670144232836636 data: 5280 train_acc 92.84090995788574 test_acc 91.11742377281189\n",
      "Epoch: 100 Loss: 1.5362073692408476 Test Loss: 1.5708962787281384 data: 5280 train_acc 93.40909123420715 test_acc 90.54924249649048\n",
      "Epoch: 25 Loss: 1.5787454510436338 Test Loss: 1.5856828472831033 data: 5440 train_acc 90.18382430076599 test_acc 90.53030014038086\n",
      "Epoch: 50 Loss: 1.5523973836618312 Test Loss: 1.5552752993323586 data: 5440 train_acc 92.24264621734619 test_acc 91.66666269302368\n",
      "Epoch: 75 Loss: 1.5422867424347821 Test Loss: 1.559686693278226 data: 5440 train_acc 93.62132549285889 test_acc 90.51136374473572\n",
      "Epoch: 100 Loss: 1.5355960039531484 Test Loss: 1.5559455264698376 data: 5440 train_acc 94.33823823928833 test_acc 91.66666269302368\n",
      "Epoch: 25 Loss: 1.5734348538943699 Test Loss: 1.5872972119938245 data: 5600 train_acc 91.55356884002686 test_acc 89.65909481048584\n",
      "Epoch: 50 Loss: 1.550276666709355 Test Loss: 1.5615452311255715 data: 5600 train_acc 92.76785850524902 test_acc 91.6856050491333\n",
      "Epoch: 75 Loss: 1.5398808455467223 Test Loss: 1.5573801344091243 data: 5600 train_acc 93.535715341568 test_acc 91.36363863945007\n",
      "Epoch: 100 Loss: 1.5326976885114398 Test Loss: 1.578181797807867 data: 5600 train_acc 93.71428489685059 test_acc 89.3750011920929\n",
      "Epoch: 25 Loss: 1.572061968843142 Test Loss: 1.569008101116527 data: 5760 train_acc 90.86805582046509 test_acc 90.8143937587738\n",
      "Epoch: 50 Loss: 1.5495151867469152 Test Loss: 1.5580596165223555 data: 5760 train_acc 92.76041388511658 test_acc 91.95075631141663\n",
      "Epoch: 75 Loss: 1.5410670151313146 Test Loss: 1.5613929358395664 data: 5760 train_acc 93.45486164093018 test_acc 91.09848141670227\n",
      "Epoch: 100 Loss: 1.5342043923007118 Test Loss: 1.5545187755064531 data: 5760 train_acc 94.47916746139526 test_acc 91.09848141670227\n",
      "Epoch: 25 Loss: 1.6423135525471455 Test Loss: 1.6513027061115613 data: 5920 train_acc 82.98986554145813 test_acc 81.42045736312866\n",
      "Epoch: 50 Loss: 1.626397954128884 Test Loss: 1.647484909404408 data: 5920 train_acc 84.375 test_acc 82.53787755966187\n",
      "Epoch: 75 Loss: 1.619232534717869 Test Loss: 1.6407065825028853 data: 5920 train_acc 85.30405163764954 test_acc 82.55681991577148\n",
      "Epoch: 100 Loss: 1.6137222789429329 Test Loss: 1.640976071357727 data: 5920 train_acc 85.45607924461365 test_acc 82.55681991577148\n",
      "Epoch: 25 Loss: 1.572258379271156 Test Loss: 1.5777052966031162 data: 6080 train_acc 91.25000238418579 test_acc 90.8143937587738\n",
      "Epoch: 50 Loss: 1.5499038100242615 Test Loss: 1.5624985911629417 data: 6080 train_acc 92.976975440979 test_acc 91.64772629737854\n",
      "Epoch: 75 Loss: 1.539332850355851 Test Loss: 1.5660117972980847 data: 6080 train_acc 93.60197186470032 test_acc 90.8143937587738\n",
      "Epoch: 100 Loss: 1.5329674855658884 Test Loss: 1.5558340549468994 data: 6080 train_acc 94.40789222717285 test_acc 91.38257503509521\n",
      "Epoch: 25 Loss: 1.5695980665011284 Test Loss: 1.595171245661649 data: 6240 train_acc 90.6410276889801 test_acc 88.52272629737854\n",
      "Epoch: 50 Loss: 1.5503303362773015 Test Loss: 1.5564790855754504 data: 6240 train_acc 93.07692050933838 test_acc 91.40151739120483\n",
      "Epoch: 75 Loss: 1.5392752836912107 Test Loss: 1.557572841644287 data: 6240 train_acc 93.62179636955261 test_acc 90.8143937587738\n",
      "Epoch: 100 Loss: 1.533114851743747 Test Loss: 1.5609016526829114 data: 6240 train_acc 94.2307710647583 test_acc 90.51136374473572\n",
      "Epoch: 25 Loss: 1.5679238083958627 Test Loss: 1.5895108309659092 data: 6400 train_acc 91.4843738079071 test_acc 89.41287994384766\n",
      "Epoch: 50 Loss: 1.5477968004345894 Test Loss: 1.5566997961564497 data: 6400 train_acc 93.07812452316284 test_acc 91.38257503509521\n",
      "Epoch: 75 Loss: 1.5379536509513856 Test Loss: 1.5591213594783435 data: 6400 train_acc 93.60937476158142 test_acc 91.09848141670227\n",
      "Epoch: 100 Loss: 1.53113202303648 Test Loss: 1.5674694776535034 data: 6400 train_acc 94.28125023841858 test_acc 90.22727608680725\n",
      "Epoch: 25 Loss: 1.5685833006370358 Test Loss: 1.5692339810458096 data: 6560 train_acc 91.66158437728882 test_acc 90.53030014038086\n",
      "Epoch: 50 Loss: 1.5482117964000237 Test Loss: 1.558807210488753 data: 6560 train_acc 93.17073225975037 test_acc 91.40151739120483\n",
      "Epoch: 75 Loss: 1.5371860762921776 Test Loss: 1.5569098862734707 data: 6560 train_acc 93.76524686813354 test_acc 91.09848141670227\n",
      "Epoch: 100 Loss: 1.5305384842360892 Test Loss: 1.5625712221319026 data: 6560 train_acc 94.29877996444702 test_acc 90.22727608680725\n",
      "Epoch: 25 Loss: 1.570283956187112 Test Loss: 1.5570695400238037 data: 6720 train_acc 91.33928418159485 test_acc 92.51893758773804\n",
      "Epoch: 50 Loss: 1.5476342161496481 Test Loss: 1.5521866191517224 data: 6720 train_acc 92.8720235824585 test_acc 90.8143937587738\n",
      "Epoch: 75 Loss: 1.5376069102968488 Test Loss: 1.557662313634699 data: 6720 train_acc 93.45238208770752 test_acc 91.96969866752625\n",
      "Epoch: 100 Loss: 1.5328839361667632 Test Loss: 1.5446875095367432 data: 6720 train_acc 94.31547522544861 test_acc 91.93181991577148\n",
      "Epoch: 25 Loss: 1.5671917876531911 Test Loss: 1.568824367089705 data: 6880 train_acc 91.3081407546997 test_acc 90.8143937587738\n",
      "Epoch: 50 Loss: 1.5477383153383122 Test Loss: 1.5486752661791714 data: 6880 train_acc 92.5000011920929 test_acc 92.25378632545471\n",
      "Epoch: 75 Loss: 1.5367786011030509 Test Loss: 1.548160509629683 data: 6880 train_acc 93.93895268440247 test_acc 91.66666269302368\n",
      "Epoch: 100 Loss: 1.5307425022125245 Test Loss: 1.5446986610239202 data: 6880 train_acc 94.34593319892883 test_acc 92.53787994384766\n",
      "Epoch: 25 Loss: 1.5648835545236415 Test Loss: 1.5559095469388096 data: 7040 train_acc 91.86079502105713 test_acc 92.8219735622406\n",
      "Epoch: 50 Loss: 1.5456445466388355 Test Loss: 1.5468288985165684 data: 7040 train_acc 92.5994336605072 test_acc 92.57575869560242\n",
      "Epoch: 75 Loss: 1.536169291355393 Test Loss: 1.5466437339782715 data: 7040 train_acc 93.99147629737854 test_acc 91.6856050491333\n",
      "Epoch: 100 Loss: 1.530763483860276 Test Loss: 1.5450526475906372 data: 7040 train_acc 94.47442889213562 test_acc 91.66666269302368\n",
      "Epoch: 25 Loss: 1.5660980987548827 Test Loss: 1.5615152228962292 data: 7200 train_acc 91.77777767181396 test_acc 92.5568163394928\n",
      "Epoch: 50 Loss: 1.5454006828202143 Test Loss: 1.5373184030706233 data: 7200 train_acc 93.36110949516296 test_acc 93.67424249649048\n",
      "Epoch: 75 Loss: 1.5362167257732815 Test Loss: 1.5504245541312478 data: 7200 train_acc 94.02777552604675 test_acc 91.96969866752625\n",
      "Epoch: 100 Loss: 1.528930003643036 Test Loss: 1.5498136390339246 data: 7200 train_acc 94.40277814865112 test_acc 91.66666269302368\n",
      "Epoch: 25 Loss: 1.561423238982325 Test Loss: 1.5626742839813232 data: 7360 train_acc 92.14673638343811 test_acc 92.25378632545471\n",
      "Epoch: 50 Loss: 1.5432598691919575 Test Loss: 1.5400635329159824 data: 7360 train_acc 93.5326099395752 test_acc 92.8219735622406\n",
      "Epoch: 75 Loss: 1.533868139723073 Test Loss: 1.5344926443966953 data: 7360 train_acc 93.9538061618805 test_acc 93.44696402549744\n",
      "Epoch: 100 Loss: 1.528531747797261 Test Loss: 1.5379716699773616 data: 7360 train_acc 94.6467399597168 test_acc 92.25378632545471\n",
      "Epoch: 25 Loss: 1.634724664941747 Test Loss: 1.6260729052803733 data: 7520 train_acc 84.16223526000977 test_acc 84.29924249649048\n",
      "Epoch: 50 Loss: 1.6207342472482236 Test Loss: 1.6202327879992398 data: 7520 train_acc 85.27925610542297 test_acc 84.29924249649048\n",
      "Epoch: 75 Loss: 1.613047221873669 Test Loss: 1.6177135922692039 data: 7520 train_acc 85.54521203041077 test_acc 83.71211886405945\n",
      "Epoch: 100 Loss: 1.6095403308564045 Test Loss: 1.6199996037916704 data: 7520 train_acc 85.91755032539368 test_acc 84.29924249649048\n",
      "Epoch: 25 Loss: 1.6343963280320168 Test Loss: 1.6287632422013716 data: 7680 train_acc 83.93229246139526 test_acc 83.71211886405945\n",
      "Epoch: 50 Loss: 1.619349017739296 Test Loss: 1.6195608160712502 data: 7680 train_acc 85.13020873069763 test_acc 84.86742377281189\n"
     ]
    },
    {
     "name": "stdout",
     "output_type": "stream",
     "text": [
      "Epoch: 75 Loss: 1.613798615336418 Test Loss: 1.6166567694057117 data: 7680 train_acc 85.69010496139526 test_acc 84.58333611488342\n",
      "Epoch: 100 Loss: 1.6094617572923502 Test Loss: 1.6207176880402998 data: 7680 train_acc 86.22395992279053 test_acc 84.01515483856201\n",
      "Epoch: 25 Loss: 1.576801005431584 Test Loss: 1.5504910187287764 data: 7840 train_acc 91.45408272743225 test_acc 92.25378632545471\n",
      "Epoch: 50 Loss: 1.5438574340878701 Test Loss: 1.5478150844573975 data: 7840 train_acc 93.18877458572388 test_acc 91.98863506317139\n",
      "Epoch: 75 Loss: 1.5340726857282678 Test Loss: 1.5410316857424649 data: 7840 train_acc 94.18367147445679 test_acc 92.84090399742126\n",
      "Epoch: 100 Loss: 1.5275900531788262 Test Loss: 1.532462315125899 data: 7840 train_acc 94.69387531280518 test_acc 92.8219735622406\n",
      "Epoch: 25 Loss: 1.5638447244167328 Test Loss: 1.551446795463562 data: 8000 train_acc 91.78749918937683 test_acc 93.12499761581421\n",
      "Epoch: 50 Loss: 1.5422275674343109 Test Loss: 1.5326519012451172 data: 8000 train_acc 93.68749856948853 test_acc 93.69317889213562\n",
      "Epoch: 75 Loss: 1.534333540916443 Test Loss: 1.5299018729816785 data: 8000 train_acc 94.0625011920929 test_acc 93.97726655006409\n",
      "Epoch: 100 Loss: 1.5273432564735412 Test Loss: 1.5285797335884788 data: 8000 train_acc 94.76249814033508 test_acc 93.40908527374268\n",
      "\n",
      "\n",
      "Run Number: 2\n",
      "Epoch: 25 Loss: 1.8806806325912475 Test Loss: 1.9620808146216653 data: 160 train_acc 71.24999761581421 test_acc 60.587120056152344\n",
      "Epoch: 50 Loss: 1.7114901065826416 Test Loss: 1.8938671892339534 data: 160 train_acc 83.74999761581421 test_acc 63.18181753158569\n",
      "Epoch: 75 Loss: 1.6589772343635558 Test Loss: 1.8685203248804265 data: 160 train_acc 86.87499761581421 test_acc 64.29924368858337\n",
      "Epoch: 100 Loss: 1.6303825378417969 Test Loss: 1.8499792164022273 data: 160 train_acc 88.12500238418579 test_acc 64.28030133247375\n",
      "Epoch: 25 Loss: 1.7302787899971008 Test Loss: 1.8717874722047285 data: 320 train_acc 80.62499761581421 test_acc 68.92045736312866\n",
      "Epoch: 50 Loss: 1.640241152048111 Test Loss: 1.8042589859528975 data: 320 train_acc 89.3750011920929 test_acc 70.32196521759033\n",
      "Epoch: 75 Loss: 1.602018541097641 Test Loss: 1.770748344334689 data: 320 train_acc 95.3125 test_acc 74.8674213886261\n",
      "Epoch: 100 Loss: 1.540881985425949 Test Loss: 1.7195154970342463 data: 320 train_acc 97.50000238418579 test_acc 79.41287755966187\n",
      "Epoch: 25 Loss: 1.8471270759900411 Test Loss: 1.8953120166605169 data: 480 train_acc 65.20833373069763 test_acc 59.99999642372131\n",
      "Epoch: 50 Loss: 1.651594336827596 Test Loss: 1.766809799454429 data: 480 train_acc 85.83333492279053 test_acc 76.55303478240967\n",
      "Epoch: 75 Loss: 1.5740546981493633 Test Loss: 1.7051052830436013 data: 480 train_acc 94.37500238418579 test_acc 80.24621605873108\n",
      "Epoch: 100 Loss: 1.550020980834961 Test Loss: 1.6548057035966353 data: 480 train_acc 95.6250011920929 test_acc 85.94696521759033\n",
      "Epoch: 25 Loss: 1.855156457424164 Test Loss: 1.9034743200648914 data: 640 train_acc 64.99999761581421 test_acc 60.624998807907104\n",
      "Epoch: 50 Loss: 1.6939474314451217 Test Loss: 1.746723706072027 data: 640 train_acc 81.5625011920929 test_acc 77.70833373069763\n",
      "Epoch: 75 Loss: 1.6642562747001648 Test Loss: 1.7186473499644885 data: 640 train_acc 83.43750238418579 test_acc 78.84469628334045\n",
      "Epoch: 100 Loss: 1.6454512268304824 Test Loss: 1.7042998292229392 data: 640 train_acc 84.6875011920929 test_acc 79.39394116401672\n",
      "Epoch: 25 Loss: 1.7231498169898987 Test Loss: 1.8093677759170532 data: 800 train_acc 80.75000047683716 test_acc 70.8143949508667\n",
      "Epoch: 50 Loss: 1.660523726940155 Test Loss: 1.7504563439976086 data: 800 train_acc 84.50000286102295 test_acc 75.09469985961914\n",
      "Epoch: 75 Loss: 1.633085117340088 Test Loss: 1.7376794489947232 data: 800 train_acc 86.75000071525574 test_acc 76.79924368858337\n",
      "Epoch: 100 Loss: 1.6175424361228943 Test Loss: 1.7149601849642666 data: 800 train_acc 87.00000047683716 test_acc 77.95454263687134\n",
      "Epoch: 25 Loss: 1.751208225886027 Test Loss: 1.840653809634122 data: 960 train_acc 74.58333373069763 test_acc 65.98484516143799\n",
      "Epoch: 50 Loss: 1.6600062410036722 Test Loss: 1.7606067765842786 data: 960 train_acc 84.0624988079071 test_acc 73.95833730697632\n",
      "Epoch: 75 Loss: 1.6328606565793355 Test Loss: 1.7459117065776477 data: 960 train_acc 86.2500011920929 test_acc 75.11363625526428\n",
      "Epoch: 100 Loss: 1.6154312829176585 Test Loss: 1.7299022241072222 data: 960 train_acc 87.8125011920929 test_acc 74.8106062412262\n",
      "Epoch: 25 Loss: 1.6746083293642318 Test Loss: 1.740172797983343 data: 1120 train_acc 83.1250011920929 test_acc 76.28787755966187\n",
      "Epoch: 50 Loss: 1.6378215517316546 Test Loss: 1.7043297507546165 data: 1120 train_acc 85.53571701049805 test_acc 77.14014649391174\n",
      "Epoch: 75 Loss: 1.6188874227660044 Test Loss: 1.7229323929006404 data: 1120 train_acc 86.60714030265808 test_acc 76.55303478240967\n",
      "Epoch: 100 Loss: 1.6076663443020411 Test Loss: 1.7025003866715864 data: 1120 train_acc 87.5 test_acc 76.83712244033813\n",
      "Epoch: 25 Loss: 1.750120261311531 Test Loss: 1.7837074995040894 data: 1280 train_acc 74.06250238418579 test_acc 69.10984516143799\n",
      "Epoch: 50 Loss: 1.7176358446478843 Test Loss: 1.7856273434378884 data: 1280 train_acc 77.10937261581421 test_acc 69.98105645179749\n",
      "Epoch: 75 Loss: 1.6260639116168023 Test Loss: 1.712559537454085 data: 1280 train_acc 86.6406261920929 test_acc 77.14014649391174\n",
      "Epoch: 100 Loss: 1.6110923394560814 Test Loss: 1.6921429308977993 data: 1280 train_acc 87.4218761920929 test_acc 78.27651500701904\n",
      "Epoch: 25 Loss: 1.7317073239220513 Test Loss: 1.7904023799029263 data: 1440 train_acc 76.11111402511597 test_acc 70.58712244033813\n",
      "Epoch: 50 Loss: 1.6457566539446513 Test Loss: 1.731264677914706 data: 1440 train_acc 83.81944298744202 test_acc 73.99621605873108\n",
      "Epoch: 75 Loss: 1.6280452953444586 Test Loss: 1.7078552137721668 data: 1440 train_acc 85.69444417953491 test_acc 77.70833373069763\n",
      "Epoch: 100 Loss: 1.616075947549608 Test Loss: 1.6953941041773015 data: 1440 train_acc 86.87499761581421 test_acc 78.56060266494751\n",
      "Epoch: 25 Loss: 1.680233873128891 Test Loss: 1.7430502609773115 data: 1600 train_acc 81.74999952316284 test_acc 76.26894116401672\n",
      "Epoch: 50 Loss: 1.640800688266754 Test Loss: 1.7044543786482378 data: 1600 train_acc 84.62499976158142 test_acc 77.97348499298096\n",
      "Epoch: 75 Loss: 1.6230746638774871 Test Loss: 1.7133627262982456 data: 1600 train_acc 86.2500011920929 test_acc 76.55303478240967\n",
      "Epoch: 100 Loss: 1.6140459883213043 Test Loss: 1.7051863561977039 data: 1600 train_acc 86.81250214576721 test_acc 76.57196521759033\n",
      "Epoch: 25 Loss: 1.6164844729683616 Test Loss: 1.6558072783730247 data: 1760 train_acc 88.6931836605072 test_acc 84.82954502105713\n",
      "Epoch: 50 Loss: 1.5774605285037648 Test Loss: 1.6654718138954856 data: 1760 train_acc 91.76136255264282 test_acc 82.84091353416443\n",
      "Epoch: 75 Loss: 1.5576576373793862 Test Loss: 1.6371808810667559 data: 1760 train_acc 93.0681824684143 test_acc 84.81060266494751\n",
      "Epoch: 100 Loss: 1.5447940598834644 Test Loss: 1.6256402297453447 data: 1760 train_acc 93.92045736312866 test_acc 84.81060266494751\n",
      "Epoch: 25 Loss: 1.6080334941546122 Test Loss: 1.6540863188830288 data: 1920 train_acc 89.84375 test_acc 83.39014649391174\n",
      "Epoch: 50 Loss: 1.5709745784600575 Test Loss: 1.648214264349504 data: 1920 train_acc 92.5000011920929 test_acc 84.26136374473572\n",
      "Epoch: 75 Loss: 1.5519510050614675 Test Loss: 1.6265346570448442 data: 1920 train_acc 93.80208253860474 test_acc 85.11363863945007\n",
      "Epoch: 100 Loss: 1.541656920313835 Test Loss: 1.6168019338087602 data: 1920 train_acc 94.37500238418579 test_acc 85.66287755966187\n",
      "Epoch: 25 Loss: 1.6703427204718957 Test Loss: 1.7163617285815151 data: 2080 train_acc 83.1250011920929 test_acc 77.42424011230469\n",
      "Epoch: 50 Loss: 1.6367113049213702 Test Loss: 1.6883730454878374 data: 2080 train_acc 84.95192527770996 test_acc 79.43181991577148\n",
      "Epoch: 75 Loss: 1.5605809055841886 Test Loss: 1.6207029819488525 data: 2080 train_acc 92.8365409374237 test_acc 85.70075631141663\n",
      "Epoch: 100 Loss: 1.5456558667696438 Test Loss: 1.597165660424666 data: 2080 train_acc 93.89423131942749 test_acc 87.95454502105713\n",
      "Epoch: 25 Loss: 1.7482379410948072 Test Loss: 1.747944636778398 data: 2240 train_acc 73.7500011920929 test_acc 73.39015603065491\n",
      "Epoch: 50 Loss: 1.5850827412945883 Test Loss: 1.6162299784747036 data: 2240 train_acc 92.05357432365417 test_acc 87.12120652198792\n"
     ]
    },
    {
     "name": "stdout",
     "output_type": "stream",
     "text": [
      "Epoch: 75 Loss: 1.5598952795778003 Test Loss: 1.6048586151816628 data: 2240 train_acc 92.99107193946838 test_acc 87.38636374473572\n",
      "Epoch: 100 Loss: 1.5463421838624136 Test Loss: 1.5830663334239612 data: 2240 train_acc 93.39285492897034 test_acc 89.39393758773804\n",
      "Epoch: 25 Loss: 1.6616523742675782 Test Loss: 1.6625971035523848 data: 2400 train_acc 83.24999809265137 test_acc 84.2424213886261\n",
      "Epoch: 50 Loss: 1.573967985312144 Test Loss: 1.615266507322138 data: 2400 train_acc 91.62499904632568 test_acc 87.40530014038086\n",
      "Epoch: 75 Loss: 1.5540438604354858 Test Loss: 1.5956938700242476 data: 2400 train_acc 92.166668176651 test_acc 89.65909481048584\n",
      "Epoch: 100 Loss: 1.543817215760549 Test Loss: 1.5978453917936846 data: 2400 train_acc 94.0833330154419 test_acc 87.12120652198792\n",
      "Epoch: 25 Loss: 1.6015451334416866 Test Loss: 1.6414799798618664 data: 2560 train_acc 90.85937738418579 test_acc 85.70075631141663\n",
      "Epoch: 50 Loss: 1.5676603727042675 Test Loss: 1.6178509322079746 data: 2560 train_acc 92.4609363079071 test_acc 87.6893937587738\n",
      "Epoch: 75 Loss: 1.552274589240551 Test Loss: 1.5888743834062056 data: 2560 train_acc 92.96875 test_acc 89.65909481048584\n",
      "Epoch: 100 Loss: 1.5432260282337666 Test Loss: 1.590654654936357 data: 2560 train_acc 93.12499761581421 test_acc 88.84469866752625\n",
      "Epoch: 25 Loss: 1.6060805664342992 Test Loss: 1.6609266888011585 data: 2720 train_acc 90.14706015586853 test_acc 85.39772629737854\n",
      "Epoch: 50 Loss: 1.5678575599894804 Test Loss: 1.603437835519964 data: 2720 train_acc 92.46323704719543 test_acc 88.54166269302368\n",
      "Epoch: 75 Loss: 1.5532665308784037 Test Loss: 1.6035990931771018 data: 2720 train_acc 93.45588088035583 test_acc 87.14015483856201\n",
      "Epoch: 100 Loss: 1.5415856375413783 Test Loss: 1.5875268415971235 data: 2720 train_acc 94.22793984413147 test_acc 89.39393758773804\n",
      "Epoch: 25 Loss: 1.6600689702563816 Test Loss: 1.6889367753809148 data: 2880 train_acc 82.77778029441833 test_acc 79.12878394126892\n",
      "Epoch: 50 Loss: 1.6334673510657416 Test Loss: 1.6770031235434792 data: 2880 train_acc 85.10416746139526 test_acc 79.41287755966187\n",
      "Epoch: 75 Loss: 1.6218125568495856 Test Loss: 1.679682027209889 data: 2880 train_acc 85.69444417953491 test_acc 78.82575988769531\n",
      "Epoch: 100 Loss: 1.613450109296375 Test Loss: 1.665111617608504 data: 2880 train_acc 86.59722208976746 test_acc 80.24621605873108\n",
      "Epoch: 25 Loss: 1.594158601133447 Test Loss: 1.6319755857641047 data: 3040 train_acc 90.26315808296204 test_acc 86.28787994384766\n",
      "Epoch: 50 Loss: 1.5629829620060167 Test Loss: 1.6035347418351606 data: 3040 train_acc 92.30263233184814 test_acc 87.97348141670227\n",
      "Epoch: 75 Loss: 1.5499263882637024 Test Loss: 1.585111607204784 data: 3040 train_acc 93.58552694320679 test_acc 89.3750011920929\n",
      "Epoch: 100 Loss: 1.5398901832731147 Test Loss: 1.5761802196502686 data: 3040 train_acc 94.6052610874176 test_acc 89.39393758773804\n",
      "Epoch: 25 Loss: 1.6684080189466477 Test Loss: 1.7330445701425725 data: 3200 train_acc 82.53124952316284 test_acc 75.09469985961914\n",
      "Epoch: 50 Loss: 1.6434250456094741 Test Loss: 1.6966008814898403 data: 3200 train_acc 84.12500023841858 test_acc 78.78788113594055\n",
      "Epoch: 75 Loss: 1.554694531559944 Test Loss: 1.5740897113626653 data: 3200 train_acc 93.40624809265137 test_acc 90.53030014038086\n",
      "Epoch: 100 Loss: 1.5411115896701812 Test Loss: 1.574992992661216 data: 3200 train_acc 93.84375214576721 test_acc 90.24620652198792\n",
      "Epoch: 25 Loss: 1.5934420080412002 Test Loss: 1.6381072889674793 data: 3360 train_acc 89.10714387893677 test_acc 84.82954502105713\n",
      "Epoch: 50 Loss: 1.5633998314539592 Test Loss: 1.5959841012954712 data: 3360 train_acc 92.97618865966797 test_acc 88.54166269302368\n",
      "Epoch: 75 Loss: 1.5481776424816676 Test Loss: 1.5756257880817761 data: 3360 train_acc 93.18452477455139 test_acc 89.9431824684143\n",
      "Epoch: 100 Loss: 1.539450572785877 Test Loss: 1.574507399038835 data: 3360 train_acc 94.46428418159485 test_acc 90.83333611488342\n",
      "Epoch: 25 Loss: 1.639512872695923 Test Loss: 1.6288666400042446 data: 3520 train_acc 85.99432110786438 test_acc 86.8181824684143\n",
      "Epoch: 50 Loss: 1.5624498291449114 Test Loss: 1.592752998525446 data: 3520 train_acc 92.04545617103577 test_acc 88.54166269302368\n",
      "Epoch: 75 Loss: 1.5485541663386606 Test Loss: 1.5848348249088635 data: 3520 train_acc 93.49431991577148 test_acc 87.97348141670227\n",
      "Epoch: 100 Loss: 1.5388533570549705 Test Loss: 1.5678129196166992 data: 3520 train_acc 94.46022510528564 test_acc 90.8143937587738\n",
      "Epoch: 25 Loss: 1.585582495254019 Test Loss: 1.6316930922594937 data: 3680 train_acc 90.5434787273407 test_acc 86.26893758773804\n",
      "Epoch: 50 Loss: 1.5585085874018463 Test Loss: 1.5881893743168225 data: 3680 train_acc 93.20651888847351 test_acc 89.6780252456665\n",
      "Epoch: 75 Loss: 1.5440496620924578 Test Loss: 1.583751385862177 data: 3680 train_acc 93.5597836971283 test_acc 89.3750011920929\n",
      "Epoch: 100 Loss: 1.5362443758093793 Test Loss: 1.5719835649837146 data: 3680 train_acc 94.40217614173889 test_acc 89.96211886405945\n",
      "Epoch: 25 Loss: 1.6740535070498785 Test Loss: 1.692501588301225 data: 3840 train_acc 81.5625011920929 test_acc 80.24621605873108\n",
      "Epoch: 50 Loss: 1.5658944264054298 Test Loss: 1.5889826579527422 data: 3840 train_acc 92.29166507720947 test_acc 88.80681991577148\n",
      "Epoch: 75 Loss: 1.5495143130421638 Test Loss: 1.5778048255226829 data: 3840 train_acc 93.2812511920929 test_acc 90.24620652198792\n",
      "Epoch: 100 Loss: 1.5398429517944654 Test Loss: 1.5784824111244895 data: 3840 train_acc 93.88020634651184 test_acc 89.9431824684143\n",
      "Epoch: 25 Loss: 1.6478862037658693 Test Loss: 1.687311660159718 data: 4000 train_acc 83.1250011920929 test_acc 79.41287755966187\n",
      "Epoch: 50 Loss: 1.62766637134552 Test Loss: 1.6591107845306396 data: 4000 train_acc 84.85000133514404 test_acc 80.54924011230469\n",
      "Epoch: 75 Loss: 1.616638792037964 Test Loss: 1.652817184274847 data: 4000 train_acc 85.69999933242798 test_acc 81.98863863945007\n",
      "Epoch: 100 Loss: 1.6108026247024536 Test Loss: 1.6500814177773215 data: 4000 train_acc 86.2999975681305 test_acc 81.66666626930237\n",
      "Epoch: 25 Loss: 1.5861204472871928 Test Loss: 1.6224759817123413 data: 4160 train_acc 89.66346383094788 test_acc 86.00378632545471\n",
      "Epoch: 50 Loss: 1.559124786578692 Test Loss: 1.5822356830943713 data: 4160 train_acc 92.3557698726654 test_acc 89.6780252456665\n",
      "Epoch: 75 Loss: 1.5460606056910295 Test Loss: 1.5722234140742908 data: 4160 train_acc 93.07692050933838 test_acc 90.51136374473572\n",
      "Epoch: 100 Loss: 1.5373573541641234 Test Loss: 1.5752459114248103 data: 4160 train_acc 94.01442408561707 test_acc 89.92424011230469\n",
      "Epoch: 25 Loss: 1.583422108049746 Test Loss: 1.6090078137137673 data: 4320 train_acc 90.94907641410828 test_acc 88.82575631141663\n",
      "Epoch: 50 Loss: 1.559206807171857 Test Loss: 1.5813339840282092 data: 4320 train_acc 92.31481552124023 test_acc 89.3750011920929\n",
      "Epoch: 75 Loss: 1.5460303615640711 Test Loss: 1.5704775723544033 data: 4320 train_acc 92.87037253379822 test_acc 90.24620652198792\n",
      "Epoch: 100 Loss: 1.5384905965239912 Test Loss: 1.5696769519285723 data: 4320 train_acc 93.86574029922485 test_acc 91.11742377281189\n",
      "Epoch: 25 Loss: 1.584816220828465 Test Loss: 1.6074159036983142 data: 4480 train_acc 89.99999761581421 test_acc 88.54166269302368\n",
      "Epoch: 50 Loss: 1.5593055733612606 Test Loss: 1.5829579071565107 data: 4480 train_acc 92.81250238418579 test_acc 88.25757503509521\n",
      "Epoch: 75 Loss: 1.546756283726011 Test Loss: 1.5795159123160623 data: 4480 train_acc 92.87946224212646 test_acc 89.3750011920929\n",
      "Epoch: 100 Loss: 1.5394949402127946 Test Loss: 1.564013741233132 data: 4480 train_acc 93.88392567634583 test_acc 91.11742377281189\n",
      "Epoch: 25 Loss: 1.5831640157206306 Test Loss: 1.6148521358316594 data: 4640 train_acc 89.71982598304749 test_acc 87.12120652198792\n",
      "Epoch: 50 Loss: 1.5579010720910698 Test Loss: 1.5778836553747004 data: 4640 train_acc 92.69396662712097 test_acc 90.24620652198792\n",
      "Epoch: 75 Loss: 1.5468426285118893 Test Loss: 1.581351713700728 data: 4640 train_acc 92.8017258644104 test_acc 89.39393758773804\n",
      "Epoch: 100 Loss: 1.5393305371547568 Test Loss: 1.5599514787847346 data: 4640 train_acc 94.13793087005615 test_acc 91.11742377281189\n",
      "Epoch: 25 Loss: 1.5855003345012664 Test Loss: 1.610604546286843 data: 4800 train_acc 90.87499976158142 test_acc 87.93560266494751\n"
     ]
    },
    {
     "name": "stdout",
     "output_type": "stream",
     "text": [
      "Epoch: 50 Loss: 1.5581636496384939 Test Loss: 1.581603548743508 data: 4800 train_acc 92.5208330154419 test_acc 88.80681991577148\n",
      "Epoch: 75 Loss: 1.5463798137505849 Test Loss: 1.5759447704661975 data: 4800 train_acc 93.31250190734863 test_acc 90.24620652198792\n",
      "Epoch: 100 Loss: 1.538298905690511 Test Loss: 1.5737100081010298 data: 4800 train_acc 93.50000023841858 test_acc 90.22727608680725\n",
      "Epoch: 25 Loss: 1.6676364233416896 Test Loss: 1.6775465336712925 data: 4960 train_acc 81.57258033752441 test_acc 80.24621605873108\n",
      "Epoch: 50 Loss: 1.5653540122893548 Test Loss: 1.595255819233981 data: 4960 train_acc 91.5725827217102 test_acc 87.95454502105713\n",
      "Epoch: 75 Loss: 1.5488367588289322 Test Loss: 1.5856066942214966 data: 4960 train_acc 93.34677457809448 test_acc 88.80681991577148\n",
      "Epoch: 100 Loss: 1.5391364389850248 Test Loss: 1.577186573635448 data: 4960 train_acc 93.60886812210083 test_acc 89.98106122016907\n",
      "Epoch: 25 Loss: 1.6745512917637826 Test Loss: 1.7188520539890637 data: 5120 train_acc 81.8359375 test_acc 77.65151858329773\n",
      "Epoch: 50 Loss: 1.5613355074077844 Test Loss: 1.5775624513626099 data: 5120 train_acc 91.66015386581421 test_acc 89.96211886405945\n",
      "Epoch: 75 Loss: 1.5463998198509217 Test Loss: 1.5678486715663562 data: 5120 train_acc 92.92968511581421 test_acc 90.83333611488342\n",
      "Epoch: 100 Loss: 1.5385063279420137 Test Loss: 1.572405750101263 data: 5120 train_acc 93.0468738079071 test_acc 89.4318163394928\n",
      "Epoch: 25 Loss: 1.5775654124491143 Test Loss: 1.5909850055521184 data: 5280 train_acc 90.45454263687134 test_acc 89.10984396934509\n",
      "Epoch: 50 Loss: 1.5549255631186745 Test Loss: 1.5653239488601685 data: 5280 train_acc 92.23484992980957 test_acc 91.36363863945007\n",
      "Epoch: 75 Loss: 1.5431270216450548 Test Loss: 1.5575007308613171 data: 5280 train_acc 93.59848499298096 test_acc 91.40151739120483\n",
      "Epoch: 100 Loss: 1.5352579525022796 Test Loss: 1.5613377094268799 data: 5280 train_acc 93.69317889213562 test_acc 91.36363863945007\n",
      "Epoch: 25 Loss: 1.5744947016239166 Test Loss: 1.5916708274321123 data: 5440 train_acc 91.01102948188782 test_acc 89.09091353416443\n",
      "Epoch: 50 Loss: 1.5524294912815093 Test Loss: 1.5579605969515713 data: 5440 train_acc 92.86764860153198 test_acc 91.96969866752625\n",
      "Epoch: 75 Loss: 1.5413163966992323 Test Loss: 1.566172177141363 data: 5440 train_acc 92.95955896377563 test_acc 90.54924249649048\n",
      "Epoch: 100 Loss: 1.533304025145138 Test Loss: 1.5616673556241123 data: 5440 train_acc 94.5036768913269 test_acc 91.07954502105713\n",
      "Epoch: 25 Loss: 1.643164531162807 Test Loss: 1.6604129834608599 data: 5600 train_acc 83.23214054107666 test_acc 80.85227608680725\n",
      "Epoch: 50 Loss: 1.6275850101879665 Test Loss: 1.6415304270657627 data: 5600 train_acc 84.589284658432 test_acc 83.40909481048584\n",
      "Epoch: 75 Loss: 1.6189588911192758 Test Loss: 1.6434739394621416 data: 5600 train_acc 85.28571724891663 test_acc 82.84091353416443\n",
      "Epoch: 100 Loss: 1.614286217689514 Test Loss: 1.6464401483535767 data: 5600 train_acc 85.39285659790039 test_acc 82.00757503509521\n",
      "Epoch: 25 Loss: 1.6478998866346148 Test Loss: 1.6688479835336858 data: 5760 train_acc 82.60416388511658 test_acc 80.83333373069763\n",
      "Epoch: 50 Loss: 1.6319681608014636 Test Loss: 1.6420985460281372 data: 5760 train_acc 84.01041626930237 test_acc 82.80303478240967\n",
      "Epoch: 75 Loss: 1.5479530957010057 Test Loss: 1.5795850645412097 data: 5760 train_acc 92.11805462837219 test_acc 89.98106122016907\n",
      "Epoch: 100 Loss: 1.538735227452384 Test Loss: 1.5501146424900403 data: 5760 train_acc 93.94097328186035 test_acc 91.6856050491333\n",
      "Epoch: 25 Loss: 1.5738201672966416 Test Loss: 1.5801603685725818 data: 5920 train_acc 91.36824607849121 test_acc 90.54924249649048\n",
      "Epoch: 50 Loss: 1.55078596198881 Test Loss: 1.5604487332430752 data: 5920 train_acc 92.4662172794342 test_acc 91.98863506317139\n",
      "Epoch: 75 Loss: 1.5398573601568066 Test Loss: 1.5624989162791858 data: 5920 train_acc 93.27702522277832 test_acc 91.96969866752625\n",
      "Epoch: 100 Loss: 1.533405658361074 Test Loss: 1.5568186153065076 data: 5920 train_acc 93.86824369430542 test_acc 91.38257503509521\n",
      "Epoch: 25 Loss: 1.6442989606606333 Test Loss: 1.6586110158400102 data: 6080 train_acc 83.2730233669281 test_acc 81.40151500701904\n",
      "Epoch: 50 Loss: 1.6264195172410263 Test Loss: 1.6416847597468982 data: 6080 train_acc 84.63816046714783 test_acc 81.68560266494751\n",
      "Epoch: 75 Loss: 1.6200191340948407 Test Loss: 1.642752549865029 data: 6080 train_acc 85.0822389125824 test_acc 82.25378394126892\n",
      "Epoch: 100 Loss: 1.6137408140458558 Test Loss: 1.6390621120279485 data: 6080 train_acc 85.19737124443054 test_acc 82.27272629737854\n",
      "Epoch: 25 Loss: 1.5707023748984703 Test Loss: 1.5810232704335994 data: 6240 train_acc 91.81089997291565 test_acc 90.51136374473572\n",
      "Epoch: 50 Loss: 1.549964396158854 Test Loss: 1.5655816143209285 data: 6240 train_acc 92.64423251152039 test_acc 91.09848141670227\n",
      "Epoch: 75 Loss: 1.5397025817479844 Test Loss: 1.5539950023997913 data: 6240 train_acc 93.79807710647583 test_acc 91.38257503509521\n",
      "Epoch: 100 Loss: 1.5334126295187533 Test Loss: 1.556337757544084 data: 6240 train_acc 93.7339723110199 test_acc 91.09848141670227\n",
      "Epoch: 25 Loss: 1.567235891520977 Test Loss: 1.5831298719752918 data: 6400 train_acc 91.37499928474426 test_acc 88.80681991577148\n",
      "Epoch: 50 Loss: 1.5481487110257148 Test Loss: 1.5630230903625488 data: 6400 train_acc 93.2812511920929 test_acc 91.96969866752625\n",
      "Epoch: 75 Loss: 1.5383967000246048 Test Loss: 1.5619497190822254 data: 6400 train_acc 94.03125047683716 test_acc 90.22727608680725\n",
      "Epoch: 100 Loss: 1.5306998378038406 Test Loss: 1.568236231803894 data: 6400 train_acc 94.54687237739563 test_acc 89.9431824684143\n",
      "Epoch: 25 Loss: 1.6389306007361994 Test Loss: 1.6421972079710527 data: 6560 train_acc 83.65853428840637 test_acc 83.1250011920929\n",
      "Epoch: 50 Loss: 1.624021156241254 Test Loss: 1.6461210575970737 data: 6560 train_acc 85.06097793579102 test_acc 82.25378394126892\n",
      "Epoch: 75 Loss: 1.6154371994297678 Test Loss: 1.6424713676626033 data: 6560 train_acc 85.67073345184326 test_acc 81.95075988769531\n",
      "Epoch: 100 Loss: 1.6111186388062269 Test Loss: 1.644936507398432 data: 6560 train_acc 86.18902564048767 test_acc 81.3825786113739\n",
      "Epoch: 25 Loss: 1.5678703112261636 Test Loss: 1.5601039257916538 data: 6720 train_acc 91.63690209388733 test_acc 92.53787994384766\n",
      "Epoch: 50 Loss: 1.5475405275821685 Test Loss: 1.5454592921517112 data: 6720 train_acc 93.03571581840515 test_acc 92.25378632545471\n",
      "Epoch: 75 Loss: 1.5379581332206727 Test Loss: 1.5422214703126387 data: 6720 train_acc 93.89880895614624 test_acc 91.96969866752625\n",
      "Epoch: 100 Loss: 1.5304611555167607 Test Loss: 1.547244581309232 data: 6720 train_acc 94.21131014823914 test_acc 92.25378632545471\n",
      "Epoch: 25 Loss: 1.5667358819828476 Test Loss: 1.5654547756368464 data: 6880 train_acc 91.38081669807434 test_acc 91.40151739120483\n",
      "Epoch: 50 Loss: 1.5468757296717444 Test Loss: 1.5446704842827537 data: 6880 train_acc 93.00872087478638 test_acc 91.42045378684998\n",
      "Epoch: 75 Loss: 1.5371954643449117 Test Loss: 1.5449392687190662 data: 6880 train_acc 93.50290894508362 test_acc 92.51893758773804\n",
      "Epoch: 100 Loss: 1.531343391606974 Test Loss: 1.5440916148099033 data: 6880 train_acc 94.54941749572754 test_acc 91.93181991577148\n",
      "Epoch: 25 Loss: 1.6373737327077171 Test Loss: 1.638257004997947 data: 7040 train_acc 84.0624988079071 test_acc 83.16287994384766\n",
      "Epoch: 50 Loss: 1.6215789141980084 Test Loss: 1.632223909551447 data: 7040 train_acc 85.22727489471436 test_acc 82.85984396934509\n",
      "Epoch: 75 Loss: 1.6151784111152996 Test Loss: 1.6333392750133167 data: 7040 train_acc 85.44034361839294 test_acc 82.85984396934509\n",
      "Epoch: 100 Loss: 1.61044219027866 Test Loss: 1.6303952498869463 data: 7040 train_acc 85.95170378684998 test_acc 83.14393758773804\n",
      "Epoch: 25 Loss: 1.5633837172720166 Test Loss: 1.5635283101688733 data: 7200 train_acc 91.48610830307007 test_acc 91.64772629737854\n",
      "Epoch: 50 Loss: 1.544844155576494 Test Loss: 1.5512933080846614 data: 7200 train_acc 92.88889169692993 test_acc 92.25378632545471\n",
      "Epoch: 75 Loss: 1.5349141086472404 Test Loss: 1.5507366548884998 data: 7200 train_acc 93.37499737739563 test_acc 91.6856050491333\n",
      "Epoch: 100 Loss: 1.5289457151624892 Test Loss: 1.5404641736637463 data: 7200 train_acc 94.41666603088379 test_acc 91.96969866752625\n"
     ]
    },
    {
     "name": "stdout",
     "output_type": "stream",
     "text": [
      "Epoch: 25 Loss: 1.5628434590671374 Test Loss: 1.5576463504271074 data: 7360 train_acc 91.9021725654602 test_acc 92.27272272109985\n",
      "Epoch: 50 Loss: 1.544587623813878 Test Loss: 1.5494764176282017 data: 7360 train_acc 93.5190200805664 test_acc 92.84090399742126\n",
      "Epoch: 75 Loss: 1.5344864371030227 Test Loss: 1.5323834744366733 data: 7360 train_acc 94.18478012084961 test_acc 93.99621486663818\n",
      "Epoch: 100 Loss: 1.5281826164411463 Test Loss: 1.5372219194065442 data: 7360 train_acc 94.68749761581421 test_acc 92.8219735622406\n",
      "Epoch: 25 Loss: 1.562840839142495 Test Loss: 1.5482170581817627 data: 7520 train_acc 91.59574508666992 test_acc 93.14393997192383\n",
      "Epoch: 50 Loss: 1.5441997822294844 Test Loss: 1.5396110686388882 data: 7520 train_acc 93.45744848251343 test_acc 93.12499761581421\n",
      "Epoch: 75 Loss: 1.5345831728996115 Test Loss: 1.538241364739158 data: 7520 train_acc 94.1356360912323 test_acc 93.40908527374268\n",
      "Epoch: 100 Loss: 1.5280246671209945 Test Loss: 1.532295053655451 data: 7520 train_acc 94.81382966041565 test_acc 93.99621486663818\n",
      "Epoch: 25 Loss: 1.5664150049289067 Test Loss: 1.5486136783253064 data: 7680 train_acc 92.01822876930237 test_acc 93.39015483856201\n",
      "Epoch: 50 Loss: 1.543703263749679 Test Loss: 1.5316143469376997 data: 7680 train_acc 93.85416507720947 test_acc 93.99621486663818\n",
      "Epoch: 75 Loss: 1.5337943995992342 Test Loss: 1.5328006094152278 data: 7680 train_acc 94.15364861488342 test_acc 93.14393997192383\n",
      "Epoch: 100 Loss: 1.5284278166790803 Test Loss: 1.5327348492362283 data: 7680 train_acc 94.03645992279053 test_acc 93.44696402549744\n",
      "Epoch: 25 Loss: 1.5603618385840436 Test Loss: 1.5493507385253906 data: 7840 train_acc 92.05357432365417 test_acc 92.27272272109985\n",
      "Epoch: 50 Loss: 1.541319990158081 Test Loss: 1.536240122535012 data: 7840 train_acc 93.57143044471741 test_acc 92.59469509124756\n",
      "Epoch: 75 Loss: 1.5322810399289033 Test Loss: 1.5377323627471924 data: 7840 train_acc 94.0051019191742 test_acc 93.12499761581421\n",
      "Epoch: 100 Loss: 1.5266342420967258 Test Loss: 1.5317261977629228 data: 7840 train_acc 94.98724341392517 test_acc 93.42803359031677\n",
      "Epoch: 25 Loss: 1.6354499671459197 Test Loss: 1.6261846585707231 data: 8000 train_acc 83.98749828338623 test_acc 84.28030014038086\n",
      "Epoch: 50 Loss: 1.6205069079399108 Test Loss: 1.622071699662642 data: 8000 train_acc 85.39999723434448 test_acc 83.73106122016907\n",
      "Epoch: 75 Loss: 1.6135959212779998 Test Loss: 1.6198591210625388 data: 8000 train_acc 85.68750023841858 test_acc 84.01515483856201\n",
      "Epoch: 100 Loss: 1.6091790153980254 Test Loss: 1.6205580668015913 data: 8000 train_acc 86.02499961853027 test_acc 83.4280252456665\n",
      "\n",
      "\n",
      "Run Number: 3\n",
      "Epoch: 25 Loss: 1.9734820008277894 Test Loss: 2.0790084058588203 data: 160 train_acc 53.125 test_acc 40.54924249649048\n",
      "Epoch: 50 Loss: 1.8309307932853698 Test Loss: 1.973571398041465 data: 160 train_acc 68.75 test_acc 53.409093618392944\n",
      "Epoch: 75 Loss: 1.8041438698768615 Test Loss: 1.954903244972229 data: 160 train_acc 69.37500238418579 test_acc 53.125\n",
      "Epoch: 100 Loss: 1.7867031335830688 Test Loss: 1.9477646567604758 data: 160 train_acc 70.6250011920929 test_acc 53.977274894714355\n",
      "Epoch: 25 Loss: 1.894485992193222 Test Loss: 1.993657198819247 data: 320 train_acc 61.250001192092896 test_acc 50.852274894714355\n",
      "Epoch: 50 Loss: 1.783077222108841 Test Loss: 1.8585534529252485 data: 320 train_acc 74.37499761581421 test_acc 65.71969389915466\n",
      "Epoch: 75 Loss: 1.664732241630554 Test Loss: 1.802295207977295 data: 320 train_acc 84.0624988079071 test_acc 71.13636136054993\n",
      "Epoch: 100 Loss: 1.6244226217269897 Test Loss: 1.7570071003653787 data: 320 train_acc 87.8125011920929 test_acc 75.41666626930237\n",
      "Epoch: 25 Loss: 1.7089945872624714 Test Loss: 1.8149155486713757 data: 480 train_acc 83.33333134651184 test_acc 68.57954263687134\n",
      "Epoch: 50 Loss: 1.646916937828064 Test Loss: 1.7486012740568682 data: 480 train_acc 87.29166388511658 test_acc 77.14014649391174\n",
      "Epoch: 75 Loss: 1.6179665684700013 Test Loss: 1.7323193658481946 data: 480 train_acc 88.12500238418579 test_acc 78.2575786113739\n",
      "Epoch: 100 Loss: 1.600212776660919 Test Loss: 1.7265009013089267 data: 480 train_acc 89.58333134651184 test_acc 78.23863625526428\n",
      "Epoch: 25 Loss: 1.8625613421201705 Test Loss: 1.9183403253555298 data: 640 train_acc 64.99999761581421 test_acc 56.534093618392944\n",
      "Epoch: 50 Loss: 1.7615975260734558 Test Loss: 1.826762784611095 data: 640 train_acc 74.21875 test_acc 68.25757622718811\n",
      "Epoch: 75 Loss: 1.7365993291139603 Test Loss: 1.816593126817183 data: 640 train_acc 74.84375238418579 test_acc 69.37499642372131\n",
      "Epoch: 100 Loss: 1.6553098499774932 Test Loss: 1.7043225440112026 data: 640 train_acc 83.1250011920929 test_acc 79.41287755966187\n",
      "Epoch: 25 Loss: 1.6997097897529603 Test Loss: 1.74165479703383 data: 800 train_acc 80.62499761581421 test_acc 77.10227370262146\n",
      "Epoch: 50 Loss: 1.6570389485359192 Test Loss: 1.6785979270935059 data: 800 train_acc 85.00000238418579 test_acc 82.25378394126892\n",
      "Epoch: 75 Loss: 1.5796351075172423 Test Loss: 1.6425264098427512 data: 800 train_acc 93.62499713897705 test_acc 86.8181824684143\n",
      "Epoch: 100 Loss: 1.5527443408966064 Test Loss: 1.642943187193437 data: 800 train_acc 94.74999904632568 test_acc 85.39772629737854\n",
      "Epoch: 25 Loss: 1.6924622337023416 Test Loss: 1.7500952373851428 data: 960 train_acc 81.04166388511658 test_acc 75.1325786113739\n",
      "Epoch: 50 Loss: 1.6469851394494375 Test Loss: 1.7095992456782947 data: 960 train_acc 84.375 test_acc 78.27651500701904\n",
      "Epoch: 75 Loss: 1.624937085310618 Test Loss: 1.6782326264814897 data: 960 train_acc 86.14583611488342 test_acc 81.09848499298096\n",
      "Epoch: 100 Loss: 1.6123360435167948 Test Loss: 1.6689758951013738 data: 960 train_acc 86.97916865348816 test_acc 81.09848499298096\n",
      "Epoch: 25 Loss: 1.6536963667188371 Test Loss: 1.7275460850108753 data: 1120 train_acc 89.28571343421936 test_acc 79.69696521759033\n",
      "Epoch: 50 Loss: 1.5803321480751038 Test Loss: 1.6647054498845881 data: 1120 train_acc 90.625 test_acc 84.26136374473572\n",
      "Epoch: 75 Loss: 1.5530024307114738 Test Loss: 1.6499042077498003 data: 1120 train_acc 94.19642686843872 test_acc 83.67424011230469\n",
      "Epoch: 100 Loss: 1.5374866655894688 Test Loss: 1.6440337137742476 data: 1120 train_acc 94.73214149475098 test_acc 84.2424213886261\n",
      "Epoch: 25 Loss: 1.6254394382238389 Test Loss: 1.6841782764955 data: 1280 train_acc 90.1562511920929 test_acc 80.83333373069763\n",
      "Epoch: 50 Loss: 1.5795782834291459 Test Loss: 1.6504460464824329 data: 1280 train_acc 92.5000011920929 test_acc 84.26136374473572\n",
      "Epoch: 75 Loss: 1.5549918472766877 Test Loss: 1.6466243917291814 data: 1280 train_acc 93.75 test_acc 83.97727608680725\n",
      "Epoch: 100 Loss: 1.5401937544345856 Test Loss: 1.6409995664249768 data: 1280 train_acc 94.8437511920929 test_acc 84.26136374473572\n",
      "Epoch: 25 Loss: 1.6765587912665474 Test Loss: 1.7156397862867876 data: 1440 train_acc 82.63888955116272 test_acc 80.3030252456665\n",
      "Epoch: 50 Loss: 1.5833669688966538 Test Loss: 1.6618951233950527 data: 1440 train_acc 91.66666865348816 test_acc 82.82196521759033\n",
      "Epoch: 75 Loss: 1.5583496570587159 Test Loss: 1.6389394348317927 data: 1440 train_acc 93.33333373069763 test_acc 85.07575988769531\n",
      "Epoch: 100 Loss: 1.5448080354266696 Test Loss: 1.6339855519208042 data: 1440 train_acc 94.51388716697693 test_acc 85.68181991577148\n",
      "Epoch: 25 Loss: 1.626011198759079 Test Loss: 1.6763146790591152 data: 1600 train_acc 88.93749713897705 test_acc 81.70454502105713\n",
      "Epoch: 50 Loss: 1.577405695915222 Test Loss: 1.6470680128444324 data: 1600 train_acc 92.43749976158142 test_acc 84.54545736312866\n",
      "Epoch: 75 Loss: 1.555728623867035 Test Loss: 1.6558271321383389 data: 1600 train_acc 93.62499713897705 test_acc 83.08712244033813\n",
      "Epoch: 100 Loss: 1.5426694560050964 Test Loss: 1.6374070969494907 data: 1600 train_acc 94.37500238418579 test_acc 84.52651500701904\n",
      "Epoch: 25 Loss: 1.733015034415505 Test Loss: 1.7378537113016301 data: 1760 train_acc 75.17045736312866 test_acc 75.1325786113739\n",
      "Epoch: 50 Loss: 1.7066074815663423 Test Loss: 1.7389517263932661 data: 1760 train_acc 77.32954621315002 test_acc 73.10606241226196\n",
      "Epoch: 75 Loss: 1.694607390056957 Test Loss: 1.728039557283575 data: 1760 train_acc 78.23863625526428 test_acc 74.84848499298096\n",
      "Epoch: 100 Loss: 1.6876410419290715 Test Loss: 1.71908269145272 data: 1760 train_acc 78.40909361839294 test_acc 74.84848499298096\n"
     ]
    },
    {
     "name": "stdout",
     "output_type": "stream",
     "text": [
      "Epoch: 25 Loss: 1.6105259547630946 Test Loss: 1.6675286293029785 data: 1920 train_acc 90.1562511920929 test_acc 81.98863863945007\n",
      "Epoch: 50 Loss: 1.5723613311847051 Test Loss: 1.6305826360529119 data: 1920 train_acc 92.60416626930237 test_acc 85.11363863945007\n",
      "Epoch: 75 Loss: 1.553572095433871 Test Loss: 1.623516776344993 data: 1920 train_acc 93.4374988079071 test_acc 85.96591353416443\n",
      "Epoch: 100 Loss: 1.543388259410858 Test Loss: 1.626379977573048 data: 1920 train_acc 94.11458373069763 test_acc 85.11363863945007\n",
      "Epoch: 25 Loss: 1.6726605883011452 Test Loss: 1.7061133818192915 data: 2080 train_acc 81.63461685180664 test_acc 78.27651500701904\n",
      "Epoch: 50 Loss: 1.638184363108415 Test Loss: 1.6926462867043235 data: 2080 train_acc 84.375 test_acc 78.56060266494751\n",
      "Epoch: 75 Loss: 1.622032476388491 Test Loss: 1.6936801888725974 data: 2080 train_acc 85.67307591438293 test_acc 77.68939733505249\n",
      "Epoch: 100 Loss: 1.6149106172414927 Test Loss: 1.690192168409174 data: 2080 train_acc 86.73076629638672 test_acc 78.27651500701904\n",
      "Epoch: 25 Loss: 1.740554735490254 Test Loss: 1.7531665455211292 data: 2240 train_acc 75.04464387893677 test_acc 73.37121367454529\n",
      "Epoch: 50 Loss: 1.651033283982958 Test Loss: 1.7297663363543423 data: 2240 train_acc 84.01785492897034 test_acc 73.95833730697632\n",
      "Epoch: 75 Loss: 1.5666928393500192 Test Loss: 1.608050519769842 data: 2240 train_acc 91.91964268684387 test_acc 87.6893937587738\n",
      "Epoch: 100 Loss: 1.5482751761163984 Test Loss: 1.5950645316730847 data: 2240 train_acc 93.70535612106323 test_acc 88.82575631141663\n",
      "Epoch: 25 Loss: 1.6158728019396464 Test Loss: 1.6623301939530806 data: 2400 train_acc 89.20833468437195 test_acc 84.28030014038086\n",
      "Epoch: 50 Loss: 1.573093249797821 Test Loss: 1.626104105602611 data: 2400 train_acc 92.08333492279053 test_acc 85.98484396934509\n",
      "Epoch: 75 Loss: 1.555585079987844 Test Loss: 1.59858699278398 data: 2400 train_acc 93.62499713897705 test_acc 88.25757503509521\n",
      "Epoch: 100 Loss: 1.5441603088378906 Test Loss: 1.5917550325393677 data: 2400 train_acc 94.12500262260437 test_acc 87.6893937587738\n",
      "Epoch: 25 Loss: 1.6599648125469684 Test Loss: 1.6632443774830212 data: 2560 train_acc 83.1250011920929 test_acc 82.82196521759033\n",
      "Epoch: 50 Loss: 1.5772889047861098 Test Loss: 1.6096492680636318 data: 2560 train_acc 90.78124761581421 test_acc 87.67045736312866\n",
      "Epoch: 75 Loss: 1.55740647315979 Test Loss: 1.6071890592575073 data: 2560 train_acc 92.6953136920929 test_acc 87.12120652198792\n",
      "Epoch: 100 Loss: 1.5457027390599252 Test Loss: 1.5795828754251653 data: 2560 train_acc 93.9453125 test_acc 90.24620652198792\n",
      "Epoch: 25 Loss: 1.6593211812131545 Test Loss: 1.7071277878501199 data: 2720 train_acc 83.16176533699036 test_acc 78.01136374473572\n",
      "Epoch: 50 Loss: 1.5753180510857525 Test Loss: 1.6298900734294544 data: 2720 train_acc 91.94852709770203 test_acc 85.96591353416443\n",
      "Epoch: 75 Loss: 1.5563768555136288 Test Loss: 1.5917074246840044 data: 2720 train_acc 93.60294342041016 test_acc 89.09091353416443\n",
      "Epoch: 100 Loss: 1.5429170952123754 Test Loss: 1.590044379234314 data: 2720 train_acc 93.9338207244873 test_acc 88.52272629737854\n",
      "Epoch: 25 Loss: 1.5958923002084096 Test Loss: 1.6228393424641003 data: 2880 train_acc 89.82638716697693 test_acc 87.40530014038086\n",
      "Epoch: 50 Loss: 1.5650850931803386 Test Loss: 1.6065289432352239 data: 2880 train_acc 91.90972447395325 test_acc 87.97348141670227\n",
      "Epoch: 75 Loss: 1.5493747141626146 Test Loss: 1.5848426818847656 data: 2880 train_acc 93.26388835906982 test_acc 89.9431824684143\n",
      "Epoch: 100 Loss: 1.540906000799603 Test Loss: 1.5911372249776667 data: 2880 train_acc 94.34027671813965 test_acc 88.54166269302368\n",
      "Epoch: 25 Loss: 1.7332877265779596 Test Loss: 1.7316812060096047 data: 3040 train_acc 79.11184430122375 test_acc 76.26894116401672\n",
      "Epoch: 50 Loss: 1.584752713379107 Test Loss: 1.6001503250815652 data: 3040 train_acc 91.05263352394104 test_acc 89.65909481048584\n",
      "Epoch: 75 Loss: 1.5543420540659052 Test Loss: 1.5899877223101528 data: 3040 train_acc 93.05921196937561 test_acc 89.3750011920929\n",
      "Epoch: 100 Loss: 1.5419106728152225 Test Loss: 1.5810408808968284 data: 3040 train_acc 94.17763352394104 test_acc 90.22727608680725\n",
      "Epoch: 25 Loss: 1.5915399640798569 Test Loss: 1.6187873970378528 data: 3200 train_acc 90.59374928474426 test_acc 87.40530014038086\n",
      "Epoch: 50 Loss: 1.5629174721240997 Test Loss: 1.597685152834112 data: 3200 train_acc 92.62499809265137 test_acc 87.70833611488342\n",
      "Epoch: 75 Loss: 1.5483989375829696 Test Loss: 1.5815913677215576 data: 3200 train_acc 93.68749856948853 test_acc 89.6780252456665\n",
      "Epoch: 100 Loss: 1.5401278817653656 Test Loss: 1.5859403935345737 data: 3200 train_acc 93.68749856948853 test_acc 89.3750011920929\n",
      "Epoch: 25 Loss: 1.6494191300301324 Test Loss: 1.6897411129691384 data: 3360 train_acc 83.1845223903656 test_acc 78.56060266494751\n",
      "Epoch: 50 Loss: 1.627429727713267 Test Loss: 1.657797553322532 data: 3360 train_acc 85.26785969734192 test_acc 81.42045736312866\n",
      "Epoch: 75 Loss: 1.615925575438 Test Loss: 1.6550838297063655 data: 3360 train_acc 86.10119223594666 test_acc 81.13636374473572\n",
      "Epoch: 100 Loss: 1.6092818913005646 Test Loss: 1.644738045605746 data: 3360 train_acc 86.42857074737549 test_acc 82.55681991577148\n",
      "Epoch: 25 Loss: 1.8072443301027472 Test Loss: 1.8704239455136387 data: 3520 train_acc 66.8749988079071 test_acc 59.39393639564514\n",
      "Epoch: 50 Loss: 1.792497807741165 Test Loss: 1.852920868180015 data: 3520 train_acc 67.78408885002136 test_acc 61.38257384300232\n",
      "Epoch: 75 Loss: 1.7837957165457985 Test Loss: 1.8468454751101406 data: 3520 train_acc 68.40909123420715 test_acc 62.253785133361816\n",
      "Epoch: 100 Loss: 1.6273373332890597 Test Loss: 1.6893284537575461 data: 3520 train_acc 84.43182110786438 test_acc 77.72727608680725\n",
      "Epoch: 25 Loss: 1.6448098711345507 Test Loss: 1.6679361083290793 data: 3680 train_acc 83.83151888847351 test_acc 80.54924011230469\n",
      "Epoch: 50 Loss: 1.6257830609445987 Test Loss: 1.6625973853197964 data: 3680 train_acc 85.2445662021637 test_acc 80.5681824684143\n",
      "Epoch: 75 Loss: 1.6133287813352502 Test Loss: 1.6519671245054766 data: 3680 train_acc 86.277174949646 test_acc 81.68560266494751\n",
      "Epoch: 100 Loss: 1.6058964900348498 Test Loss: 1.6502661921761252 data: 3680 train_acc 86.6032600402832 test_acc 81.09848499298096\n",
      "Epoch: 25 Loss: 1.586435927450657 Test Loss: 1.6118196249008179 data: 3840 train_acc 90.234375 test_acc 86.8181824684143\n",
      "Epoch: 50 Loss: 1.5602083389957746 Test Loss: 1.6152525706724687 data: 3840 train_acc 91.84895753860474 test_acc 87.12120652198792\n",
      "Epoch: 75 Loss: 1.5471001083652178 Test Loss: 1.586005362597379 data: 3840 train_acc 93.4374988079071 test_acc 89.3750011920929\n",
      "Epoch: 100 Loss: 1.5389665683110556 Test Loss: 1.5727413459257646 data: 3840 train_acc 94.140625 test_acc 90.79545736312866\n",
      "Epoch: 25 Loss: 1.5900181198120118 Test Loss: 1.6171975894407793 data: 4000 train_acc 90.54999947547913 test_acc 87.10227608680725\n",
      "Epoch: 50 Loss: 1.5610840001106263 Test Loss: 1.5874214172363281 data: 4000 train_acc 92.42500066757202 test_acc 90.24620652198792\n",
      "Epoch: 75 Loss: 1.5468044810295105 Test Loss: 1.5758114944804797 data: 4000 train_acc 93.7749981880188 test_acc 90.8143937587738\n",
      "Epoch: 100 Loss: 1.537283190727234 Test Loss: 1.5916002555326982 data: 4000 train_acc 93.52499842643738 test_acc 88.52272629737854\n",
      "Epoch: 25 Loss: 1.7299454684440907 Test Loss: 1.7862652973695234 data: 4160 train_acc 74.85576868057251 test_acc 69.10984516143799\n",
      "Epoch: 50 Loss: 1.6769511007345639 Test Loss: 1.7002235759388318 data: 4160 train_acc 81.94711804389954 test_acc 79.12878394126892\n",
      "Epoch: 75 Loss: 1.6210962561460642 Test Loss: 1.6536328359083696 data: 4160 train_acc 85.43269038200378 test_acc 81.42045736312866\n",
      "Epoch: 100 Loss: 1.612958144224607 Test Loss: 1.6551816571842541 data: 4160 train_acc 85.96153855323792 test_acc 79.96212244033813\n",
      "Epoch: 25 Loss: 1.735934321085612 Test Loss: 1.7794724811207165 data: 4320 train_acc 74.74536895751953 test_acc 69.98105645179749\n",
      "Epoch: 50 Loss: 1.7165675172099362 Test Loss: 1.7608487497676502 data: 4320 train_acc 75.94907283782959 test_acc 71.09848260879517\n",
      "Epoch: 75 Loss: 1.7076497382587856 Test Loss: 1.7509729211980647 data: 4320 train_acc 76.45833492279053 test_acc 71.66666388511658\n",
      "Epoch: 100 Loss: 1.62064442369673 Test Loss: 1.66194748878479 data: 4320 train_acc 85.00000238418579 test_acc 80.5681824684143\n"
     ]
    },
    {
     "name": "stdout",
     "output_type": "stream",
     "text": [
      "Epoch: 25 Loss: 1.6553975701332093 Test Loss: 1.682466138492931 data: 4480 train_acc 82.63393044471741 test_acc 79.69696521759033\n",
      "Epoch: 50 Loss: 1.6334217416388648 Test Loss: 1.6569972146641125 data: 4480 train_acc 84.46428775787354 test_acc 80.83333373069763\n",
      "Epoch: 75 Loss: 1.6229748210736683 Test Loss: 1.6440210234035144 data: 4480 train_acc 84.82142686843872 test_acc 83.6931824684143\n",
      "Epoch: 100 Loss: 1.6165113419294357 Test Loss: 1.6488747054880315 data: 4480 train_acc 85.44642925262451 test_acc 81.70454502105713\n",
      "Epoch: 25 Loss: 1.6452770512679527 Test Loss: 1.651317531412298 data: 4640 train_acc 83.29741358757019 test_acc 82.51894116401672\n",
      "Epoch: 50 Loss: 1.5625542447484773 Test Loss: 1.583331043070013 data: 4640 train_acc 92.60776042938232 test_acc 89.10984396934509\n",
      "Epoch: 75 Loss: 1.5486135273144164 Test Loss: 1.5735180486332287 data: 4640 train_acc 93.40517520904541 test_acc 90.53030014038086\n",
      "Epoch: 100 Loss: 1.539247533781775 Test Loss: 1.564588340845975 data: 4640 train_acc 94.46120858192444 test_acc 91.11742377281189\n",
      "Epoch: 25 Loss: 1.5807784259319306 Test Loss: 1.6068250374360518 data: 4800 train_acc 90.9583330154419 test_acc 87.95454502105713\n",
      "Epoch: 50 Loss: 1.5567409447828928 Test Loss: 1.5848633376034824 data: 4800 train_acc 92.43749976158142 test_acc 89.3750011920929\n",
      "Epoch: 75 Loss: 1.5457079124450683 Test Loss: 1.5673902143131604 data: 4800 train_acc 93.4583306312561 test_acc 91.09848141670227\n",
      "Epoch: 100 Loss: 1.537979195912679 Test Loss: 1.5704843997955322 data: 4800 train_acc 93.52083206176758 test_acc 90.83333611488342\n",
      "Epoch: 25 Loss: 1.5784016128509275 Test Loss: 1.6013250676068393 data: 4960 train_acc 90.64516425132751 test_acc 89.3750011920929\n",
      "Epoch: 50 Loss: 1.5567191823836295 Test Loss: 1.5794433897191829 data: 4960 train_acc 92.8024172782898 test_acc 90.28408527374268\n",
      "Epoch: 75 Loss: 1.5449753888191715 Test Loss: 1.5870628140189431 data: 4960 train_acc 92.47983694076538 test_acc 89.12878632545471\n",
      "Epoch: 100 Loss: 1.5366809818052476 Test Loss: 1.57571402463046 data: 4960 train_acc 94.17338967323303 test_acc 89.39393758773804\n",
      "Epoch: 25 Loss: 1.7334907919168472 Test Loss: 1.7777324698188088 data: 5120 train_acc 74.1015613079071 test_acc 69.65909004211426\n",
      "Epoch: 50 Loss: 1.6422020640224217 Test Loss: 1.6728184548291294 data: 5120 train_acc 83.5156261920929 test_acc 80.53030371665955\n",
      "Epoch: 75 Loss: 1.5479402620345355 Test Loss: 1.5695370869203047 data: 5120 train_acc 93.32031011581421 test_acc 91.13636016845703\n",
      "Epoch: 100 Loss: 1.5397842898964882 Test Loss: 1.563511068170721 data: 5120 train_acc 93.78906488418579 test_acc 91.42045378684998\n",
      "Epoch: 25 Loss: 1.5780300967621081 Test Loss: 1.604720581661571 data: 5280 train_acc 90.51136374473572 test_acc 89.39393758773804\n",
      "Epoch: 50 Loss: 1.55529653375799 Test Loss: 1.567023667422208 data: 5280 train_acc 92.23484992980957 test_acc 91.09848141670227\n",
      "Epoch: 75 Loss: 1.5431916460846409 Test Loss: 1.5590862902727993 data: 5280 train_acc 93.50378513336182 test_acc 90.8143937587738\n",
      "Epoch: 100 Loss: 1.5362296104431152 Test Loss: 1.5555540973489934 data: 5280 train_acc 93.80682110786438 test_acc 91.40151739120483\n",
      "Epoch: 25 Loss: 1.650982857802335 Test Loss: 1.657990032976324 data: 5440 train_acc 82.95955657958984 test_acc 80.83333373069763\n",
      "Epoch: 50 Loss: 1.6320609874585095 Test Loss: 1.643618572841991 data: 5440 train_acc 84.30147171020508 test_acc 82.25378394126892\n",
      "Epoch: 75 Loss: 1.6215170250219457 Test Loss: 1.649700240655379 data: 5440 train_acc 84.81617569923401 test_acc 81.1174213886261\n",
      "Epoch: 100 Loss: 1.540479536968119 Test Loss: 1.5627053434198552 data: 5440 train_acc 93.08823347091675 test_acc 90.51136374473572\n",
      "Epoch: 25 Loss: 1.5710327822821482 Test Loss: 1.5714449449019 data: 5600 train_acc 90.410715341568 test_acc 91.38257503509521\n",
      "Epoch: 50 Loss: 1.5496855425834655 Test Loss: 1.5631313432346692 data: 5600 train_acc 92.55357384681702 test_acc 91.09848141670227\n",
      "Epoch: 75 Loss: 1.5390275958606174 Test Loss: 1.5671508312225342 data: 5600 train_acc 93.69642734527588 test_acc 90.53030014038086\n",
      "Epoch: 100 Loss: 1.5319987075669426 Test Loss: 1.5581847429275513 data: 5600 train_acc 93.87500286102295 test_acc 90.51136374473572\n",
      "Epoch: 25 Loss: 1.6460212184323204 Test Loss: 1.6527512832121416 data: 5760 train_acc 83.64583253860474 test_acc 81.98863863945007\n",
      "Epoch: 50 Loss: 1.6282901058594386 Test Loss: 1.6479176391254773 data: 5760 train_acc 84.375 test_acc 81.40151500701904\n",
      "Epoch: 75 Loss: 1.6204331086741552 Test Loss: 1.6404589739712803 data: 5760 train_acc 85.06944179534912 test_acc 82.55681991577148\n",
      "Epoch: 100 Loss: 1.6137781815396415 Test Loss: 1.641575043851679 data: 5760 train_acc 85.71180701255798 test_acc 81.70454502105713\n",
      "Epoch: 25 Loss: 1.645004439353943 Test Loss: 1.6581790013746782 data: 5920 train_acc 83.41216444969177 test_acc 81.72348141670227\n",
      "Epoch: 50 Loss: 1.6278875247852223 Test Loss: 1.6529867974194614 data: 5920 train_acc 84.1891884803772 test_acc 82.57575631141663\n",
      "Epoch: 75 Loss: 1.6197098342148033 Test Loss: 1.6435746496373957 data: 5920 train_acc 84.84797477722168 test_acc 81.98863863945007\n",
      "Epoch: 100 Loss: 1.615226221406782 Test Loss: 1.635910846970298 data: 5920 train_acc 85.59121489524841 test_acc 82.55681991577148\n",
      "Epoch: 25 Loss: 1.5731633158106553 Test Loss: 1.5735525651411577 data: 6080 train_acc 90.37829041481018 test_acc 91.09848141670227\n",
      "Epoch: 50 Loss: 1.5499503753687207 Test Loss: 1.5646566369316794 data: 6080 train_acc 92.61513352394104 test_acc 90.79545736312866\n",
      "Epoch: 75 Loss: 1.5400137681710093 Test Loss: 1.5560319965535945 data: 6080 train_acc 93.14144849777222 test_acc 91.70454144477844\n",
      "Epoch: 100 Loss: 1.5326274912608298 Test Loss: 1.5752177455208518 data: 6080 train_acc 94.04605031013489 test_acc 88.52272629737854\n",
      "Epoch: 25 Loss: 1.6488190183272728 Test Loss: 1.662603118202903 data: 6240 train_acc 83.47756266593933 test_acc 80.85227608680725\n",
      "Epoch: 50 Loss: 1.6274773169786503 Test Loss: 1.6353896856307983 data: 6240 train_acc 84.21474099159241 test_acc 83.40909481048584\n",
      "Epoch: 75 Loss: 1.6185052330677325 Test Loss: 1.6399621855128894 data: 6240 train_acc 85.22436022758484 test_acc 81.68560266494751\n",
      "Epoch: 100 Loss: 1.613755131379152 Test Loss: 1.6377629800276323 data: 6240 train_acc 85.7692301273346 test_acc 81.96969628334045\n",
      "Epoch: 25 Loss: 1.7230586051940917 Test Loss: 1.7556373856284402 data: 6400 train_acc 74.96874928474426 test_acc 71.09848260879517\n",
      "Epoch: 50 Loss: 1.6369622188806534 Test Loss: 1.660920587452975 data: 6400 train_acc 84.03124809265137 test_acc 81.09848499298096\n",
      "Epoch: 75 Loss: 1.5415819823741912 Test Loss: 1.5653440952301025 data: 6400 train_acc 94.01562213897705 test_acc 90.22727608680725\n",
      "Epoch: 100 Loss: 1.5339921036362647 Test Loss: 1.563475782221014 data: 6400 train_acc 93.98437738418579 test_acc 89.96211886405945\n",
      "Epoch: 25 Loss: 1.616206821871967 Test Loss: 1.5923858664252541 data: 6560 train_acc 90.25914669036865 test_acc 89.41287994384766\n",
      "Epoch: 50 Loss: 1.55051116652605 Test Loss: 1.5604218678040938 data: 6560 train_acc 92.95731782913208 test_acc 91.11742377281189\n",
      "Epoch: 75 Loss: 1.5390523465668282 Test Loss: 1.5475229675119573 data: 6560 train_acc 93.49085092544556 test_acc 91.6856050491333\n",
      "Epoch: 100 Loss: 1.5319724501633063 Test Loss: 1.5488279299302534 data: 6560 train_acc 94.51219439506531 test_acc 91.96969866752625\n",
      "Epoch: 25 Loss: 1.5669879379726592 Test Loss: 1.567738955671137 data: 6720 train_acc 91.6815459728241 test_acc 90.8143937587738\n",
      "Epoch: 50 Loss: 1.5480485036259606 Test Loss: 1.5455330176786943 data: 6720 train_acc 93.33333373069763 test_acc 91.96969866752625\n",
      "Epoch: 75 Loss: 1.5379965671471187 Test Loss: 1.558401963927529 data: 6720 train_acc 92.99107193946838 test_acc 90.54924249649048\n",
      "Epoch: 100 Loss: 1.5320766301382156 Test Loss: 1.5485996116291394 data: 6720 train_acc 94.37500238418579 test_acc 91.95075631141663\n",
      "Epoch: 25 Loss: 1.5738640837891158 Test Loss: 1.5753259442069314 data: 6880 train_acc 91.13371968269348 test_acc 89.3750011920929\n",
      "Epoch: 50 Loss: 1.5493208591328111 Test Loss: 1.541842590678822 data: 6880 train_acc 92.7034854888916 test_acc 92.5568163394928\n",
      "Epoch: 75 Loss: 1.5390123591866605 Test Loss: 1.5507113608446987 data: 6880 train_acc 93.66279244422913 test_acc 91.38257503509521\n"
     ]
    },
    {
     "name": "stdout",
     "output_type": "stream",
     "text": [
      "Epoch: 100 Loss: 1.5319399589716003 Test Loss: 1.5455685962330212 data: 6880 train_acc 94.11337375640869 test_acc 91.95075631141663\n",
      "Epoch: 25 Loss: 1.657977064631202 Test Loss: 1.6685696190053767 data: 7040 train_acc 82.01704621315002 test_acc 80.79545497894287\n",
      "Epoch: 50 Loss: 1.5497314084659923 Test Loss: 1.5444317839362405 data: 7040 train_acc 92.99715757369995 test_acc 92.8219735622406\n",
      "Epoch: 75 Loss: 1.5378237916664643 Test Loss: 1.5397690642963757 data: 7040 train_acc 93.92045736312866 test_acc 92.8219735622406\n",
      "Epoch: 100 Loss: 1.5316101347858255 Test Loss: 1.5454384630376643 data: 7040 train_acc 94.24715638160706 test_acc 91.66666269302368\n",
      "Epoch: 25 Loss: 1.6357168001598783 Test Loss: 1.639449488032948 data: 7200 train_acc 83.33333134651184 test_acc 83.73106122016907\n",
      "Epoch: 50 Loss: 1.6210574520958794 Test Loss: 1.6256079565395007 data: 7200 train_acc 84.97222065925598 test_acc 83.4280252456665\n",
      "Epoch: 75 Loss: 1.6130900825394525 Test Loss: 1.627656557343223 data: 7200 train_acc 85.76388955116272 test_acc 83.4280252456665\n",
      "Epoch: 100 Loss: 1.609000113805135 Test Loss: 1.6206324967471035 data: 7200 train_acc 85.93055605888367 test_acc 84.28030014038086\n",
      "Epoch: 25 Loss: 1.5647139585536458 Test Loss: 1.570841670036316 data: 7360 train_acc 90.8695638179779 test_acc 91.13636016845703\n",
      "Epoch: 50 Loss: 1.5437043830104495 Test Loss: 1.5383763638409702 data: 7360 train_acc 93.5054361820221 test_acc 93.99621486663818\n",
      "Epoch: 75 Loss: 1.534531065951223 Test Loss: 1.5316089608452537 data: 7360 train_acc 93.68206262588501 test_acc 93.42803359031677\n",
      "Epoch: 100 Loss: 1.529181321548379 Test Loss: 1.5404046232050115 data: 7360 train_acc 94.1168487071991 test_acc 93.40908527374268\n",
      "Epoch: 25 Loss: 1.6353754918626013 Test Loss: 1.6312386447733098 data: 7520 train_acc 83.92287492752075 test_acc 84.01515483856201\n",
      "Epoch: 50 Loss: 1.6206780271327241 Test Loss: 1.6252225745807996 data: 7520 train_acc 85.03989577293396 test_acc 83.71211886405945\n",
      "Epoch: 75 Loss: 1.6133179190311027 Test Loss: 1.622731945731423 data: 7520 train_acc 85.3723406791687 test_acc 84.29924249649048\n",
      "Epoch: 100 Loss: 1.6096468783439475 Test Loss: 1.617212880741466 data: 7520 train_acc 86.21010780334473 test_acc 84.86742377281189\n",
      "Epoch: 25 Loss: 1.564159920066595 Test Loss: 1.5541309335015037 data: 7680 train_acc 91.58853888511658 test_acc 91.6856050491333\n",
      "Epoch: 50 Loss: 1.5432097313304742 Test Loss: 1.5434334494850852 data: 7680 train_acc 93.37239861488342 test_acc 92.84090399742126\n",
      "Epoch: 75 Loss: 1.5339054338634015 Test Loss: 1.5375821156935259 data: 7680 train_acc 94.0234363079071 test_acc 92.84090399742126\n",
      "Epoch: 100 Loss: 1.5279096434513728 Test Loss: 1.5334463878111406 data: 7680 train_acc 94.38802003860474 test_acc 93.99621486663818\n",
      "Epoch: 25 Loss: 1.5620421991056326 Test Loss: 1.5491828593340786 data: 7840 train_acc 92.1683669090271 test_acc 92.5568163394928\n",
      "Epoch: 50 Loss: 1.542196400798097 Test Loss: 1.5316171429374001 data: 7840 train_acc 93.66071224212646 test_acc 93.42803359031677\n",
      "Epoch: 75 Loss: 1.5314188237092934 Test Loss: 1.5326699993827126 data: 7840 train_acc 93.87755393981934 test_acc 93.16287636756897\n",
      "Epoch: 100 Loss: 1.5284188467629103 Test Loss: 1.5318342338908801 data: 7840 train_acc 94.34949159622192 test_acc 94.01514530181885\n",
      "Epoch: 25 Loss: 1.5599498233795166 Test Loss: 1.55330660126426 data: 8000 train_acc 91.8749988079071 test_acc 92.5568163394928\n",
      "Epoch: 50 Loss: 1.5425109896659852 Test Loss: 1.5303456024690107 data: 8000 train_acc 93.62499713897705 test_acc 93.71212124824524\n",
      "Epoch: 75 Loss: 1.53299129986763 Test Loss: 1.528716575015675 data: 8000 train_acc 94.28750276565552 test_acc 93.99621486663818\n",
      "Epoch: 100 Loss: 1.5272426755428314 Test Loss: 1.5274801796132869 data: 8000 train_acc 94.53750252723694 test_acc 93.73105764389038\n",
      "\n",
      "\n"
     ]
    }
   ],
   "source": [
    "old_acc = []\n",
    "old_train = []\n",
    "old_test = []\n",
    "\n",
    "ratio = 50\n",
    "EPOCHS = 100\n",
    "n_runs = 3\n",
    "\n",
    "for j in range(n_runs):\n",
    "    \n",
    "    ACCURACY_matrix = []\n",
    "    TrainLOSS_matrix = []\n",
    "    TestLOSS_matrix = []\n",
    "    \n",
    "    print(f\"Run Number: {j+1}\")\n",
    "    \n",
    "    for i in range (1, ratio+1):\n",
    "\n",
    "        train_losses = []\n",
    "        test_losses = []\n",
    "        test_accuracies = []\n",
    "\n",
    "        # Set the datasetsize\n",
    "        n_train_loop = int(n_train * i / ratio)\n",
    "        #batch_size_train_loop = int(batch_size_train * i / ratio)\n",
    "\n",
    "        # Create the train dataset and the train loader \n",
    "        dataset_train =  torchvision.datasets.MNIST('./files/', train = False, download = True, transform = transform)\n",
    "        dataset_train.data, dataset_train.targets = dataset_train.data[:n_train_loop], dataset_train.targets[:n_train_loop]\n",
    "        train_loader = torch.utils.data.DataLoader(dataset_train, batch_size=batch_size_train, shuffle = True, drop_last = True)\n",
    "\n",
    "        # Call our Net\n",
    "        model = EncoderWithSoftmax(pret_autoenc).to(device)\n",
    "\n",
    "        #Set the Optimazer\n",
    "        optimizer = torch.optim.Adam(model.parameters(), lr = 1e-3)\n",
    "\n",
    "        for epoch in range(1,EPOCHS+1):\n",
    "            train_loss = 0\n",
    "\n",
    "            for x_train, y_train in train_loader:\n",
    "                x_train, y_train = x_train.to(device), y_train.to(device)\n",
    "                loss = train(model, x_train, y_train, loss_function, optimizer)\n",
    "                train_loss += loss\n",
    "\n",
    "            train_loss /= len(train_loader)                    # we divide by the number of batches\n",
    "            train_losses.append(train_loss)\n",
    "\n",
    "            train_acc, test_acc, test_loss = evaluate(model, train_loader, test_loader)\n",
    "            test_accuracies.append(test_acc)\n",
    "            test_losses.append(test_loss)\n",
    "\n",
    "            if epoch % 25 == 0:\n",
    "                print(\"Epoch:\", epoch, \"Loss:\", float(train_loss), \"Test Loss:\", test_loss, \"data:\", len(dataset_train.data), \"train_acc\", train_acc, \"test_acc\", test_acc)\n",
    "\n",
    "        # Save in ACCURACY_matrix\n",
    "        ACCURACY_matrix.append(test_accuracies)\n",
    "        TrainLOSS_matrix.append(train_losses)\n",
    "        TestLOSS_matrix.append(test_losses)\n",
    "\n",
    "    if j == 0:\n",
    "\n",
    "        old_acc = ACCURACY_matrix\n",
    "        old_train = TrainLOSS_matrix\n",
    "        old_test = TestLOSS_matrix\n",
    "\n",
    "    else:\n",
    "\n",
    "        # For old_acc and ACCURACY_matrix\n",
    "        old_acc = [[old_acc[row][col] + ACCURACY_matrix[row][col] for col in range(len(old_acc[0]))] for row in range(len(old_acc))]\n",
    "\n",
    "        # For old_train and TrainLOSS_matrix\n",
    "        old_train = [[old_train[row][col] + TrainLOSS_matrix[row][col] for col in range(len(old_train[0]))] for row in range(len(old_train))]\n",
    "\n",
    "        # For old_test and TestLOSS_matrix\n",
    "        old_test = [[old_test[row][col] + TestLOSS_matrix[row][col] for col in range(len(old_test[0]))] for row in range(len(old_test))]\n",
    "        \n",
    "\n",
    "    print(\"\\n\")"
   ]
  },
  {
   "cell_type": "markdown",
   "metadata": {},
   "source": [
    "Implement the average"
   ]
  },
  {
   "cell_type": "code",
   "execution_count": 10,
   "metadata": {},
   "outputs": [],
   "source": [
    "ACCURACY_matrix = [[element / n_runs for element in row] for row in old_acc]\n",
    "TrainLOSS_matrix = [[element / n_runs for element in row] for row in old_train]\n",
    "TestLOSS_matrix = [[element / n_runs for element in row] for row in old_test]"
   ]
  },
  {
   "cell_type": "code",
   "execution_count": 11,
   "metadata": {
    "id": "rxFjGFZC3Wm-",
    "scrolled": true
   },
   "outputs": [
    {
     "data": {
      "image/png": "[encoded data removed]",
      "text/plain": [
       "<Figure size 432x288 with 1 Axes>"
      ]
     },
     "metadata": {
      "needs_background": "light"
     },
     "output_type": "display_data"
    }
   ],
   "source": [
    "last_elements = [sublist[-1] for sublist in ACCURACY_matrix]\n",
    "\n",
    "# The size of the dataset\n",
    "data = [n_train * i/ratio for i in range(1, ratio + 1)]\n",
    "\n",
    "# Plot the values\n",
    "plt.plot(data, last_elements, label = \"Test\")\n",
    "plt.xlabel(\"Data\")\n",
    "plt.ylabel(\"Accuracy\")\n",
    "plt.title('Accuracy of EwithS non Sparse')\n",
    "plt.legend()\n",
    "plt.show()"
   ]
  },
  {
   "cell_type": "code",
   "execution_count": 12,
   "metadata": {},
   "outputs": [
    {
     "data": {
      "image/png": "[encoded data removed]",
      "text/plain": [
       "<Figure size 432x288 with 1 Axes>"
      ]
     },
     "metadata": {
      "needs_background": "light"
     },
     "output_type": "display_data"
    }
   ],
   "source": [
    "for i in range(len(TrainLOSS_matrix)):\n",
    "    plt.plot(range(EPOCHS), TrainLOSS_matrix[i])\n",
    "plt.xlabel(\"Epochs\")\n",
    "plt.ylabel(\"Loss\")\n",
    "plt.title('Train Loss vs epochs')\n",
    "plt.show()"
   ]
  },
  {
   "cell_type": "code",
   "execution_count": 13,
   "metadata": {},
   "outputs": [
    {
     "data": {
      "image/png": "[encoded data removed]",
      "text/plain": [
       "<Figure size 432x288 with 1 Axes>"
      ]
     },
     "metadata": {
      "needs_background": "light"
     },
     "output_type": "display_data"
    }
   ],
   "source": [
    "plt.plot(range(1, EPOCHS + 1), TrainLOSS_matrix[-1], label = \"Train\")\n",
    "plt.plot(range(1, EPOCHS + 1), TestLOSS_matrix[-1], label = \"Test\")\n",
    "plt.xlabel(\"Epochs\")\n",
    "plt.ylabel(\"Loss\")\n",
    "plt.title('Train Loss vs Test Loss')\n",
    "plt.legend()\n",
    "plt.show()"
   ]
  },
  {
   "cell_type": "markdown",
   "metadata": {
    "id": "CR3yGS_f4b-Y"
   },
   "source": [
    "*Salvataggio dei dati*"
   ]
  },
  {
   "cell_type": "code",
   "execution_count": 14,
   "metadata": {
    "id": "q_tdooxMoeJM"
   },
   "outputs": [],
   "source": [
    "result_dir = 'result'\n",
    "os.makedirs(result_dir, exist_ok=True)\n",
    "\n",
    "file_name1 = 'TrainLOSS_matrix_model_sparse.npy'\n",
    "np.save(os.path.join(result_dir, file_name1), TrainLOSS_matrix)\n",
    "\n",
    "file_name2 = 'ACCURACY_matrix_model_sparse.npy'\n",
    "np.save(os.path.join(result_dir, file_name2), ACCURACY_matrix)\n",
    "\n",
    "file_name3 = 'TestLOSS_matrix_model_sparse.npy'\n",
    "np.save(os.path.join(result_dir, file_name3), TestLOSS_matrix)"
   ]
  },
  {
   "cell_type": "markdown",
   "metadata": {
    "id": "7XXhnhB0d9UA"
   },
   "source": [
    "**Confusion Matrix**"
   ]
  },
  {
   "cell_type": "code",
   "execution_count": 15,
   "metadata": {
    "id": "xNyx4fQc2s77"
   },
   "outputs": [
    {
     "name": "stdout",
     "output_type": "stream",
     "text": [
      "[[1.   0.   0.   0.   0.   0.   0.   0.   0.   0.  ]\n",
      " [0.   0.97 0.   0.   0.   0.   0.   0.   0.03 0.  ]\n",
      " [0.03 0.   0.78 0.   0.11 0.   0.   0.   0.06 0.03]\n",
      " [0.   0.   0.   0.89 0.   0.   0.   0.   0.11 0.  ]\n",
      " [0.   0.   0.   0.   0.95 0.   0.05 0.   0.   0.  ]\n",
      " [0.   0.   0.   0.04 0.   0.93 0.   0.   0.04 0.  ]\n",
      " [0.   0.   0.   0.   0.   0.03 0.97 0.   0.   0.  ]\n",
      " [0.   0.   0.   0.   0.   0.   0.   1.   0.   0.  ]\n",
      " [0.   0.   0.   0.   0.03 0.03 0.   0.   0.94 0.  ]\n",
      " [0.03 0.   0.   0.   0.03 0.   0.   0.   0.   0.94]]\n"
     ]
    }
   ],
   "source": [
    "from sklearn.metrics import confusion_matrix\n",
    "import numpy as np\n",
    "model.eval()\n",
    "\n",
    "all_y = []\n",
    "all_predictions = []\n",
    "\n",
    "# Iterate over the dataset\n",
    "for x, y in test_loader:\n",
    "    x = x.to(device)\n",
    "\n",
    "    with torch.no_grad():\n",
    "        outputs = model(x)\n",
    "        _, predicted = torch.max(outputs, 1)\n",
    "\n",
    "    all_y.extend(y.numpy())\n",
    "    all_predictions.extend(predicted.cpu().numpy())\n",
    "\n",
    "all_y = np.array(all_y)\n",
    "all_predictions = np.array(all_predictions)\n",
    "\n",
    "conf_matrix = confusion_matrix(all_y, all_predictions, normalize = \"true\")\n",
    "\n",
    "print(conf_matrix.round(decimals=2))"
   ]
  },
  {
   "cell_type": "code",
   "execution_count": 16,
   "metadata": {
    "id": "NX2jfWVc2t50"
   },
   "outputs": [
    {
     "data": {
      "image/png": "[encoded data removed]",
      "text/plain": [
       "<Figure size 432x288 with 2 Axes>"
      ]
     },
     "metadata": {
      "needs_background": "light"
     },
     "output_type": "display_data"
    }
   ],
   "source": [
    "classes =dataset_test.classes\n",
    "\n",
    "plt.figure(figsize=(6, 4))\n",
    "plt.imshow(conf_matrix)\n",
    "plt.title(\"Confusion matrix\")\n",
    "plt.colorbar()\n",
    "\n",
    "tick_marks = np.arange(len(classes))\n",
    "plt.xticks(tick_marks, classes, rotation=45)\n",
    "plt.yticks(tick_marks, classes)\n",
    "\n",
    "\n",
    "plt.tight_layout()\n",
    "plt.ylabel('True label')\n",
    "plt.xlabel('Predicted label')\n",
    "\n",
    "plt.show()"
   ]
  },
  {
   "cell_type": "code",
   "execution_count": null,
   "metadata": {},
   "outputs": [],
   "source": []
  }
 ],
 "metadata": {
  "accelerator": "GPU",
  "colab": {
   "gpuType": "T4",
   "provenance": []
  },
  "kernelspec": {
   "display_name": "Python 3 (ipykernel)",
   "language": "python",
   "name": "python3"
  },
  "language_info": {
   "codemirror_mode": {
    "name": "ipython",
    "version": 3
   },
   "file_extension": ".py",
   "mimetype": "text/x-python",
   "name": "python",
   "nbconvert_exporter": "python",
   "pygments_lexer": "ipython3",
   "version": "3.9.7"
  }
 },
 "nbformat": 4,
 "nbformat_minor": 1
}
