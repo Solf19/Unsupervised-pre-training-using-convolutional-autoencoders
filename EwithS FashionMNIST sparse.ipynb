{
 "cells": [
  {
   "cell_type": "markdown",
   "metadata": {
    "id": "n2TYIftliqUB"
   },
   "source": [
    "#**Unsupervised pre-training**"
   ]
  },
  {
   "cell_type": "markdown",
   "metadata": {
    "id": "D48pgzTmjBVV"
   },
   "source": [
    "*Students:* --Valentina Barletta (Deep Learning) valentina.barletta@edu.unito.it --Sara De Benedetti (Reti Neurali) sara.debenedetti493@edu.unito.it"
   ]
  },
  {
   "cell_type": "markdown",
   "metadata": {
    "id": "oJ4qlErbDVON"
   },
   "source": [
    "# Encoder with Softmax\n"
   ]
  },
  {
   "cell_type": "markdown",
   "metadata": {
    "id": "MDKnYr-QD26b"
   },
   "source": [
    "Importing Modules"
   ]
  },
  {
   "cell_type": "code",
   "execution_count": 1,
   "metadata": {
    "colab": {
     "base_uri": "https://localhost:8080/"
    },
    "executionInfo": {
     "elapsed": 3845,
     "status": "ok",
     "timestamp": 1717776650868,
     "user": {
      "displayName": "Valentina Barletta",
      "userId": "10868763587431229161"
     },
     "user_tz": -120
    },
    "id": "PF8bMBu7iZZK",
    "outputId": "a5d890f8-4dc6-4f26-92d8-8cd1c5bd9f1b"
   },
   "outputs": [],
   "source": [
    "import torch\n",
    "from torch import nn\n",
    "from torch import optim\n",
    "import matplotlib.pyplot as plt\n",
    "import matplotlib.ticker as mtick\n",
    "import torchvision\n",
    "from statistics import mean\n",
    "import numpy as np\n",
    "\n",
    "from torchsummary import summary\n",
    "from tqdm import tqdm\n",
    "\n",
    "import os\n",
    "import time\n",
    "\n",
    "#path_data = 'MyDrive/Progetto Deep/Data/'\n",
    "#model_path = '/content/drive/MyDrive/Progetto Deep/Data/model.pth'\n",
    "#model_path = '/content/drive/MyDrive/Progetto Deep/Data/model_sparse.pth'\n",
    "\n",
    "\n",
    "#from google.colab import drive\n",
    "#drive.mount('/content/drive')\n",
    "\n",
    "#subject = 'EncoderWithSoftmax'"
   ]
  },
  {
   "cell_type": "markdown",
   "metadata": {
    "id": "uk11OXvwD_qr"
   },
   "source": [
    "Get the computation device"
   ]
  },
  {
   "cell_type": "code",
   "execution_count": 2,
   "metadata": {
    "colab": {
     "base_uri": "https://localhost:8080/"
    },
    "executionInfo": {
     "elapsed": 9,
     "status": "ok",
     "timestamp": 1717776650869,
     "user": {
      "displayName": "Valentina Barletta",
      "userId": "10868763587431229161"
     },
     "user_tz": -120
    },
    "id": "1-7m_spxIFDt",
    "outputId": "7545fe96-01a8-4345-a84e-ef85ecc48d4c"
   },
   "outputs": [
    {
     "name": "stdout",
     "output_type": "stream",
     "text": [
      "cpu\n"
     ]
    }
   ],
   "source": [
    "device = torch.device(\"cuda:0\" if torch.cuda.is_available() else \"cpu\")\n",
    "\n",
    "print(device)                                        # Check which device we got"
   ]
  },
  {
   "cell_type": "markdown",
   "metadata": {
    "id": "30wnbgr4EsVU"
   },
   "source": [
    "## Our net: Pretrained Convolutional Encoder with Softmax"
   ]
  },
  {
   "cell_type": "markdown",
   "metadata": {
    "id": "YG0okYB0FATo"
   },
   "source": [
    " Here it's represented the architecture of our Convolutional Autoencoder Neural Network pretrained."
   ]
  },
  {
   "cell_type": "code",
   "execution_count": 3,
   "metadata": {
    "executionInfo": {
     "elapsed": 4,
     "status": "ok",
     "timestamp": 1717776651563,
     "user": {
      "displayName": "Valentina Barletta",
      "userId": "10868763587431229161"
     },
     "user_tz": -120
    },
    "id": "4v6gakTDi6If"
   },
   "outputs": [],
   "source": [
    "input_dim = (28 * 28)\n",
    "hidden_dim = 10\n",
    "out_dim = 10\n",
    "\n",
    "class Autoencoder(nn.Module):\n",
    "    def __init__(self, input_dim, out_dim):\n",
    "        super(Autoencoder, self).__init__()\n",
    "\n",
    "        # Encoder\n",
    "        self.encoder = nn.Sequential(nn.Conv2d(in_channels=1, out_channels=8, kernel_size=(3,3), stride=1, padding=1),  # 28 x 28 x 1 -> 28 x 28 x 8\n",
    "                                    nn.ReLU(),\n",
    "                                    nn.MaxPool2d(kernel_size=2, stride=2, padding=0),  # 28 x 28 x 8 -> 14 x 14 x 8\n",
    "                                    nn.Conv2d(8, 4, kernel_size=3, padding=1),  # 14 x 14 x 8 -> 14 x 14 x 4\n",
    "                                    nn.ReLU(),\n",
    "                                    nn.MaxPool2d(kernel_size=2, stride=2, padding=0)) # 14 x 14 x 4 -> 7 x 7 x 4\n",
    "\n",
    "\n",
    "        # Decoder\n",
    "        self.decoder = nn. Sequential(nn.Conv2d(4, 4, kernel_size=3, padding=1),  # 7 x 7 x 4 -> 7 x 7 x 4\n",
    "                                      nn.ReLU(),\n",
    "                                      nn.Upsample(scale_factor=2, mode='nearest'),  # 7 x 7 x 4 -> 14 x 14 x 4\n",
    "                                      nn.Conv2d(4, 8, kernel_size=3, padding=1),  # 14 x 14 x 4 -> 14 x 14 x 8\n",
    "                                      nn.ReLU(),\n",
    "                                      nn.Upsample(scale_factor=2, mode='nearest'),  # 14 x 14 x 8 -> 28 x 28 x 8\n",
    "                                      nn.Conv2d(8, 1, kernel_size=3, padding=1))  # 28 x 28 x 8 -> 28 x 28 x 1\n",
    "\n",
    "\n",
    "    def forward(self, x):\n",
    "        encoded = self.encoder(x)\n",
    "        decoded = self.decoder(encoded)\n",
    "        return decoded\n",
    "\n",
    "\n",
    "pret_autoenc = Autoencoder(input_dim, out_dim).to(device)"
   ]
  },
  {
   "cell_type": "markdown",
   "metadata": {
    "id": "K3KOx2VWFX96"
   },
   "source": [
    "Restoring the model"
   ]
  },
  {
   "cell_type": "code",
   "execution_count": 4,
   "metadata": {
    "colab": {
     "base_uri": "https://localhost:8080/"
    },
    "executionInfo": {
     "elapsed": 4,
     "status": "ok",
     "timestamp": 1717776651563,
     "user": {
      "displayName": "Valentina Barletta",
      "userId": "10868763587431229161"
     },
     "user_tz": -120
    },
    "id": "HfFa2l7VKh1Q",
    "outputId": "d4d6b91c-78a7-4a51-b68d-216fa3e27b4a"
   },
   "outputs": [
    {
     "data": {
      "text/plain": [
       "<All keys matched successfully>"
      ]
     },
     "execution_count": 4,
     "metadata": {},
     "output_type": "execute_result"
    }
   ],
   "source": [
    "pret_autoenc.load_state_dict(torch.load(\"FashionMNIST_sparse_vs1.pth\"))\n",
    "# pretrained_autoencoder.eval()"
   ]
  },
  {
   "cell_type": "markdown",
   "metadata": {
    "id": "qZvZslc9Fdyn"
   },
   "source": [
    "In this section, we will define our neural network made by our pretrained encoder combined with a softmax layer."
   ]
  },
  {
   "cell_type": "code",
   "execution_count": 5,
   "metadata": {
    "executionInfo": {
     "elapsed": 3,
     "status": "ok",
     "timestamp": 1717776651563,
     "user": {
      "displayName": "Valentina Barletta",
      "userId": "10868763587431229161"
     },
     "user_tz": -120
    },
    "id": "EgqhEKWJTpQR"
   },
   "outputs": [],
   "source": [
    "class EncoderWithSoftmax(nn.Module):\n",
    "    def __init__(self, pretrained_autoencoder):\n",
    "        super(EncoderWithSoftmax, self).__init__()\n",
    "\n",
    "        # Extraction of the encoder from the pretrained autoencoder\n",
    "        self.encoder = pretrained_autoencoder.encoder\n",
    "        \n",
    "        for param in self.encoder.parameters():\n",
    "            param.requires_grad = False\n",
    "\n",
    "        # Add the softmax layer\n",
    "        self.flatten = nn.Flatten()\n",
    "        self.linear = nn.Linear(in_features=4 * 7 * 7, out_features=10)\n",
    "        self.softmax = nn.Softmax(dim=1)\n",
    "\n",
    "\n",
    "    def forward(self, x):\n",
    "        x = self.encoder(x)\n",
    "        x = self.flatten(x)\n",
    "        x = self.linear(x)\n",
    "        x = self.softmax(x)\n",
    "        return x"
   ]
  },
  {
   "cell_type": "markdown",
   "metadata": {
    "id": "8OTolBy0ENHa"
   },
   "source": [
    "## Some Helper Functions"
   ]
  },
  {
   "cell_type": "code",
   "execution_count": 6,
   "metadata": {
    "executionInfo": {
     "elapsed": 7,
     "status": "ok",
     "timestamp": 1717776650870,
     "user": {
      "displayName": "Valentina Barletta",
      "userId": "10868763587431229161"
     },
     "user_tz": -120
    },
    "id": "eBB8CdvriOMF"
   },
   "outputs": [],
   "source": [
    "def accuracy(y_pred, y):\n",
    "\n",
    "    pred = y_pred.detach().argmax(dim=1)\n",
    "    corrects = (pred == y)\n",
    "    accuracy = (corrects.sum()/corrects.size(0)).float()\n",
    "\n",
    "    return accuracy\n",
    "\n",
    "\n",
    "def evaluate(model, train_loader, test_loader):\n",
    "\n",
    "  # initialize the accuracy as 0\n",
    "\n",
    "    acc_train, acc_test = 0, 0\n",
    "    running_loss = 0.0\n",
    "\n",
    "    with torch.no_grad():\n",
    "\n",
    "        for x_train, y_train in train_loader:\n",
    "\n",
    "            x_train, y_train = x_train.to(device), y_train.to(device)        # remember that we need to load our data into the GPUs\n",
    "\n",
    "            out = model(x_train).squeeze()\n",
    "            acc_train += accuracy(out, y_train)\n",
    "\n",
    "        for x_test, y_test in test_loader:\n",
    "\n",
    "            x_test, y_test = x_test.to(device), y_test.to(device)\n",
    "\n",
    "            out = model(x_test).squeeze()\n",
    "            loss = loss_function(out, y_test)\n",
    "            running_loss += loss.item()\n",
    "            acc_test += accuracy(out, y_test)\n",
    "            \n",
    "        val_loss = running_loss / len(test_loader)\n",
    "        acc_train, acc_test = acc_train / len(train_loader), acc_test / len(test_loader)\n",
    "\n",
    "    return float(acc_train.detach()) * 100, float(acc_test.detach()) * 100, val_loss\n",
    "\n",
    "\n",
    "def train(model, x, y, loss_function, optimizer):\n",
    "    model.train()\n",
    "    out = model(x).squeeze()\n",
    "    \n",
    "    loss = loss_function(out, y)\n",
    "\n",
    "    optimizer.zero_grad()\n",
    "    loss.backward()\n",
    "    \n",
    "    torch.nn.utils.clip_grad_norm_(model.parameters(), 1)\n",
    "\n",
    "    optimizer.step()\n",
    "    return float(loss)"
   ]
  },
  {
   "cell_type": "markdown",
   "metadata": {
    "id": "Zseb0a6_GD4e"
   },
   "source": [
    "**Loss Function and Optimizer**\n",
    "\n",
    "For the loss function, we will use `CrossEntropyLoss` (Cross Entropy Loss).\n",
    "The optimizer is going to be `Adam` with a learning rate of 0.001."
   ]
  },
  {
   "cell_type": "code",
   "execution_count": 7,
   "metadata": {
    "executionInfo": {
     "elapsed": 3,
     "status": "ok",
     "timestamp": 1717776651563,
     "user": {
      "displayName": "Valentina Barletta",
      "userId": "10868763587431229161"
     },
     "user_tz": -120
    },
    "id": "wU3o_E2tGCGB"
   },
   "outputs": [],
   "source": [
    "loss_function = nn.CrossEntropyLoss()"
   ]
  },
  {
   "cell_type": "markdown",
   "metadata": {
    "id": "Dz1D2j5DECh3"
   },
   "source": [
    "Prepare the Data"
   ]
  },
  {
   "cell_type": "code",
   "execution_count": 8,
   "metadata": {
    "executionInfo": {
     "elapsed": 6,
     "status": "ok",
     "timestamp": 1717776650869,
     "user": {
      "displayName": "Valentina Barletta",
      "userId": "10868763587431229161"
     },
     "user_tz": -120
    },
    "id": "OAI7nqCWjlbK"
   },
   "outputs": [],
   "source": [
    "n_train = 8000\n",
    "n_test = 350\n",
    "\n",
    "batch_size_train = 16\n",
    "batch_size_test = 32\n",
    "\n",
    "transform = torchvision.transforms.Compose([\n",
    "                               torchvision.transforms.ToTensor(),\n",
    "                               torchvision.transforms.Normalize(\n",
    "                                 (0.1307,), (0.3081,))\n",
    "                             ])\n",
    "\n",
    "## TEST SET\n",
    "\n",
    "dataset_test =  torchvision.datasets.MNIST('./files/', train=False, download=True, transform=transform)\n",
    "\n",
    "dataset_test.data, dataset_test.targets = dataset_test.data[n_train:(n_train + n_test)], dataset_test.targets[n_train:(n_train + n_test)]\n",
    "test_loader = torch.utils.data.DataLoader(dataset_test, batch_size = batch_size_test, shuffle = False)"
   ]
  },
  {
   "cell_type": "markdown",
   "metadata": {
    "id": "uod0a5HmG4Hq"
   },
   "source": [
    "Since we want to derive how the accuracy changes as the size of the training dataset decreases, here there is the code which trains a neural network on the MNIST dataset, adjusting the size of the training dataset and for each iteration of the loop.\n",
    "\n"
   ]
  },
  {
   "cell_type": "code",
   "execution_count": 9,
   "metadata": {
    "colab": {
     "base_uri": "https://localhost:8080/"
    },
    "id": "Hu1zpQ4OWh--",
    "outputId": "c8ca1a9d-4484-4fcb-d874-1953e2a60dc9",
    "scrolled": false
   },
   "outputs": [
    {
     "name": "stdout",
     "output_type": "stream",
     "text": [
      "Run Number: 1\n",
      "Epoch: 25 Loss: 2.1559502601623537 Test Loss: 2.1885465275157583 data: 160 train_acc 48.124998807907104 test_acc 41.68560802936554\n",
      "Epoch: 50 Loss: 2.0348177790641784 Test Loss: 2.0950630578127774 data: 160 train_acc 60.00000238418579 test_acc 50.852274894714355\n",
      "Epoch: 75 Loss: 1.95867600440979 Test Loss: 2.0451673811132256 data: 160 train_acc 63.749998807907104 test_acc 51.42045617103577\n",
      "Epoch: 100 Loss: 1.9184184074401855 Test Loss: 2.0200827555222944 data: 160 train_acc 64.3750011920929 test_acc 51.70454382896423\n",
      "Epoch: 25 Loss: 2.0642725586891175 Test Loss: 2.1195166327736596 data: 320 train_acc 50.93749761581421 test_acc 45.113638043403625\n",
      "Epoch: 50 Loss: 1.9548583209514618 Test Loss: 2.0438824783671987 data: 320 train_acc 60.624998807907104 test_acc 49.39393997192383\n",
      "Epoch: 75 Loss: 1.8970034539699554 Test Loss: 2.0090289657766167 data: 320 train_acc 65.3124988079071 test_acc 50.265151262283325\n",
      "Epoch: 100 Loss: 1.8513364911079406 Test Loss: 1.9827832091938367 data: 320 train_acc 69.68749761581421 test_acc 51.68560743331909\n",
      "Epoch: 25 Loss: 2.0129855076471963 Test Loss: 2.0660555471073496 data: 480 train_acc 57.29166865348816 test_acc 47.40530252456665\n",
      "Epoch: 50 Loss: 1.8782605051994323 Test Loss: 1.9465481367978184 data: 480 train_acc 71.66666388511658 test_acc 60.81439256668091\n",
      "Epoch: 75 Loss: 1.7824826796849569 Test Loss: 1.8580154288898816 data: 480 train_acc 81.45833611488342 test_acc 68.84469389915466\n",
      "Epoch: 100 Loss: 1.7423344175020854 Test Loss: 1.828159592368386 data: 480 train_acc 82.29166865348816 test_acc 70.87121605873108\n",
      "Epoch: 25 Loss: 1.9583221703767777 Test Loss: 1.9693600047718396 data: 640 train_acc 68.2812511920929 test_acc 63.97727131843567\n",
      "Epoch: 50 Loss: 1.8311114341020585 Test Loss: 1.860710945996371 data: 640 train_acc 74.5312511920929 test_acc 71.40151262283325\n",
      "Epoch: 75 Loss: 1.7676285088062287 Test Loss: 1.8147409720854326 data: 640 train_acc 78.4375011920929 test_acc 71.66666388511658\n",
      "Epoch: 100 Loss: 1.7341106235980988 Test Loss: 1.7921580184589734 data: 640 train_acc 81.09375238418579 test_acc 73.71212244033813\n",
      "Epoch: 25 Loss: 1.941837146282196 Test Loss: 1.959081768989563 data: 800 train_acc 65.37500023841858 test_acc 63.14393877983093\n",
      "Epoch: 50 Loss: 1.8178691148757935 Test Loss: 1.8680679581382058 data: 800 train_acc 72.25000262260437 test_acc 66.3068175315857\n",
      "Epoch: 75 Loss: 1.7785706400871277 Test Loss: 1.8327225121584805 data: 800 train_acc 74.37499761581421 test_acc 68.03030371665955\n",
      "Epoch: 100 Loss: 1.755894010066986 Test Loss: 1.8149435086683794 data: 800 train_acc 75.99999904632568 test_acc 68.8825786113739\n",
      "Epoch: 25 Loss: 1.911081858476003 Test Loss: 1.9309539686549793 data: 960 train_acc 65.83333611488342 test_acc 62.272727489471436\n",
      "Epoch: 50 Loss: 1.8242524524529775 Test Loss: 1.8449200716885654 data: 960 train_acc 72.08333611488342 test_acc 71.11742496490479\n",
      "Epoch: 75 Loss: 1.7667705257733664 Test Loss: 1.8091424161737615 data: 960 train_acc 74.27083253860474 test_acc 70.28408646583557\n",
      "Epoch: 100 Loss: 1.7441603600978852 Test Loss: 1.7904520359906284 data: 960 train_acc 75.83333253860474 test_acc 72.27272391319275\n",
      "Epoch: 25 Loss: 1.9249161447797503 Test Loss: 1.934797915545377 data: 1120 train_acc 65.17857313156128 test_acc 62.272727489471436\n",
      "Epoch: 50 Loss: 1.7997149212019785 Test Loss: 1.8322452848607844 data: 1120 train_acc 72.85714149475098 test_acc 69.69696879386902\n",
      "Epoch: 75 Loss: 1.7623993754386902 Test Loss: 1.8052672797983342 data: 1120 train_acc 73.83928298950195 test_acc 69.9999988079071\n",
      "Epoch: 100 Loss: 1.7426331758499145 Test Loss: 1.7802110368555242 data: 1120 train_acc 75.62500238418579 test_acc 72.27272391319275\n",
      "Epoch: 25 Loss: 1.8827040821313858 Test Loss: 1.8926321159709583 data: 1280 train_acc 65.1562511920929 test_acc 63.14393877983093\n",
      "Epoch: 50 Loss: 1.7522298231720925 Test Loss: 1.7981724522330544 data: 1280 train_acc 78.125 test_acc 71.72348499298096\n",
      "Epoch: 75 Loss: 1.7114863395690918 Test Loss: 1.779154734178023 data: 1280 train_acc 80.70312738418579 test_acc 72.0075786113739\n",
      "Epoch: 100 Loss: 1.6892017647624016 Test Loss: 1.756340958855369 data: 1280 train_acc 82.4999988079071 test_acc 74.28030371665955\n",
      "Epoch: 25 Loss: 1.8478661762343513 Test Loss: 1.8550690412521362 data: 1440 train_acc 70.6944465637207 test_acc 70.54924368858337\n",
      "Epoch: 50 Loss: 1.780452185206943 Test Loss: 1.813348109071905 data: 1440 train_acc 72.98611402511597 test_acc 69.4318175315857\n",
      "Epoch: 75 Loss: 1.7235334475835165 Test Loss: 1.772858825596896 data: 1440 train_acc 79.93055582046509 test_acc 73.73105883598328\n",
      "Epoch: 100 Loss: 1.6944443371560838 Test Loss: 1.7514204003594138 data: 1440 train_acc 81.45833611488342 test_acc 74.84848499298096\n",
      "Epoch: 25 Loss: 1.858859393596649 Test Loss: 1.867062427780845 data: 1600 train_acc 70.12500166893005 test_acc 66.26893877983093\n",
      "Epoch: 50 Loss: 1.712981369495392 Test Loss: 1.7684250203045933 data: 1600 train_acc 84.12500023841858 test_acc 75.6818175315857\n",
      "Epoch: 75 Loss: 1.662667908668518 Test Loss: 1.7336516055193814 data: 1600 train_acc 87.93749809265137 test_acc 76.83712244033813\n",
      "Epoch: 100 Loss: 1.636030935049057 Test Loss: 1.7226761687885632 data: 1600 train_acc 88.93749713897705 test_acc 76.26894116401672\n",
      "Epoch: 25 Loss: 1.8432107654484835 Test Loss: 1.8548149412328547 data: 1760 train_acc 73.8068163394928 test_acc 70.56818008422852\n",
      "Epoch: 50 Loss: 1.7326928355477074 Test Loss: 1.7885595668445935 data: 1760 train_acc 79.60227131843567 test_acc 71.15530371665955\n",
      "Epoch: 75 Loss: 1.7001722541722384 Test Loss: 1.759499116377397 data: 1760 train_acc 81.36363625526428 test_acc 73.71212244033813\n",
      "Epoch: 100 Loss: 1.6822089184414257 Test Loss: 1.7429993586106733 data: 1760 train_acc 81.64772987365723 test_acc 74.84848499298096\n",
      "Epoch: 25 Loss: 1.797263541817665 Test Loss: 1.814363880590959 data: 1920 train_acc 77.0312488079071 test_acc 72.25378751754761\n",
      "Epoch: 50 Loss: 1.6857150534788767 Test Loss: 1.7376427867195823 data: 1920 train_acc 86.04166507720947 test_acc 77.97348499298096\n",
      "Epoch: 75 Loss: 1.6438993334770202 Test Loss: 1.709168174050071 data: 1920 train_acc 88.5937511920929 test_acc 79.96212244033813\n",
      "Epoch: 100 Loss: 1.621511165301005 Test Loss: 1.684631109237671 data: 1920 train_acc 89.63541388511658 test_acc 81.96969628334045\n",
      "Epoch: 25 Loss: 1.8167691689271193 Test Loss: 1.8425113396211104 data: 2080 train_acc 71.15384340286255 test_acc 67.99242496490479\n",
      "Epoch: 50 Loss: 1.719245668557974 Test Loss: 1.767772457816384 data: 2080 train_acc 79.90384697914124 test_acc 73.99621605873108\n",
      "Epoch: 75 Loss: 1.6903486233491165 Test Loss: 1.7403646382418545 data: 2080 train_acc 81.97115659713745 test_acc 75.70075988769531\n",
      "Epoch: 100 Loss: 1.67452983214305 Test Loss: 1.7296357371590354 data: 2080 train_acc 82.30769038200378 test_acc 76.83712244033813\n",
      "Epoch: 25 Loss: 1.8066741909299577 Test Loss: 1.82200626893477 data: 2240 train_acc 74.95535612106323 test_acc 73.42803478240967\n",
      "Epoch: 50 Loss: 1.7146394601890018 Test Loss: 1.765435522252863 data: 2240 train_acc 80.40178418159485 test_acc 73.99621605873108\n",
      "Epoch: 75 Loss: 1.6870654038020543 Test Loss: 1.7380047819831155 data: 2240 train_acc 81.65178298950195 test_acc 76.26894116401672\n",
      "Epoch: 100 Loss: 1.6714764416217804 Test Loss: 1.7218067320910366 data: 2240 train_acc 82.58928656578064 test_acc 77.14014649391174\n",
      "Epoch: 25 Loss: 1.7768208519617716 Test Loss: 1.8151915073394775 data: 2400 train_acc 77.62500047683716 test_acc 72.27272391319275\n",
      "Epoch: 50 Loss: 1.7091048328081766 Test Loss: 1.7641718929464167 data: 2400 train_acc 80.9583306312561 test_acc 74.28030371665955\n",
      "Epoch: 75 Loss: 1.6737689566612244 Test Loss: 1.719663674181158 data: 2400 train_acc 85.12499928474426 test_acc 77.12121605873108\n",
      "Epoch: 100 Loss: 1.6226243019104003 Test Loss: 1.6806128458543257 data: 2400 train_acc 89.4166648387909 test_acc 81.1174213886261\n",
      "Epoch: 25 Loss: 1.8029932007193565 Test Loss: 1.8118876218795776 data: 2560 train_acc 71.6796875 test_acc 71.98863625526428\n",
      "Epoch: 50 Loss: 1.712552547454834 Test Loss: 1.7569323127919978 data: 2560 train_acc 80.50781488418579 test_acc 75.1325786113739\n",
      "Epoch: 75 Loss: 1.6842750184237958 Test Loss: 1.7315813194621692 data: 2560 train_acc 82.03125 test_acc 76.26894116401672\n",
      "Epoch: 100 Loss: 1.668801748752594 Test Loss: 1.7227432402697476 data: 2560 train_acc 82.38281011581421 test_acc 76.83712244033813\n"
     ]
    },
    {
     "name": "stdout",
     "output_type": "stream",
     "text": [
      "Epoch: 25 Loss: 1.7971668720245362 Test Loss: 1.8137050650336526 data: 2720 train_acc 71.875 test_acc 70.83333134651184\n",
      "Epoch: 50 Loss: 1.7065876897643595 Test Loss: 1.7466500455682927 data: 2720 train_acc 80.47794103622437 test_acc 76.26894116401672\n",
      "Epoch: 75 Loss: 1.6811388184042537 Test Loss: 1.7439259832555598 data: 2720 train_acc 81.76470398902893 test_acc 74.28030371665955\n",
      "Epoch: 100 Loss: 1.6666743383688085 Test Loss: 1.7154363068667324 data: 2720 train_acc 83.01470875740051 test_acc 77.70833373069763\n",
      "Epoch: 25 Loss: 1.7921909067365858 Test Loss: 1.8084393414584072 data: 2880 train_acc 71.94444537162781 test_acc 71.98863625526428\n",
      "Epoch: 50 Loss: 1.7027685152159797 Test Loss: 1.7450180487199263 data: 2880 train_acc 80.69444298744202 test_acc 75.70075988769531\n",
      "Epoch: 75 Loss: 1.6779950201511382 Test Loss: 1.7268525903875178 data: 2880 train_acc 82.08333253860474 test_acc 77.12121605873108\n",
      "Epoch: 100 Loss: 1.664101450973087 Test Loss: 1.719162648374384 data: 2880 train_acc 82.60416388511658 test_acc 77.12121605873108\n",
      "Epoch: 25 Loss: 1.754502178493299 Test Loss: 1.804586497220126 data: 3040 train_acc 78.42105031013489 test_acc 71.15530371665955\n",
      "Epoch: 50 Loss: 1.6974890501875626 Test Loss: 1.7467155131426724 data: 3040 train_acc 81.05263113975525 test_acc 75.70075988769531\n",
      "Epoch: 75 Loss: 1.675898099573035 Test Loss: 1.7203885208476672 data: 3040 train_acc 81.97368383407593 test_acc 76.85605883598328\n",
      "Epoch: 100 Loss: 1.6636287676660637 Test Loss: 1.7137562144886365 data: 3040 train_acc 82.56579041481018 test_acc 77.42424011230469\n",
      "Epoch: 25 Loss: 1.7458375352621078 Test Loss: 1.7947044697674839 data: 3200 train_acc 79.18750047683716 test_acc 71.13636136054993\n",
      "Epoch: 50 Loss: 1.692632902264595 Test Loss: 1.738737854090604 data: 3200 train_acc 81.25 test_acc 76.26894116401672\n",
      "Epoch: 75 Loss: 1.6719538980722428 Test Loss: 1.72750939022411 data: 3200 train_acc 82.21874833106995 test_acc 76.57196521759033\n",
      "Epoch: 100 Loss: 1.660685077905655 Test Loss: 1.708122437650507 data: 3200 train_acc 83.15625190734863 test_acc 77.14014649391174\n",
      "Epoch: 25 Loss: 1.7378432597432818 Test Loss: 1.7790889523246072 data: 3360 train_acc 78.75000238418579 test_acc 74.26136136054993\n",
      "Epoch: 50 Loss: 1.6867926853043693 Test Loss: 1.7360206083817915 data: 3360 train_acc 81.87500238418579 test_acc 76.83712244033813\n",
      "Epoch: 75 Loss: 1.6664162493887402 Test Loss: 1.7236805178902366 data: 3360 train_acc 82.79761672019958 test_acc 76.85605883598328\n",
      "Epoch: 100 Loss: 1.6551691867056346 Test Loss: 1.7081711292266846 data: 3360 train_acc 83.09524059295654 test_acc 77.42424011230469\n",
      "Epoch: 25 Loss: 1.7549551194364374 Test Loss: 1.789614980871027 data: 3520 train_acc 78.66477370262146 test_acc 74.84848499298096\n",
      "Epoch: 50 Loss: 1.6865154000845823 Test Loss: 1.7366295727816494 data: 3520 train_acc 81.81818127632141 test_acc 76.55303478240967\n",
      "Epoch: 75 Loss: 1.6662509809840809 Test Loss: 1.7189069769599221 data: 3520 train_acc 82.69886374473572 test_acc 77.70833373069763\n",
      "Epoch: 100 Loss: 1.654423754865473 Test Loss: 1.7031578692522915 data: 3520 train_acc 83.26704502105713 test_acc 77.70833373069763\n",
      "Epoch: 25 Loss: 1.730422588016676 Test Loss: 1.7777422124689275 data: 3680 train_acc 79.80978488922119 test_acc 73.71212244033813\n",
      "Epoch: 50 Loss: 1.6800478650176007 Test Loss: 1.735259858044711 data: 3680 train_acc 81.92934989929199 test_acc 76.26894116401672\n",
      "Epoch: 75 Loss: 1.661990283364835 Test Loss: 1.7127353061329236 data: 3680 train_acc 83.0706536769867 test_acc 77.70833373069763\n",
      "Epoch: 100 Loss: 1.6516753585442252 Test Loss: 1.6991805271668867 data: 3680 train_acc 83.5326075553894 test_acc 78.56060266494751\n",
      "Epoch: 25 Loss: 1.7310879826545715 Test Loss: 1.7713281241330234 data: 3840 train_acc 79.19270992279053 test_acc 74.56439733505249\n",
      "Epoch: 50 Loss: 1.6809497460722924 Test Loss: 1.7386317686601118 data: 3840 train_acc 81.84896111488342 test_acc 75.70075988769531\n",
      "Epoch: 75 Loss: 1.6626801177859307 Test Loss: 1.7234983986074275 data: 3840 train_acc 82.68229365348816 test_acc 76.28787755966187\n",
      "Epoch: 100 Loss: 1.652202020585537 Test Loss: 1.7081546024842695 data: 3840 train_acc 83.5156261920929 test_acc 78.57954502105713\n",
      "Epoch: 25 Loss: 1.6815983486175536 Test Loss: 1.7367889989506116 data: 4000 train_acc 86.32500171661377 test_acc 77.38636136054993\n",
      "Epoch: 50 Loss: 1.6268058414459228 Test Loss: 1.6847923777320168 data: 4000 train_acc 88.82499933242798 test_acc 82.25378394126892\n",
      "Epoch: 75 Loss: 1.603868731021881 Test Loss: 1.6571568142284046 data: 4000 train_acc 89.99999761581421 test_acc 84.28030014038086\n",
      "Epoch: 100 Loss: 1.59086869764328 Test Loss: 1.6450708454305476 data: 4000 train_acc 90.79999923706055 test_acc 83.71211886405945\n",
      "Epoch: 25 Loss: 1.744424610871535 Test Loss: 1.7818120067769831 data: 4160 train_acc 78.94230484962463 test_acc 74.84848499298096\n",
      "Epoch: 50 Loss: 1.6391755388333247 Test Loss: 1.6902401447296143 data: 4160 train_acc 88.10096383094788 test_acc 81.95075988769531\n",
      "Epoch: 75 Loss: 1.608766192656297 Test Loss: 1.656776655804027 data: 4160 train_acc 89.51923251152039 test_acc 83.39014649391174\n",
      "Epoch: 100 Loss: 1.5933926000044896 Test Loss: 1.6408855806697498 data: 4160 train_acc 90.60096144676208 test_acc 85.70075631141663\n",
      "Epoch: 25 Loss: 1.6765013368041426 Test Loss: 1.7333537231792102 data: 4320 train_acc 86.08796000480652 test_acc 78.54166626930237\n",
      "Epoch: 50 Loss: 1.624551694922977 Test Loss: 1.671320449222218 data: 4320 train_acc 88.84259462356567 test_acc 83.95833373069763\n",
      "Epoch: 75 Loss: 1.603110709896794 Test Loss: 1.653286023573442 data: 4320 train_acc 89.79166746139526 test_acc 85.39772629737854\n",
      "Epoch: 100 Loss: 1.5910919776669254 Test Loss: 1.6366637511686846 data: 4320 train_acc 90.37036895751953 test_acc 85.41666269302368\n",
      "Epoch: 25 Loss: 1.6756637534924916 Test Loss: 1.7348052913492376 data: 4480 train_acc 86.09374761581421 test_acc 78.54166626930237\n",
      "Epoch: 50 Loss: 1.6233829029968807 Test Loss: 1.6722378730773926 data: 4480 train_acc 88.45981955528259 test_acc 82.80303478240967\n",
      "Epoch: 75 Loss: 1.601930205311094 Test Loss: 1.657688639380715 data: 4480 train_acc 89.82142806053162 test_acc 84.54545736312866\n",
      "Epoch: 100 Loss: 1.5906928556306021 Test Loss: 1.6379295154051348 data: 4480 train_acc 90.64732193946838 test_acc 85.39772629737854\n",
      "Epoch: 25 Loss: 1.6726888035905771 Test Loss: 1.7230491204695269 data: 4640 train_acc 86.33620738983154 test_acc 80.0000011920929\n",
      "Epoch: 50 Loss: 1.622740520279983 Test Loss: 1.6636202118613503 data: 4640 train_acc 88.4482741355896 test_acc 84.54545736312866\n",
      "Epoch: 75 Loss: 1.6015874229628464 Test Loss: 1.6414484977722168 data: 4640 train_acc 89.95689749717712 test_acc 85.98484396934509\n",
      "Epoch: 100 Loss: 1.5898224214027668 Test Loss: 1.630777272311124 data: 4640 train_acc 90.58189392089844 test_acc 86.5719735622406\n",
      "Epoch: 25 Loss: 1.6716584765911102 Test Loss: 1.7302062511444092 data: 4800 train_acc 86.56250238418579 test_acc 79.41287755966187\n",
      "Epoch: 50 Loss: 1.6193300477663677 Test Loss: 1.6693215045061978 data: 4800 train_acc 88.7708306312561 test_acc 84.28030014038086\n",
      "Epoch: 75 Loss: 1.5990130758285523 Test Loss: 1.6496236757798628 data: 4800 train_acc 90.10416865348816 test_acc 84.5643937587738\n",
      "Epoch: 100 Loss: 1.587368930975596 Test Loss: 1.640897967598655 data: 4800 train_acc 90.68750143051147 test_acc 85.4356050491333\n",
      "Epoch: 25 Loss: 1.6653960247193613 Test Loss: 1.7221368551254272 data: 4960 train_acc 86.713707447052 test_acc 78.82575988769531\n",
      "Epoch: 50 Loss: 1.6173723459243774 Test Loss: 1.6794042153791948 data: 4960 train_acc 88.89113068580627 test_acc 83.1250011920929\n",
      "Epoch: 75 Loss: 1.597983145713806 Test Loss: 1.6448778130791404 data: 4960 train_acc 90.06048440933228 test_acc 85.41666269302368\n",
      "Epoch: 100 Loss: 1.5870417318036478 Test Loss: 1.626917308027094 data: 4960 train_acc 90.76613187789917 test_acc 85.41666269302368\n",
      "Epoch: 25 Loss: 1.7090380102396012 Test Loss: 1.7177084684371948 data: 5120 train_acc 80.6640625 test_acc 80.85227608680725\n",
      "Epoch: 50 Loss: 1.619764808192849 Test Loss: 1.65351740880446 data: 5120 train_acc 88.82812261581421 test_acc 84.58333611488342\n",
      "Epoch: 75 Loss: 1.5990372952073812 Test Loss: 1.6341434175317937 data: 5120 train_acc 90.1171863079071 test_acc 86.5719735622406\n",
      "Epoch: 100 Loss: 1.5872389893978833 Test Loss: 1.6250166784633289 data: 5120 train_acc 90.33203125 test_acc 86.5719735622406\n"
     ]
    },
    {
     "name": "stdout",
     "output_type": "stream",
     "text": [
      "Epoch: 25 Loss: 1.667356749014421 Test Loss: 1.6957830082286487 data: 5280 train_acc 86.60984635353088 test_acc 83.14393758773804\n",
      "Epoch: 50 Loss: 1.6150827035759434 Test Loss: 1.6431340087543835 data: 5280 train_acc 88.92045617103577 test_acc 85.98484396934509\n",
      "Epoch: 75 Loss: 1.595037869973616 Test Loss: 1.6215188178149136 data: 5280 train_acc 89.73484635353088 test_acc 87.70833611488342\n",
      "Epoch: 100 Loss: 1.5848905606703325 Test Loss: 1.6205194213173606 data: 5280 train_acc 90.77651500701904 test_acc 86.85606122016907\n",
      "Epoch: 25 Loss: 1.662724912517211 Test Loss: 1.6878358234058728 data: 5440 train_acc 87.05882430076599 test_acc 85.41666269302368\n",
      "Epoch: 50 Loss: 1.6109553158283234 Test Loss: 1.6462164250287143 data: 5440 train_acc 89.22793865203857 test_acc 85.41666269302368\n",
      "Epoch: 75 Loss: 1.592175255803501 Test Loss: 1.6276102607900447 data: 5440 train_acc 90.33088088035583 test_acc 86.85606122016907\n",
      "Epoch: 100 Loss: 1.5816442121477687 Test Loss: 1.6114079410379583 data: 5440 train_acc 91.1213219165802 test_acc 87.42424249649048\n",
      "Epoch: 25 Loss: 1.6545597982406617 Test Loss: 1.6871073896234685 data: 5600 train_acc 87.6964271068573 test_acc 84.28030014038086\n",
      "Epoch: 50 Loss: 1.607919064589909 Test Loss: 1.6401651555841619 data: 5600 train_acc 89.9821400642395 test_acc 86.26893758773804\n",
      "Epoch: 75 Loss: 1.5892505768367222 Test Loss: 1.6232692328366367 data: 5600 train_acc 90.66071510314941 test_acc 86.5530252456665\n",
      "Epoch: 100 Loss: 1.5787088653019496 Test Loss: 1.6112867377021096 data: 5600 train_acc 91.08928442001343 test_acc 86.85606122016907\n",
      "Epoch: 25 Loss: 1.6504243744744196 Test Loss: 1.681682055646723 data: 5760 train_acc 87.63889074325562 test_acc 83.97727608680725\n",
      "Epoch: 50 Loss: 1.605042894019021 Test Loss: 1.639468875798312 data: 5760 train_acc 89.60069417953491 test_acc 86.5530252456665\n",
      "Epoch: 75 Loss: 1.5875789278083376 Test Loss: 1.6176925138993696 data: 5760 train_acc 90.88541865348816 test_acc 87.14015483856201\n",
      "Epoch: 100 Loss: 1.5776563144392437 Test Loss: 1.604502341964028 data: 5760 train_acc 91.0069465637207 test_acc 88.29545378684998\n",
      "Epoch: 25 Loss: 1.6442250454748 Test Loss: 1.6879642659967595 data: 5920 train_acc 87.78716325759888 test_acc 81.68560266494751\n",
      "Epoch: 50 Loss: 1.603243512720675 Test Loss: 1.632114518772472 data: 5920 train_acc 89.88175392150879 test_acc 85.98484396934509\n",
      "Epoch: 75 Loss: 1.586137186836552 Test Loss: 1.6187895428050647 data: 5920 train_acc 90.89527130126953 test_acc 87.14015483856201\n",
      "Epoch: 100 Loss: 1.5760385945036604 Test Loss: 1.6043574484911831 data: 5920 train_acc 91.60472750663757 test_acc 88.01136016845703\n",
      "Epoch: 25 Loss: 1.6501675141485115 Test Loss: 1.6740847500887783 data: 6080 train_acc 87.59868144989014 test_acc 85.70075631141663\n",
      "Epoch: 50 Loss: 1.603467470407486 Test Loss: 1.6331502849405461 data: 6080 train_acc 89.81907963752747 test_acc 85.98484396934509\n",
      "Epoch: 75 Loss: 1.5865855709502572 Test Loss: 1.616801987994801 data: 6080 train_acc 90.7072365283966 test_acc 86.85606122016907\n",
      "Epoch: 100 Loss: 1.576829673114576 Test Loss: 1.60240515795621 data: 6080 train_acc 91.34868383407593 test_acc 87.72726655006409\n",
      "Epoch: 25 Loss: 1.6398200906240024 Test Loss: 1.6714259494434704 data: 6240 train_acc 87.88461685180664 test_acc 84.84848141670227\n",
      "Epoch: 50 Loss: 1.6010490619219266 Test Loss: 1.6384564638137817 data: 6240 train_acc 89.51923251152039 test_acc 85.41666269302368\n",
      "Epoch: 75 Loss: 1.585310502541371 Test Loss: 1.6110380671241067 data: 6240 train_acc 90.57692289352417 test_acc 88.01136016845703\n",
      "Epoch: 100 Loss: 1.5754972717700861 Test Loss: 1.609243923967535 data: 6240 train_acc 91.28205180168152 test_acc 87.15908527374268\n",
      "Epoch: 25 Loss: 1.696810941696167 Test Loss: 1.7223083647814663 data: 6400 train_acc 80.46875 test_acc 78.2575786113739\n",
      "Epoch: 50 Loss: 1.6138340210914612 Test Loss: 1.639842000874606 data: 6400 train_acc 89.21874761581421 test_acc 84.82954502105713\n",
      "Epoch: 75 Loss: 1.5882550102472306 Test Loss: 1.6262761354446411 data: 6400 train_acc 90.7031238079071 test_acc 85.4356050491333\n",
      "Epoch: 100 Loss: 1.576289717257023 Test Loss: 1.6030323613773694 data: 6400 train_acc 91.50000214576721 test_acc 88.01136016845703\n",
      "Epoch: 25 Loss: 1.6382844828977818 Test Loss: 1.6721327196468005 data: 6560 train_acc 88.32316994667053 test_acc 83.99620652198792\n",
      "Epoch: 50 Loss: 1.597440172695532 Test Loss: 1.6263870976187966 data: 6560 train_acc 89.95426893234253 test_acc 86.85606122016907\n",
      "Epoch: 75 Loss: 1.5818587181044788 Test Loss: 1.6090572205456821 data: 6560 train_acc 90.8689022064209 test_acc 87.72726655006409\n",
      "Epoch: 100 Loss: 1.572914466916061 Test Loss: 1.6059669039466165 data: 6560 train_acc 91.57012104988098 test_acc 87.72726655006409\n",
      "Epoch: 25 Loss: 1.6373891952491941 Test Loss: 1.6614016186107288 data: 6720 train_acc 87.85714507102966 test_acc 86.28787994384766\n",
      "Epoch: 50 Loss: 1.5980359724589757 Test Loss: 1.6180643493478948 data: 6720 train_acc 89.7470235824585 test_acc 86.83711886405945\n",
      "Epoch: 75 Loss: 1.5823361859435128 Test Loss: 1.5965270779349587 data: 6720 train_acc 90.9375011920929 test_acc 88.3143961429596\n",
      "Epoch: 100 Loss: 1.5727269010884422 Test Loss: 1.5926644260233098 data: 6720 train_acc 91.35416746139526 test_acc 88.29545378684998\n",
      "Epoch: 25 Loss: 1.637612848503645 Test Loss: 1.6485092531551013 data: 6880 train_acc 88.00871968269348 test_acc 85.71969866752625\n",
      "Epoch: 50 Loss: 1.5982498687367106 Test Loss: 1.6144807447086682 data: 6880 train_acc 89.9418592453003 test_acc 87.99242377281189\n",
      "Epoch: 75 Loss: 1.582281326415927 Test Loss: 1.5958466854962436 data: 6880 train_acc 90.85755944252014 test_acc 88.86363506317139\n",
      "Epoch: 100 Loss: 1.5731538049010343 Test Loss: 1.5904196934266523 data: 6880 train_acc 91.3517415523529 test_acc 88.57954144477844\n",
      "Epoch: 25 Loss: 1.6344245062632994 Test Loss: 1.6456437652761287 data: 7040 train_acc 87.95454502105713 test_acc 86.28787994384766\n",
      "Epoch: 50 Loss: 1.5961205422878266 Test Loss: 1.6160194006833164 data: 7040 train_acc 89.82954621315002 test_acc 88.01136016845703\n",
      "Epoch: 75 Loss: 1.5809223050420935 Test Loss: 1.5985430695793845 data: 7040 train_acc 91.02272987365723 test_acc 89.16666507720947\n",
      "Epoch: 100 Loss: 1.5718708303841677 Test Loss: 1.5930701385844837 data: 7040 train_acc 91.42045378684998 test_acc 89.4318163394928\n",
      "Epoch: 25 Loss: 1.6880577188067967 Test Loss: 1.7022437724200161 data: 7200 train_acc 80.9583306312561 test_acc 79.71591353416443\n",
      "Epoch: 50 Loss: 1.6015460387865703 Test Loss: 1.608605688268488 data: 7200 train_acc 89.94444608688354 test_acc 89.16666507720947\n",
      "Epoch: 75 Loss: 1.582082708676656 Test Loss: 1.5969959822568027 data: 7200 train_acc 91.0277783870697 test_acc 89.73484635353088\n",
      "Epoch: 100 Loss: 1.571977804236942 Test Loss: 1.5861425616524436 data: 7200 train_acc 91.41666889190674 test_acc 90.30303359031677\n",
      "Epoch: 25 Loss: 1.6353878679482834 Test Loss: 1.6473876237869263 data: 7360 train_acc 88.49184513092041 test_acc 86.00378632545471\n",
      "Epoch: 50 Loss: 1.593958674824756 Test Loss: 1.602077917619185 data: 7360 train_acc 90.3124988079071 test_acc 89.16666507720947\n",
      "Epoch: 75 Loss: 1.578369151768477 Test Loss: 1.5854418494484641 data: 7360 train_acc 91.1548912525177 test_acc 90.30303359031677\n",
      "Epoch: 100 Loss: 1.5692964758562005 Test Loss: 1.5793876647949219 data: 7360 train_acc 91.69837236404419 test_acc 90.87121486663818\n",
      "Epoch: 25 Loss: 1.6310434582385611 Test Loss: 1.632259260524403 data: 7520 train_acc 88.3643627166748 test_acc 87.99242377281189\n",
      "Epoch: 50 Loss: 1.592376425418448 Test Loss: 1.5944123051383279 data: 7520 train_acc 90.17287492752075 test_acc 89.14772272109985\n",
      "Epoch: 75 Loss: 1.5771011915612727 Test Loss: 1.583298921585083 data: 7520 train_acc 91.30319356918335 test_acc 90.30303359031677\n",
      "Epoch: 100 Loss: 1.5684196690295604 Test Loss: 1.5727971250360662 data: 7520 train_acc 91.84840321540833 test_acc 91.4393961429596\n",
      "Epoch: 25 Loss: 1.6259077365199726 Test Loss: 1.6303039355711504 data: 7680 train_acc 88.60676884651184 test_acc 87.99242377281189\n",
      "Epoch: 50 Loss: 1.5905413885911306 Test Loss: 1.5998857021331787 data: 7680 train_acc 90.49479365348816 test_acc 88.882577419281\n",
      "Epoch: 75 Loss: 1.576062157501777 Test Loss: 1.5825220996683294 data: 7680 train_acc 91.31510257720947 test_acc 90.58712124824524\n"
     ]
    },
    {
     "name": "stdout",
     "output_type": "stream",
     "text": [
      "Epoch: 100 Loss: 1.5674766212701798 Test Loss: 1.5746776190671055 data: 7680 train_acc 91.82291626930237 test_acc 91.15530252456665\n",
      "Epoch: 25 Loss: 1.6302168152770218 Test Loss: 1.623137506571683 data: 7840 train_acc 88.25255036354065 test_acc 88.27651739120483\n",
      "Epoch: 50 Loss: 1.589958148829791 Test Loss: 1.5952955809506504 data: 7840 train_acc 90.52295684814453 test_acc 89.4318163394928\n",
      "Epoch: 75 Loss: 1.5748316526412964 Test Loss: 1.5781711339950562 data: 7840 train_acc 91.32652878761292 test_acc 91.4393961429596\n",
      "Epoch: 100 Loss: 1.5661220370506754 Test Loss: 1.5708498846400867 data: 7840 train_acc 91.73469543457031 test_acc 91.42045378684998\n",
      "Epoch: 25 Loss: 1.6294953496456146 Test Loss: 1.627580295909535 data: 8000 train_acc 88.62500190734863 test_acc 88.57954144477844\n",
      "Epoch: 50 Loss: 1.5902229866981505 Test Loss: 1.5855833725495772 data: 8000 train_acc 90.6000018119812 test_acc 90.87121486663818\n",
      "Epoch: 75 Loss: 1.5750273752212525 Test Loss: 1.5723669637333264 data: 8000 train_acc 91.36250019073486 test_acc 91.15530252456665\n",
      "Epoch: 100 Loss: 1.566615923166275 Test Loss: 1.5616102110255847 data: 8000 train_acc 91.61249995231628 test_acc 92.85984635353088\n",
      "\n",
      "\n",
      "Run Number: 2\n",
      "Epoch: 25 Loss: 2.148442339897156 Test Loss: 2.1771508997136895 data: 160 train_acc 44.999998807907104 test_acc 43.39015185832977\n",
      "Epoch: 50 Loss: 2.046549940109253 Test Loss: 2.0921490409157495 data: 160 train_acc 54.374998807907104 test_acc 47.708332538604736\n",
      "Epoch: 75 Loss: 1.9954076886177063 Test Loss: 2.0547076246955176 data: 160 train_acc 55.000001192092896 test_acc 47.708332538604736\n",
      "Epoch: 100 Loss: 1.929343295097351 Test Loss: 2.023074648597024 data: 160 train_acc 64.3750011920929 test_acc 52.272725105285645\n",
      "Epoch: 25 Loss: 2.064584332704544 Test Loss: 2.118278308348222 data: 320 train_acc 51.249998807907104 test_acc 45.39772868156433\n",
      "Epoch: 50 Loss: 1.9358261048793792 Test Loss: 2.0327905958349053 data: 320 train_acc 66.56249761581421 test_acc 49.39393997192383\n",
      "Epoch: 75 Loss: 1.8782064378261567 Test Loss: 1.999113841490312 data: 320 train_acc 67.5000011920929 test_acc 50.265151262283325\n",
      "Epoch: 100 Loss: 1.8445487141609191 Test Loss: 1.9746525179256091 data: 320 train_acc 71.5624988079071 test_acc 53.10606360435486\n",
      "Epoch: 25 Loss: 1.9932026465733845 Test Loss: 2.0402814691716973 data: 480 train_acc 63.12500238418579 test_acc 55.984848737716675\n",
      "Epoch: 50 Loss: 1.8915485779444376 Test Loss: 1.9648629752072422 data: 480 train_acc 66.04166626930237 test_acc 56.28787875175476\n",
      "Epoch: 75 Loss: 1.834724489847819 Test Loss: 1.9072756658900867 data: 480 train_acc 72.29166626930237 test_acc 61.742424964904785\n",
      "Epoch: 100 Loss: 1.7871309320131938 Test Loss: 1.8616350564089688 data: 480 train_acc 75.62500238418579 test_acc 66.02272391319275\n",
      "Epoch: 25 Loss: 1.9624512642621994 Test Loss: 1.9698793671347878 data: 640 train_acc 68.4374988079071 test_acc 65.13257622718811\n",
      "Epoch: 50 Loss: 1.85277199447155 Test Loss: 1.8670718995007602 data: 640 train_acc 70.46874761581421 test_acc 67.12121367454529\n",
      "Epoch: 75 Loss: 1.7771403342485428 Test Loss: 1.8197042725302957 data: 640 train_acc 77.96875238418579 test_acc 72.25378751754761\n",
      "Epoch: 100 Loss: 1.7385121911764145 Test Loss: 1.7931533510034734 data: 640 train_acc 80.9374988079071 test_acc 74.29924011230469\n",
      "Epoch: 25 Loss: 1.9349402141571046 Test Loss: 1.9843975739045576 data: 800 train_acc 64.24999833106995 test_acc 57.40530490875244\n",
      "Epoch: 50 Loss: 1.8623104190826416 Test Loss: 1.93017531525005 data: 800 train_acc 66.12499952316284 test_acc 58.27651619911194\n",
      "Epoch: 75 Loss: 1.787360849380493 Test Loss: 1.8434463847767224 data: 800 train_acc 74.25000071525574 test_acc 67.14015007019043\n",
      "Epoch: 100 Loss: 1.7327460312843324 Test Loss: 1.7992695353247903 data: 800 train_acc 80.87499737739563 test_acc 72.84090518951416\n",
      "Epoch: 25 Loss: 1.8997017641862233 Test Loss: 1.9247232350436123 data: 960 train_acc 65.83333611488342 test_acc 61.723482608795166\n",
      "Epoch: 50 Loss: 1.809071179231008 Test Loss: 1.8396200158379294 data: 960 train_acc 72.81249761581421 test_acc 69.98105645179749\n",
      "Epoch: 75 Loss: 1.7289568384488423 Test Loss: 1.805702957240018 data: 960 train_acc 80.72916865348816 test_acc 70.89014649391174\n",
      "Epoch: 100 Loss: 1.6991233805815378 Test Loss: 1.7768513397736982 data: 960 train_acc 81.97916746139526 test_acc 72.85985350608826\n",
      "Epoch: 25 Loss: 1.8875452245984758 Test Loss: 1.903658314184709 data: 1120 train_acc 65.53571224212646 test_acc 62.29166388511658\n",
      "Epoch: 50 Loss: 1.7927012341363089 Test Loss: 1.8443450060757725 data: 1120 train_acc 73.48214387893677 test_acc 66.59090518951416\n",
      "Epoch: 75 Loss: 1.7241983549935478 Test Loss: 1.8018577749078923 data: 1120 train_acc 79.82142567634583 test_acc 71.15530371665955\n",
      "Epoch: 100 Loss: 1.696089221749987 Test Loss: 1.778413794257424 data: 1120 train_acc 82.32142925262451 test_acc 72.85985350608826\n",
      "Epoch: 25 Loss: 1.8999485224485397 Test Loss: 1.9076471328735352 data: 1280 train_acc 65.5468761920929 test_acc 62.00757622718811\n",
      "Epoch: 50 Loss: 1.8010188281536101 Test Loss: 1.8166107156059959 data: 1280 train_acc 73.046875 test_acc 71.98863625526428\n",
      "Epoch: 75 Loss: 1.7602092668414115 Test Loss: 1.7950851375406438 data: 1280 train_acc 74.84375238418579 test_acc 70.85227370262146\n",
      "Epoch: 100 Loss: 1.7100241988897324 Test Loss: 1.759805982763117 data: 1280 train_acc 80.7812511920929 test_acc 74.8674213886261\n",
      "Epoch: 25 Loss: 1.8856325984001159 Test Loss: 1.927623607895591 data: 1440 train_acc 64.58333134651184 test_acc 59.98106002807617\n",
      "Epoch: 50 Loss: 1.7537426749865215 Test Loss: 1.8051386313004927 data: 1440 train_acc 77.98610925674438 test_acc 72.57575988769531\n",
      "Epoch: 75 Loss: 1.7125644445419312 Test Loss: 1.7818850495598533 data: 1440 train_acc 80.62499761581421 test_acc 72.29166626930237\n",
      "Epoch: 100 Loss: 1.690442763434516 Test Loss: 1.757123437794772 data: 1440 train_acc 82.15277791023254 test_acc 74.28030371665955\n",
      "Epoch: 25 Loss: 1.8511142647266388 Test Loss: 1.854732957753268 data: 1600 train_acc 70.18749713897705 test_acc 69.98105645179749\n",
      "Epoch: 50 Loss: 1.759847195148468 Test Loss: 1.8013920892368664 data: 1600 train_acc 76.68750286102295 test_acc 70.30303478240967\n",
      "Epoch: 75 Loss: 1.707793265581131 Test Loss: 1.7637148011814465 data: 1600 train_acc 81.06250166893005 test_acc 73.71212244033813\n",
      "Epoch: 100 Loss: 1.6865668773651123 Test Loss: 1.7523747357455166 data: 1600 train_acc 81.68749809265137 test_acc 74.56439733505249\n",
      "Epoch: 25 Loss: 1.8762440703131935 Test Loss: 1.8742503686384722 data: 1760 train_acc 68.40909123420715 test_acc 69.10984516143799\n",
      "Epoch: 50 Loss: 1.7769835049455815 Test Loss: 1.7976634502410889 data: 1760 train_acc 73.1249988079071 test_acc 70.28408646583557\n",
      "Epoch: 75 Loss: 1.7095935236323963 Test Loss: 1.7625962495803833 data: 1760 train_acc 80.85227012634277 test_acc 74.29924011230469\n",
      "Epoch: 100 Loss: 1.6867074749686501 Test Loss: 1.7463022687218406 data: 1760 train_acc 82.15909004211426 test_acc 74.84848499298096\n",
      "Epoch: 25 Loss: 1.831199120481809 Test Loss: 1.8378135616129094 data: 1920 train_acc 70.36458253860474 test_acc 69.98105645179749\n",
      "Epoch: 50 Loss: 1.7305253177881241 Test Loss: 1.7779138413342563 data: 1920 train_acc 79.79166507720947 test_acc 73.42803478240967\n",
      "Epoch: 75 Loss: 1.696661447485288 Test Loss: 1.7548672285946934 data: 1920 train_acc 81.14583492279053 test_acc 74.28030371665955\n",
      "Epoch: 100 Loss: 1.6787188311417898 Test Loss: 1.7338029904799028 data: 1920 train_acc 82.23958611488342 test_acc 75.98485350608826\n",
      "Epoch: 25 Loss: 1.8124459807689373 Test Loss: 1.8496811498295178 data: 2080 train_acc 71.49038314819336 test_acc 66.00378751754761\n",
      "Epoch: 50 Loss: 1.7203910304949834 Test Loss: 1.7716496640985662 data: 2080 train_acc 80.14423251152039 test_acc 74.56439733505249\n",
      "Epoch: 75 Loss: 1.6908702593583327 Test Loss: 1.749026894569397 data: 2080 train_acc 81.68269395828247 test_acc 74.84848499298096\n",
      "Epoch: 100 Loss: 1.6744401069787833 Test Loss: 1.7254112850535999 data: 2080 train_acc 82.4999988079071 test_acc 76.85605883598328\n",
      "Epoch: 25 Loss: 1.7881475371973856 Test Loss: 1.8118337176062844 data: 2240 train_acc 76.2499988079071 test_acc 73.42803478240967\n",
      "Epoch: 50 Loss: 1.712736407348088 Test Loss: 1.7558851675553755 data: 2240 train_acc 80.49107193946838 test_acc 74.84848499298096\n"
     ]
    },
    {
     "name": "stdout",
     "output_type": "stream",
     "text": [
      "Epoch: 75 Loss: 1.6864760884216854 Test Loss: 1.7341815124858508 data: 2240 train_acc 82.00892806053162 test_acc 77.12121605873108\n",
      "Epoch: 100 Loss: 1.6712997555732727 Test Loss: 1.7283526008779353 data: 2240 train_acc 82.58928656578064 test_acc 76.26894116401672\n",
      "Epoch: 25 Loss: 1.8069556721051534 Test Loss: 1.8222190575166182 data: 2400 train_acc 71.83333039283752 test_acc 70.26515007019043\n",
      "Epoch: 50 Loss: 1.7138835207621257 Test Loss: 1.7640311176126653 data: 2400 train_acc 79.83333468437195 test_acc 73.99621605873108\n",
      "Epoch: 75 Loss: 1.6851548568407695 Test Loss: 1.730114763433283 data: 2400 train_acc 81.87500238418579 test_acc 76.83712244033813\n",
      "Epoch: 100 Loss: 1.6697890528043111 Test Loss: 1.7247367121956565 data: 2400 train_acc 82.62500166893005 test_acc 77.42424011230469\n",
      "Epoch: 25 Loss: 1.8039553858339787 Test Loss: 1.8222027691927822 data: 2560 train_acc 72.3437488079071 test_acc 70.28408646583557\n",
      "Epoch: 50 Loss: 1.7247417770326137 Test Loss: 1.7523088238456033 data: 2560 train_acc 80.03906011581421 test_acc 76.26894116401672\n",
      "Epoch: 75 Loss: 1.6474833339452744 Test Loss: 1.6982373974540017 data: 2560 train_acc 87.9687488079071 test_acc 79.67803478240967\n",
      "Epoch: 100 Loss: 1.6188688591122626 Test Loss: 1.6692687706513838 data: 2560 train_acc 89.5312488079071 test_acc 82.82196521759033\n",
      "Epoch: 25 Loss: 1.7922323325101066 Test Loss: 1.808639038692821 data: 2720 train_acc 75.0 test_acc 73.40908646583557\n",
      "Epoch: 50 Loss: 1.7028378255227032 Test Loss: 1.758651527491483 data: 2720 train_acc 80.77206015586853 test_acc 73.71212244033813\n",
      "Epoch: 75 Loss: 1.6793885967310738 Test Loss: 1.730364658615806 data: 2720 train_acc 81.98529481887817 test_acc 76.83712244033813\n",
      "Epoch: 100 Loss: 1.6656576598391812 Test Loss: 1.7215198928659612 data: 2720 train_acc 82.75735378265381 test_acc 77.40530371665955\n",
      "Epoch: 25 Loss: 1.7645516289605034 Test Loss: 1.8069102980873801 data: 2880 train_acc 78.125 test_acc 72.84090518951416\n",
      "Epoch: 50 Loss: 1.7000237504641216 Test Loss: 1.7496226809241555 data: 2880 train_acc 80.97222447395325 test_acc 75.41666626930237\n",
      "Epoch: 75 Loss: 1.6765599727630616 Test Loss: 1.7247225262902 data: 2880 train_acc 82.01388716697693 test_acc 76.55303478240967\n",
      "Epoch: 100 Loss: 1.6637242039044697 Test Loss: 1.7171991846778176 data: 2880 train_acc 82.67360925674438 test_acc 77.42424011230469\n",
      "Epoch: 25 Loss: 1.7580909741552253 Test Loss: 1.8014348203485662 data: 3040 train_acc 78.48684191703796 test_acc 71.72348499298096\n",
      "Epoch: 50 Loss: 1.697286755787699 Test Loss: 1.7445208484476262 data: 3040 train_acc 81.18420839309692 test_acc 75.70075988769531\n",
      "Epoch: 75 Loss: 1.6274579575187282 Test Loss: 1.6801317821849475 data: 3040 train_acc 89.34210538864136 test_acc 81.68560266494751\n",
      "Epoch: 100 Loss: 1.6070416011308368 Test Loss: 1.6549344821409746 data: 3040 train_acc 90.03289341926575 test_acc 83.39014649391174\n",
      "Epoch: 25 Loss: 1.7483495634794235 Test Loss: 1.7959161563353105 data: 3200 train_acc 78.37499976158142 test_acc 71.72348499298096\n",
      "Epoch: 50 Loss: 1.693137538433075 Test Loss: 1.7427358410575173 data: 3200 train_acc 81.43749833106995 test_acc 75.98485350608826\n",
      "Epoch: 75 Loss: 1.6723792612552644 Test Loss: 1.7218848575245251 data: 3200 train_acc 82.18749761581421 test_acc 76.85605883598328\n",
      "Epoch: 100 Loss: 1.6603718400001526 Test Loss: 1.71011944250627 data: 3200 train_acc 82.90625214576721 test_acc 77.70833373069763\n",
      "Epoch: 25 Loss: 1.7768310342516218 Test Loss: 1.7967951406132092 data: 3360 train_acc 73.21428656578064 test_acc 71.98863625526428\n",
      "Epoch: 50 Loss: 1.70797092687516 Test Loss: 1.7385069890455767 data: 3360 train_acc 80.0000011920929 test_acc 76.83712244033813\n",
      "Epoch: 75 Loss: 1.6718998840876989 Test Loss: 1.7209456183693626 data: 3360 train_acc 82.17262029647827 test_acc 77.70833373069763\n",
      "Epoch: 100 Loss: 1.6578585783640543 Test Loss: 1.7128047184510664 data: 3360 train_acc 83.1250011920929 test_acc 77.14014649391174\n",
      "Epoch: 25 Loss: 1.7710811869664627 Test Loss: 1.7925558198582043 data: 3520 train_acc 74.06250238418579 test_acc 72.5568175315857\n",
      "Epoch: 50 Loss: 1.6884487688541412 Test Loss: 1.7383004968816584 data: 3520 train_acc 81.5625011920929 test_acc 76.85605883598328\n",
      "Epoch: 75 Loss: 1.6266421816565775 Test Loss: 1.6836776733398438 data: 3520 train_acc 89.09090757369995 test_acc 81.40151500701904\n",
      "Epoch: 100 Loss: 1.6019035258076408 Test Loss: 1.6554724411530928 data: 3520 train_acc 90.22727012634277 test_acc 82.53787755966187\n",
      "Epoch: 25 Loss: 1.7347617952719978 Test Loss: 1.7782778956673362 data: 3680 train_acc 79.59238886833191 test_acc 75.1325786113739\n",
      "Epoch: 50 Loss: 1.681802513288415 Test Loss: 1.7367508953267878 data: 3680 train_acc 81.92934989929199 test_acc 76.26894116401672\n",
      "Epoch: 75 Loss: 1.6628489903781725 Test Loss: 1.7171376184983687 data: 3680 train_acc 82.88043737411499 test_acc 77.9924213886261\n",
      "Epoch: 100 Loss: 1.6517412584760915 Test Loss: 1.7005828727375378 data: 3680 train_acc 83.5597813129425 test_acc 77.42424011230469\n",
      "Epoch: 25 Loss: 1.768543887635072 Test Loss: 1.7875072956085205 data: 3840 train_acc 73.77604246139526 test_acc 72.53787517547607\n",
      "Epoch: 50 Loss: 1.6834600915511448 Test Loss: 1.7368248375979336 data: 3840 train_acc 81.79687261581421 test_acc 76.55303478240967\n",
      "Epoch: 75 Loss: 1.663832961022854 Test Loss: 1.7165531787005337 data: 3840 train_acc 82.68229365348816 test_acc 77.42424011230469\n",
      "Epoch: 100 Loss: 1.653033437828223 Test Loss: 1.710220380262895 data: 3840 train_acc 83.203125 test_acc 78.01136374473572\n",
      "Epoch: 25 Loss: 1.7257549939155579 Test Loss: 1.7845602469010786 data: 4000 train_acc 79.90000247955322 test_acc 71.13636136054993\n",
      "Epoch: 50 Loss: 1.6632701768875122 Test Loss: 1.7175424965945156 data: 4000 train_acc 86.32500171661377 test_acc 78.56060266494751\n",
      "Epoch: 75 Loss: 1.6122256150245666 Test Loss: 1.663386182351546 data: 4000 train_acc 89.67499732971191 test_acc 83.40909481048584\n",
      "Epoch: 100 Loss: 1.595144284725189 Test Loss: 1.6419482773000544 data: 4000 train_acc 90.57499766349792 test_acc 84.86742377281189\n",
      "Epoch: 25 Loss: 1.7308400965653934 Test Loss: 1.7682477560910312 data: 4160 train_acc 78.96634340286255 test_acc 74.56439733505249\n",
      "Epoch: 50 Loss: 1.681986677646637 Test Loss: 1.737608248537237 data: 4160 train_acc 81.65865540504456 test_acc 75.1325786113739\n",
      "Epoch: 75 Loss: 1.6645091836269086 Test Loss: 1.7135161703283137 data: 4160 train_acc 82.62019157409668 test_acc 77.4431824684143\n",
      "Epoch: 100 Loss: 1.6547499427428611 Test Loss: 1.7076736038381404 data: 4160 train_acc 83.05288553237915 test_acc 78.57954502105713\n",
      "Epoch: 25 Loss: 1.7384560293621487 Test Loss: 1.7682045914910056 data: 4320 train_acc 78.75000238418579 test_acc 75.70075988769531\n",
      "Epoch: 50 Loss: 1.68527948723899 Test Loss: 1.726521296934648 data: 4320 train_acc 81.31944537162781 test_acc 77.14014649391174\n",
      "Epoch: 75 Loss: 1.6129391961627537 Test Loss: 1.6551578478379683 data: 4320 train_acc 89.14352059364319 test_acc 83.39014649391174\n",
      "Epoch: 100 Loss: 1.5959489641366182 Test Loss: 1.636407028545033 data: 4320 train_acc 90.43981432914734 test_acc 85.98484396934509\n",
      "Epoch: 25 Loss: 1.7135281188147409 Test Loss: 1.7276588678359985 data: 4480 train_acc 82.65625238418579 test_acc 81.13636374473572\n",
      "Epoch: 50 Loss: 1.6260199563843862 Test Loss: 1.678127332167192 data: 4480 train_acc 88.43749761581421 test_acc 81.96969628334045\n",
      "Epoch: 75 Loss: 1.603866086261613 Test Loss: 1.6470570347525857 data: 4480 train_acc 89.77678418159485 test_acc 84.82954502105713\n",
      "Epoch: 100 Loss: 1.590559851697513 Test Loss: 1.6393453316255049 data: 4480 train_acc 90.53571224212646 test_acc 85.11363863945007\n",
      "Epoch: 25 Loss: 1.7012298904616256 Test Loss: 1.7144731825048274 data: 4640 train_acc 83.62069129943848 test_acc 83.14393758773804\n",
      "Epoch: 50 Loss: 1.6246555755878318 Test Loss: 1.6735673492605037 data: 4640 train_acc 88.36206793785095 test_acc 82.82196521759033\n",
      "Epoch: 75 Loss: 1.6025595492330091 Test Loss: 1.6433197151530872 data: 4640 train_acc 89.71982598304749 test_acc 84.84848141670227\n",
      "Epoch: 100 Loss: 1.5906699410800276 Test Loss: 1.6265145106749102 data: 4640 train_acc 90.38792848587036 test_acc 85.70075631141663\n",
      "Epoch: 25 Loss: 1.6740403858820598 Test Loss: 1.725797555663369 data: 4800 train_acc 86.04166507720947 test_acc 78.23863625526428\n"
     ]
    },
    {
     "name": "stdout",
     "output_type": "stream",
     "text": [
      "Epoch: 50 Loss: 1.6198019548257192 Test Loss: 1.6696538166566328 data: 4800 train_acc 88.95833492279053 test_acc 83.1250011920929\n",
      "Epoch: 75 Loss: 1.5989832496643066 Test Loss: 1.6523714607412165 data: 4800 train_acc 89.89583253860474 test_acc 84.84848141670227\n",
      "Epoch: 100 Loss: 1.5876477837562561 Test Loss: 1.6323855898597024 data: 4800 train_acc 90.43750166893005 test_acc 85.71969866752625\n",
      "Epoch: 25 Loss: 1.6703182343513734 Test Loss: 1.70973539352417 data: 4960 train_acc 86.22983694076538 test_acc 81.95075988769531\n",
      "Epoch: 50 Loss: 1.6186772919470265 Test Loss: 1.6629929217425259 data: 4960 train_acc 88.87096643447876 test_acc 84.5643937587738\n",
      "Epoch: 75 Loss: 1.598486993389745 Test Loss: 1.645983186635104 data: 4960 train_acc 90.02016186714172 test_acc 85.41666269302368\n",
      "Epoch: 100 Loss: 1.5865519412102238 Test Loss: 1.6371906020424583 data: 4960 train_acc 90.34274220466614 test_acc 84.84848141670227\n",
      "Epoch: 25 Loss: 1.6722560789436103 Test Loss: 1.7058221101760864 data: 5120 train_acc 86.26953363418579 test_acc 81.1174213886261\n",
      "Epoch: 50 Loss: 1.6179028555750847 Test Loss: 1.653242046182806 data: 5120 train_acc 88.90625238418579 test_acc 84.5643937587738\n",
      "Epoch: 75 Loss: 1.5979661535471679 Test Loss: 1.6256288398395886 data: 5120 train_acc 89.88281488418579 test_acc 86.26893758773804\n",
      "Epoch: 100 Loss: 1.5864314511418343 Test Loss: 1.6184413974935359 data: 5120 train_acc 90.58593511581421 test_acc 86.85606122016907\n",
      "Epoch: 25 Loss: 1.6647748333035093 Test Loss: 1.6857432560487227 data: 5280 train_acc 86.59090995788574 test_acc 84.84848141670227\n",
      "Epoch: 50 Loss: 1.6150741584373243 Test Loss: 1.6453996354883367 data: 5280 train_acc 88.90151381492615 test_acc 87.42424249649048\n",
      "Epoch: 75 Loss: 1.5957887562838469 Test Loss: 1.6223297877745195 data: 5280 train_acc 90.28409123420715 test_acc 87.14015483856201\n",
      "Epoch: 100 Loss: 1.5847616694190285 Test Loss: 1.6160181977532126 data: 5280 train_acc 90.68182110786438 test_acc 86.85606122016907\n",
      "Epoch: 25 Loss: 1.6597619354724884 Test Loss: 1.6975906545465642 data: 5440 train_acc 87.04044222831726 test_acc 82.53787755966187\n",
      "Epoch: 50 Loss: 1.6107316830578973 Test Loss: 1.6471675634384155 data: 5440 train_acc 89.33823704719543 test_acc 85.70075631141663\n",
      "Epoch: 75 Loss: 1.5921573214671192 Test Loss: 1.6207118142734875 data: 5440 train_acc 90.01837968826294 test_acc 86.5530252456665\n",
      "Epoch: 100 Loss: 1.5819539736298953 Test Loss: 1.6143797636032104 data: 5440 train_acc 90.95588326454163 test_acc 86.5719735622406\n",
      "Epoch: 25 Loss: 1.6595771782738822 Test Loss: 1.6896910342303189 data: 5600 train_acc 86.62499785423279 test_acc 83.40909481048584\n",
      "Epoch: 50 Loss: 1.608030685356685 Test Loss: 1.6453592018647627 data: 5600 train_acc 89.7857129573822 test_acc 85.98484396934509\n",
      "Epoch: 75 Loss: 1.5897828350748335 Test Loss: 1.6221982674165205 data: 5600 train_acc 90.53571224212646 test_acc 86.5530252456665\n",
      "Epoch: 100 Loss: 1.5788530584744045 Test Loss: 1.6110939437692815 data: 5600 train_acc 91.32142663002014 test_acc 86.85606122016907\n",
      "Epoch: 25 Loss: 1.6584121008714041 Test Loss: 1.6805907162753018 data: 5760 train_acc 87.20486164093018 test_acc 86.28787994384766\n",
      "Epoch: 50 Loss: 1.6064515954918333 Test Loss: 1.6490415659817783 data: 5760 train_acc 89.4444465637207 test_acc 85.13257503509521\n",
      "Epoch: 75 Loss: 1.588149759835667 Test Loss: 1.6218046383424238 data: 5760 train_acc 90.55555462837219 test_acc 85.98484396934509\n",
      "Epoch: 100 Loss: 1.5777795616123411 Test Loss: 1.6130406097932295 data: 5760 train_acc 91.19791388511658 test_acc 86.5719735622406\n",
      "Epoch: 25 Loss: 1.6543956034892313 Test Loss: 1.6786770820617676 data: 5920 train_acc 87.53378391265869 test_acc 84.84848141670227\n",
      "Epoch: 50 Loss: 1.6045879476779217 Test Loss: 1.6458827365528454 data: 5920 train_acc 89.66216444969177 test_acc 85.71969866752625\n",
      "Epoch: 75 Loss: 1.5868593889313776 Test Loss: 1.6192263473163953 data: 5920 train_acc 90.55743217468262 test_acc 87.42424249649048\n",
      "Epoch: 100 Loss: 1.5766005696477117 Test Loss: 1.61405395377766 data: 5920 train_acc 91.26689434051514 test_acc 86.85606122016907\n",
      "Epoch: 25 Loss: 1.6498197919444033 Test Loss: 1.6737897721203892 data: 6080 train_acc 87.45065927505493 test_acc 85.41666269302368\n",
      "Epoch: 50 Loss: 1.6034209888232382 Test Loss: 1.6380944360386243 data: 6080 train_acc 89.67105150222778 test_acc 85.41666269302368\n",
      "Epoch: 75 Loss: 1.5865239554329922 Test Loss: 1.6283712603829124 data: 6080 train_acc 90.5427634716034 test_acc 85.98484396934509\n",
      "Epoch: 100 Loss: 1.5762652616751822 Test Loss: 1.610420985655351 data: 6080 train_acc 91.05263352394104 test_acc 88.29545378684998\n",
      "Epoch: 25 Loss: 1.700375357346657 Test Loss: 1.7260002006183972 data: 6240 train_acc 80.44871687889099 test_acc 77.12121605873108\n",
      "Epoch: 50 Loss: 1.612893835397867 Test Loss: 1.6396134224804966 data: 6240 train_acc 89.51923251152039 test_acc 85.70075631141663\n",
      "Epoch: 75 Loss: 1.5892811286143766 Test Loss: 1.6232979080893777 data: 6240 train_acc 90.51281809806824 test_acc 87.15908527374268\n",
      "Epoch: 100 Loss: 1.5781959066024194 Test Loss: 1.5974620147184893 data: 6240 train_acc 91.00961685180664 test_acc 88.01136016845703\n",
      "Epoch: 25 Loss: 1.6722168347239494 Test Loss: 1.6954296285455877 data: 6400 train_acc 86.48437261581421 test_acc 81.40151500701904\n",
      "Epoch: 50 Loss: 1.6021150195598601 Test Loss: 1.6297641342336482 data: 6400 train_acc 89.74999785423279 test_acc 87.44317889213562\n",
      "Epoch: 75 Loss: 1.584092177450657 Test Loss: 1.6096923351287842 data: 6400 train_acc 90.78124761581421 test_acc 87.72726655006409\n",
      "Epoch: 100 Loss: 1.5741057732701302 Test Loss: 1.6052386327223345 data: 6400 train_acc 91.45312309265137 test_acc 88.01136016845703\n",
      "Epoch: 25 Loss: 1.6328280768743375 Test Loss: 1.6706347465515137 data: 6560 train_acc 88.29268217086792 test_acc 83.71211886405945\n",
      "Epoch: 50 Loss: 1.5965389083071453 Test Loss: 1.6207230199467053 data: 6560 train_acc 90.12194871902466 test_acc 86.5719735622406\n",
      "Epoch: 75 Loss: 1.5811536960485504 Test Loss: 1.6050180846994573 data: 6560 train_acc 91.05182886123657 test_acc 87.42424249649048\n",
      "Epoch: 100 Loss: 1.5723790910185838 Test Loss: 1.6032935272563587 data: 6560 train_acc 91.58536791801453 test_acc 87.72726655006409\n",
      "Epoch: 25 Loss: 1.6377669967356183 Test Loss: 1.6602533622221514 data: 6720 train_acc 88.0059540271759 test_acc 85.4356050491333\n",
      "Epoch: 50 Loss: 1.5978439603533063 Test Loss: 1.6133085922761397 data: 6720 train_acc 89.89583253860474 test_acc 86.85606122016907\n",
      "Epoch: 75 Loss: 1.5826262065342493 Test Loss: 1.6007183139974421 data: 6720 train_acc 90.625 test_acc 88.3143961429596\n",
      "Epoch: 100 Loss: 1.573184052535466 Test Loss: 1.5960392410104924 data: 6720 train_acc 91.35416746139526 test_acc 88.57954144477844\n",
      "Epoch: 25 Loss: 1.6435328206350637 Test Loss: 1.6482567136937922 data: 6880 train_acc 87.48546242713928 test_acc 87.42424249649048\n",
      "Epoch: 50 Loss: 1.598880940814351 Test Loss: 1.6222853985699741 data: 6880 train_acc 89.78197574615479 test_acc 86.5719735622406\n",
      "Epoch: 75 Loss: 1.5823454343995382 Test Loss: 1.6064819747751409 data: 6880 train_acc 90.74127674102783 test_acc 87.99242377281189\n",
      "Epoch: 100 Loss: 1.5733421849650007 Test Loss: 1.5845961679111829 data: 6880 train_acc 91.4098858833313 test_acc 90.30303359031677\n",
      "Epoch: 25 Loss: 1.6386396646499635 Test Loss: 1.6443557197397405 data: 7040 train_acc 87.76988387107849 test_acc 86.28787994384766\n",
      "Epoch: 50 Loss: 1.5970384868708525 Test Loss: 1.6119640306992964 data: 7040 train_acc 89.81534242630005 test_acc 87.99242377281189\n",
      "Epoch: 75 Loss: 1.581133118542758 Test Loss: 1.60058424689553 data: 7040 train_acc 90.78124761581421 test_acc 89.16666507720947\n",
      "Epoch: 100 Loss: 1.572160065445033 Test Loss: 1.5849607207558372 data: 7040 train_acc 91.63352251052856 test_acc 89.73484635353088\n",
      "Epoch: 25 Loss: 1.6285225841734143 Test Loss: 1.6398058045994153 data: 7200 train_acc 88.31944465637207 test_acc 86.5719735622406\n",
      "Epoch: 50 Loss: 1.5934402971797519 Test Loss: 1.6018418073654175 data: 7200 train_acc 90.05555510520935 test_acc 88.57954144477844\n",
      "Epoch: 75 Loss: 1.578536892996894 Test Loss: 1.5912209749221802 data: 7200 train_acc 91.23610854148865 test_acc 89.73484635353088\n",
      "Epoch: 100 Loss: 1.5698716425895691 Test Loss: 1.5857143943960017 data: 7200 train_acc 91.7638897895813 test_acc 89.14772272109985\n"
     ]
    },
    {
     "name": "stdout",
     "output_type": "stream",
     "text": [
      "Epoch: 25 Loss: 1.6293085660623468 Test Loss: 1.641563805666837 data: 7360 train_acc 88.5054349899292 test_acc 86.28787994384766\n",
      "Epoch: 50 Loss: 1.5925174150777899 Test Loss: 1.6027205207131126 data: 7360 train_acc 90.3668463230133 test_acc 89.73484635353088\n",
      "Epoch: 75 Loss: 1.577479074312293 Test Loss: 1.5841579870744185 data: 7360 train_acc 91.11412763595581 test_acc 90.30303359031677\n",
      "Epoch: 100 Loss: 1.5684237060339554 Test Loss: 1.5811269933527166 data: 7360 train_acc 91.7119562625885 test_acc 89.73484635353088\n",
      "Epoch: 25 Loss: 1.6302701556936223 Test Loss: 1.636231086470864 data: 7520 train_acc 88.56382966041565 test_acc 87.99242377281189\n",
      "Epoch: 50 Loss: 1.592056169154796 Test Loss: 1.5929649418050593 data: 7520 train_acc 90.29255509376526 test_acc 90.01893997192383\n",
      "Epoch: 75 Loss: 1.5772204295117804 Test Loss: 1.5796704292297363 data: 7520 train_acc 91.1436140537262 test_acc 90.30303359031677\n",
      "Epoch: 100 Loss: 1.568196518116809 Test Loss: 1.5689974156293003 data: 7520 train_acc 91.84840321540833 test_acc 91.72348380088806\n",
      "Epoch: 25 Loss: 1.6293032767872015 Test Loss: 1.633517156947743 data: 7680 train_acc 88.61979246139526 test_acc 87.70833611488342\n",
      "Epoch: 50 Loss: 1.5910430309673151 Test Loss: 1.5916823798959905 data: 7680 train_acc 89.84375 test_acc 90.28408527374268\n",
      "Epoch: 75 Loss: 1.576358750462532 Test Loss: 1.578657497059215 data: 7680 train_acc 91.18489623069763 test_acc 91.15530252456665\n",
      "Epoch: 100 Loss: 1.5676963411271572 Test Loss: 1.5735584172335537 data: 7680 train_acc 91.80989861488342 test_acc 90.87121486663818\n",
      "Epoch: 25 Loss: 1.6268660375050137 Test Loss: 1.6258174831216985 data: 7840 train_acc 88.6734664440155 test_acc 87.99242377281189\n",
      "Epoch: 50 Loss: 1.58959941426102 Test Loss: 1.5912328525023027 data: 7840 train_acc 90.47194123268127 test_acc 90.01893997192383\n",
      "Epoch: 75 Loss: 1.5751166295032113 Test Loss: 1.578149979764765 data: 7840 train_acc 91.36479496955872 test_acc 90.58712124824524\n",
      "Epoch: 100 Loss: 1.5658465324615947 Test Loss: 1.5680404684760354 data: 7840 train_acc 91.8749988079071 test_acc 91.72348380088806\n",
      "Epoch: 25 Loss: 1.6320206205844878 Test Loss: 1.6219708377664739 data: 8000 train_acc 88.63750100135803 test_acc 89.14772272109985\n",
      "Epoch: 50 Loss: 1.591267739534378 Test Loss: 1.585666450587186 data: 8000 train_acc 90.47499895095825 test_acc 90.58712124824524\n",
      "Epoch: 75 Loss: 1.5753616292476653 Test Loss: 1.5796163515611128 data: 8000 train_acc 91.11250042915344 test_acc 90.87121486663818\n",
      "Epoch: 100 Loss: 1.566410949230194 Test Loss: 1.5657190084457397 data: 8000 train_acc 91.62499904632568 test_acc 91.72348380088806\n",
      "\n",
      "\n",
      "Run Number: 3\n",
      "Epoch: 25 Loss: 2.153296613693237 Test Loss: 2.1864984035491943 data: 160 train_acc 43.12500059604645 test_acc 38.806819915771484\n",
      "Epoch: 50 Loss: 2.047062575817108 Test Loss: 2.097749189897017 data: 160 train_acc 55.000001192092896 test_acc 47.140151262283325\n",
      "Epoch: 75 Loss: 1.9460375905036926 Test Loss: 2.0200198888778687 data: 160 train_acc 67.5000011920929 test_acc 59.4318151473999\n",
      "Epoch: 100 Loss: 1.8852089047431946 Test Loss: 1.979203310879794 data: 160 train_acc 69.9999988079071 test_acc 59.4318151473999\n",
      "Epoch: 25 Loss: 2.0594983041286468 Test Loss: 2.1141817569732666 data: 320 train_acc 51.875001192092896 test_acc 45.113638043403625\n",
      "Epoch: 50 Loss: 1.9696207284927367 Test Loss: 2.0525709824128584 data: 320 train_acc 57.8125 test_acc 44.82954740524292\n",
      "Epoch: 75 Loss: 1.8859704673290252 Test Loss: 2.0013113021850586 data: 320 train_acc 69.0625011920929 test_acc 51.11742615699768\n",
      "Epoch: 100 Loss: 1.847320830821991 Test Loss: 1.9775830832394687 data: 320 train_acc 70.6250011920929 test_acc 52.53787636756897\n",
      "Epoch: 25 Loss: 2.007418457667033 Test Loss: 2.069195205515081 data: 480 train_acc 59.375 test_acc 49.10984933376312\n",
      "Epoch: 50 Loss: 1.8960933367411295 Test Loss: 1.9665587056766858 data: 480 train_acc 72.29166626930237 test_acc 61.704546213150024\n",
      "Epoch: 75 Loss: 1.79071710507075 Test Loss: 1.8649658506566829 data: 480 train_acc 81.25 test_acc 67.99242496490479\n",
      "Epoch: 100 Loss: 1.7474358399709067 Test Loss: 1.8334390900351785 data: 480 train_acc 83.1250011920929 test_acc 69.4318175315857\n",
      "Epoch: 25 Loss: 1.964538460969925 Test Loss: 1.9734209234064275 data: 640 train_acc 69.8437511920929 test_acc 66.8181836605072\n",
      "Epoch: 50 Loss: 1.8131639629602432 Test Loss: 1.8602009578184648 data: 640 train_acc 77.34375 test_acc 68.25757622718811\n",
      "Epoch: 75 Loss: 1.7634920090436936 Test Loss: 1.820071437142112 data: 640 train_acc 79.53125238418579 test_acc 70.26515007019043\n",
      "Epoch: 100 Loss: 1.7320073962211608 Test Loss: 1.7911086624318904 data: 640 train_acc 80.7812511920929 test_acc 73.69318008422852\n",
      "Epoch: 25 Loss: 1.9620100569725036 Test Loss: 1.9881836284290662 data: 800 train_acc 57.749998569488525 test_acc 53.977274894714355\n",
      "Epoch: 50 Loss: 1.8595641112327577 Test Loss: 1.8762715621428057 data: 800 train_acc 66.12499952316284 test_acc 63.4280264377594\n",
      "Epoch: 75 Loss: 1.7916393971443176 Test Loss: 1.8410543961958452 data: 800 train_acc 73.37499856948853 test_acc 68.03030371665955\n",
      "Epoch: 100 Loss: 1.7281945538520813 Test Loss: 1.7965967113321477 data: 800 train_acc 81.37500286102295 test_acc 72.85985350608826\n",
      "Epoch: 25 Loss: 1.8995933373769125 Test Loss: 1.9223675402727993 data: 960 train_acc 66.25000238418579 test_acc 61.155301332473755\n",
      "Epoch: 50 Loss: 1.834786731004715 Test Loss: 1.8631814934990623 data: 960 train_acc 67.39583611488342 test_acc 62.85984516143799\n",
      "Epoch: 75 Loss: 1.7673806071281433 Test Loss: 1.8081789233467795 data: 960 train_acc 74.47916865348816 test_acc 70.56818008422852\n",
      "Epoch: 100 Loss: 1.7435177087783813 Test Loss: 1.7875973744825884 data: 960 train_acc 76.66666507720947 test_acc 72.27272391319275\n",
      "Epoch: 25 Loss: 1.887305862562997 Test Loss: 1.9089115966450085 data: 1120 train_acc 65.71428775787354 test_acc 61.4393949508667\n",
      "Epoch: 50 Loss: 1.803600319794246 Test Loss: 1.834183226932179 data: 1120 train_acc 73.21428656578064 test_acc 69.41287517547607\n",
      "Epoch: 75 Loss: 1.7307914631707328 Test Loss: 1.791088039224798 data: 1120 train_acc 78.83928418159485 test_acc 72.85985350608826\n",
      "Epoch: 100 Loss: 1.6980006796973093 Test Loss: 1.7728956070813267 data: 1120 train_acc 82.14285969734192 test_acc 74.29924011230469\n",
      "Epoch: 25 Loss: 1.8885734915733337 Test Loss: 1.898477164181796 data: 1280 train_acc 65.1562511920929 test_acc 61.98863387107849\n",
      "Epoch: 50 Loss: 1.7900993198156356 Test Loss: 1.8154880025170066 data: 1280 train_acc 72.9687511920929 test_acc 70.85227370262146\n",
      "Epoch: 75 Loss: 1.7187756448984146 Test Loss: 1.7784303101626309 data: 1280 train_acc 80.23437261581421 test_acc 73.42803478240967\n",
      "Epoch: 100 Loss: 1.6937089785933495 Test Loss: 1.7653654380278154 data: 1280 train_acc 83.04687738418579 test_acc 73.42803478240967\n",
      "Epoch: 25 Loss: 1.8821984397040472 Test Loss: 1.877658117901195 data: 1440 train_acc 65.13888835906982 test_acc 65.70075750350952\n",
      "Epoch: 50 Loss: 1.7476627628008525 Test Loss: 1.7988647764379329 data: 1440 train_acc 78.40277552604675 test_acc 70.58712244033813\n",
      "Epoch: 75 Loss: 1.7106671227349175 Test Loss: 1.774825562130321 data: 1440 train_acc 81.18055462837219 test_acc 73.14394116401672\n",
      "Epoch: 100 Loss: 1.6889386653900147 Test Loss: 1.7570188262245872 data: 1440 train_acc 82.4305534362793 test_acc 74.28030371665955\n",
      "Epoch: 25 Loss: 1.876244947910309 Test Loss: 1.8808670152317395 data: 1600 train_acc 64.68750238418579 test_acc 62.29166388511658\n",
      "Epoch: 50 Loss: 1.745490369796753 Test Loss: 1.8002587231722744 data: 1600 train_acc 78.75000238418579 test_acc 71.15530371665955\n",
      "Epoch: 75 Loss: 1.706335289478302 Test Loss: 1.7753732963041826 data: 1600 train_acc 80.68749904632568 test_acc 72.57575988769531\n",
      "Epoch: 100 Loss: 1.6858590722084046 Test Loss: 1.7586608691649004 data: 1600 train_acc 81.99999928474426 test_acc 73.42803478240967\n",
      "Epoch: 25 Loss: 1.8489005793224682 Test Loss: 1.9101775017651645 data: 1760 train_acc 70.34090757369995 test_acc 60.83333492279053\n",
      "Epoch: 50 Loss: 1.7330600478432394 Test Loss: 1.787179177457636 data: 1760 train_acc 78.63636612892151 test_acc 71.13636136054993\n",
      "Epoch: 75 Loss: 1.7000472350554032 Test Loss: 1.7652290192517368 data: 1760 train_acc 81.13636374473572 test_acc 73.71212244033813\n",
      "Epoch: 100 Loss: 1.6825554869391701 Test Loss: 1.7533877546137029 data: 1760 train_acc 81.9318175315857 test_acc 73.42803478240967\n"
     ]
    },
    {
     "name": "stdout",
     "output_type": "stream",
     "text": [
      "Epoch: 25 Loss: 1.8715501288572947 Test Loss: 1.9076261628757825 data: 1920 train_acc 64.89583253860474 test_acc 61.09848618507385\n",
      "Epoch: 50 Loss: 1.7376203139623005 Test Loss: 1.7760532769289883 data: 1920 train_acc 78.80208492279053 test_acc 73.99621605873108\n",
      "Epoch: 75 Loss: 1.7004636416832606 Test Loss: 1.7543865767392246 data: 1920 train_acc 81.45833611488342 test_acc 74.56439733505249\n",
      "Epoch: 100 Loss: 1.6804527153571447 Test Loss: 1.7387947711077603 data: 1920 train_acc 82.03125 test_acc 75.98485350608826\n",
      "Epoch: 25 Loss: 1.792263404222635 Test Loss: 1.8329112421382556 data: 2080 train_acc 76.63461565971375 test_acc 70.56818008422852\n",
      "Epoch: 50 Loss: 1.7172969909814688 Test Loss: 1.7732331319288774 data: 2080 train_acc 80.14423251152039 test_acc 73.71212244033813\n",
      "Epoch: 75 Loss: 1.6901834359535803 Test Loss: 1.7428279790011318 data: 2080 train_acc 81.7307710647583 test_acc 74.84848499298096\n",
      "Epoch: 100 Loss: 1.6742841564691984 Test Loss: 1.7295307029377331 data: 2080 train_acc 82.1634590625763 test_acc 76.55303478240967\n",
      "Epoch: 25 Loss: 1.8154914336545127 Test Loss: 1.8179368756034158 data: 2240 train_acc 71.29464149475098 test_acc 72.27272391319275\n",
      "Epoch: 50 Loss: 1.7599636835711343 Test Loss: 1.774417367848483 data: 2240 train_acc 74.19642806053162 test_acc 73.40908646583557\n",
      "Epoch: 75 Loss: 1.698192318848201 Test Loss: 1.7434153665195813 data: 2240 train_acc 81.16071224212646 test_acc 76.26894116401672\n",
      "Epoch: 100 Loss: 1.676696765422821 Test Loss: 1.7269023006612605 data: 2240 train_acc 81.87500238418579 test_acc 76.55303478240967\n",
      "Epoch: 25 Loss: 1.7681960908571879 Test Loss: 1.817073713649403 data: 2400 train_acc 77.74999737739563 test_acc 71.42045497894287\n",
      "Epoch: 50 Loss: 1.7071495429674783 Test Loss: 1.7594004652716897 data: 2400 train_acc 80.66666722297668 test_acc 73.99621605873108\n",
      "Epoch: 75 Loss: 1.6821256629625956 Test Loss: 1.7349956685846502 data: 2400 train_acc 82.12500214576721 test_acc 75.41666626930237\n",
      "Epoch: 100 Loss: 1.6676090168952942 Test Loss: 1.731487057425759 data: 2400 train_acc 82.58333206176758 test_acc 76.26894116401672\n",
      "Epoch: 25 Loss: 1.7826722405850888 Test Loss: 1.8049150596965442 data: 2560 train_acc 76.5625 test_acc 73.14394116401672\n",
      "Epoch: 50 Loss: 1.7063622996211052 Test Loss: 1.7606254057450728 data: 2560 train_acc 80.82031011581421 test_acc 73.42803478240967\n",
      "Epoch: 75 Loss: 1.6813916474580766 Test Loss: 1.7262556878003208 data: 2560 train_acc 81.9531261920929 test_acc 76.55303478240967\n",
      "Epoch: 100 Loss: 1.6678563550114631 Test Loss: 1.7197914015163074 data: 2560 train_acc 82.5390636920929 test_acc 76.85605883598328\n",
      "Epoch: 25 Loss: 1.799369588318993 Test Loss: 1.8148021264509722 data: 2720 train_acc 71.94852828979492 test_acc 70.56818008422852\n",
      "Epoch: 50 Loss: 1.7045498595518225 Test Loss: 1.760219693183899 data: 2720 train_acc 80.4411768913269 test_acc 74.28030371665955\n",
      "Epoch: 75 Loss: 1.6796340605791877 Test Loss: 1.729437763040716 data: 2720 train_acc 81.87500238418579 test_acc 76.55303478240967\n",
      "Epoch: 100 Loss: 1.6663606468368979 Test Loss: 1.7239453142339534 data: 2720 train_acc 82.4999988079071 test_acc 76.55303478240967\n",
      "Epoch: 25 Loss: 1.7947135203414493 Test Loss: 1.8170842907645486 data: 2880 train_acc 72.43055701255798 test_acc 69.4318175315857\n",
      "Epoch: 50 Loss: 1.703517656856113 Test Loss: 1.7543341788378628 data: 2880 train_acc 80.83333373069763 test_acc 74.84848499298096\n",
      "Epoch: 75 Loss: 1.6785058246718512 Test Loss: 1.738345449621027 data: 2880 train_acc 81.84027671813965 test_acc 75.70075988769531\n",
      "Epoch: 100 Loss: 1.6643996205594804 Test Loss: 1.7218475341796875 data: 2880 train_acc 82.60416388511658 test_acc 76.28787755966187\n",
      "Epoch: 25 Loss: 1.790702934641587 Test Loss: 1.80672334540974 data: 3040 train_acc 72.664475440979 test_acc 71.40151262283325\n",
      "Epoch: 50 Loss: 1.7047152538048593 Test Loss: 1.7540956952355125 data: 3040 train_acc 80.69078922271729 test_acc 75.41666626930237\n",
      "Epoch: 75 Loss: 1.678385056947407 Test Loss: 1.7226272279565984 data: 3040 train_acc 82.039475440979 test_acc 77.42424011230469\n",
      "Epoch: 100 Loss: 1.620026663730019 Test Loss: 1.6712355505336414 data: 3040 train_acc 89.47368264198303 test_acc 82.82196521759033\n",
      "Epoch: 25 Loss: 1.7841768443584443 Test Loss: 1.8033282431689175 data: 3200 train_acc 72.81249761581421 test_acc 71.70454263687134\n",
      "Epoch: 50 Loss: 1.6970804911851882 Test Loss: 1.7486623850735752 data: 3200 train_acc 80.84375262260437 test_acc 74.56439733505249\n",
      "Epoch: 75 Loss: 1.6741242319345475 Test Loss: 1.7146629203449597 data: 3200 train_acc 81.93749785423279 test_acc 77.70833373069763\n",
      "Epoch: 100 Loss: 1.6612014371156691 Test Loss: 1.7205312577160923 data: 3200 train_acc 82.8125 test_acc 76.28787755966187\n",
      "Epoch: 25 Loss: 1.7167983509245373 Test Loss: 1.763979738408869 data: 3360 train_acc 84.91071462631226 test_acc 77.68939733505249\n",
      "Epoch: 50 Loss: 1.6397672641844976 Test Loss: 1.6984901211478494 data: 3360 train_acc 88.1845235824585 test_acc 80.83333373069763\n",
      "Epoch: 75 Loss: 1.6121942406608945 Test Loss: 1.6796898191625422 data: 3360 train_acc 89.70237970352173 test_acc 81.96969628334045\n",
      "Epoch: 100 Loss: 1.5969001077470326 Test Loss: 1.6626149741086094 data: 3360 train_acc 90.44643044471741 test_acc 81.1174213886261\n",
      "Epoch: 25 Loss: 1.7334666322578083 Test Loss: 1.7809403159401633 data: 3520 train_acc 79.65909242630005 test_acc 73.99621605873108\n",
      "Epoch: 50 Loss: 1.683547971465371 Test Loss: 1.7433118278330022 data: 3520 train_acc 81.84658885002136 test_acc 75.1325786113739\n",
      "Epoch: 75 Loss: 1.6645423910834574 Test Loss: 1.7181734063408591 data: 3520 train_acc 82.64204263687134 test_acc 77.9924213886261\n",
      "Epoch: 100 Loss: 1.6540748341517015 Test Loss: 1.7066656676205723 data: 3520 train_acc 83.29545259475708 test_acc 78.27651500701904\n",
      "Epoch: 25 Loss: 1.7683911054030708 Test Loss: 1.7938710017637773 data: 3680 train_acc 73.8586962223053 test_acc 72.84090518951416\n",
      "Epoch: 50 Loss: 1.6832841790240745 Test Loss: 1.7388622218912297 data: 3680 train_acc 82.0923924446106 test_acc 75.98485350608826\n",
      "Epoch: 75 Loss: 1.6636113374129586 Test Loss: 1.7129645130851052 data: 3680 train_acc 82.85326361656189 test_acc 77.70833373069763\n",
      "Epoch: 100 Loss: 1.6524833565172943 Test Loss: 1.7035498402335427 data: 3680 train_acc 83.5597813129425 test_acc 78.01136374473572\n",
      "Epoch: 25 Loss: 1.7285527164737384 Test Loss: 1.7720363573594526 data: 3840 train_acc 79.34895753860474 test_acc 74.84848499298096\n",
      "Epoch: 50 Loss: 1.6804086913665135 Test Loss: 1.7356374047019265 data: 3840 train_acc 81.97916746139526 test_acc 76.26894116401672\n",
      "Epoch: 75 Loss: 1.662384564181169 Test Loss: 1.7149172804572366 data: 3840 train_acc 82.86458253860474 test_acc 78.27651500701904\n",
      "Epoch: 100 Loss: 1.6521960988640785 Test Loss: 1.7051605961539529 data: 3840 train_acc 83.46354365348816 test_acc 78.56060266494751\n",
      "Epoch: 25 Loss: 1.7316674270629884 Test Loss: 1.7681305083361538 data: 4000 train_acc 79.17500138282776 test_acc 75.41666626930237\n",
      "Epoch: 50 Loss: 1.6822439346313476 Test Loss: 1.7284655245867642 data: 4000 train_acc 81.67499899864197 test_acc 77.12121605873108\n",
      "Epoch: 75 Loss: 1.6646292281150818 Test Loss: 1.7116639397361062 data: 4000 train_acc 82.57499933242798 test_acc 78.01136374473572\n",
      "Epoch: 100 Loss: 1.6542039461135865 Test Loss: 1.7013897787440906 data: 4000 train_acc 83.1250011920929 test_acc 78.57954502105713\n",
      "Epoch: 25 Loss: 1.7362522647931025 Test Loss: 1.7728898525238037 data: 4160 train_acc 78.70192527770996 test_acc 74.82954263687134\n",
      "Epoch: 50 Loss: 1.6824358820915222 Test Loss: 1.7331107638098977 data: 4160 train_acc 81.5625011920929 test_acc 75.71969628334045\n",
      "Epoch: 75 Loss: 1.6645593611093668 Test Loss: 1.7130494442853061 data: 4160 train_acc 82.40384459495544 test_acc 77.14014649391174\n",
      "Epoch: 100 Loss: 1.6542415128304409 Test Loss: 1.697388074614785 data: 4160 train_acc 83.02884697914124 test_acc 78.57954502105713\n",
      "Epoch: 25 Loss: 1.6758473307998092 Test Loss: 1.7279780344529585 data: 4320 train_acc 86.13426089286804 test_acc 79.39394116401672\n",
      "Epoch: 50 Loss: 1.6245296619556568 Test Loss: 1.674397967078469 data: 4320 train_acc 88.6805534362793 test_acc 83.10605883598328\n",
      "Epoch: 75 Loss: 1.6030773158426639 Test Loss: 1.651997371153398 data: 4320 train_acc 89.93055820465088 test_acc 84.54545736312866\n"
     ]
    },
    {
     "name": "stdout",
     "output_type": "stream",
     "text": [
      "Epoch: 100 Loss: 1.5906313644515144 Test Loss: 1.6406611095775256 data: 4320 train_acc 90.43981432914734 test_acc 85.68181991577148\n",
      "Epoch: 25 Loss: 1.6746704689093999 Test Loss: 1.7296355962753296 data: 4480 train_acc 86.27232313156128 test_acc 78.23863625526428\n",
      "Epoch: 50 Loss: 1.6226494393178394 Test Loss: 1.6815312558954412 data: 4480 train_acc 88.70535492897034 test_acc 81.3825786113739\n",
      "Epoch: 75 Loss: 1.6022812145096914 Test Loss: 1.646657716144215 data: 4480 train_acc 89.97767567634583 test_acc 85.11363863945007\n",
      "Epoch: 100 Loss: 1.5901380922113146 Test Loss: 1.63304095918482 data: 4480 train_acc 90.26785492897034 test_acc 87.42424249649048\n",
      "Epoch: 25 Loss: 1.6757159911353012 Test Loss: 1.7143389528447932 data: 4640 train_acc 85.23706793785095 test_acc 81.70454502105713\n",
      "Epoch: 50 Loss: 1.622862842576257 Test Loss: 1.6685993996533481 data: 4640 train_acc 88.72844576835632 test_acc 83.6931824684143\n",
      "Epoch: 75 Loss: 1.6018001687937768 Test Loss: 1.6544753421436658 data: 4640 train_acc 89.74137902259827 test_acc 84.5643937587738\n",
      "Epoch: 100 Loss: 1.5899227874032382 Test Loss: 1.6383773413571445 data: 4640 train_acc 90.4525876045227 test_acc 85.41666269302368\n",
      "Epoch: 25 Loss: 1.6794783373673756 Test Loss: 1.719589807770469 data: 4800 train_acc 85.45833230018616 test_acc 81.13636374473572\n",
      "Epoch: 50 Loss: 1.6207674686113993 Test Loss: 1.6786416227167302 data: 4800 train_acc 88.95833492279053 test_acc 82.55681991577148\n",
      "Epoch: 75 Loss: 1.5993009833494822 Test Loss: 1.6537519801746716 data: 4800 train_acc 89.68750238418579 test_acc 84.5643937587738\n",
      "Epoch: 100 Loss: 1.587849750916163 Test Loss: 1.6312887235121294 data: 4800 train_acc 90.625 test_acc 85.41666269302368\n",
      "Epoch: 25 Loss: 1.67649801200436 Test Loss: 1.7253904667767612 data: 4960 train_acc 86.37096881866455 test_acc 81.68560266494751\n",
      "Epoch: 50 Loss: 1.6188486876026276 Test Loss: 1.6600053093650124 data: 4960 train_acc 88.64919543266296 test_acc 85.41666269302368\n",
      "Epoch: 75 Loss: 1.598717358419972 Test Loss: 1.6517720872705632 data: 4960 train_acc 89.55644965171814 test_acc 84.2424213886261\n",
      "Epoch: 100 Loss: 1.58693294179055 Test Loss: 1.6346121051094749 data: 4960 train_acc 90.58467745780945 test_acc 85.41666269302368\n",
      "Epoch: 25 Loss: 1.6751858450472354 Test Loss: 1.6984493298964067 data: 5120 train_acc 85.78125238418579 test_acc 82.57575631141663\n",
      "Epoch: 50 Loss: 1.6182388909161092 Test Loss: 1.6659538745880127 data: 5120 train_acc 88.96484375 test_acc 84.28030014038086\n",
      "Epoch: 75 Loss: 1.5978592161089182 Test Loss: 1.6386135708202014 data: 5120 train_acc 89.9218738079071 test_acc 85.13257503509521\n",
      "Epoch: 100 Loss: 1.5866534404456616 Test Loss: 1.6208421208641746 data: 5120 train_acc 90.78124761581421 test_acc 86.28787994384766\n",
      "Epoch: 25 Loss: 1.683766042102467 Test Loss: 1.6913211670788852 data: 5280 train_acc 85.2462112903595 test_acc 85.13257503509521\n",
      "Epoch: 50 Loss: 1.616397493535822 Test Loss: 1.6471831581809304 data: 5280 train_acc 88.95833492279053 test_acc 85.70075631141663\n",
      "Epoch: 75 Loss: 1.5963333736766467 Test Loss: 1.6282180222597988 data: 5280 train_acc 89.99999761581421 test_acc 86.26893758773804\n",
      "Epoch: 100 Loss: 1.5849912748192296 Test Loss: 1.6102343797683716 data: 5280 train_acc 90.56817889213562 test_acc 87.42424249649048\n",
      "Epoch: 25 Loss: 1.7010414214695202 Test Loss: 1.7138204032724553 data: 5440 train_acc 81.37867450714111 test_acc 81.13636374473572\n",
      "Epoch: 50 Loss: 1.61337248823222 Test Loss: 1.6446714834733442 data: 5440 train_acc 88.98897171020508 test_acc 86.5530252456665\n",
      "Epoch: 75 Loss: 1.593794345855713 Test Loss: 1.6220627156170933 data: 5440 train_acc 90.34926295280457 test_acc 86.83711886405945\n",
      "Epoch: 100 Loss: 1.5824829448671902 Test Loss: 1.617828206582503 data: 5440 train_acc 90.77205657958984 test_acc 86.85606122016907\n",
      "Epoch: 25 Loss: 1.6552300470215933 Test Loss: 1.6790747534145007 data: 5600 train_acc 87.16071248054504 test_acc 85.13257503509521\n",
      "Epoch: 50 Loss: 1.607013452393668 Test Loss: 1.6418121186169712 data: 5600 train_acc 89.66071605682373 test_acc 86.00378632545471\n",
      "Epoch: 75 Loss: 1.5893867479051862 Test Loss: 1.6205424178730359 data: 5600 train_acc 90.76785445213318 test_acc 86.83711886405945\n",
      "Epoch: 100 Loss: 1.5786596482140678 Test Loss: 1.6114542375911365 data: 5600 train_acc 90.98214507102966 test_acc 87.70833611488342\n",
      "Epoch: 25 Loss: 1.6450715459055372 Test Loss: 1.6784282272512263 data: 5760 train_acc 87.46528029441833 test_acc 85.70075631141663\n",
      "Epoch: 50 Loss: 1.6039732896619372 Test Loss: 1.6321452097459273 data: 5760 train_acc 89.87846970558167 test_acc 87.42424249649048\n",
      "Epoch: 75 Loss: 1.5868440194262399 Test Loss: 1.6197882999073376 data: 5760 train_acc 90.64236283302307 test_acc 86.5530252456665\n",
      "Epoch: 100 Loss: 1.5771825118197336 Test Loss: 1.6104835813695735 data: 5760 train_acc 91.23263955116272 test_acc 87.70833611488342\n",
      "Epoch: 25 Loss: 1.6519700514303672 Test Loss: 1.6799950382926248 data: 5920 train_acc 87.22972869873047 test_acc 85.70075631141663\n",
      "Epoch: 50 Loss: 1.6041620357616528 Test Loss: 1.626574993133545 data: 5920 train_acc 89.71284031867981 test_acc 85.70075631141663\n",
      "Epoch: 75 Loss: 1.5860428252735654 Test Loss: 1.6349132386120884 data: 5920 train_acc 90.33783674240112 test_acc 84.5643937587738\n",
      "Epoch: 100 Loss: 1.5766361513653318 Test Loss: 1.6115055734461003 data: 5920 train_acc 91.36824607849121 test_acc 86.85606122016907\n",
      "Epoch: 25 Loss: 1.6467445320204686 Test Loss: 1.6819209510629827 data: 6080 train_acc 87.63157725334167 test_acc 83.40909481048584\n",
      "Epoch: 50 Loss: 1.6032304042264034 Test Loss: 1.6330862045288086 data: 6080 train_acc 89.835524559021 test_acc 85.98484396934509\n",
      "Epoch: 75 Loss: 1.586075485693781 Test Loss: 1.6150324886495417 data: 6080 train_acc 90.7072365283966 test_acc 86.5719735622406\n",
      "Epoch: 100 Loss: 1.5761043805825083 Test Loss: 1.611376946622675 data: 6080 train_acc 91.46381616592407 test_acc 87.72726655006409\n",
      "Epoch: 25 Loss: 1.6407485167185465 Test Loss: 1.676497686992992 data: 6240 train_acc 87.99679279327393 test_acc 83.40909481048584\n",
      "Epoch: 50 Loss: 1.6013786049989553 Test Loss: 1.6285836804996838 data: 6240 train_acc 89.74359035491943 test_acc 85.70075631141663\n",
      "Epoch: 75 Loss: 1.5852960262543117 Test Loss: 1.6168337193402378 data: 6240 train_acc 90.76923131942749 test_acc 87.44317889213562\n",
      "Epoch: 100 Loss: 1.5756730895776014 Test Loss: 1.5975200913169167 data: 6240 train_acc 91.13782048225403 test_acc 88.3143961429596\n",
      "Epoch: 25 Loss: 1.6425263279676436 Test Loss: 1.6721129525791516 data: 6400 train_acc 87.68749833106995 test_acc 83.6931824684143\n",
      "Epoch: 50 Loss: 1.5989510506391524 Test Loss: 1.6382677446712146 data: 6400 train_acc 89.7656261920929 test_acc 85.70075631141663\n",
      "Epoch: 75 Loss: 1.5828904059529305 Test Loss: 1.6161915822462602 data: 6400 train_acc 90.9375011920929 test_acc 86.5719735622406\n",
      "Epoch: 100 Loss: 1.5737878367304803 Test Loss: 1.6032938198609785 data: 6400 train_acc 91.50000214576721 test_acc 88.29545378684998\n",
      "Epoch: 25 Loss: 1.6372080262114361 Test Loss: 1.6687879128889604 data: 6560 train_acc 88.2317066192627 test_acc 84.84848141670227\n",
      "Epoch: 50 Loss: 1.597453046135786 Test Loss: 1.6414702372117476 data: 6560 train_acc 89.60365653038025 test_acc 84.82954502105713\n",
      "Epoch: 75 Loss: 1.5819745130655243 Test Loss: 1.6154500462792136 data: 6560 train_acc 91.05182886123657 test_acc 87.15908527374268\n",
      "Epoch: 100 Loss: 1.5727467426439612 Test Loss: 1.601262179287997 data: 6560 train_acc 91.58536791801453 test_acc 87.44317889213562\n",
      "Epoch: 25 Loss: 1.6405251119818007 Test Loss: 1.6560548543930054 data: 6720 train_acc 87.76785731315613 test_acc 86.28787994384766\n",
      "Epoch: 50 Loss: 1.5984303647563571 Test Loss: 1.621719327839938 data: 6720 train_acc 89.82142806053162 test_acc 86.5719735622406\n",
      "Epoch: 75 Loss: 1.582693011987777 Test Loss: 1.6009920727122913 data: 6720 train_acc 90.71428775787354 test_acc 89.16666507720947\n",
      "Epoch: 100 Loss: 1.5729162414868674 Test Loss: 1.60076397115534 data: 6720 train_acc 91.16071462631226 test_acc 88.01136016845703\n",
      "Epoch: 25 Loss: 1.6387270758318346 Test Loss: 1.6524380770596592 data: 6880 train_acc 87.96511888504028 test_acc 87.14015483856201\n",
      "Epoch: 50 Loss: 1.597905790251355 Test Loss: 1.609232035550204 data: 6880 train_acc 89.92732763290405 test_acc 87.14015483856201\n"
     ]
    },
    {
     "name": "stdout",
     "output_type": "stream",
     "text": [
      "Epoch: 75 Loss: 1.5821811634440754 Test Loss: 1.5948900092731824 data: 6880 train_acc 90.79942107200623 test_acc 89.45075869560242\n",
      "Epoch: 100 Loss: 1.5729777740877728 Test Loss: 1.584284077991139 data: 6880 train_acc 91.33720993995667 test_acc 90.30303359031677\n",
      "Epoch: 25 Loss: 1.6340063406662508 Test Loss: 1.648359320380471 data: 7040 train_acc 88.25284242630005 test_acc 87.14015483856201\n",
      "Epoch: 50 Loss: 1.5960249302062122 Test Loss: 1.609136332165111 data: 7040 train_acc 90.09943008422852 test_acc 87.70833611488342\n",
      "Epoch: 75 Loss: 1.580455676533959 Test Loss: 1.6002146005630493 data: 7040 train_acc 90.78124761581421 test_acc 87.99242377281189\n",
      "Epoch: 100 Loss: 1.5716662840409712 Test Loss: 1.5888824246146462 data: 7040 train_acc 91.66193008422852 test_acc 89.4318163394928\n",
      "Epoch: 25 Loss: 1.6316134964095221 Test Loss: 1.633403561332009 data: 7200 train_acc 87.9444420337677 test_acc 88.5606050491333\n",
      "Epoch: 50 Loss: 1.5940203931596544 Test Loss: 1.6120794794776223 data: 7200 train_acc 90.16666412353516 test_acc 88.882577419281\n",
      "Epoch: 75 Loss: 1.578796215057373 Test Loss: 1.587031288580461 data: 7200 train_acc 90.86111187934875 test_acc 89.16666507720947\n",
      "Epoch: 100 Loss: 1.5698092246055604 Test Loss: 1.5800521265376697 data: 7200 train_acc 91.70833230018616 test_acc 90.58712124824524\n",
      "Epoch: 25 Loss: 1.632111212481623 Test Loss: 1.6473679325797341 data: 7360 train_acc 88.2336974143982 test_acc 85.13257503509521\n",
      "Epoch: 50 Loss: 1.593101980375207 Test Loss: 1.5977203412489458 data: 7360 train_acc 89.8369550704956 test_acc 90.30303359031677\n",
      "Epoch: 75 Loss: 1.5780195059983626 Test Loss: 1.5857559659264304 data: 7360 train_acc 91.14130139350891 test_acc 89.45075869560242\n",
      "Epoch: 100 Loss: 1.5688452295635058 Test Loss: 1.5796623771840876 data: 7360 train_acc 91.64401888847351 test_acc 90.01893997192383\n",
      "Epoch: 25 Loss: 1.6312061449314685 Test Loss: 1.6300656687129627 data: 7520 train_acc 88.48404288291931 test_acc 87.42424249649048\n",
      "Epoch: 50 Loss: 1.59273473125823 Test Loss: 1.6004728295586326 data: 7520 train_acc 90.34574627876282 test_acc 88.882577419281\n",
      "Epoch: 75 Loss: 1.5774716001875857 Test Loss: 1.586437377062711 data: 7520 train_acc 90.97074270248413 test_acc 89.73484635353088\n",
      "Epoch: 100 Loss: 1.5684715377523544 Test Loss: 1.5753887241536921 data: 7520 train_acc 91.4893627166748 test_acc 90.58712124824524\n",
      "Epoch: 25 Loss: 1.6240163661539555 Test Loss: 1.6291076161644675 data: 7680 train_acc 88.5546863079071 test_acc 87.42424249649048\n",
      "Epoch: 50 Loss: 1.5899842667082946 Test Loss: 1.5942132039503618 data: 7680 train_acc 90.37760496139526 test_acc 89.16666507720947\n",
      "Epoch: 75 Loss: 1.5759732626378535 Test Loss: 1.5783435648137873 data: 7680 train_acc 91.17187261581421 test_acc 91.15530252456665\n",
      "Epoch: 100 Loss: 1.5670514717698096 Test Loss: 1.5701061378825794 data: 7680 train_acc 91.80989861488342 test_acc 91.4393961429596\n",
      "Epoch: 25 Loss: 1.6210148872161398 Test Loss: 1.620200883258473 data: 7840 train_acc 88.72448801994324 test_acc 88.27651739120483\n",
      "Epoch: 50 Loss: 1.5880306158746993 Test Loss: 1.5875067927620627 data: 7840 train_acc 90.34438729286194 test_acc 89.73484635353088\n",
      "Epoch: 75 Loss: 1.5738461655013416 Test Loss: 1.5752504738894375 data: 7840 train_acc 91.14795923233032 test_acc 91.4393961429596\n",
      "Epoch: 100 Loss: 1.5658991755271445 Test Loss: 1.5738485834815286 data: 7840 train_acc 91.86224341392517 test_acc 90.56817889213562\n",
      "Epoch: 25 Loss: 1.6237911095619202 Test Loss: 1.6109949458729138 data: 8000 train_acc 88.56250047683716 test_acc 88.57954144477844\n",
      "Epoch: 50 Loss: 1.5888996436595917 Test Loss: 1.581151778047735 data: 8000 train_acc 90.38749933242798 test_acc 90.30303359031677\n",
      "Epoch: 75 Loss: 1.5749897162914277 Test Loss: 1.5690316720442339 data: 8000 train_acc 91.18750095367432 test_acc 92.007577419281\n",
      "Epoch: 100 Loss: 1.5661648325920106 Test Loss: 1.5639069188724866 data: 8000 train_acc 91.57500267028809 test_acc 92.007577419281\n",
      "\n",
      "\n"
     ]
    }
   ],
   "source": [
    "old_acc = []\n",
    "old_train = []\n",
    "old_test = []\n",
    "\n",
    "ratio = 50\n",
    "EPOCHS = 100\n",
    "n_runs = 3\n",
    "\n",
    "for j in range(n_runs):\n",
    "    \n",
    "    ACCURACY_matrix = []\n",
    "    TrainLOSS_matrix = []\n",
    "    TestLOSS_matrix = []\n",
    "    \n",
    "    print(f\"Run Number: {j+1}\")\n",
    "    \n",
    "    for i in range (1, ratio+1):\n",
    "\n",
    "        train_losses = []\n",
    "        test_losses = []\n",
    "        test_accuracies = []\n",
    "\n",
    "        # Set the datasetsize\n",
    "        n_train_loop = int(n_train * i / ratio)\n",
    "        #batch_size_train_loop = int(batch_size_train * i / ratio)\n",
    "\n",
    "        # Create the train dataset and the train loader \n",
    "        dataset_train =  torchvision.datasets.MNIST('./files/', train = False, download = True, transform = transform)\n",
    "        dataset_train.data, dataset_train.targets = dataset_train.data[:n_train_loop], dataset_train.targets[:n_train_loop]\n",
    "        train_loader = torch.utils.data.DataLoader(dataset_train, batch_size=batch_size_train, shuffle = True, drop_last = True)\n",
    "\n",
    "        # Call our Net\n",
    "        model = EncoderWithSoftmax(pret_autoenc).to(device)\n",
    "\n",
    "        #Set the Optimazer\n",
    "        optimizer = torch.optim.Adam(model.parameters(), lr = 1e-3)\n",
    "\n",
    "        for epoch in range(1,EPOCHS+1):\n",
    "            train_loss = 0\n",
    "\n",
    "            for x_train, y_train in train_loader:\n",
    "                x_train, y_train = x_train.to(device), y_train.to(device)\n",
    "                loss = train(model, x_train, y_train, loss_function, optimizer)\n",
    "                train_loss += loss\n",
    "\n",
    "            train_loss /= len(train_loader)                    # we divide by the number of batches\n",
    "            train_losses.append(train_loss)\n",
    "\n",
    "            train_acc, test_acc, test_loss = evaluate(model, train_loader, test_loader)\n",
    "            test_accuracies.append(test_acc)\n",
    "            test_losses.append(test_loss)\n",
    "\n",
    "            if epoch % 25 == 0:\n",
    "                print(\"Epoch:\", epoch, \"Loss:\", float(train_loss), \"Test Loss:\", test_loss, \"data:\", len(dataset_train.data), \"train_acc\", train_acc, \"test_acc\", test_acc)\n",
    "\n",
    "        # Save in ACCURACY_matrix\n",
    "        ACCURACY_matrix.append(test_accuracies)\n",
    "        TrainLOSS_matrix.append(train_losses)\n",
    "        TestLOSS_matrix.append(test_losses)\n",
    "\n",
    "    if j == 0:\n",
    "\n",
    "        old_acc = ACCURACY_matrix\n",
    "        old_train = TrainLOSS_matrix\n",
    "        old_test = TestLOSS_matrix\n",
    "\n",
    "    else:\n",
    "\n",
    "        # For old_acc and ACCURACY_matrix\n",
    "        old_acc = [[old_acc[row][col] + ACCURACY_matrix[row][col] for col in range(len(old_acc[0]))] for row in range(len(old_acc))]\n",
    "\n",
    "        # For old_train and TrainLOSS_matrix\n",
    "        old_train = [[old_train[row][col] + TrainLOSS_matrix[row][col] for col in range(len(old_train[0]))] for row in range(len(old_train))]\n",
    "\n",
    "        # For old_test and TestLOSS_matrix\n",
    "        old_test = [[old_test[row][col] + TestLOSS_matrix[row][col] for col in range(len(old_test[0]))] for row in range(len(old_test))]\n",
    "        \n",
    "\n",
    "    print(\"\\n\")"
   ]
  },
  {
   "cell_type": "markdown",
   "metadata": {},
   "source": [
    "Implemet the average"
   ]
  },
  {
   "cell_type": "code",
   "execution_count": 10,
   "metadata": {},
   "outputs": [],
   "source": [
    "ACCURACY_matrix = [[element / n_runs for element in row] for row in old_acc]\n",
    "TrainLOSS_matrix = [[element / n_runs for element in row] for row in old_train]\n",
    "TestLOSS_matrix = [[element / n_runs for element in row] for row in old_test]"
   ]
  },
  {
   "cell_type": "code",
   "execution_count": 11,
   "metadata": {
    "id": "rxFjGFZC3Wm-"
   },
   "outputs": [
    {
     "data": {
      "image/png": "[encoded data removed]",
      "text/plain": [
       "<Figure size 432x288 with 1 Axes>"
      ]
     },
     "metadata": {
      "needs_background": "light"
     },
     "output_type": "display_data"
    }
   ],
   "source": [
    "last_elements = [sublist[-1] for sublist in ACCURACY_matrix]\n",
    "\n",
    "# The size of the dataset\n",
    "data = [n_train * i/ratio for i in range(1, ratio + 1)]\n",
    "\n",
    "# Plot the values\n",
    "plt.plot(data, last_elements, label = \"Test\")\n",
    "plt.xlabel(\"Data\")\n",
    "plt.ylabel(\"Accuracy\")\n",
    "plt.title('Accuracy of EwithS non Sparse')\n",
    "plt.legend()\n",
    "plt.show()"
   ]
  },
  {
   "cell_type": "code",
   "execution_count": 12,
   "metadata": {},
   "outputs": [
    {
     "data": {
      "image/png": "[encoded data removed]",
      "text/plain": [
       "<Figure size 432x288 with 1 Axes>"
      ]
     },
     "metadata": {
      "needs_background": "light"
     },
     "output_type": "display_data"
    }
   ],
   "source": [
    "for i in range(len(TrainLOSS_matrix)):\n",
    "    plt.plot(range(EPOCHS), TrainLOSS_matrix[i])\n",
    "plt.xlabel(\"Epochs\")\n",
    "plt.ylabel(\"Loss\")\n",
    "plt.title('Train Loss vs epochs')\n",
    "plt.show()"
   ]
  },
  {
   "cell_type": "code",
   "execution_count": 13,
   "metadata": {},
   "outputs": [
    {
     "data": {
      "image/png": "[encoded data removed]",
      "text/plain": [
       "<Figure size 432x288 with 1 Axes>"
      ]
     },
     "metadata": {
      "needs_background": "light"
     },
     "output_type": "display_data"
    }
   ],
   "source": [
    "plt.plot(range(1, EPOCHS + 1), TrainLOSS_matrix[-1], label = \"Train\")\n",
    "plt.plot(range(1, EPOCHS + 1), TestLOSS_matrix[-1], label = \"Test\")\n",
    "plt.xlabel(\"Epochs\")\n",
    "plt.ylabel(\"Loss\")\n",
    "plt.title('Train Loss vs Test Loss')\n",
    "plt.legend()\n",
    "plt.show()"
   ]
  },
  {
   "cell_type": "markdown",
   "metadata": {
    "id": "CR3yGS_f4b-Y"
   },
   "source": [
    "*Salvataggio dei dati*"
   ]
  },
  {
   "cell_type": "code",
   "execution_count": 14,
   "metadata": {
    "id": "q_tdooxMoeJM"
   },
   "outputs": [],
   "source": [
    "result_dir = 'result'\n",
    "os.makedirs(result_dir, exist_ok=True)\n",
    "\n",
    "file_name1 = 'TrainLOSS_matrix_FashionMNIST_sparse.npy'\n",
    "np.save(os.path.join(result_dir, file_name1), TrainLOSS_matrix)\n",
    "\n",
    "file_name2 = 'ACCURACY_matrix_FashionMNIST_sparse.npy'\n",
    "np.save(os.path.join(result_dir, file_name2), ACCURACY_matrix)\n",
    "\n",
    "file_name3 = 'TestLOSS_matrix_FashionMNIST_sparse.npy'\n",
    "np.save(os.path.join(result_dir, file_name3), TestLOSS_matrix)"
   ]
  },
  {
   "cell_type": "markdown",
   "metadata": {
    "id": "7XXhnhB0d9UA"
   },
   "source": [
    "**Confusion Matrix**"
   ]
  },
  {
   "cell_type": "code",
   "execution_count": 15,
   "metadata": {
    "id": "xNyx4fQc2s77"
   },
   "outputs": [
    {
     "name": "stdout",
     "output_type": "stream",
     "text": [
      "[[0.97 0.   0.   0.   0.   0.   0.03 0.   0.   0.  ]\n",
      " [0.   0.97 0.   0.   0.   0.   0.   0.   0.03 0.  ]\n",
      " [0.03 0.   0.75 0.   0.14 0.   0.03 0.   0.06 0.  ]\n",
      " [0.   0.   0.03 0.86 0.   0.   0.   0.   0.11 0.  ]\n",
      " [0.   0.   0.   0.   0.92 0.   0.03 0.   0.03 0.03]\n",
      " [0.04 0.   0.   0.04 0.04 0.85 0.   0.   0.04 0.  ]\n",
      " [0.03 0.   0.   0.   0.   0.   0.97 0.   0.   0.  ]\n",
      " [0.   0.   0.   0.   0.   0.   0.   1.   0.   0.  ]\n",
      " [0.   0.   0.   0.   0.   0.03 0.06 0.   0.91 0.  ]\n",
      " [0.   0.   0.   0.   0.03 0.   0.   0.   0.   0.97]]\n"
     ]
    }
   ],
   "source": [
    "from sklearn.metrics import confusion_matrix\n",
    "import numpy as np\n",
    "model.eval()\n",
    "\n",
    "all_y = []\n",
    "all_predictions = []\n",
    "\n",
    "# Iterate over the dataset\n",
    "for x, y in test_loader:\n",
    "    x = x.to(device)\n",
    "\n",
    "    with torch.no_grad():\n",
    "        outputs = model(x)\n",
    "        _, predicted = torch.max(outputs, 1)\n",
    "\n",
    "    all_y.extend(y.numpy())\n",
    "    all_predictions.extend(predicted.cpu().numpy())\n",
    "\n",
    "all_y = np.array(all_y)\n",
    "all_predictions = np.array(all_predictions)\n",
    "\n",
    "conf_matrix = confusion_matrix(all_y, all_predictions, normalize = \"true\")\n",
    "\n",
    "print(conf_matrix.round(decimals=2))"
   ]
  },
  {
   "cell_type": "code",
   "execution_count": 16,
   "metadata": {
    "id": "NX2jfWVc2t50"
   },
   "outputs": [
    {
     "data": {
      "image/png": "[encoded data removed]",
      "text/plain": [
       "<Figure size 432x288 with 2 Axes>"
      ]
     },
     "metadata": {
      "needs_background": "light"
     },
     "output_type": "display_data"
    }
   ],
   "source": [
    "classes =dataset_test.classes\n",
    "\n",
    "plt.figure(figsize=(6, 4))\n",
    "plt.imshow(conf_matrix)\n",
    "plt.title(\"Confusion matrix\")\n",
    "plt.colorbar()\n",
    "\n",
    "tick_marks = np.arange(len(classes))\n",
    "plt.xticks(tick_marks, classes, rotation=45)\n",
    "plt.yticks(tick_marks, classes)\n",
    "\n",
    "\n",
    "plt.tight_layout()\n",
    "plt.ylabel('True label')\n",
    "plt.xlabel('Predicted label')\n",
    "\n",
    "plt.show()"
   ]
  },
  {
   "cell_type": "code",
   "execution_count": null,
   "metadata": {},
   "outputs": [],
   "source": []
  }
 ],
 "metadata": {
  "accelerator": "GPU",
  "colab": {
   "gpuType": "T4",
   "provenance": []
  },
  "kernelspec": {
   "display_name": "Python 3 (ipykernel)",
   "language": "python",
   "name": "python3"
  },
  "language_info": {
   "codemirror_mode": {
    "name": "ipython",
    "version": 3
   },
   "file_extension": ".py",
   "mimetype": "text/x-python",
   "name": "python",
   "nbconvert_exporter": "python",
   "pygments_lexer": "ipython3",
   "version": "3.9.7"
  }
 },
 "nbformat": 4,
 "nbformat_minor": 1
}
