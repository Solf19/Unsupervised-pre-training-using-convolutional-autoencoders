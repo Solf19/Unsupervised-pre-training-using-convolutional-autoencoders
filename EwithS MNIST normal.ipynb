{
 "cells": [
  {
   "cell_type": "markdown",
   "metadata": {
    "id": "n2TYIftliqUB"
   },
   "source": [
    "#**Unsupervised pre-training vs Data Augmentation**"
   ]
  },
  {
   "cell_type": "markdown",
   "metadata": {
    "id": "D48pgzTmjBVV"
   },
   "source": [
    "*Students:* --Valentina Barletta (Deep Learning) valentina.barletta@edu.unito.it --Sara De Benedetti (Reti Neurali) sara.debenedetti493@edu.unito.it"
   ]
  },
  {
   "cell_type": "markdown",
   "metadata": {
    "id": "oJ4qlErbDVON"
   },
   "source": [
    "# Encoder with Softmax\n"
   ]
  },
  {
   "cell_type": "markdown",
   "metadata": {
    "id": "MDKnYr-QD26b"
   },
   "source": [
    "Importing Modules"
   ]
  },
  {
   "cell_type": "code",
   "execution_count": 1,
   "metadata": {
    "colab": {
     "base_uri": "https://localhost:8080/"
    },
    "executionInfo": {
     "elapsed": 3845,
     "status": "ok",
     "timestamp": 1717776650868,
     "user": {
      "displayName": "Valentina Barletta",
      "userId": "10868763587431229161"
     },
     "user_tz": -120
    },
    "id": "PF8bMBu7iZZK",
    "outputId": "a5d890f8-4dc6-4f26-92d8-8cd1c5bd9f1b"
   },
   "outputs": [],
   "source": [
    "import torch\n",
    "from torch import nn\n",
    "from torch import optim\n",
    "import matplotlib.pyplot as plt\n",
    "import matplotlib.ticker as mtick\n",
    "import torchvision\n",
    "from statistics import mean\n",
    "import numpy as np\n",
    "\n",
    "from torchsummary import summary\n",
    "from tqdm import tqdm\n",
    "\n",
    "import os\n",
    "import time\n",
    "\n",
    "#path_data = 'MyDrive/Progetto Deep/Data/'\n",
    "#model_path = '/content/drive/MyDrive/Progetto Deep/Data/model.pth'\n",
    "#model_path = '/content/drive/MyDrive/Progetto Deep/Data/model_sparse.pth'\n",
    "\n",
    "\n",
    "#from google.colab import drive\n",
    "#drive.mount('/content/drive')\n",
    "\n",
    "#subject = 'EncoderWithSoftmax'"
   ]
  },
  {
   "cell_type": "markdown",
   "metadata": {
    "id": "uk11OXvwD_qr"
   },
   "source": [
    "Get the computation device"
   ]
  },
  {
   "cell_type": "code",
   "execution_count": 2,
   "metadata": {
    "colab": {
     "base_uri": "https://localhost:8080/"
    },
    "executionInfo": {
     "elapsed": 9,
     "status": "ok",
     "timestamp": 1717776650869,
     "user": {
      "displayName": "Valentina Barletta",
      "userId": "10868763587431229161"
     },
     "user_tz": -120
    },
    "id": "1-7m_spxIFDt",
    "outputId": "7545fe96-01a8-4345-a84e-ef85ecc48d4c"
   },
   "outputs": [
    {
     "name": "stdout",
     "output_type": "stream",
     "text": [
      "cpu\n"
     ]
    }
   ],
   "source": [
    "device = torch.device(\"cuda:0\" if torch.cuda.is_available() else \"cpu\")\n",
    "\n",
    "print(device)                                        # Check which device we got"
   ]
  },
  {
   "cell_type": "markdown",
   "metadata": {
    "id": "30wnbgr4EsVU"
   },
   "source": [
    "## Our net: Pretrained Convolutional Encoder with Softmax"
   ]
  },
  {
   "cell_type": "markdown",
   "metadata": {
    "id": "YG0okYB0FATo"
   },
   "source": [
    " Here it's represented the architecture of our Convolutional Autoencoder Neural Network pretrained."
   ]
  },
  {
   "cell_type": "code",
   "execution_count": 3,
   "metadata": {
    "executionInfo": {
     "elapsed": 4,
     "status": "ok",
     "timestamp": 1717776651563,
     "user": {
      "displayName": "Valentina Barletta",
      "userId": "10868763587431229161"
     },
     "user_tz": -120
    },
    "id": "4v6gakTDi6If"
   },
   "outputs": [],
   "source": [
    "input_dim = (28 * 28)\n",
    "hidden_dim = 10\n",
    "out_dim = 10\n",
    "\n",
    "class Autoencoder(nn.Module):\n",
    "    def __init__(self, input_dim, out_dim):\n",
    "        super(Autoencoder, self).__init__()\n",
    "\n",
    "        # Encoder\n",
    "        self.encoder = nn.Sequential(nn.Conv2d(in_channels=1, out_channels=8, kernel_size=(3,3), stride=1, padding=1),  # 28 x 28 x 1 -> 28 x 28 x 8\n",
    "                                    nn.ReLU(),\n",
    "                                    nn.MaxPool2d(kernel_size=2, stride=2, padding=0),  # 28 x 28 x 8 -> 14 x 14 x 8\n",
    "                                    nn.Conv2d(8, 4, kernel_size=3, padding=1),  # 14 x 14 x 8 -> 14 x 14 x 4\n",
    "                                    nn.ReLU(),\n",
    "                                    nn.MaxPool2d(kernel_size=2, stride=2, padding=0)) # 14 x 14 x 4 -> 7 x 7 x 4\n",
    "\n",
    "\n",
    "        # Decoder\n",
    "        self.decoder = nn. Sequential(nn.Conv2d(4, 4, kernel_size=3, padding=1),  # 7 x 7 x 4 -> 7 x 7 x 4\n",
    "                                      nn.ReLU(),\n",
    "                                      nn.Upsample(scale_factor=2, mode='nearest'),  # 7 x 7 x 4 -> 14 x 14 x 4\n",
    "                                      nn.Conv2d(4, 8, kernel_size=3, padding=1),  # 14 x 14 x 4 -> 14 x 14 x 8\n",
    "                                      nn.ReLU(),\n",
    "                                      nn.Upsample(scale_factor=2, mode='nearest'),  # 14 x 14 x 8 -> 28 x 28 x 8\n",
    "                                      nn.Conv2d(8, 1, kernel_size=3, padding=1))  # 28 x 28 x 8 -> 28 x 28 x 1\n",
    "\n",
    "\n",
    "    def forward(self, x):\n",
    "        encoded = self.encoder(x)\n",
    "        decoded = self.decoder(encoded)\n",
    "        return decoded\n",
    "\n",
    "\n",
    "pret_autoenc = Autoencoder(input_dim, out_dim).to(device)"
   ]
  },
  {
   "cell_type": "markdown",
   "metadata": {
    "id": "K3KOx2VWFX96"
   },
   "source": [
    "Restoring the model"
   ]
  },
  {
   "cell_type": "code",
   "execution_count": 4,
   "metadata": {
    "colab": {
     "base_uri": "https://localhost:8080/"
    },
    "executionInfo": {
     "elapsed": 4,
     "status": "ok",
     "timestamp": 1717776651563,
     "user": {
      "displayName": "Valentina Barletta",
      "userId": "10868763587431229161"
     },
     "user_tz": -120
    },
    "id": "HfFa2l7VKh1Q",
    "outputId": "d4d6b91c-78a7-4a51-b68d-216fa3e27b4a"
   },
   "outputs": [
    {
     "data": {
      "text/plain": [
       "<All keys matched successfully>"
      ]
     },
     "execution_count": 4,
     "metadata": {},
     "output_type": "execute_result"
    }
   ],
   "source": [
    "pret_autoenc.load_state_dict(torch.load(\"model.pth\"))\n",
    "# pretrained_autoencoder.eval()"
   ]
  },
  {
   "cell_type": "markdown",
   "metadata": {
    "id": "qZvZslc9Fdyn"
   },
   "source": [
    "In this section, we will define our neural network made by our pretrained encoder combined with a softmax layer."
   ]
  },
  {
   "cell_type": "code",
   "execution_count": 5,
   "metadata": {
    "executionInfo": {
     "elapsed": 3,
     "status": "ok",
     "timestamp": 1717776651563,
     "user": {
      "displayName": "Valentina Barletta",
      "userId": "10868763587431229161"
     },
     "user_tz": -120
    },
    "id": "EgqhEKWJTpQR"
   },
   "outputs": [],
   "source": [
    "class EncoderWithSoftmax(nn.Module):\n",
    "    def __init__(self, pretrained_autoencoder):\n",
    "        super(EncoderWithSoftmax, self).__init__()\n",
    "\n",
    "        # Extraction of the encoder from the pretrained autoencoder\n",
    "        self.encoder = pretrained_autoencoder.encoder\n",
    "        \n",
    "        for param in self.encoder.parameters():\n",
    "            param.requires_grad = False\n",
    "\n",
    "        # Add the softmax layer\n",
    "        self.flatten = nn.Flatten()\n",
    "        self.linear = nn.Linear(in_features=4 * 7 * 7, out_features=10)\n",
    "        self.softmax = nn.Softmax(dim=1)\n",
    "\n",
    "\n",
    "    def forward(self, x):\n",
    "        x = self.encoder(x)\n",
    "        x = self.flatten(x)\n",
    "        x = self.linear(x)\n",
    "        x = self.softmax(x)\n",
    "        return x"
   ]
  },
  {
   "cell_type": "code",
   "execution_count": 6,
   "metadata": {},
   "outputs": [
    {
     "name": "stdout",
     "output_type": "stream",
     "text": [
      "----------------------------------------------------------------\n",
      "        Layer (type)               Output Shape         Param #\n",
      "================================================================\n",
      "            Conv2d-1            [-1, 8, 28, 28]              80\n",
      "              ReLU-2            [-1, 8, 28, 28]               0\n",
      "         MaxPool2d-3            [-1, 8, 14, 14]               0\n",
      "            Conv2d-4            [-1, 4, 14, 14]             292\n",
      "              ReLU-5            [-1, 4, 14, 14]               0\n",
      "         MaxPool2d-6              [-1, 4, 7, 7]               0\n",
      "           Flatten-7                  [-1, 196]               0\n",
      "            Linear-8                   [-1, 10]           1,970\n",
      "           Softmax-9                   [-1, 10]               0\n",
      "================================================================\n",
      "Total params: 2,342\n",
      "Trainable params: 1,970\n",
      "Non-trainable params: 372\n",
      "----------------------------------------------------------------\n",
      "Input size (MB): 0.00\n",
      "Forward/backward pass size (MB): 0.12\n",
      "Params size (MB): 0.01\n",
      "Estimated Total Size (MB): 0.13\n",
      "----------------------------------------------------------------\n"
     ]
    }
   ],
   "source": [
    "temp = EncoderWithSoftmax(pret_autoenc)\n",
    "summary(temp, input_size=(1, 28, 28))"
   ]
  },
  {
   "cell_type": "markdown",
   "metadata": {
    "id": "8OTolBy0ENHa"
   },
   "source": [
    "## Some Helper Functions"
   ]
  },
  {
   "cell_type": "code",
   "execution_count": 7,
   "metadata": {
    "executionInfo": {
     "elapsed": 7,
     "status": "ok",
     "timestamp": 1717776650870,
     "user": {
      "displayName": "Valentina Barletta",
      "userId": "10868763587431229161"
     },
     "user_tz": -120
    },
    "id": "eBB8CdvriOMF"
   },
   "outputs": [],
   "source": [
    "def accuracy(y_pred, y):\n",
    "\n",
    "    pred = y_pred.detach().argmax(dim=1)\n",
    "    corrects = (pred == y)\n",
    "    accuracy = (corrects.sum()/corrects.size(0)).float()\n",
    "\n",
    "    return accuracy\n",
    "\n",
    "\n",
    "def evaluate(model, train_loader, test_loader):\n",
    "\n",
    "  # initialize the accuracy as 0\n",
    "\n",
    "    acc_train, acc_test = 0, 0\n",
    "    running_loss = 0.0\n",
    "\n",
    "    with torch.no_grad():\n",
    "\n",
    "        for x_train, y_train in train_loader:\n",
    "\n",
    "            x_train, y_train = x_train.to(device), y_train.to(device)        # remember that we need to load our data into the GPUs\n",
    "\n",
    "            out = model(x_train).squeeze()\n",
    "            acc_train += accuracy(out, y_train)\n",
    "\n",
    "        for x_test, y_test in test_loader:\n",
    "\n",
    "            x_test, y_test = x_test.to(device), y_test.to(device)\n",
    "\n",
    "            out = model(x_test).squeeze()\n",
    "            loss = loss_function(out, y_test)\n",
    "            running_loss += loss.item()\n",
    "            acc_test += accuracy(out, y_test)\n",
    "            \n",
    "        val_loss = running_loss / len(test_loader)\n",
    "        acc_train, acc_test = acc_train / len(train_loader), acc_test / len(test_loader)\n",
    "\n",
    "    return float(acc_train.detach()) * 100, float(acc_test.detach()) * 100, val_loss\n",
    "\n",
    "\n",
    "def train(model, x, y, loss_function, optimizer):\n",
    "    model.train()\n",
    "    out = model(x).squeeze()\n",
    "    \n",
    "    loss = loss_function(out, y)\n",
    "\n",
    "    optimizer.zero_grad()\n",
    "    loss.backward()\n",
    "    \n",
    "    torch.nn.utils.clip_grad_norm_(model.parameters(), 1)\n",
    "\n",
    "    optimizer.step()\n",
    "    return float(loss)"
   ]
  },
  {
   "cell_type": "markdown",
   "metadata": {
    "id": "Zseb0a6_GD4e"
   },
   "source": [
    "**Loss Function and Optimizer**\n",
    "\n",
    "For the loss function, we will use `CrossEntropyLoss` (Cross Entropy Loss).\n",
    "The optimizer is going to be `SGD` with a learning rate of 0.01."
   ]
  },
  {
   "cell_type": "code",
   "execution_count": 8,
   "metadata": {
    "executionInfo": {
     "elapsed": 3,
     "status": "ok",
     "timestamp": 1717776651563,
     "user": {
      "displayName": "Valentina Barletta",
      "userId": "10868763587431229161"
     },
     "user_tz": -120
    },
    "id": "wU3o_E2tGCGB"
   },
   "outputs": [],
   "source": [
    "loss_function = nn.CrossEntropyLoss()"
   ]
  },
  {
   "cell_type": "markdown",
   "metadata": {
    "id": "Dz1D2j5DECh3"
   },
   "source": [
    "Prepare the Data"
   ]
  },
  {
   "cell_type": "code",
   "execution_count": 9,
   "metadata": {
    "executionInfo": {
     "elapsed": 6,
     "status": "ok",
     "timestamp": 1717776650869,
     "user": {
      "displayName": "Valentina Barletta",
      "userId": "10868763587431229161"
     },
     "user_tz": -120
    },
    "id": "OAI7nqCWjlbK"
   },
   "outputs": [],
   "source": [
    "n_train = 8000\n",
    "n_test = 350\n",
    "\n",
    "batch_size_train = 16\n",
    "batch_size_test = 32\n",
    "\n",
    "transform = torchvision.transforms.Compose([\n",
    "                               torchvision.transforms.ToTensor(),\n",
    "                               torchvision.transforms.Normalize(\n",
    "                                 (0.1307,), (0.3081,))\n",
    "                             ])\n",
    "\n",
    "## TEST SET\n",
    "\n",
    "dataset_test =  torchvision.datasets.MNIST('./files/', train=False, download=True, transform=transform)\n",
    "\n",
    "dataset_test.data, dataset_test.targets = dataset_test.data[n_train:(n_train + n_test)], dataset_test.targets[n_train:(n_train + n_test)]\n",
    "test_loader = torch.utils.data.DataLoader(dataset_test, batch_size = batch_size_test, shuffle = False)"
   ]
  },
  {
   "cell_type": "markdown",
   "metadata": {
    "id": "uod0a5HmG4Hq"
   },
   "source": [
    "Since we want to derive how the accuracy changes as the size of the training dataset decreases, here there is the code which trains a neural network on the MNIST dataset, adjusting the size of the training dataset and batch size dynamically for each iteration of the loop, and it monitors the training process using early stopping to prevent overfitting.\n",
    "\n"
   ]
  },
  {
   "cell_type": "code",
   "execution_count": 10,
   "metadata": {
    "colab": {
     "base_uri": "https://localhost:8080/"
    },
    "id": "Hu1zpQ4OWh--",
    "outputId": "c8ca1a9d-4484-4fcb-d874-1953e2a60dc9",
    "scrolled": false
   },
   "outputs": [
    {
     "name": "stdout",
     "output_type": "stream",
     "text": [
      "Run Number: 1\n",
      "Epoch: 25 Loss: 1.6669313788414002 Test Loss: 1.8744245659221301 data: 160 train_acc 84.375 test_acc 62.82196640968323\n",
      "Epoch: 50 Loss: 1.537372100353241 Test Loss: 1.7791441895745017 data: 160 train_acc 95.6250011920929 test_acc 73.40908646583557\n",
      "Epoch: 75 Loss: 1.5158204197883607 Test Loss: 1.7589259364388206 data: 160 train_acc 96.24999761581421 test_acc 74.28030371665955\n",
      "Epoch: 100 Loss: 1.5085623264312744 Test Loss: 1.7460658767006614 data: 160 train_acc 96.24999761581421 test_acc 75.1325786113739\n",
      "Epoch: 25 Loss: 1.603772485256195 Test Loss: 1.7772120995955034 data: 320 train_acc 91.25000238418579 test_acc 72.89772629737854\n",
      "Epoch: 50 Loss: 1.5511335015296936 Test Loss: 1.7459059736945413 data: 320 train_acc 93.4374988079071 test_acc 73.44696521759033\n",
      "Epoch: 75 Loss: 1.5369155824184417 Test Loss: 1.7411377755078403 data: 320 train_acc 93.4374988079071 test_acc 74.29924011230469\n",
      "Epoch: 100 Loss: 1.5317798554897308 Test Loss: 1.7371496720747515 data: 320 train_acc 93.4374988079071 test_acc 73.44696521759033\n",
      "Epoch: 25 Loss: 1.632904311021169 Test Loss: 1.7656300934878262 data: 480 train_acc 87.70833611488342 test_acc 74.28030371665955\n",
      "Epoch: 50 Loss: 1.583224602540334 Test Loss: 1.7339690381830388 data: 480 train_acc 89.99999761581421 test_acc 75.66288113594055\n",
      "Epoch: 75 Loss: 1.5693722486495971 Test Loss: 1.7233125079761853 data: 480 train_acc 90.20833373069763 test_acc 75.9469747543335\n",
      "Epoch: 100 Loss: 1.5607434670130411 Test Loss: 1.725665114142678 data: 480 train_acc 90.625 test_acc 75.64393877983093\n",
      "Epoch: 25 Loss: 1.5633499920368195 Test Loss: 1.6524704586375842 data: 640 train_acc 94.68749761581421 test_acc 85.71969866752625\n",
      "Epoch: 50 Loss: 1.5212032049894333 Test Loss: 1.6251829212362117 data: 640 train_acc 96.71875238418579 test_acc 86.5719735622406\n",
      "Epoch: 75 Loss: 1.5026101291179657 Test Loss: 1.6196102770892056 data: 640 train_acc 97.1875011920929 test_acc 86.28787994384766\n",
      "Epoch: 100 Loss: 1.4937789380550384 Test Loss: 1.6322840452194214 data: 640 train_acc 97.65625 test_acc 84.5643937587738\n",
      "Epoch: 25 Loss: 1.7100132703781128 Test Loss: 1.8403440497138284 data: 800 train_acc 77.37500071525574 test_acc 66.23106002807617\n",
      "Epoch: 50 Loss: 1.6771633315086365 Test Loss: 1.8050689914009788 data: 800 train_acc 80.25000095367432 test_acc 67.9356038570404\n",
      "Epoch: 75 Loss: 1.663803415298462 Test Loss: 1.798883925784718 data: 800 train_acc 80.75000047683716 test_acc 69.09090876579285\n",
      "Epoch: 100 Loss: 1.6545806097984315 Test Loss: 1.7995284579016946 data: 800 train_acc 81.25 test_acc 67.67045259475708\n",
      "Epoch: 25 Loss: 1.552571529150009 Test Loss: 1.6326895193620161 data: 960 train_acc 94.27083134651184 test_acc 86.26893758773804\n",
      "Epoch: 50 Loss: 1.516510275999705 Test Loss: 1.6126253713260998 data: 960 train_acc 96.66666388511658 test_acc 87.12120652198792\n",
      "Epoch: 75 Loss: 1.4997865279515585 Test Loss: 1.6178521351380781 data: 960 train_acc 97.60416746139526 test_acc 86.26893758773804\n",
      "Epoch: 100 Loss: 1.4902304927508037 Test Loss: 1.6120174147865989 data: 960 train_acc 98.22916388511658 test_acc 86.26893758773804\n",
      "Epoch: 25 Loss: 1.5497675708362035 Test Loss: 1.6385910402644763 data: 1120 train_acc 94.55357193946838 test_acc 84.84848141670227\n",
      "Epoch: 50 Loss: 1.5139532106263296 Test Loss: 1.6080559925599531 data: 1120 train_acc 96.96428775787354 test_acc 87.97348141670227\n",
      "Epoch: 75 Loss: 1.4997957263674055 Test Loss: 1.615167032588612 data: 1120 train_acc 97.58928418159485 test_acc 86.00378632545471\n",
      "Epoch: 100 Loss: 1.491682996068682 Test Loss: 1.6066383882002397 data: 1120 train_acc 98.03571701049805 test_acc 87.70833611488342\n",
      "Epoch: 25 Loss: 1.6203596279025079 Test Loss: 1.697762055830522 data: 1280 train_acc 86.95312738418579 test_acc 79.14772629737854\n",
      "Epoch: 50 Loss: 1.59106702208519 Test Loss: 1.7033492001620205 data: 1280 train_acc 88.43749761581421 test_acc 77.4431824684143\n",
      "Epoch: 75 Loss: 1.5795292168855668 Test Loss: 1.7113554369319568 data: 1280 train_acc 89.1406238079071 test_acc 74.60227608680725\n",
      "Epoch: 100 Loss: 1.5720175951719284 Test Loss: 1.6885247013785623 data: 1280 train_acc 89.3750011920929 test_acc 78.03030014038086\n",
      "Epoch: 25 Loss: 1.619879957040151 Test Loss: 1.6812022707679055 data: 1440 train_acc 86.45833134651184 test_acc 80.85227608680725\n",
      "Epoch: 50 Loss: 1.534010026190016 Test Loss: 1.6319298310713335 data: 1440 train_acc 95.41666507720947 test_acc 85.11363863945007\n",
      "Epoch: 75 Loss: 1.510632332166036 Test Loss: 1.6236063567074863 data: 1440 train_acc 97.15277552604675 test_acc 84.82954502105713\n",
      "Epoch: 100 Loss: 1.498760814136929 Test Loss: 1.626210938800465 data: 1440 train_acc 97.70833253860474 test_acc 84.84848141670227\n",
      "Epoch: 25 Loss: 1.6193614518642425 Test Loss: 1.7222488793459805 data: 1600 train_acc 86.81250214576721 test_acc 75.43560266494751\n",
      "Epoch: 50 Loss: 1.5942028439044953 Test Loss: 1.7143601937727495 data: 1600 train_acc 88.24999928474426 test_acc 75.71969628334045\n",
      "Epoch: 75 Loss: 1.583919310569763 Test Loss: 1.7076188650998203 data: 1600 train_acc 88.49999904632568 test_acc 76.28787755966187\n",
      "Epoch: 100 Loss: 1.5786424589157104 Test Loss: 1.7053522196683017 data: 1600 train_acc 88.7499988079071 test_acc 76.00378394126892\n",
      "Epoch: 25 Loss: 1.5569046833298423 Test Loss: 1.6531069170344959 data: 1760 train_acc 93.69317889213562 test_acc 82.55681991577148\n",
      "Epoch: 50 Loss: 1.5240693059834567 Test Loss: 1.6200046647678723 data: 1760 train_acc 96.02272510528564 test_acc 85.39772629737854\n",
      "Epoch: 75 Loss: 1.509816336631775 Test Loss: 1.6112082112919202 data: 1760 train_acc 96.76136374473572 test_acc 86.23105883598328\n",
      "Epoch: 100 Loss: 1.5014992898160762 Test Loss: 1.621644681150263 data: 1760 train_acc 97.10227251052856 test_acc 84.86742377281189\n",
      "Epoch: 25 Loss: 1.633797354499499 Test Loss: 1.7275808182629673 data: 1920 train_acc 85.00000238418579 test_acc 75.41666626930237\n",
      "Epoch: 50 Loss: 1.5310559153556824 Test Loss: 1.642850865017284 data: 1920 train_acc 95.3125 test_acc 82.25378394126892\n",
      "Epoch: 75 Loss: 1.5112273077170053 Test Loss: 1.6481273824518377 data: 1920 train_acc 96.4062511920929 test_acc 80.53030371665955\n",
      "Epoch: 100 Loss: 1.5021267662445703 Test Loss: 1.6462853388352827 data: 1920 train_acc 96.77083492279053 test_acc 81.1174213886261\n",
      "Epoch: 25 Loss: 1.632817004277156 Test Loss: 1.7207077199762517 data: 2080 train_acc 85.43269038200378 test_acc 75.39772391319275\n",
      "Epoch: 50 Loss: 1.604460305434007 Test Loss: 1.7229692285711116 data: 2080 train_acc 87.45192289352417 test_acc 74.54545497894287\n",
      "Epoch: 75 Loss: 1.5926076925717867 Test Loss: 1.7127801830118352 data: 2080 train_acc 88.26923370361328 test_acc 75.96590518951416\n",
      "Epoch: 100 Loss: 1.5853032139631418 Test Loss: 1.7333625229922207 data: 2080 train_acc 88.36538195610046 test_acc 73.39015603065491\n",
      "Epoch: 25 Loss: 1.551655204807009 Test Loss: 1.6163444844159214 data: 2240 train_acc 93.16964149475098 test_acc 86.5719735622406\n",
      "Epoch: 50 Loss: 1.5253732885633196 Test Loss: 1.6209628798744895 data: 2240 train_acc 95.35714387893677 test_acc 83.99620652198792\n",
      "Epoch: 75 Loss: 1.5118213764258794 Test Loss: 1.5974290370941162 data: 2240 train_acc 95.84821462631226 test_acc 86.85606122016907\n",
      "Epoch: 100 Loss: 1.5045369642121451 Test Loss: 1.6015615354884754 data: 2240 train_acc 96.83035612106323 test_acc 85.96591353416443\n",
      "Epoch: 25 Loss: 1.628904143969218 Test Loss: 1.7128912752324885 data: 2400 train_acc 85.20833253860474 test_acc 75.39772391319275\n",
      "Epoch: 50 Loss: 1.6053757627805074 Test Loss: 1.691090096126903 data: 2400 train_acc 87.37499713897705 test_acc 77.95454263687134\n",
      "Epoch: 75 Loss: 1.5930382895469666 Test Loss: 1.6790297898379238 data: 2400 train_acc 88.04166913032532 test_acc 79.33712005615234\n",
      "Epoch: 100 Loss: 1.5863777462641397 Test Loss: 1.6923198266462847 data: 2400 train_acc 88.24999928474426 test_acc 77.38636136054993\n",
      "Epoch: 25 Loss: 1.5493979655206203 Test Loss: 1.608107935298573 data: 2560 train_acc 93.8671886920929 test_acc 85.98484396934509\n",
      "Epoch: 50 Loss: 1.525446642190218 Test Loss: 1.6080448302355679 data: 2560 train_acc 95.35156488418579 test_acc 86.53409481048584\n",
      "Epoch: 75 Loss: 1.5127907678484918 Test Loss: 1.598902409726923 data: 2560 train_acc 96.13281488418579 test_acc 87.40530014038086\n",
      "Epoch: 100 Loss: 1.5053148008883 Test Loss: 1.5960819612849841 data: 2560 train_acc 96.52343988418579 test_acc 87.42424249649048\n"
     ]
    },
    {
     "name": "stdout",
     "output_type": "stream",
     "text": [
      "Epoch: 25 Loss: 1.5506893087835874 Test Loss: 1.6067634387449785 data: 2720 train_acc 93.52940917015076 test_acc 87.12120652198792\n",
      "Epoch: 50 Loss: 1.5233416599385878 Test Loss: 1.5967160680077293 data: 2720 train_acc 95.40441036224365 test_acc 87.12120652198792\n",
      "Epoch: 75 Loss: 1.510690804088817 Test Loss: 1.5910917412150989 data: 2720 train_acc 96.36029601097107 test_acc 88.25757503509521\n",
      "Epoch: 100 Loss: 1.5041782280978035 Test Loss: 1.5895080999894575 data: 2720 train_acc 96.65440917015076 test_acc 88.27651739120483\n",
      "Epoch: 25 Loss: 1.599470947848426 Test Loss: 1.6127549843354658 data: 2880 train_acc 92.39583611488342 test_acc 87.12120652198792\n",
      "Epoch: 50 Loss: 1.5242646992206574 Test Loss: 1.607180042700334 data: 2880 train_acc 95.59027552604675 test_acc 86.26893758773804\n",
      "Epoch: 75 Loss: 1.5114712218443553 Test Loss: 1.6022266908125444 data: 2880 train_acc 96.42361402511597 test_acc 86.26893758773804\n",
      "Epoch: 100 Loss: 1.503973580731286 Test Loss: 1.6047359921715476 data: 2880 train_acc 96.875 test_acc 85.71969866752625\n",
      "Epoch: 25 Loss: 1.6186105577569259 Test Loss: 1.667301524769176 data: 3040 train_acc 86.2500011920929 test_acc 80.28409481048584\n",
      "Epoch: 50 Loss: 1.5985071897506713 Test Loss: 1.6594409184022383 data: 3040 train_acc 87.30263113975525 test_acc 80.87120652198792\n",
      "Epoch: 75 Loss: 1.5897857684838144 Test Loss: 1.6571116339076648 data: 3040 train_acc 88.09210658073425 test_acc 81.42045736312866\n",
      "Epoch: 100 Loss: 1.584403229387183 Test Loss: 1.656087040901184 data: 3040 train_acc 88.22368383407593 test_acc 80.58711886405945\n",
      "Epoch: 25 Loss: 1.5501794582605362 Test Loss: 1.6144746325232766 data: 3200 train_acc 94.09375190734863 test_acc 86.83711886405945\n",
      "Epoch: 50 Loss: 1.5238487011194228 Test Loss: 1.6012894998897205 data: 3200 train_acc 95.49999833106995 test_acc 86.83711886405945\n",
      "Epoch: 75 Loss: 1.5121490663290025 Test Loss: 1.5888728120110251 data: 3200 train_acc 96.15625143051147 test_acc 88.5606050491333\n",
      "Epoch: 100 Loss: 1.5052253800630568 Test Loss: 1.5962944680994207 data: 3200 train_acc 96.65625095367432 test_acc 87.40530014038086\n",
      "Epoch: 25 Loss: 1.5448836196036566 Test Loss: 1.6122103929519653 data: 3360 train_acc 94.19642686843872 test_acc 85.70075631141663\n",
      "Epoch: 50 Loss: 1.5201594988505045 Test Loss: 1.6030172434720127 data: 3360 train_acc 95.92261910438538 test_acc 87.12120652198792\n",
      "Epoch: 75 Loss: 1.5104862258547829 Test Loss: 1.5856832590970127 data: 3360 train_acc 96.1904764175415 test_acc 88.27651739120483\n",
      "Epoch: 100 Loss: 1.503951556909652 Test Loss: 1.5855310938575051 data: 3360 train_acc 96.8154788017273 test_acc 88.27651739120483\n",
      "Epoch: 25 Loss: 1.5427347508343783 Test Loss: 1.5966269319707698 data: 3520 train_acc 94.68749761581421 test_acc 87.97348141670227\n",
      "Epoch: 50 Loss: 1.518904094804417 Test Loss: 1.582165783101862 data: 3520 train_acc 95.85227370262146 test_acc 88.5606050491333\n",
      "Epoch: 75 Loss: 1.508955145965923 Test Loss: 1.5789691101421008 data: 3520 train_acc 96.24999761581421 test_acc 88.84469866752625\n",
      "Epoch: 100 Loss: 1.5029818350618536 Test Loss: 1.5848422050476074 data: 3520 train_acc 96.70454263687134 test_acc 88.52272629737854\n",
      "Epoch: 25 Loss: 1.5439982896265776 Test Loss: 1.6001988757740369 data: 3680 train_acc 94.21195387840271 test_acc 87.40530014038086\n",
      "Epoch: 50 Loss: 1.5194770854452382 Test Loss: 1.5867330377752131 data: 3680 train_acc 95.8152174949646 test_acc 88.5606050491333\n",
      "Epoch: 75 Loss: 1.5108181046402973 Test Loss: 1.589062051339583 data: 3680 train_acc 96.22282385826111 test_acc 87.99242377281189\n",
      "Epoch: 100 Loss: 1.5037928669349008 Test Loss: 1.5838734019886365 data: 3680 train_acc 96.5760886669159 test_acc 88.27651739120483\n",
      "Epoch: 25 Loss: 1.6331468348701794 Test Loss: 1.7096983736211604 data: 3840 train_acc 84.92187261581421 test_acc 75.37879347801208\n",
      "Epoch: 50 Loss: 1.6103583474953969 Test Loss: 1.7027801491997459 data: 3840 train_acc 86.4062488079071 test_acc 76.2499988079071\n",
      "Epoch: 75 Loss: 1.5995018934210141 Test Loss: 1.6861530108885332 data: 3840 train_acc 87.1874988079071 test_acc 76.81818008422852\n",
      "Epoch: 100 Loss: 1.5938333531220754 Test Loss: 1.692472219467163 data: 3840 train_acc 87.47395873069763 test_acc 77.38636136054993\n",
      "Epoch: 25 Loss: 1.5447347240447997 Test Loss: 1.599527890031988 data: 4000 train_acc 93.59999895095825 test_acc 86.83711886405945\n",
      "Epoch: 50 Loss: 1.5239795756340027 Test Loss: 1.5957098332318393 data: 4000 train_acc 95.09999752044678 test_acc 87.40530014038086\n",
      "Epoch: 75 Loss: 1.513206428527832 Test Loss: 1.595227230678905 data: 4000 train_acc 96.12500071525574 test_acc 86.85606122016907\n",
      "Epoch: 100 Loss: 1.5063877201080322 Test Loss: 1.5869337970560247 data: 4000 train_acc 96.35000228881836 test_acc 87.99242377281189\n",
      "Epoch: 25 Loss: 1.5439312838591062 Test Loss: 1.5943073467774824 data: 4160 train_acc 93.87019276618958 test_acc 87.99242377281189\n",
      "Epoch: 50 Loss: 1.5222661481453823 Test Loss: 1.5736362392252141 data: 4160 train_acc 94.90384459495544 test_acc 89.6969735622406\n",
      "Epoch: 75 Loss: 1.512026607990265 Test Loss: 1.5831233913248235 data: 4160 train_acc 96.12980484962463 test_acc 88.84469866752625\n",
      "Epoch: 100 Loss: 1.5060896781774669 Test Loss: 1.5765058669176968 data: 4160 train_acc 96.37019038200378 test_acc 89.41287994384766\n",
      "Epoch: 25 Loss: 1.5471346996448658 Test Loss: 1.590371305292303 data: 4320 train_acc 93.93518567085266 test_acc 88.54166269302368\n",
      "Epoch: 50 Loss: 1.52477895727864 Test Loss: 1.5836922580545598 data: 4320 train_acc 95.18518447875977 test_acc 88.84469866752625\n",
      "Epoch: 75 Loss: 1.5135377389413338 Test Loss: 1.571395678953691 data: 4320 train_acc 95.92592716217041 test_acc 89.6969735622406\n",
      "Epoch: 100 Loss: 1.508309797445933 Test Loss: 1.5763861266049473 data: 4320 train_acc 96.22685313224792 test_acc 89.6969735622406\n",
      "Epoch: 25 Loss: 1.546097536597933 Test Loss: 1.5880298289385708 data: 4480 train_acc 93.66071224212646 test_acc 88.84469866752625\n",
      "Epoch: 50 Loss: 1.527488216332027 Test Loss: 1.581073891032826 data: 4480 train_acc 95.20089030265808 test_acc 88.27651739120483\n",
      "Epoch: 75 Loss: 1.5153241106442044 Test Loss: 1.5766838247125798 data: 4480 train_acc 95.60267925262451 test_acc 89.12878632545471\n",
      "Epoch: 100 Loss: 1.5089961464915957 Test Loss: 1.5651846148750999 data: 4480 train_acc 96.22767567634583 test_acc 90.26515483856201\n",
      "Epoch: 25 Loss: 1.5462875485420227 Test Loss: 1.585845253684304 data: 4640 train_acc 93.42672228813171 test_acc 87.42424249649048\n",
      "Epoch: 50 Loss: 1.525452931584983 Test Loss: 1.5811941515315662 data: 4640 train_acc 95.1724112033844 test_acc 87.42424249649048\n",
      "Epoch: 75 Loss: 1.5154183478190981 Test Loss: 1.5777128826488147 data: 4640 train_acc 95.68965435028076 test_acc 89.10984396934509\n",
      "Epoch: 100 Loss: 1.5096290666481544 Test Loss: 1.5932615236802534 data: 4640 train_acc 95.9267258644104 test_acc 87.12120652198792\n",
      "Epoch: 25 Loss: 1.5435060036182404 Test Loss: 1.598460154099898 data: 4800 train_acc 93.85416507720947 test_acc 86.26893758773804\n",
      "Epoch: 50 Loss: 1.5249031857649484 Test Loss: 1.5827458663420244 data: 4800 train_acc 94.9583351612091 test_acc 88.5606050491333\n",
      "Epoch: 75 Loss: 1.5148931062221527 Test Loss: 1.5792007663033225 data: 4800 train_acc 95.79166769981384 test_acc 88.84469866752625\n",
      "Epoch: 100 Loss: 1.5095290692647299 Test Loss: 1.5870592160658403 data: 4800 train_acc 96.04166746139526 test_acc 87.6893937587738\n",
      "Epoch: 25 Loss: 1.62779555589922 Test Loss: 1.6969502297314731 data: 4960 train_acc 85.12097001075745 test_acc 77.10227370262146\n",
      "Epoch: 50 Loss: 1.6102455231451218 Test Loss: 1.7018365534869107 data: 4960 train_acc 86.22983694076538 test_acc 75.96590518951416\n",
      "Epoch: 75 Loss: 1.6015431238758948 Test Loss: 1.6944475390694358 data: 4960 train_acc 86.93548440933228 test_acc 76.51515603065491\n",
      "Epoch: 100 Loss: 1.5964842334870368 Test Loss: 1.6929537924853237 data: 4960 train_acc 87.15725541114807 test_acc 77.36742496490479\n",
      "Epoch: 25 Loss: 1.5434412438422442 Test Loss: 1.583236044103449 data: 5120 train_acc 93.0468738079071 test_acc 88.5606050491333\n",
      "Epoch: 50 Loss: 1.5252001635730266 Test Loss: 1.5957606489008123 data: 5120 train_acc 94.68749761581421 test_acc 86.83711886405945\n",
      "Epoch: 75 Loss: 1.5160851269960403 Test Loss: 1.5746016177264126 data: 5120 train_acc 95.66406011581421 test_acc 89.41287994384766\n"
     ]
    },
    {
     "name": "stdout",
     "output_type": "stream",
     "text": [
      "Epoch: 100 Loss: 1.5102178383618594 Test Loss: 1.5773521119898015 data: 5120 train_acc 95.99609375 test_acc 89.41287994384766\n",
      "Epoch: 25 Loss: 1.5428369092218803 Test Loss: 1.5720297748392278 data: 5280 train_acc 93.67424249649048 test_acc 89.41287994384766\n",
      "Epoch: 50 Loss: 1.5238717949751652 Test Loss: 1.571115179495378 data: 5280 train_acc 95.18939256668091 test_acc 89.12878632545471\n",
      "Epoch: 75 Loss: 1.5145712581547823 Test Loss: 1.5855985771525989 data: 5280 train_acc 95.492422580719 test_acc 87.6893937587738\n",
      "Epoch: 100 Loss: 1.5092698263399529 Test Loss: 1.575962023301558 data: 5280 train_acc 96.07954621315002 test_acc 88.54166269302368\n",
      "Epoch: 25 Loss: 1.5436517038766076 Test Loss: 1.5704467621716587 data: 5440 train_acc 93.63970756530762 test_acc 89.98106122016907\n",
      "Epoch: 50 Loss: 1.5232574319138246 Test Loss: 1.5785726633938877 data: 5440 train_acc 95.14706134796143 test_acc 88.5606050491333\n",
      "Epoch: 75 Loss: 1.5141775243422564 Test Loss: 1.5726203918457031 data: 5440 train_acc 95.47793865203857 test_acc 89.6969735622406\n",
      "Epoch: 100 Loss: 1.5088896884637721 Test Loss: 1.5639323863116177 data: 5440 train_acc 96.19485139846802 test_acc 90.54924249649048\n",
      "Epoch: 25 Loss: 1.539833811010633 Test Loss: 1.573622551831332 data: 5600 train_acc 94.01785731315613 test_acc 89.39393758773804\n",
      "Epoch: 50 Loss: 1.5215653112956455 Test Loss: 1.5641447305679321 data: 5600 train_acc 95.30357122421265 test_acc 89.6780252456665\n",
      "Epoch: 75 Loss: 1.5127575033051628 Test Loss: 1.5720757787877864 data: 5600 train_acc 95.92857360839844 test_acc 89.12878632545471\n",
      "Epoch: 100 Loss: 1.5071224410193307 Test Loss: 1.570256601680409 data: 5600 train_acc 96.21428847312927 test_acc 89.39393758773804\n",
      "Epoch: 25 Loss: 1.5398124863704046 Test Loss: 1.5649805719202214 data: 5760 train_acc 93.62847208976746 test_acc 90.53030014038086\n",
      "Epoch: 50 Loss: 1.5219226277536817 Test Loss: 1.5585093714974143 data: 5760 train_acc 95.38194537162781 test_acc 91.11742377281189\n",
      "Epoch: 75 Loss: 1.5129531684848998 Test Loss: 1.563714244148948 data: 5760 train_acc 95.92013955116272 test_acc 90.26515483856201\n",
      "Epoch: 100 Loss: 1.5077642861339782 Test Loss: 1.5590284087441184 data: 5760 train_acc 96.05903029441833 test_acc 90.8143937587738\n",
      "Epoch: 25 Loss: 1.5384072977143366 Test Loss: 1.5618435036052356 data: 5920 train_acc 93.90202760696411 test_acc 90.54924249649048\n",
      "Epoch: 50 Loss: 1.5213377630388414 Test Loss: 1.5585298863324253 data: 5920 train_acc 95.32094597816467 test_acc 91.11742377281189\n",
      "Epoch: 75 Loss: 1.5138152873193895 Test Loss: 1.561830618164756 data: 5920 train_acc 95.777028799057 test_acc 90.26515483856201\n",
      "Epoch: 100 Loss: 1.5081725252641214 Test Loss: 1.5605976689945569 data: 5920 train_acc 96.16553783416748 test_acc 90.83333611488342\n",
      "Epoch: 25 Loss: 1.537128463230635 Test Loss: 1.5727470137856223 data: 6080 train_acc 94.09539699554443 test_acc 89.41287994384766\n",
      "Epoch: 50 Loss: 1.5202690573115099 Test Loss: 1.5707689632068982 data: 6080 train_acc 95.11513113975525 test_acc 88.5606050491333\n",
      "Epoch: 75 Loss: 1.5121542231032723 Test Loss: 1.5636639269915493 data: 6080 train_acc 95.95394730567932 test_acc 90.53030014038086\n",
      "Epoch: 100 Loss: 1.5070288090329422 Test Loss: 1.5681998512961648 data: 6080 train_acc 96.1677610874176 test_acc 89.6969735622406\n",
      "Epoch: 25 Loss: 1.536356962338472 Test Loss: 1.5690099759535356 data: 6240 train_acc 94.2147433757782 test_acc 89.98106122016907\n",
      "Epoch: 50 Loss: 1.521365002485422 Test Loss: 1.5516991832039573 data: 6240 train_acc 95.19230723381042 test_acc 91.96969866752625\n",
      "Epoch: 75 Loss: 1.5130267983827836 Test Loss: 1.553027326410467 data: 6240 train_acc 95.88140845298767 test_acc 91.6856050491333\n",
      "Epoch: 100 Loss: 1.5087338554553495 Test Loss: 1.5478452769192783 data: 6240 train_acc 96.12179398536682 test_acc 92.53787994384766\n",
      "Epoch: 25 Loss: 1.5361200112104416 Test Loss: 1.56197959726507 data: 6400 train_acc 94.07812356948853 test_acc 91.09848141670227\n",
      "Epoch: 50 Loss: 1.5199462985992431 Test Loss: 1.5596083727749912 data: 6400 train_acc 95.20312547683716 test_acc 90.54924249649048\n",
      "Epoch: 75 Loss: 1.5123078462481498 Test Loss: 1.557067166675221 data: 6400 train_acc 95.7812488079071 test_acc 90.83333611488342\n",
      "Epoch: 100 Loss: 1.5073641273379326 Test Loss: 1.575408772988753 data: 6400 train_acc 95.92187404632568 test_acc 88.54166269302368\n",
      "Epoch: 25 Loss: 1.5347055955630977 Test Loss: 1.5577821406451138 data: 6560 train_acc 94.2378044128418 test_acc 91.11742377281189\n",
      "Epoch: 50 Loss: 1.5192888477953468 Test Loss: 1.565109372138977 data: 6560 train_acc 95.25914788246155 test_acc 90.24620652198792\n",
      "Epoch: 75 Loss: 1.5116196513175963 Test Loss: 1.5582347999919544 data: 6560 train_acc 95.99085450172424 test_acc 90.53030014038086\n",
      "Epoch: 100 Loss: 1.506560968480459 Test Loss: 1.553998968817971 data: 6560 train_acc 96.12804651260376 test_acc 91.40151739120483\n",
      "Epoch: 25 Loss: 1.7020149253663563 Test Loss: 1.743139548735185 data: 6720 train_acc 76.65178775787354 test_acc 71.96969389915466\n",
      "Epoch: 50 Loss: 1.6199479398273287 Test Loss: 1.657222791151567 data: 6720 train_acc 85.32738089561462 test_acc 81.3825786113739\n",
      "Epoch: 75 Loss: 1.6062011159601666 Test Loss: 1.6533966714685613 data: 6720 train_acc 86.39881014823914 test_acc 81.66666626930237\n",
      "Epoch: 100 Loss: 1.600126403002512 Test Loss: 1.6634970036419956 data: 6720 train_acc 86.97916865348816 test_acc 80.22727370262146\n",
      "Epoch: 25 Loss: 1.6156731552855914 Test Loss: 1.6359496766870671 data: 6880 train_acc 85.49418449401855 test_acc 81.98863863945007\n",
      "Epoch: 50 Loss: 1.603990859486336 Test Loss: 1.6334866285324097 data: 6880 train_acc 86.48256063461304 test_acc 82.85984396934509\n",
      "Epoch: 75 Loss: 1.597602691206821 Test Loss: 1.634534315629439 data: 6880 train_acc 86.72965168952942 test_acc 82.55681991577148\n",
      "Epoch: 100 Loss: 1.5943639156430267 Test Loss: 1.632844697345387 data: 6880 train_acc 87.04941868782043 test_acc 82.55681991577148\n",
      "Epoch: 25 Loss: 1.5365852017294277 Test Loss: 1.5387698411941528 data: 7040 train_acc 93.80682110786438 test_acc 92.85984635353088\n",
      "Epoch: 50 Loss: 1.5207430156794461 Test Loss: 1.544904806397178 data: 7040 train_acc 95.08522748947144 test_acc 92.27272272109985\n",
      "Epoch: 75 Loss: 1.512852621891282 Test Loss: 1.547596974806352 data: 7040 train_acc 95.85227370262146 test_acc 91.38257503509521\n",
      "Epoch: 100 Loss: 1.5078835606575012 Test Loss: 1.5497790466655383 data: 7040 train_acc 96.22159004211426 test_acc 91.6856050491333\n",
      "Epoch: 25 Loss: 1.5337556937005785 Test Loss: 1.5582018006931653 data: 7200 train_acc 93.66666674613953 test_acc 90.83333611488342\n",
      "Epoch: 50 Loss: 1.518965720070733 Test Loss: 1.5452802181243896 data: 7200 train_acc 95.4027771949768 test_acc 91.96969866752625\n",
      "Epoch: 75 Loss: 1.5124450129932827 Test Loss: 1.5452233119444414 data: 7200 train_acc 95.77777981758118 test_acc 91.96969866752625\n",
      "Epoch: 100 Loss: 1.5071206521987914 Test Loss: 1.550641114061529 data: 7200 train_acc 96.18055820465088 test_acc 91.07954502105713\n",
      "Epoch: 25 Loss: 1.532774464721265 Test Loss: 1.5364659916270862 data: 7360 train_acc 94.3342387676239 test_acc 93.14393997192383\n",
      "Epoch: 50 Loss: 1.5191514593103657 Test Loss: 1.5405701073733242 data: 7360 train_acc 95.43478488922119 test_acc 92.51893758773804\n",
      "Epoch: 75 Loss: 1.5114059046558712 Test Loss: 1.5424305417320945 data: 7360 train_acc 95.9510862827301 test_acc 91.95075631141663\n",
      "Epoch: 100 Loss: 1.5066120386123658 Test Loss: 1.5406688993627375 data: 7360 train_acc 96.19565010070801 test_acc 92.25378632545471\n",
      "Epoch: 25 Loss: 1.5327336813541168 Test Loss: 1.538601896979592 data: 7520 train_acc 94.46808695793152 test_acc 92.8219735622406\n",
      "Epoch: 50 Loss: 1.5182825159519278 Test Loss: 1.539725509556857 data: 7520 train_acc 94.50798034667969 test_acc 92.53787994384766\n",
      "Epoch: 75 Loss: 1.511299787430053 Test Loss: 1.5383537357503718 data: 7520 train_acc 95.85106372833252 test_acc 92.8219735622406\n",
      "Epoch: 100 Loss: 1.5074645785575218 Test Loss: 1.543238954110579 data: 7520 train_acc 96.14361524581909 test_acc 92.23484396934509\n",
      "Epoch: 25 Loss: 1.5332314553360145 Test Loss: 1.5444152680310337 data: 7680 train_acc 94.10156011581421 test_acc 93.12499761581421\n",
      "Epoch: 50 Loss: 1.5185783731440703 Test Loss: 1.5418122573332353 data: 7680 train_acc 95.3125 test_acc 92.5568163394928\n"
     ]
    },
    {
     "name": "stdout",
     "output_type": "stream",
     "text": [
      "Epoch: 75 Loss: 1.5106760062277318 Test Loss: 1.5407308556816794 data: 7680 train_acc 95.96354365348816 test_acc 92.51893758773804\n",
      "Epoch: 100 Loss: 1.506915490080913 Test Loss: 1.5426910682158037 data: 7680 train_acc 96.10677361488342 test_acc 91.66666269302368\n",
      "Epoch: 25 Loss: 1.5311108182887643 Test Loss: 1.5327557000246914 data: 7840 train_acc 94.51530575752258 test_acc 93.69317889213562\n",
      "Epoch: 50 Loss: 1.5160573599289875 Test Loss: 1.5400347167795354 data: 7840 train_acc 95.65051198005676 test_acc 92.25378632545471\n",
      "Epoch: 75 Loss: 1.5099325026784625 Test Loss: 1.545990521257574 data: 7840 train_acc 95.95663547515869 test_acc 91.95075631141663\n",
      "Epoch: 100 Loss: 1.5058751446860177 Test Loss: 1.5416871309280396 data: 7840 train_acc 96.27550840377808 test_acc 92.23484396934509\n",
      "Epoch: 25 Loss: 1.5322719407081604 Test Loss: 1.537913820960305 data: 8000 train_acc 94.38750147819519 test_acc 93.10606122016907\n",
      "Epoch: 50 Loss: 1.517975878238678 Test Loss: 1.5379488576542248 data: 8000 train_acc 95.49999833106995 test_acc 92.53787994384766\n",
      "Epoch: 75 Loss: 1.5116493780612945 Test Loss: 1.5337489734996448 data: 8000 train_acc 95.87500095367432 test_acc 92.8219735622406\n",
      "Epoch: 100 Loss: 1.5069150133132934 Test Loss: 1.53711491281336 data: 8000 train_acc 96.11250162124634 test_acc 93.12499761581421\n",
      "\n",
      "\n",
      "Run Number: 2\n",
      "Epoch: 25 Loss: 1.6288989782333374 Test Loss: 1.8294941728765315 data: 160 train_acc 88.7499988079071 test_acc 67.44318008422852\n",
      "Epoch: 50 Loss: 1.5433550715446471 Test Loss: 1.7574403285980225 data: 160 train_acc 96.24999761581421 test_acc 74.58333373069763\n",
      "Epoch: 75 Loss: 1.5159868240356444 Test Loss: 1.73747287013314 data: 160 train_acc 96.24999761581421 test_acc 75.43560266494751\n",
      "Epoch: 100 Loss: 1.5089004158973693 Test Loss: 1.7282679080963135 data: 160 train_acc 96.24999761581421 test_acc 76.00378394126892\n",
      "Epoch: 25 Loss: 1.6046170115470886 Test Loss: 1.8048292181708596 data: 320 train_acc 91.56249761581421 test_acc 70.32196521759033\n",
      "Epoch: 50 Loss: 1.550490528345108 Test Loss: 1.741011847149242 data: 320 train_acc 93.12499761581421 test_acc 74.8674213886261\n",
      "Epoch: 75 Loss: 1.5008082449436189 Test Loss: 1.7156842296773738 data: 320 train_acc 98.4375 test_acc 76.30681991577148\n",
      "Epoch: 100 Loss: 1.4806005537509919 Test Loss: 1.660236824642528 data: 320 train_acc 99.06250238418579 test_acc 83.1250011920929\n",
      "Epoch: 25 Loss: 1.6258774638175963 Test Loss: 1.755910494110801 data: 480 train_acc 88.12500238418579 test_acc 74.8106062412262\n",
      "Epoch: 50 Loss: 1.5831747770309448 Test Loss: 1.7277341214093296 data: 480 train_acc 89.99999761581421 test_acc 76.79924368858337\n",
      "Epoch: 75 Loss: 1.5677067597707113 Test Loss: 1.7207009900699963 data: 480 train_acc 90.41666388511658 test_acc 75.9469747543335\n",
      "Epoch: 100 Loss: 1.5607698996861776 Test Loss: 1.7160784547979182 data: 480 train_acc 90.625 test_acc 77.36742496490479\n",
      "Epoch: 25 Loss: 1.6219128251075745 Test Loss: 1.7157793586904353 data: 640 train_acc 87.1874988079071 test_acc 78.03030014038086\n",
      "Epoch: 50 Loss: 1.5218625128269196 Test Loss: 1.6503349434245715 data: 640 train_acc 96.875 test_acc 83.4469735622406\n",
      "Epoch: 75 Loss: 1.5028282821178436 Test Loss: 1.6249125328930942 data: 640 train_acc 97.81249761581421 test_acc 86.28787994384766\n",
      "Epoch: 100 Loss: 1.491290456056595 Test Loss: 1.6367689912969416 data: 640 train_acc 98.28125238418579 test_acc 84.5643937587738\n",
      "Epoch: 25 Loss: 1.6869087076187135 Test Loss: 1.74681696024808 data: 800 train_acc 79.00000214576721 test_acc 74.3181824684143\n",
      "Epoch: 50 Loss: 1.6017891192436218 Test Loss: 1.6843028176914563 data: 800 train_acc 88.37500214576721 test_acc 80.28409481048584\n",
      "Epoch: 75 Loss: 1.512139723300934 Test Loss: 1.6155697757547551 data: 800 train_acc 96.74999713897705 test_acc 86.83711886405945\n",
      "Epoch: 100 Loss: 1.4945793986320495 Test Loss: 1.5995445576581089 data: 800 train_acc 98.25000166893005 test_acc 87.6893937587738\n",
      "Epoch: 25 Loss: 1.626798301935196 Test Loss: 1.7428227988156406 data: 960 train_acc 86.35416626930237 test_acc 73.69318008422852\n",
      "Epoch: 50 Loss: 1.5184589246908824 Test Loss: 1.6310074546120383 data: 960 train_acc 96.66666388511658 test_acc 85.41666269302368\n",
      "Epoch: 75 Loss: 1.499414183696111 Test Loss: 1.6197027076374402 data: 960 train_acc 98.02083373069763 test_acc 86.5530252456665\n",
      "Epoch: 100 Loss: 1.4874391297499339 Test Loss: 1.6144745675000278 data: 960 train_acc 98.54166507720947 test_acc 86.83711886405945\n",
      "Epoch: 25 Loss: 1.6133983680180142 Test Loss: 1.6644850752570413 data: 1120 train_acc 87.5 test_acc 83.1250011920929\n",
      "Epoch: 50 Loss: 1.5210198317255292 Test Loss: 1.6217594146728516 data: 1120 train_acc 96.78571224212646 test_acc 85.13257503509521\n",
      "Epoch: 75 Loss: 1.5026514853749957 Test Loss: 1.6046920798041604 data: 1120 train_acc 97.41071462631226 test_acc 87.97348141670227\n",
      "Epoch: 100 Loss: 1.491365052972521 Test Loss: 1.609672329642556 data: 1120 train_acc 98.21428656578064 test_acc 86.5719735622406\n",
      "Epoch: 25 Loss: 1.555544228851795 Test Loss: 1.6334686821157283 data: 1280 train_acc 93.90624761581421 test_acc 85.41666269302368\n",
      "Epoch: 50 Loss: 1.5195336252450944 Test Loss: 1.629830002784729 data: 1280 train_acc 96.0156261920929 test_acc 84.84848141670227\n",
      "Epoch: 75 Loss: 1.5045497700572015 Test Loss: 1.6362347169355913 data: 1280 train_acc 97.42187261581421 test_acc 83.4280252456665\n",
      "Epoch: 100 Loss: 1.4963534682989121 Test Loss: 1.6429054737091064 data: 1280 train_acc 97.7343738079071 test_acc 82.57575631141663\n",
      "Epoch: 25 Loss: 1.6273549649450514 Test Loss: 1.6860724145715886 data: 1440 train_acc 86.04166507720947 test_acc 79.14772629737854\n",
      "Epoch: 50 Loss: 1.5424925314055549 Test Loss: 1.6373462893746116 data: 1440 train_acc 95.06944417953491 test_acc 85.41666269302368\n",
      "Epoch: 75 Loss: 1.51129097143809 Test Loss: 1.6283283233642578 data: 1440 train_acc 97.15277552604675 test_acc 84.2424213886261\n",
      "Epoch: 100 Loss: 1.5006805777549743 Test Loss: 1.6191845590418035 data: 1440 train_acc 97.50000238418579 test_acc 85.13257503509521\n",
      "Epoch: 25 Loss: 1.5530771720409393 Test Loss: 1.6528092514384876 data: 1600 train_acc 93.93749833106995 test_acc 83.39014649391174\n",
      "Epoch: 50 Loss: 1.5212295067310333 Test Loss: 1.6372262889688665 data: 1600 train_acc 95.93750238418579 test_acc 82.85984396934509\n",
      "Epoch: 75 Loss: 1.5064008939266205 Test Loss: 1.64257089658217 data: 1600 train_acc 97.06249833106995 test_acc 83.14393758773804\n",
      "Epoch: 100 Loss: 1.4995516216754914 Test Loss: 1.6383933804251931 data: 1600 train_acc 97.31249809265137 test_acc 82.25378394126892\n",
      "Epoch: 25 Loss: 1.5546245835044168 Test Loss: 1.622107516635548 data: 1760 train_acc 93.35227012634277 test_acc 85.70075631141663\n",
      "Epoch: 50 Loss: 1.5239981651306151 Test Loss: 1.638690558346835 data: 1760 train_acc 95.73863744735718 test_acc 83.14393758773804\n",
      "Epoch: 75 Loss: 1.5114559000188654 Test Loss: 1.6243482719768176 data: 1760 train_acc 96.53409123420715 test_acc 83.40909481048584\n",
      "Epoch: 100 Loss: 1.502110486680811 Test Loss: 1.6268803531473333 data: 1760 train_acc 97.15909361839294 test_acc 85.13257503509521\n",
      "Epoch: 25 Loss: 1.6354665378729503 Test Loss: 1.706310423937711 data: 1920 train_acc 84.79166626930237 test_acc 75.98485350608826\n",
      "Epoch: 50 Loss: 1.5363681574662527 Test Loss: 1.6405919790267944 data: 1920 train_acc 94.68749761581421 test_acc 83.71211886405945\n",
      "Epoch: 75 Loss: 1.5147169848283133 Test Loss: 1.6225055239417336 data: 1920 train_acc 96.35416865348816 test_acc 84.58333611488342\n",
      "Epoch: 100 Loss: 1.5037801404794058 Test Loss: 1.6201347762888128 data: 1920 train_acc 96.92708253860474 test_acc 83.99620652198792\n",
      "Epoch: 25 Loss: 1.6300563197869522 Test Loss: 1.6835923411629417 data: 2080 train_acc 85.48076748847961 test_acc 77.4431824684143\n",
      "Epoch: 50 Loss: 1.59975210244839 Test Loss: 1.689171021634882 data: 2080 train_acc 87.74038553237915 test_acc 77.70833373069763\n",
      "Epoch: 75 Loss: 1.5882432506634638 Test Loss: 1.6922193007035689 data: 2080 train_acc 88.02884817123413 test_acc 76.8750011920929\n",
      "Epoch: 100 Loss: 1.581102427152487 Test Loss: 1.7012881582433528 data: 2080 train_acc 88.36538195610046 test_acc 75.41666626930237\n",
      "Epoch: 25 Loss: 1.6182476861136301 Test Loss: 1.6819665106860073 data: 2240 train_acc 86.51785850524902 test_acc 78.01136374473572\n",
      "Epoch: 50 Loss: 1.5276814026491983 Test Loss: 1.5967064012180676 data: 2240 train_acc 95.40178775787354 test_acc 87.6893937587738\n"
     ]
    },
    {
     "name": "stdout",
     "output_type": "stream",
     "text": [
      "Epoch: 75 Loss: 1.5132514272417341 Test Loss: 1.6046030738136985 data: 2240 train_acc 96.11607193946838 test_acc 86.2500011920929\n",
      "Epoch: 100 Loss: 1.5059974551200868 Test Loss: 1.615074341947382 data: 2240 train_acc 96.51785492897034 test_acc 85.07575988769531\n",
      "Epoch: 25 Loss: 1.5526282596588135 Test Loss: 1.6011957905509255 data: 2400 train_acc 92.83333420753479 test_acc 87.12120652198792\n",
      "Epoch: 50 Loss: 1.5266343808174134 Test Loss: 1.6161500432274558 data: 2400 train_acc 95.24999856948853 test_acc 85.98484396934509\n",
      "Epoch: 75 Loss: 1.5145028638839722 Test Loss: 1.5931744900616733 data: 2400 train_acc 96.04166746139526 test_acc 87.97348141670227\n",
      "Epoch: 100 Loss: 1.50767139116923 Test Loss: 1.587422717701305 data: 2400 train_acc 96.45833373069763 test_acc 88.25757503509521\n",
      "Epoch: 25 Loss: 1.5515351183712482 Test Loss: 1.6032554236325351 data: 2560 train_acc 93.75 test_acc 86.83711886405945\n",
      "Epoch: 50 Loss: 1.524398473650217 Test Loss: 1.597623727538369 data: 2560 train_acc 95.35156488418579 test_acc 87.12120652198792\n",
      "Epoch: 75 Loss: 1.5128533340990544 Test Loss: 1.6008134213360874 data: 2560 train_acc 96.2109386920929 test_acc 86.83711886405945\n",
      "Epoch: 100 Loss: 1.5052733302116394 Test Loss: 1.6020798899910667 data: 2560 train_acc 96.52343988418579 test_acc 86.5530252456665\n",
      "Epoch: 25 Loss: 1.6198466153705822 Test Loss: 1.6709525151686235 data: 2720 train_acc 86.2500011920929 test_acc 79.43181991577148\n",
      "Epoch: 50 Loss: 1.597252711127786 Test Loss: 1.666721528226679 data: 2720 train_acc 87.72059082984924 test_acc 79.69696521759033\n",
      "Epoch: 75 Loss: 1.586109289001016 Test Loss: 1.6718816323713823 data: 2720 train_acc 88.27205896377563 test_acc 79.10985350608826\n",
      "Epoch: 100 Loss: 1.5806917309761048 Test Loss: 1.666018616069447 data: 2720 train_acc 88.49264979362488 test_acc 80.0000011920929\n",
      "Epoch: 25 Loss: 1.633643959628211 Test Loss: 1.6797339049252598 data: 2880 train_acc 84.89583134651184 test_acc 79.10985350608826\n",
      "Epoch: 50 Loss: 1.6144991589917077 Test Loss: 1.6750388037074695 data: 2880 train_acc 85.72916388511658 test_acc 78.82575988769531\n",
      "Epoch: 75 Loss: 1.6047334690888724 Test Loss: 1.6788707321340388 data: 2880 train_acc 86.45833134651184 test_acc 78.54166626930237\n",
      "Epoch: 100 Loss: 1.5975258304013147 Test Loss: 1.68216703154824 data: 2880 train_acc 86.56250238418579 test_acc 78.56060266494751\n",
      "Epoch: 25 Loss: 1.548452425630469 Test Loss: 1.6103652390566738 data: 3040 train_acc 93.94736886024475 test_acc 86.5530252456665\n",
      "Epoch: 50 Loss: 1.5219852817685982 Test Loss: 1.601538528095592 data: 3040 train_acc 95.75657844543457 test_acc 86.83711886405945\n",
      "Epoch: 75 Loss: 1.5100677904329802 Test Loss: 1.5935421531850642 data: 3040 train_acc 96.21710777282715 test_acc 86.85606122016907\n",
      "Epoch: 100 Loss: 1.5041096963380511 Test Loss: 1.6030251871455798 data: 3040 train_acc 96.57894968986511 test_acc 86.8181824684143\n",
      "Epoch: 25 Loss: 1.5522711849212647 Test Loss: 1.6119035590778699 data: 3200 train_acc 93.4374988079071 test_acc 86.26893758773804\n",
      "Epoch: 50 Loss: 1.5229773312807082 Test Loss: 1.5959633913907139 data: 3200 train_acc 95.81249952316284 test_acc 88.27651739120483\n",
      "Epoch: 75 Loss: 1.5104719310998918 Test Loss: 1.597648024559021 data: 3200 train_acc 96.28124833106995 test_acc 86.8181824684143\n",
      "Epoch: 100 Loss: 1.5039582365751267 Test Loss: 1.5929263613440774 data: 3200 train_acc 96.81249856948853 test_acc 87.10227608680725\n",
      "Epoch: 25 Loss: 1.6414856922058831 Test Loss: 1.6915546330538662 data: 3360 train_acc 84.85119342803955 test_acc 79.16666269302368\n",
      "Epoch: 50 Loss: 1.5959577316329592 Test Loss: 1.6574886061928489 data: 3360 train_acc 87.97619342803955 test_acc 80.87120652198792\n",
      "Epoch: 75 Loss: 1.585000649520329 Test Loss: 1.6559279615228826 data: 3360 train_acc 88.36309313774109 test_acc 80.3030252456665\n",
      "Epoch: 100 Loss: 1.5795964110465277 Test Loss: 1.657442407174544 data: 3360 train_acc 88.83928656578064 test_acc 80.5681824684143\n",
      "Epoch: 25 Loss: 1.6128226914189079 Test Loss: 1.668542656031522 data: 3520 train_acc 86.19318008422852 test_acc 80.0000011920929\n",
      "Epoch: 50 Loss: 1.5949759282849052 Test Loss: 1.657517053864219 data: 3520 train_acc 87.67045736312866 test_acc 80.3030252456665\n",
      "Epoch: 75 Loss: 1.5864993897351352 Test Loss: 1.6528011126951738 data: 3520 train_acc 88.21022510528564 test_acc 80.87120652198792\n",
      "Epoch: 100 Loss: 1.5816431625322862 Test Loss: 1.6535109281539917 data: 3520 train_acc 88.40909004211426 test_acc 81.15530014038086\n",
      "Epoch: 25 Loss: 1.5412993166757667 Test Loss: 1.596421328457919 data: 3680 train_acc 94.34782862663269 test_acc 87.6893937587738\n",
      "Epoch: 50 Loss: 1.519326829391977 Test Loss: 1.597982038151134 data: 3680 train_acc 95.6793487071991 test_acc 87.42424249649048\n",
      "Epoch: 75 Loss: 1.5100842102714207 Test Loss: 1.589364225214178 data: 3680 train_acc 96.27717137336731 test_acc 87.70833611488342\n",
      "Epoch: 100 Loss: 1.5039591949918996 Test Loss: 1.5898926691575483 data: 3680 train_acc 96.52174115180969 test_acc 87.42424249649048\n",
      "Epoch: 25 Loss: 1.6264960075418153 Test Loss: 1.693285346031189 data: 3840 train_acc 84.81770753860474 test_acc 76.49621367454529\n",
      "Epoch: 50 Loss: 1.6074157744646071 Test Loss: 1.6952975338155574 data: 3840 train_acc 86.4062488079071 test_acc 77.38636136054993\n",
      "Epoch: 75 Loss: 1.5993092815081278 Test Loss: 1.7041628144004128 data: 3840 train_acc 87.00520992279053 test_acc 75.37879347801208\n",
      "Epoch: 100 Loss: 1.5938456599911055 Test Loss: 1.7009604085575452 data: 3840 train_acc 87.26562261581421 test_acc 77.08333730697632\n",
      "Epoch: 25 Loss: 1.6166517295837401 Test Loss: 1.668028473854065 data: 4000 train_acc 85.9749972820282 test_acc 80.26514649391174\n",
      "Epoch: 50 Loss: 1.5993970317840576 Test Loss: 1.6535836458206177 data: 4000 train_acc 87.22500205039978 test_acc 80.85227608680725\n",
      "Epoch: 75 Loss: 1.5909002094268798 Test Loss: 1.6572402065450496 data: 4000 train_acc 87.77499794960022 test_acc 80.28409481048584\n",
      "Epoch: 100 Loss: 1.5868888773918153 Test Loss: 1.6550152518532493 data: 4000 train_acc 87.94999718666077 test_acc 80.85227608680725\n",
      "Epoch: 25 Loss: 1.544302173761221 Test Loss: 1.5909593972292813 data: 4160 train_acc 93.2692289352417 test_acc 88.5606050491333\n",
      "Epoch: 50 Loss: 1.5224478886677668 Test Loss: 1.5819763053547253 data: 4160 train_acc 95.40865421295166 test_acc 89.41287994384766\n",
      "Epoch: 75 Loss: 1.5121341943740845 Test Loss: 1.583515849980441 data: 4160 train_acc 95.9615409374237 test_acc 87.99242377281189\n",
      "Epoch: 100 Loss: 1.5068121933020078 Test Loss: 1.5839871601624922 data: 4160 train_acc 96.3942289352417 test_acc 88.84469866752625\n",
      "Epoch: 25 Loss: 1.5453214897049798 Test Loss: 1.5963410897688433 data: 4320 train_acc 93.54166388511658 test_acc 87.42424249649048\n",
      "Epoch: 50 Loss: 1.5255452950795492 Test Loss: 1.577193867076527 data: 4320 train_acc 95.25462985038757 test_acc 89.41287994384766\n",
      "Epoch: 75 Loss: 1.5144742356406318 Test Loss: 1.5788551352240823 data: 4320 train_acc 95.83333134651184 test_acc 89.12878632545471\n",
      "Epoch: 100 Loss: 1.5077613216859322 Test Loss: 1.574797814542597 data: 4320 train_acc 96.20370268821716 test_acc 88.84469866752625\n",
      "Epoch: 25 Loss: 1.546954773579325 Test Loss: 1.574995225126093 data: 4480 train_acc 93.41517686843872 test_acc 89.12878632545471\n",
      "Epoch: 50 Loss: 1.5253905432564872 Test Loss: 1.5912724950096824 data: 4480 train_acc 95.15625238418579 test_acc 87.42424249649048\n",
      "Epoch: 75 Loss: 1.516877428974424 Test Loss: 1.5813312530517578 data: 4480 train_acc 95.58035731315613 test_acc 88.5606050491333\n",
      "Epoch: 100 Loss: 1.5108337419373647 Test Loss: 1.5755199952559038 data: 4480 train_acc 96.07142806053162 test_acc 89.12878632545471\n",
      "Epoch: 25 Loss: 1.6223065733909607 Test Loss: 1.6608378020199863 data: 4640 train_acc 85.36638021469116 test_acc 80.58711886405945\n",
      "Epoch: 50 Loss: 1.6061572720264565 Test Loss: 1.6634287942539563 data: 4640 train_acc 86.29310131072998 test_acc 80.3030252456665\n",
      "Epoch: 75 Loss: 1.6000081493936735 Test Loss: 1.6758267229253596 data: 4640 train_acc 86.59482598304749 test_acc 78.86363863945007\n",
      "Epoch: 100 Loss: 1.5158303264913888 Test Loss: 1.5892505754124036 data: 4640 train_acc 95.77586054801941 test_acc 87.40530014038086\n",
      "Epoch: 25 Loss: 1.6232732264200846 Test Loss: 1.6677743196487427 data: 4800 train_acc 85.00000238418579 test_acc 80.58711886405945\n"
     ]
    },
    {
     "name": "stdout",
     "output_type": "stream",
     "text": [
      "Epoch: 50 Loss: 1.5406558505694072 Test Loss: 1.5929964238947087 data: 4800 train_acc 94.0625011920929 test_acc 87.99242377281189\n",
      "Epoch: 75 Loss: 1.5193011558055878 Test Loss: 1.5950008739124646 data: 4800 train_acc 95.6250011920929 test_acc 86.83711886405945\n",
      "Epoch: 100 Loss: 1.511958944797516 Test Loss: 1.5950867154381492 data: 4800 train_acc 95.99999785423279 test_acc 86.83711886405945\n",
      "Epoch: 25 Loss: 1.5439508115091631 Test Loss: 1.6004719842563977 data: 4960 train_acc 93.46774220466614 test_acc 86.26893758773804\n",
      "Epoch: 50 Loss: 1.5255404399287316 Test Loss: 1.5880530314012007 data: 4960 train_acc 95.20161151885986 test_acc 87.40530014038086\n",
      "Epoch: 75 Loss: 1.515773364036314 Test Loss: 1.5839419690045444 data: 4960 train_acc 95.72580456733704 test_acc 87.99242377281189\n",
      "Epoch: 100 Loss: 1.5096641102144794 Test Loss: 1.5739627968181262 data: 4960 train_acc 96.088707447052 test_acc 89.10984396934509\n",
      "Epoch: 25 Loss: 1.5434849474579095 Test Loss: 1.5808636817065151 data: 5120 train_acc 93.8281238079071 test_acc 88.5606050491333\n",
      "Epoch: 50 Loss: 1.5258169919252396 Test Loss: 1.5738922574303367 data: 5120 train_acc 94.53125 test_acc 89.41287994384766\n",
      "Epoch: 75 Loss: 1.515844452008605 Test Loss: 1.5759948383678088 data: 5120 train_acc 95.5859363079071 test_acc 89.41287994384766\n",
      "Epoch: 100 Loss: 1.5106332175433637 Test Loss: 1.5865079056132922 data: 5120 train_acc 95.99609375 test_acc 87.6893937587738\n",
      "Epoch: 25 Loss: 1.5426888252749587 Test Loss: 1.5769898674704812 data: 5280 train_acc 93.46590638160706 test_acc 89.41287994384766\n",
      "Epoch: 50 Loss: 1.5239925160552517 Test Loss: 1.5627288059754805 data: 5280 train_acc 94.90530490875244 test_acc 90.83333611488342\n",
      "Epoch: 75 Loss: 1.5163176276467063 Test Loss: 1.566369110887701 data: 5280 train_acc 95.32197117805481 test_acc 90.26515483856201\n",
      "Epoch: 100 Loss: 1.5108523141254078 Test Loss: 1.5678967020728372 data: 5280 train_acc 95.92803120613098 test_acc 89.6969735622406\n",
      "Epoch: 25 Loss: 1.7082947485587177 Test Loss: 1.759699290448969 data: 5440 train_acc 75.84558725357056 test_acc 71.07954621315002\n",
      "Epoch: 50 Loss: 1.6143043637275696 Test Loss: 1.6647920933636753 data: 5440 train_acc 85.71690917015076 test_acc 80.22727370262146\n",
      "Epoch: 75 Loss: 1.603706517640282 Test Loss: 1.6540404774925925 data: 5440 train_acc 86.59926652908325 test_acc 81.09848499298096\n",
      "Epoch: 100 Loss: 1.5982545445947085 Test Loss: 1.6580762538042935 data: 5440 train_acc 87.0036780834198 test_acc 80.79545497894287\n",
      "Epoch: 25 Loss: 1.6185710518700736 Test Loss: 1.650306517427618 data: 5600 train_acc 85.4107141494751 test_acc 81.70454502105713\n",
      "Epoch: 50 Loss: 1.6051562462534223 Test Loss: 1.646525578065352 data: 5600 train_acc 86.4464282989502 test_acc 82.00757503509521\n",
      "Epoch: 75 Loss: 1.5989387737001692 Test Loss: 1.6486406326293945 data: 5600 train_acc 86.78571581840515 test_acc 81.4393937587738\n",
      "Epoch: 100 Loss: 1.5948194932937623 Test Loss: 1.646222873167558 data: 5600 train_acc 87.14285492897034 test_acc 82.00757503509521\n",
      "Epoch: 25 Loss: 1.6257769260141584 Test Loss: 1.6614797982302578 data: 5760 train_acc 85.00000238418579 test_acc 80.22727370262146\n",
      "Epoch: 50 Loss: 1.6093904326359432 Test Loss: 1.6690149307250977 data: 5760 train_acc 85.69444417953491 test_acc 79.94318008422852\n",
      "Epoch: 75 Loss: 1.601347695125474 Test Loss: 1.6580900278958408 data: 5760 train_acc 86.77083253860474 test_acc 80.79545497894287\n",
      "Epoch: 100 Loss: 1.5966072155369653 Test Loss: 1.6615281105041504 data: 5760 train_acc 87.15277910232544 test_acc 80.22727370262146\n",
      "Epoch: 25 Loss: 1.6241601306038933 Test Loss: 1.6707249121232466 data: 5920 train_acc 85.21959185600281 test_acc 79.65908646583557\n",
      "Epoch: 50 Loss: 1.6089146382099873 Test Loss: 1.661579966545105 data: 5920 train_acc 86.31756901741028 test_acc 80.81439733505249\n",
      "Epoch: 75 Loss: 1.6013670550810324 Test Loss: 1.6586711515079846 data: 5920 train_acc 86.6216242313385 test_acc 80.51136136054993\n",
      "Epoch: 100 Loss: 1.597155450163661 Test Loss: 1.666058681227944 data: 5920 train_acc 87.01013326644897 test_acc 79.65908646583557\n",
      "Epoch: 25 Loss: 1.6178477290429567 Test Loss: 1.6495669538324529 data: 6080 train_acc 85.44408082962036 test_acc 80.5681824684143\n",
      "Epoch: 50 Loss: 1.527304276039726 Test Loss: 1.5640833269466052 data: 6080 train_acc 94.90131735801697 test_acc 89.98106122016907\n",
      "Epoch: 75 Loss: 1.514366113198431 Test Loss: 1.5616936141794378 data: 6080 train_acc 95.7730233669281 test_acc 91.09848141670227\n",
      "Epoch: 100 Loss: 1.5086464194875016 Test Loss: 1.5641266324303367 data: 6080 train_acc 96.18421196937561 test_acc 90.24620652198792\n",
      "Epoch: 25 Loss: 1.5405797570179671 Test Loss: 1.559646400538358 data: 6240 train_acc 93.57371926307678 test_acc 89.96211886405945\n",
      "Epoch: 50 Loss: 1.521746330994826 Test Loss: 1.5566302754662253 data: 6240 train_acc 95.33653855323792 test_acc 91.11742377281189\n",
      "Epoch: 75 Loss: 1.5139803278140533 Test Loss: 1.5540457747199319 data: 6240 train_acc 95.78525424003601 test_acc 91.40151739120483\n",
      "Epoch: 100 Loss: 1.508172674056811 Test Loss: 1.5501765121113171 data: 6240 train_acc 96.10576629638672 test_acc 91.6856050491333\n",
      "Epoch: 25 Loss: 1.5348344177007676 Test Loss: 1.5612346042286267 data: 6400 train_acc 94.15624737739563 test_acc 91.38257503509521\n",
      "Epoch: 50 Loss: 1.5205714270472526 Test Loss: 1.55972590229728 data: 6400 train_acc 95.09375095367432 test_acc 91.11742377281189\n",
      "Epoch: 75 Loss: 1.5116614240407944 Test Loss: 1.546407168561762 data: 6400 train_acc 95.85937261581421 test_acc 92.8219735622406\n",
      "Epoch: 100 Loss: 1.506590116918087 Test Loss: 1.5546281987970525 data: 6400 train_acc 96.31249904632568 test_acc 91.40151739120483\n",
      "Epoch: 25 Loss: 1.5346204216887311 Test Loss: 1.5724786520004272 data: 6560 train_acc 93.53658556938171 test_acc 89.10984396934509\n",
      "Epoch: 50 Loss: 1.5195309444171627 Test Loss: 1.563965689052235 data: 6560 train_acc 95.25914788246155 test_acc 90.53030014038086\n",
      "Epoch: 75 Loss: 1.5118068244399094 Test Loss: 1.5524333715438843 data: 6560 train_acc 95.92987895011902 test_acc 91.07954502105713\n",
      "Epoch: 100 Loss: 1.5062891230350588 Test Loss: 1.5575210397893733 data: 6560 train_acc 96.18902206420898 test_acc 90.8143937587738\n",
      "Epoch: 25 Loss: 1.5356886003698622 Test Loss: 1.5578881177035244 data: 6720 train_acc 94.0625011920929 test_acc 90.8143937587738\n",
      "Epoch: 50 Loss: 1.5205838509968348 Test Loss: 1.5561057654294101 data: 6720 train_acc 95.08928656578064 test_acc 91.66666269302368\n",
      "Epoch: 75 Loss: 1.5129211681229728 Test Loss: 1.5572344931689175 data: 6720 train_acc 95.8184540271759 test_acc 91.07954502105713\n",
      "Epoch: 100 Loss: 1.5088744174866449 Test Loss: 1.5575714869932695 data: 6720 train_acc 96.10118865966797 test_acc 90.51136374473572\n",
      "Epoch: 25 Loss: 1.6143335447754972 Test Loss: 1.63991502198306 data: 6880 train_acc 85.43604612350464 test_acc 83.14393758773804\n",
      "Epoch: 50 Loss: 1.6035030805787376 Test Loss: 1.6329805634238503 data: 6880 train_acc 86.49709224700928 test_acc 82.84091353416443\n",
      "Epoch: 75 Loss: 1.55017304365025 Test Loss: 1.5662700804797085 data: 6880 train_acc 93.72093081474304 test_acc 89.65909481048584\n",
      "Epoch: 100 Loss: 1.5130648881890052 Test Loss: 1.5515144304795698 data: 6880 train_acc 95.6686019897461 test_acc 91.38257503509521\n",
      "Epoch: 25 Loss: 1.5346318301829425 Test Loss: 1.5472477240995928 data: 7040 train_acc 93.90624761581421 test_acc 92.5568163394928\n",
      "Epoch: 50 Loss: 1.5207026332616806 Test Loss: 1.5517815459858288 data: 7040 train_acc 94.9431836605072 test_acc 91.09848141670227\n",
      "Epoch: 75 Loss: 1.5123699090697549 Test Loss: 1.5523170557889072 data: 7040 train_acc 95.76704502105713 test_acc 91.09848141670227\n",
      "Epoch: 100 Loss: 1.507970229062167 Test Loss: 1.5483720844442195 data: 7040 train_acc 96.17897868156433 test_acc 91.38257503509521\n",
      "Epoch: 25 Loss: 1.533447580602434 Test Loss: 1.55354473807595 data: 7200 train_acc 94.31944489479065 test_acc 91.38257503509521\n",
      "Epoch: 50 Loss: 1.5190531182289124 Test Loss: 1.5498398542404175 data: 7200 train_acc 95.24999856948853 test_acc 91.95075631141663\n",
      "Epoch: 75 Loss: 1.5124699926376344 Test Loss: 1.54382277618755 data: 7200 train_acc 95.83333134651184 test_acc 92.21591353416443\n",
      "Epoch: 100 Loss: 1.5076039610968697 Test Loss: 1.5543989701704546 data: 7200 train_acc 96.15277647972107 test_acc 90.79545736312866\n"
     ]
    },
    {
     "name": "stdout",
     "output_type": "stream",
     "text": [
      "Epoch: 25 Loss: 1.5330552686815677 Test Loss: 1.5412793918089434 data: 7360 train_acc 94.361412525177 test_acc 92.25378632545471\n",
      "Epoch: 50 Loss: 1.5188223540782928 Test Loss: 1.5455810156735508 data: 7360 train_acc 95.4211950302124 test_acc 91.66666269302368\n",
      "Epoch: 75 Loss: 1.512328666448593 Test Loss: 1.5485885034907947 data: 7360 train_acc 95.8152174949646 test_acc 91.66666269302368\n",
      "Epoch: 100 Loss: 1.5073744872341985 Test Loss: 1.5536714358763262 data: 7360 train_acc 95.923912525177 test_acc 91.09848141670227\n",
      "Epoch: 25 Loss: 1.5324201036006846 Test Loss: 1.548732800917192 data: 7520 train_acc 93.85638236999512 test_acc 91.40151739120483\n",
      "Epoch: 50 Loss: 1.517694360144595 Test Loss: 1.538182963024486 data: 7520 train_acc 95.37234306335449 test_acc 93.10606122016907\n",
      "Epoch: 75 Loss: 1.5114141137041943 Test Loss: 1.5415760387073865 data: 7520 train_acc 95.98404169082642 test_acc 92.51893758773804\n",
      "Epoch: 100 Loss: 1.5072671286603239 Test Loss: 1.5434614203192971 data: 7520 train_acc 96.03723287582397 test_acc 91.40151739120483\n",
      "Epoch: 25 Loss: 1.6195683762431146 Test Loss: 1.64722111008384 data: 7680 train_acc 85.06510257720947 test_acc 81.40151500701904\n",
      "Epoch: 50 Loss: 1.6079385116696359 Test Loss: 1.6483116149902344 data: 7680 train_acc 86.10677123069763 test_acc 81.66666626930237\n",
      "Epoch: 75 Loss: 1.601335996389389 Test Loss: 1.6401152610778809 data: 7680 train_acc 86.58854365348816 test_acc 82.51894116401672\n",
      "Epoch: 100 Loss: 1.5976348636051019 Test Loss: 1.650496006011963 data: 7680 train_acc 86.94010376930237 test_acc 81.09848499298096\n",
      "Epoch: 25 Loss: 1.5319750055974843 Test Loss: 1.5356977419419722 data: 7840 train_acc 94.41326260566711 test_acc 93.12499761581421\n",
      "Epoch: 50 Loss: 1.5166695786982167 Test Loss: 1.5417833544991233 data: 7840 train_acc 95.5867350101471 test_acc 91.96969866752625\n",
      "Epoch: 75 Loss: 1.5094229656822828 Test Loss: 1.5416878895326094 data: 7840 train_acc 95.89285850524902 test_acc 92.53787994384766\n",
      "Epoch: 100 Loss: 1.505862600219493 Test Loss: 1.5452878258445046 data: 7840 train_acc 96.02040648460388 test_acc 91.66666269302368\n",
      "Epoch: 25 Loss: 1.532611209630966 Test Loss: 1.5338987545533613 data: 8000 train_acc 94.40000057220459 test_acc 93.97726655006409\n",
      "Epoch: 50 Loss: 1.5184300744533539 Test Loss: 1.538735270500183 data: 8000 train_acc 95.52500247955322 test_acc 93.39015483856201\n",
      "Epoch: 75 Loss: 1.5113294718265533 Test Loss: 1.5364787470210681 data: 8000 train_acc 95.99999785423279 test_acc 92.8219735622406\n",
      "Epoch: 100 Loss: 1.5066370198726653 Test Loss: 1.5411589254032483 data: 8000 train_acc 96.28750085830688 test_acc 91.95075631141663\n",
      "\n",
      "\n",
      "Run Number: 3\n",
      "Epoch: 25 Loss: 1.8426867604255677 Test Loss: 2.0199268839576026 data: 160 train_acc 64.3750011920929 test_acc 46.49621248245239\n",
      "Epoch: 50 Loss: 1.7935768961906433 Test Loss: 1.9971829869530418 data: 160 train_acc 68.12499761581421 test_acc 48.768940567970276\n",
      "Epoch: 75 Loss: 1.779669952392578 Test Loss: 1.9872153455560857 data: 160 train_acc 68.75 test_acc 48.200759291648865\n",
      "Epoch: 100 Loss: 1.7738241314888001 Test Loss: 1.9816420728510076 data: 160 train_acc 68.75 test_acc 48.768940567970276\n",
      "Epoch: 25 Loss: 1.663806390762329 Test Loss: 1.8637325330214067 data: 320 train_acc 83.74999761581421 test_acc 63.14393877983093\n",
      "Epoch: 50 Loss: 1.5716942131519318 Test Loss: 1.7688932093706997 data: 320 train_acc 91.25000238418579 test_acc 74.22348260879517\n",
      "Epoch: 75 Loss: 1.556040608882904 Test Loss: 1.7568836212158203 data: 320 train_acc 91.8749988079071 test_acc 74.22348260879517\n",
      "Epoch: 100 Loss: 1.549490886926651 Test Loss: 1.7462818189100786 data: 320 train_acc 91.8749988079071 test_acc 73.9393949508667\n",
      "Epoch: 25 Loss: 1.6348933100700378 Test Loss: 1.7409440062262795 data: 480 train_acc 86.87499761581421 test_acc 76.2499988079071\n",
      "Epoch: 50 Loss: 1.513216539223989 Test Loss: 1.6539105068553577 data: 480 train_acc 97.70833253860474 test_acc 83.40909481048584\n",
      "Epoch: 75 Loss: 1.4933948556582133 Test Loss: 1.641224200075323 data: 480 train_acc 98.1249988079071 test_acc 84.54545736312866\n",
      "Epoch: 100 Loss: 1.4855909983317057 Test Loss: 1.6338010159405796 data: 480 train_acc 98.54166507720947 test_acc 85.11363863945007\n",
      "Epoch: 25 Loss: 1.6456775844097138 Test Loss: 1.743694858117537 data: 640 train_acc 85.9375 test_acc 75.41666626930237\n",
      "Epoch: 50 Loss: 1.5995553076267242 Test Loss: 1.7262502150102095 data: 640 train_acc 88.5937511920929 test_acc 76.53408646583557\n",
      "Epoch: 75 Loss: 1.583352866768837 Test Loss: 1.731934579935941 data: 640 train_acc 89.21874761581421 test_acc 75.6818175315857\n",
      "Epoch: 100 Loss: 1.5762336522340774 Test Loss: 1.7203989787535234 data: 640 train_acc 89.5312488079071 test_acc 75.35984516143799\n",
      "Epoch: 25 Loss: 1.5550555038452147 Test Loss: 1.6265406933697788 data: 800 train_acc 94.87500190734863 test_acc 86.28787994384766\n",
      "Epoch: 50 Loss: 1.5157410645484923 Test Loss: 1.6137827634811401 data: 800 train_acc 97.00000286102295 test_acc 87.99242377281189\n",
      "Epoch: 75 Loss: 1.4999382424354553 Test Loss: 1.618250229141929 data: 800 train_acc 97.62499928474426 test_acc 86.00378632545471\n",
      "Epoch: 100 Loss: 1.492208755016327 Test Loss: 1.6024696068330244 data: 800 train_acc 97.87499904632568 test_acc 88.27651739120483\n",
      "Epoch: 25 Loss: 1.5520015875498454 Test Loss: 1.6591798717325383 data: 960 train_acc 94.58333253860474 test_acc 83.71211886405945\n",
      "Epoch: 50 Loss: 1.5163133939107258 Test Loss: 1.6148728890852495 data: 960 train_acc 96.45833373069763 test_acc 86.5530252456665\n",
      "Epoch: 75 Loss: 1.4998556713263194 Test Loss: 1.6148868148977107 data: 960 train_acc 97.70833253860474 test_acc 86.53409481048584\n",
      "Epoch: 100 Loss: 1.4895332594712576 Test Loss: 1.6158405975861982 data: 960 train_acc 98.4375 test_acc 85.98484396934509\n",
      "Epoch: 25 Loss: 1.5494179657527378 Test Loss: 1.6245357448404485 data: 1120 train_acc 94.10714507102966 test_acc 86.26893758773804\n",
      "Epoch: 50 Loss: 1.516365042754582 Test Loss: 1.6151547973806208 data: 1120 train_acc 96.69643044471741 test_acc 87.10227608680725\n",
      "Epoch: 75 Loss: 1.5005098530224392 Test Loss: 1.6279766126112505 data: 1120 train_acc 97.41071462631226 test_acc 84.82954502105713\n",
      "Epoch: 100 Loss: 1.4907200813293457 Test Loss: 1.6125306432897395 data: 1120 train_acc 98.1249988079071 test_acc 87.40530014038086\n",
      "Epoch: 25 Loss: 1.555936412513256 Test Loss: 1.6415734074332498 data: 1280 train_acc 94.140625 test_acc 83.39014649391174\n",
      "Epoch: 50 Loss: 1.521487295627594 Test Loss: 1.6301618380980059 data: 1280 train_acc 96.1718738079071 test_acc 85.13257503509521\n",
      "Epoch: 75 Loss: 1.5071936562657355 Test Loss: 1.6225073445927014 data: 1280 train_acc 97.03124761581421 test_acc 84.54545736312866\n",
      "Epoch: 100 Loss: 1.4964859813451767 Test Loss: 1.6341324827887795 data: 1280 train_acc 97.5781261920929 test_acc 82.85984396934509\n",
      "Epoch: 25 Loss: 1.696843331389957 Test Loss: 1.8168160915374756 data: 1440 train_acc 79.16666865348816 test_acc 65.41666388511658\n",
      "Epoch: 50 Loss: 1.6722183108329773 Test Loss: 1.8032259832728992 data: 1440 train_acc 80.27777671813965 test_acc 66.83712005615234\n",
      "Epoch: 75 Loss: 1.6629708329836528 Test Loss: 1.7986774336207996 data: 1440 train_acc 80.48611283302307 test_acc 66.24999642372131\n",
      "Epoch: 100 Loss: 1.6575639764467875 Test Loss: 1.801480163227428 data: 1440 train_acc 80.62499761581421 test_acc 66.5530264377594\n",
      "Epoch: 25 Loss: 1.6247594964504242 Test Loss: 1.7121472467075696 data: 1600 train_acc 86.18749976158142 test_acc 75.15151500701904\n",
      "Epoch: 50 Loss: 1.5965474462509155 Test Loss: 1.7040526216680354 data: 1600 train_acc 88.06250095367432 test_acc 76.85605883598328\n",
      "Epoch: 75 Loss: 1.583184804916382 Test Loss: 1.7157593965530396 data: 1600 train_acc 88.62500190734863 test_acc 74.8674213886261\n",
      "Epoch: 100 Loss: 1.577751681804657 Test Loss: 1.7084617614746094 data: 1600 train_acc 88.81250023841858 test_acc 76.55303478240967\n",
      "Epoch: 25 Loss: 1.6243900873444297 Test Loss: 1.6960074468092485 data: 1760 train_acc 86.07954382896423 test_acc 78.27651500701904\n",
      "Epoch: 50 Loss: 1.5984492193568836 Test Loss: 1.6999058723449707 data: 1760 train_acc 87.89772987365723 test_acc 77.72727608680725\n",
      "Epoch: 75 Loss: 1.5874309106306597 Test Loss: 1.6967847455631604 data: 1760 train_acc 88.29545378684998 test_acc 77.42424011230469\n",
      "Epoch: 100 Loss: 1.5794683283025568 Test Loss: 1.6839452331716365 data: 1760 train_acc 88.6931836605072 test_acc 78.56060266494751\n"
     ]
    },
    {
     "name": "stdout",
     "output_type": "stream",
     "text": [
      "Epoch: 25 Loss: 1.620465103785197 Test Loss: 1.6945567564530806 data: 1920 train_acc 86.71875 test_acc 77.42424011230469\n",
      "Epoch: 50 Loss: 1.5984220365683237 Test Loss: 1.6927313912998547 data: 1920 train_acc 87.60416507720947 test_acc 77.4431824684143\n",
      "Epoch: 75 Loss: 1.5878403415282567 Test Loss: 1.6955481334166094 data: 1920 train_acc 88.02083134651184 test_acc 76.57196521759033\n",
      "Epoch: 100 Loss: 1.581860210498174 Test Loss: 1.6932199001312256 data: 1920 train_acc 88.28125 test_acc 76.83712244033813\n",
      "Epoch: 25 Loss: 1.5510775208473206 Test Loss: 1.6219808296723799 data: 2080 train_acc 93.41346025466919 test_acc 85.4356050491333\n",
      "Epoch: 50 Loss: 1.524474119223081 Test Loss: 1.6210204579613425 data: 2080 train_acc 95.67307829856873 test_acc 84.5643937587738\n",
      "Epoch: 75 Loss: 1.5112146707681509 Test Loss: 1.62433321909471 data: 2080 train_acc 96.44230604171753 test_acc 84.54545736312866\n",
      "Epoch: 100 Loss: 1.5031330897257877 Test Loss: 1.6283021298321811 data: 2080 train_acc 96.58653736114502 test_acc 83.95833373069763\n",
      "Epoch: 25 Loss: 1.5540050949369157 Test Loss: 1.6192123998295178 data: 2240 train_acc 93.57143044471741 test_acc 84.84848141670227\n",
      "Epoch: 50 Loss: 1.5270614521844046 Test Loss: 1.6286037184975364 data: 2240 train_acc 94.95535492897034 test_acc 83.1250011920929\n",
      "Epoch: 75 Loss: 1.51398412500109 Test Loss: 1.6048902164806018 data: 2240 train_acc 96.20535969734192 test_acc 87.40530014038086\n",
      "Epoch: 100 Loss: 1.5056147830826896 Test Loss: 1.6115078817714343 data: 2240 train_acc 96.74107432365417 test_acc 84.84848141670227\n",
      "Epoch: 25 Loss: 1.5537597600618998 Test Loss: 1.6209132129495794 data: 2400 train_acc 92.79166460037231 test_acc 85.70075631141663\n",
      "Epoch: 50 Loss: 1.5260787240664164 Test Loss: 1.593135573647239 data: 2400 train_acc 95.41666507720947 test_acc 87.99242377281189\n",
      "Epoch: 75 Loss: 1.5133389163017272 Test Loss: 1.588382601737976 data: 2400 train_acc 96.20833396911621 test_acc 88.5606050491333\n",
      "Epoch: 100 Loss: 1.5066099365552266 Test Loss: 1.5852155902168967 data: 2400 train_acc 96.5416669845581 test_acc 88.27651739120483\n",
      "Epoch: 25 Loss: 1.5516147457063199 Test Loss: 1.6025347926399924 data: 2560 train_acc 93.2812511920929 test_acc 87.40530014038086\n",
      "Epoch: 50 Loss: 1.524079941958189 Test Loss: 1.6019084995443171 data: 2560 train_acc 95.54687738418579 test_acc 87.99242377281189\n",
      "Epoch: 75 Loss: 1.5125965997576714 Test Loss: 1.5950647809288718 data: 2560 train_acc 96.13281488418579 test_acc 87.70833611488342\n",
      "Epoch: 100 Loss: 1.504711749404669 Test Loss: 1.60010074485432 data: 2560 train_acc 96.44531011581421 test_acc 87.40530014038086\n",
      "Epoch: 25 Loss: 1.5499552495339337 Test Loss: 1.6135665286671033 data: 2720 train_acc 93.5661792755127 test_acc 85.98484396934509\n",
      "Epoch: 50 Loss: 1.5229895914302152 Test Loss: 1.5946931838989258 data: 2720 train_acc 95.58823704719543 test_acc 87.97348141670227\n",
      "Epoch: 75 Loss: 1.5112884297090419 Test Loss: 1.598927996375344 data: 2720 train_acc 96.28676176071167 test_acc 87.6893937587738\n",
      "Epoch: 100 Loss: 1.5038778816952425 Test Loss: 1.598121545531533 data: 2720 train_acc 96.6176450252533 test_acc 87.14015483856201\n",
      "Epoch: 25 Loss: 1.545766207906935 Test Loss: 1.6084516698663884 data: 2880 train_acc 93.78471970558167 test_acc 86.83711886405945\n",
      "Epoch: 50 Loss: 1.5211211376720004 Test Loss: 1.5985023433511907 data: 2880 train_acc 95.55555582046509 test_acc 87.12120652198792\n",
      "Epoch: 75 Loss: 1.5097072217199536 Test Loss: 1.6003647392446345 data: 2880 train_acc 96.35416865348816 test_acc 86.83711886405945\n",
      "Epoch: 100 Loss: 1.5026957836416033 Test Loss: 1.606174967505715 data: 2880 train_acc 96.63194417953491 test_acc 86.26893758773804\n",
      "Epoch: 25 Loss: 1.5461626241081639 Test Loss: 1.6071948138150303 data: 3040 train_acc 94.27631497383118 test_acc 87.12120652198792\n",
      "Epoch: 50 Loss: 1.5223855106454147 Test Loss: 1.5961706313219937 data: 3040 train_acc 95.6907868385315 test_acc 87.40530014038086\n",
      "Epoch: 75 Loss: 1.5113054168851752 Test Loss: 1.5937525900927456 data: 3040 train_acc 96.28289341926575 test_acc 87.70833611488342\n",
      "Epoch: 100 Loss: 1.5026187294407896 Test Loss: 1.5993572256781838 data: 3040 train_acc 96.80920839309692 test_acc 86.85606122016907\n",
      "Epoch: 25 Loss: 1.5460528647899627 Test Loss: 1.6039416898380627 data: 3200 train_acc 93.93749833106995 test_acc 86.5530252456665\n",
      "Epoch: 50 Loss: 1.5229392552375793 Test Loss: 1.58581420508298 data: 3200 train_acc 95.71874737739563 test_acc 88.5606050491333\n",
      "Epoch: 75 Loss: 1.5109887486696243 Test Loss: 1.5942660028284246 data: 3200 train_acc 96.31249904632568 test_acc 87.12120652198792\n",
      "Epoch: 100 Loss: 1.5035880011320115 Test Loss: 1.5959143530238757 data: 3200 train_acc 96.84374928474426 test_acc 86.2500011920929\n",
      "Epoch: 25 Loss: 1.544339785121736 Test Loss: 1.6008865291422063 data: 3360 train_acc 94.13690567016602 test_acc 87.6893937587738\n",
      "Epoch: 50 Loss: 1.520297010171981 Test Loss: 1.587182500145652 data: 3360 train_acc 95.6250011920929 test_acc 88.27651739120483\n",
      "Epoch: 75 Loss: 1.5095914148149037 Test Loss: 1.5897744677283547 data: 3360 train_acc 96.01190686225891 test_acc 87.12120652198792\n",
      "Epoch: 100 Loss: 1.5028766001973832 Test Loss: 1.5804349292408337 data: 3360 train_acc 96.84523940086365 test_acc 89.12878632545471\n",
      "Epoch: 25 Loss: 1.5431727972897615 Test Loss: 1.6043887680227107 data: 3520 train_acc 94.40340995788574 test_acc 86.26893758773804\n",
      "Epoch: 50 Loss: 1.5191035855900157 Test Loss: 1.5872788537632336 data: 3520 train_acc 95.65340876579285 test_acc 88.27651739120483\n",
      "Epoch: 75 Loss: 1.5098638599569147 Test Loss: 1.5845908685164019 data: 3520 train_acc 96.33522629737854 test_acc 88.5606050491333\n",
      "Epoch: 100 Loss: 1.5032178288156337 Test Loss: 1.5858747959136963 data: 3520 train_acc 96.70454263687134 test_acc 87.70833611488342\n",
      "Epoch: 25 Loss: 1.6315671381743058 Test Loss: 1.6793234781785444 data: 3680 train_acc 84.5380425453186 test_acc 78.82575988769531\n",
      "Epoch: 50 Loss: 1.5241174179574717 Test Loss: 1.5976468866521663 data: 3680 train_acc 95.0271725654602 test_acc 87.3674213886261\n",
      "Epoch: 75 Loss: 1.5120544366214586 Test Loss: 1.592418822375211 data: 3680 train_acc 96.1413025856018 test_acc 86.26893758773804\n",
      "Epoch: 100 Loss: 1.5032409574674523 Test Loss: 1.587903467091647 data: 3680 train_acc 96.7934787273407 test_acc 87.40530014038086\n",
      "Epoch: 25 Loss: 1.5432267099618913 Test Loss: 1.5986186049201272 data: 3840 train_acc 93.98437738418579 test_acc 87.42424249649048\n",
      "Epoch: 50 Loss: 1.5215324153502783 Test Loss: 1.5887914570895108 data: 3840 train_acc 95.44270634651184 test_acc 87.42424249649048\n",
      "Epoch: 75 Loss: 1.5119112382332485 Test Loss: 1.5903878970579668 data: 3840 train_acc 96.06770873069763 test_acc 87.42424249649048\n",
      "Epoch: 100 Loss: 1.5057800059517226 Test Loss: 1.5916025855324485 data: 3840 train_acc 96.38020992279053 test_acc 87.97348141670227\n",
      "Epoch: 25 Loss: 1.616879895210266 Test Loss: 1.6583186821504072 data: 4000 train_acc 86.37499809265137 test_acc 81.4393937587738\n",
      "Epoch: 50 Loss: 1.598807273864746 Test Loss: 1.645557457750494 data: 4000 train_acc 87.22500205039978 test_acc 82.57575631141663\n",
      "Epoch: 75 Loss: 1.5909654006958007 Test Loss: 1.6521934054114602 data: 4000 train_acc 87.4750018119812 test_acc 80.5681824684143\n",
      "Epoch: 100 Loss: 1.5857399220466615 Test Loss: 1.6522564237768 data: 4000 train_acc 87.94999718666077 test_acc 80.5681824684143\n",
      "Epoch: 25 Loss: 1.6297655339424426 Test Loss: 1.6947567029432817 data: 4160 train_acc 84.92788672447205 test_acc 76.78030133247375\n",
      "Epoch: 50 Loss: 1.6100077610749466 Test Loss: 1.704160592772744 data: 4160 train_acc 86.44230961799622 test_acc 76.23106241226196\n",
      "Epoch: 75 Loss: 1.5999404774262356 Test Loss: 1.6897321722724221 data: 4160 train_acc 87.04326748847961 test_acc 76.81818008422852\n",
      "Epoch: 100 Loss: 1.5941692595298473 Test Loss: 1.6856042580171064 data: 4160 train_acc 87.45192289352417 test_acc 78.23863625526428\n",
      "Epoch: 25 Loss: 1.5461874590979683 Test Loss: 1.596820885484869 data: 4320 train_acc 93.68055462837219 test_acc 86.5719735622406\n",
      "Epoch: 50 Loss: 1.5243895049448366 Test Loss: 1.5760913762179287 data: 4320 train_acc 94.49074268341064 test_acc 88.82575631141663\n",
      "Epoch: 75 Loss: 1.5143267512321472 Test Loss: 1.5921350934288718 data: 4320 train_acc 95.8564817905426 test_acc 87.6893937587738\n",
      "Epoch: 100 Loss: 1.5082938772660714 Test Loss: 1.5869749134237117 data: 4320 train_acc 96.22685313224792 test_acc 87.97348141670227\n"
     ]
    },
    {
     "name": "stdout",
     "output_type": "stream",
     "text": [
      "Epoch: 25 Loss: 1.5466457435062952 Test Loss: 1.5967440713535657 data: 4480 train_acc 93.08035969734192 test_acc 87.70833611488342\n",
      "Epoch: 50 Loss: 1.5258986094168254 Test Loss: 1.582923488183455 data: 4480 train_acc 94.64285969734192 test_acc 88.84469866752625\n",
      "Epoch: 75 Loss: 1.5158284434250422 Test Loss: 1.5686385414817117 data: 4480 train_acc 95.73660492897034 test_acc 90.26515483856201\n",
      "Epoch: 100 Loss: 1.5094304804291043 Test Loss: 1.57021118294109 data: 4480 train_acc 95.89285850524902 test_acc 90.26515483856201\n",
      "Epoch: 25 Loss: 1.5445715049217488 Test Loss: 1.6028983376242898 data: 4640 train_acc 93.14655065536499 test_acc 85.98484396934509\n",
      "Epoch: 50 Loss: 1.5249545072687083 Test Loss: 1.5859112631190906 data: 4640 train_acc 95.28017044067383 test_acc 88.27651739120483\n",
      "Epoch: 75 Loss: 1.5147971017607327 Test Loss: 1.5866449637846514 data: 4640 train_acc 95.79741358757019 test_acc 87.14015483856201\n",
      "Epoch: 100 Loss: 1.5090157118336909 Test Loss: 1.5718814026225696 data: 4640 train_acc 96.14224433898926 test_acc 89.41287994384766\n",
      "Epoch: 25 Loss: 1.5436731712023417 Test Loss: 1.5871042663400823 data: 4800 train_acc 93.83333325386047 test_acc 89.12878632545471\n",
      "Epoch: 50 Loss: 1.5248893626530966 Test Loss: 1.58881985057484 data: 4800 train_acc 95.39583325386047 test_acc 87.42424249649048\n",
      "Epoch: 75 Loss: 1.5148641844590505 Test Loss: 1.57324078950015 data: 4800 train_acc 95.74999809265137 test_acc 89.41287994384766\n",
      "Epoch: 100 Loss: 1.5091103518009186 Test Loss: 1.577103473923423 data: 4800 train_acc 95.99999785423279 test_acc 88.25757503509521\n",
      "Epoch: 25 Loss: 1.5440588274309712 Test Loss: 1.581874587319114 data: 4960 train_acc 93.08467507362366 test_acc 88.54166269302368\n",
      "Epoch: 50 Loss: 1.5257408565090549 Test Loss: 1.5853287415070967 data: 4960 train_acc 95.08064389228821 test_acc 87.70833611488342\n",
      "Epoch: 75 Loss: 1.5154247068589735 Test Loss: 1.5778209187767722 data: 4960 train_acc 95.705646276474 test_acc 88.84469866752625\n",
      "Epoch: 100 Loss: 1.5095754934895422 Test Loss: 1.5852673812346025 data: 4960 train_acc 96.14919424057007 test_acc 88.25757503509521\n",
      "Epoch: 25 Loss: 1.5436132233589888 Test Loss: 1.579290595921603 data: 5120 train_acc 93.75 test_acc 88.5606050491333\n",
      "Epoch: 50 Loss: 1.5254318911582232 Test Loss: 1.579890164462003 data: 5120 train_acc 94.82421875 test_acc 88.84469866752625\n",
      "Epoch: 75 Loss: 1.5158286370337009 Test Loss: 1.587657874280756 data: 5120 train_acc 95.6835925579071 test_acc 88.27651739120483\n",
      "Epoch: 100 Loss: 1.5104280300438404 Test Loss: 1.5810247659683228 data: 5120 train_acc 96.09375 test_acc 88.5606050491333\n",
      "Epoch: 25 Loss: 1.6274275729150482 Test Loss: 1.6739810488440774 data: 5280 train_acc 85.07575988769531 test_acc 78.8068175315857\n",
      "Epoch: 50 Loss: 1.6102570606000495 Test Loss: 1.6692029237747192 data: 5280 train_acc 86.117422580719 test_acc 78.82575988769531\n",
      "Epoch: 75 Loss: 1.519662363240213 Test Loss: 1.5634403337131848 data: 5280 train_acc 95.20833492279053 test_acc 90.53030014038086\n",
      "Epoch: 100 Loss: 1.5102850032575204 Test Loss: 1.5658388246189465 data: 5280 train_acc 96.17424011230469 test_acc 89.6780252456665\n",
      "Epoch: 25 Loss: 1.6222687016515172 Test Loss: 1.649228117682717 data: 5440 train_acc 85.20220518112183 test_acc 81.40151500701904\n",
      "Epoch: 50 Loss: 1.6063532829284668 Test Loss: 1.6465517607602207 data: 5440 train_acc 86.1948549747467 test_acc 81.13636374473572\n",
      "Epoch: 75 Loss: 1.5999648038078758 Test Loss: 1.6432155587456443 data: 5440 train_acc 86.7463231086731 test_acc 81.42045736312866\n",
      "Epoch: 100 Loss: 1.5965807227527393 Test Loss: 1.6480317332527854 data: 5440 train_acc 86.93014979362488 test_acc 80.85227608680725\n",
      "Epoch: 25 Loss: 1.5393144117082869 Test Loss: 1.5566766912286931 data: 5600 train_acc 94.08928751945496 test_acc 90.83333611488342\n",
      "Epoch: 50 Loss: 1.5211346442358835 Test Loss: 1.5608957030556418 data: 5600 train_acc 95.39285898208618 test_acc 89.98106122016907\n",
      "Epoch: 75 Loss: 1.5131719909395491 Test Loss: 1.5726728439331055 data: 5600 train_acc 95.80357074737549 test_acc 89.12878632545471\n",
      "Epoch: 100 Loss: 1.5074476081984385 Test Loss: 1.5774695439772173 data: 5600 train_acc 95.99999785423279 test_acc 88.84469866752625\n",
      "Epoch: 25 Loss: 1.539145232240359 Test Loss: 1.5738371827385642 data: 5760 train_acc 93.61110925674438 test_acc 89.6780252456665\n",
      "Epoch: 50 Loss: 1.5212957574261559 Test Loss: 1.5652497681704434 data: 5760 train_acc 95.50347328186035 test_acc 90.26515483856201\n",
      "Epoch: 75 Loss: 1.5130417280726962 Test Loss: 1.5793355053121394 data: 5760 train_acc 95.20833492279053 test_acc 88.82575631141663\n",
      "Epoch: 100 Loss: 1.5082973228560554 Test Loss: 1.5639318986372515 data: 5760 train_acc 96.09375 test_acc 89.09091353416443\n",
      "Epoch: 25 Loss: 1.5384388247051755 Test Loss: 1.5587579228661277 data: 5920 train_acc 93.73310804367065 test_acc 91.40151739120483\n",
      "Epoch: 50 Loss: 1.5217629793527965 Test Loss: 1.5676923881877551 data: 5920 train_acc 95.10135054588318 test_acc 89.98106122016907\n",
      "Epoch: 75 Loss: 1.5133046250085573 Test Loss: 1.5611796270717273 data: 5920 train_acc 95.64189314842224 test_acc 90.83333611488342\n",
      "Epoch: 100 Loss: 1.5083444137830992 Test Loss: 1.576653708111156 data: 5920 train_acc 95.27027010917664 test_acc 89.10984396934509\n",
      "Epoch: 25 Loss: 1.6178582398514998 Test Loss: 1.6431454853578047 data: 6080 train_acc 85.6249988079071 test_acc 82.00757503509521\n",
      "Epoch: 50 Loss: 1.6053355141689902 Test Loss: 1.6450675292448564 data: 6080 train_acc 86.49671077728271 test_acc 82.29166269302368\n",
      "Epoch: 75 Loss: 1.5987661625209608 Test Loss: 1.6419298648834229 data: 6080 train_acc 86.87499761581421 test_acc 81.70454502105713\n",
      "Epoch: 100 Loss: 1.5150138249522762 Test Loss: 1.5554901578209617 data: 6080 train_acc 95.52631378173828 test_acc 91.6856050491333\n",
      "Epoch: 25 Loss: 1.5385911862055461 Test Loss: 1.5649046897888184 data: 6240 train_acc 93.7660276889801 test_acc 90.54924249649048\n",
      "Epoch: 50 Loss: 1.5216029925224108 Test Loss: 1.554035316814076 data: 6240 train_acc 95.1602578163147 test_acc 92.25378632545471\n",
      "Epoch: 75 Loss: 1.5135842885726538 Test Loss: 1.5555084185166792 data: 6240 train_acc 95.81730961799622 test_acc 91.40151739120483\n",
      "Epoch: 100 Loss: 1.508096285049732 Test Loss: 1.5577703280882402 data: 6240 train_acc 96.10576629638672 test_acc 90.53030014038086\n",
      "Epoch: 25 Loss: 1.5363157466053963 Test Loss: 1.5612657070159912 data: 6400 train_acc 94.4531261920929 test_acc 91.40151739120483\n",
      "Epoch: 50 Loss: 1.5205251151323318 Test Loss: 1.5547689416191794 data: 6400 train_acc 95.29687762260437 test_acc 91.07954502105713\n",
      "Epoch: 75 Loss: 1.5121900451183319 Test Loss: 1.558447848666798 data: 6400 train_acc 95.90625166893005 test_acc 91.11742377281189\n",
      "Epoch: 100 Loss: 1.5068282547593117 Test Loss: 1.557661067355763 data: 6400 train_acc 96.0156261920929 test_acc 90.83333611488342\n",
      "Epoch: 25 Loss: 1.5353707301907422 Test Loss: 1.5645745559172197 data: 6560 train_acc 94.39024329185486 test_acc 89.98106122016907\n",
      "Epoch: 50 Loss: 1.5201239053795976 Test Loss: 1.5560425845059482 data: 6560 train_acc 95.28963565826416 test_acc 91.40151739120483\n",
      "Epoch: 75 Loss: 1.5121377127926523 Test Loss: 1.572479486465454 data: 6560 train_acc 95.1371967792511 test_acc 89.41287994384766\n",
      "Epoch: 100 Loss: 1.507685903805058 Test Loss: 1.5617995262145996 data: 6560 train_acc 96.08231782913208 test_acc 90.24620652198792\n",
      "Epoch: 25 Loss: 1.535669164714359 Test Loss: 1.552943695675243 data: 6720 train_acc 94.0625011920929 test_acc 91.40151739120483\n",
      "Epoch: 50 Loss: 1.5212641171046666 Test Loss: 1.5486845753409646 data: 6720 train_acc 95.17857432365417 test_acc 91.66666269302368\n",
      "Epoch: 75 Loss: 1.5134663550626664 Test Loss: 1.5634665164080532 data: 6720 train_acc 95.75892686843872 test_acc 90.24620652198792\n",
      "Epoch: 100 Loss: 1.508825712828409 Test Loss: 1.5531664978374133 data: 6720 train_acc 95.9970235824585 test_acc 91.36363863945007\n",
      "Epoch: 25 Loss: 1.5371229155119075 Test Loss: 1.5412985628301448 data: 6880 train_acc 93.73546242713928 test_acc 92.84090399742126\n",
      "Epoch: 50 Loss: 1.521782901952433 Test Loss: 1.5512917150150647 data: 6880 train_acc 95.08720636367798 test_acc 91.95075631141663\n",
      "Epoch: 75 Loss: 1.513202172656392 Test Loss: 1.5503646568818525 data: 6880 train_acc 95.65407037734985 test_acc 91.09848141670227\n",
      "Epoch: 100 Loss: 1.5085582699886588 Test Loss: 1.5447049032558093 data: 6880 train_acc 96.07558250427246 test_acc 92.51893758773804\n"
     ]
    },
    {
     "name": "stdout",
     "output_type": "stream",
     "text": [
      "Epoch: 25 Loss: 1.6220725094730204 Test Loss: 1.6601844809272073 data: 7040 train_acc 84.94318127632141 test_acc 80.24621605873108\n",
      "Epoch: 50 Loss: 1.609115116433664 Test Loss: 1.6420467008243909 data: 7040 train_acc 86.15056872367859 test_acc 82.53787755966187\n",
      "Epoch: 75 Loss: 1.6026584099639545 Test Loss: 1.638939088041132 data: 7040 train_acc 86.63352131843567 test_acc 82.51894116401672\n",
      "Epoch: 100 Loss: 1.5980907797813415 Test Loss: 1.6476856144991787 data: 7040 train_acc 86.6193175315857 test_acc 81.40151500701904\n",
      "Epoch: 25 Loss: 1.5334383281071982 Test Loss: 1.5477654283696956 data: 7200 train_acc 94.26388740539551 test_acc 91.96969866752625\n",
      "Epoch: 50 Loss: 1.518884773519304 Test Loss: 1.5509691021659158 data: 7200 train_acc 95.30555605888367 test_acc 91.66666269302368\n",
      "Epoch: 75 Loss: 1.5113530066278247 Test Loss: 1.5433721542358398 data: 7200 train_acc 95.91666460037231 test_acc 92.23484396934509\n",
      "Epoch: 100 Loss: 1.5077842169337803 Test Loss: 1.5495551282709294 data: 7200 train_acc 96.19444608688354 test_acc 91.66666269302368\n",
      "Epoch: 25 Loss: 1.7017656282238338 Test Loss: 1.7453293908726086 data: 7360 train_acc 76.4266312122345 test_acc 72.27272391319275\n",
      "Epoch: 50 Loss: 1.60523753269859 Test Loss: 1.6277595866810193 data: 7360 train_acc 86.03261113166809 test_acc 83.71211886405945\n",
      "Epoch: 75 Loss: 1.5980757801429084 Test Loss: 1.6310163627971301 data: 7360 train_acc 86.87499761581421 test_acc 82.84091353416443\n",
      "Epoch: 100 Loss: 1.594277872728265 Test Loss: 1.6325310468673706 data: 7360 train_acc 87.1739149093628 test_acc 82.84091353416443\n",
      "Epoch: 25 Loss: 1.5319468931948885 Test Loss: 1.5420284487984397 data: 7520 train_acc 94.21542286872864 test_acc 93.12499761581421\n",
      "Epoch: 50 Loss: 1.5182913896885324 Test Loss: 1.5403418324210427 data: 7520 train_acc 95.30584812164307 test_acc 92.53787994384766\n",
      "Epoch: 75 Loss: 1.5115404714929297 Test Loss: 1.542237097566778 data: 7520 train_acc 95.85106372833252 test_acc 92.25378632545471\n",
      "Epoch: 100 Loss: 1.5071593675207584 Test Loss: 1.5466923063451594 data: 7520 train_acc 96.1303174495697 test_acc 91.95075631141663\n",
      "Epoch: 25 Loss: 1.5317683373888333 Test Loss: 1.548473434014754 data: 7680 train_acc 94.03645992279053 test_acc 92.27272272109985\n",
      "Epoch: 50 Loss: 1.5174305359522502 Test Loss: 1.5396569533781572 data: 7680 train_acc 95.44270634651184 test_acc 92.27272272109985\n",
      "Epoch: 75 Loss: 1.5106893045206864 Test Loss: 1.5400471578944812 data: 7680 train_acc 95.85937261581421 test_acc 92.25378632545471\n",
      "Epoch: 100 Loss: 1.5067420778175196 Test Loss: 1.549589839848605 data: 7680 train_acc 95.9765613079071 test_acc 91.40151739120483\n",
      "Epoch: 25 Loss: 1.5313965201377868 Test Loss: 1.5380684679204768 data: 7840 train_acc 94.04336810112 test_acc 92.53787994384766\n",
      "Epoch: 50 Loss: 1.5167733613325625 Test Loss: 1.5442985838109797 data: 7840 train_acc 95.52295804023743 test_acc 91.95075631141663\n",
      "Epoch: 75 Loss: 1.5102924283669918 Test Loss: 1.544177304614674 data: 7840 train_acc 95.80357074737549 test_acc 91.66666269302368\n",
      "Epoch: 100 Loss: 1.5057897385285826 Test Loss: 1.5450170907107266 data: 7840 train_acc 96.12244963645935 test_acc 91.66666269302368\n",
      "Epoch: 25 Loss: 1.531612205028534 Test Loss: 1.5399168621410022 data: 8000 train_acc 94.19999718666077 test_acc 92.53787994384766\n",
      "Epoch: 50 Loss: 1.5183422210216522 Test Loss: 1.5348300500349565 data: 8000 train_acc 95.21250128746033 test_acc 93.95833611488342\n",
      "Epoch: 75 Loss: 1.511161081790924 Test Loss: 1.5422864827242764 data: 8000 train_acc 95.55000066757202 test_acc 92.25378632545471\n",
      "Epoch: 100 Loss: 1.50713401055336 Test Loss: 1.5414736054160378 data: 8000 train_acc 96.14999890327454 test_acc 91.96969866752625\n",
      "\n",
      "\n"
     ]
    }
   ],
   "source": [
    "old_acc = []\n",
    "old_train = []\n",
    "old_test = []\n",
    "\n",
    "ratio = 50\n",
    "EPOCHS = 100\n",
    "n_runs = 3\n",
    "\n",
    "for j in range(n_runs):\n",
    "    \n",
    "    ACCURACY_matrix = []\n",
    "    TrainLOSS_matrix = []\n",
    "    TestLOSS_matrix = []\n",
    "    \n",
    "    print(f\"Run Number: {j+1}\")\n",
    "    \n",
    "    for i in range (1, ratio+1):\n",
    "\n",
    "        train_losses = []\n",
    "        test_losses = []\n",
    "        test_accuracies = []\n",
    "\n",
    "        # Set the datasetsize\n",
    "        n_train_loop = int(n_train * i / ratio)\n",
    "        #batch_size_train_loop = int(batch_size_train * i / ratio)\n",
    "\n",
    "        # Create the train dataset and the train loader \n",
    "        dataset_train =  torchvision.datasets.MNIST('./files/', train = False, download = True, transform = transform)\n",
    "        dataset_train.data, dataset_train.targets = dataset_train.data[:n_train_loop], dataset_train.targets[:n_train_loop]\n",
    "        train_loader = torch.utils.data.DataLoader(dataset_train, batch_size=batch_size_train, shuffle = True, drop_last = True)\n",
    "\n",
    "        # Call our Net\n",
    "        model = EncoderWithSoftmax(pret_autoenc).to(device)\n",
    "\n",
    "        #Set the Optimazer\n",
    "        optimizer = torch.optim.Adam(model.parameters(), lr = 1e-3)\n",
    "\n",
    "        for epoch in range(1,EPOCHS+1):\n",
    "            train_loss = 0\n",
    "\n",
    "            for x_train, y_train in train_loader:\n",
    "                x_train, y_train = x_train.to(device), y_train.to(device)\n",
    "                loss = train(model, x_train, y_train, loss_function, optimizer)\n",
    "                train_loss += loss\n",
    "\n",
    "            train_loss /= len(train_loader)                    # we divide by the number of batches\n",
    "            train_losses.append(train_loss)\n",
    "\n",
    "            train_acc, test_acc, test_loss = evaluate(model, train_loader, test_loader)\n",
    "            test_accuracies.append(test_acc)\n",
    "            test_losses.append(test_loss)\n",
    "\n",
    "            if epoch % 25 == 0:\n",
    "                print(\"Epoch:\", epoch, \"Loss:\", float(train_loss), \"Test Loss:\", test_loss, \"data:\", len(dataset_train.data), \"train_acc\", train_acc, \"test_acc\", test_acc)\n",
    "\n",
    "        # Save in ACCURACY_matrix\n",
    "        ACCURACY_matrix.append(test_accuracies)\n",
    "        TrainLOSS_matrix.append(train_losses)\n",
    "        TestLOSS_matrix.append(test_losses)\n",
    "\n",
    "    if j == 0:\n",
    "\n",
    "        old_acc = ACCURACY_matrix\n",
    "        old_train = TrainLOSS_matrix\n",
    "        old_test = TestLOSS_matrix\n",
    "\n",
    "    else:\n",
    "\n",
    "        # For old_acc and ACCURACY_matrix\n",
    "        old_acc = [[old_acc[row][col] + ACCURACY_matrix[row][col] for col in range(len(old_acc[0]))] for row in range(len(old_acc))]\n",
    "\n",
    "        # For old_train and TrainLOSS_matrix\n",
    "        old_train = [[old_train[row][col] + TrainLOSS_matrix[row][col] for col in range(len(old_train[0]))] for row in range(len(old_train))]\n",
    "\n",
    "        # For old_test and TestLOSS_matrix\n",
    "        old_test = [[old_test[row][col] + TestLOSS_matrix[row][col] for col in range(len(old_test[0]))] for row in range(len(old_test))]\n",
    "        \n",
    "\n",
    "    print(\"\\n\")"
   ]
  },
  {
   "cell_type": "markdown",
   "metadata": {},
   "source": [
    "Implement the average"
   ]
  },
  {
   "cell_type": "code",
   "execution_count": 11,
   "metadata": {},
   "outputs": [],
   "source": [
    "ACCURACY_matrix = [[element / n_runs for element in row] for row in old_acc]\n",
    "TrainLOSS_matrix = [[element / n_runs for element in row] for row in old_train]\n",
    "TestLOSS_matrix = [[element / n_runs for element in row] for row in old_test]"
   ]
  },
  {
   "cell_type": "code",
   "execution_count": 12,
   "metadata": {
    "id": "rxFjGFZC3Wm-"
   },
   "outputs": [
    {
     "data": {
      "image/png": "[encoded data removed]",
      "text/plain": [
       "<Figure size 432x288 with 1 Axes>"
      ]
     },
     "metadata": {
      "needs_background": "light"
     },
     "output_type": "display_data"
    }
   ],
   "source": [
    "last_elements = [sublist[-1] for sublist in ACCURACY_matrix]\n",
    "\n",
    "# The size of the dataset\n",
    "data = [n_train * i/ratio for i in range(1, ratio + 1)]\n",
    "\n",
    "# Plot the values\n",
    "plt.plot(data, last_elements, label = \"Test\")\n",
    "plt.xlabel(\"Data\")\n",
    "plt.ylabel(\"Accuracy\")\n",
    "plt.title('Accuracy of EwithS non Sparse')\n",
    "plt.legend()\n",
    "plt.show()"
   ]
  },
  {
   "cell_type": "code",
   "execution_count": 13,
   "metadata": {},
   "outputs": [
    {
     "data": {
      "image/png": "[encoded data removed]",
      "text/plain": [
       "<Figure size 432x288 with 1 Axes>"
      ]
     },
     "metadata": {
      "needs_background": "light"
     },
     "output_type": "display_data"
    }
   ],
   "source": [
    "for i in range(len(TrainLOSS_matrix)):\n",
    "    plt.plot(range(EPOCHS), TrainLOSS_matrix[i])\n",
    "plt.xlabel(\"Epochs\")\n",
    "plt.ylabel(\"Loss\")\n",
    "plt.title('Train Loss vs epochs')\n",
    "plt.show()"
   ]
  },
  {
   "cell_type": "code",
   "execution_count": 14,
   "metadata": {},
   "outputs": [
    {
     "data": {
      "image/png": "[encoded data removed]",
      "text/plain": [
       "<Figure size 432x288 with 1 Axes>"
      ]
     },
     "metadata": {
      "needs_background": "light"
     },
     "output_type": "display_data"
    }
   ],
   "source": [
    "plt.plot(range(1, EPOCHS + 1), TrainLOSS_matrix[-1], label = \"Train\")\n",
    "plt.plot(range(1, EPOCHS + 1), TestLOSS_matrix[-1], label = \"Test\")\n",
    "plt.xlabel(\"Epochs\")\n",
    "plt.ylabel(\"Loss\")\n",
    "plt.title('Train Loss vs Test Loss')\n",
    "plt.legend()\n",
    "plt.show()"
   ]
  },
  {
   "cell_type": "markdown",
   "metadata": {
    "id": "CR3yGS_f4b-Y"
   },
   "source": [
    "*Salvataggio dei dati*"
   ]
  },
  {
   "cell_type": "code",
   "execution_count": 15,
   "metadata": {
    "id": "q_tdooxMoeJM"
   },
   "outputs": [],
   "source": [
    "result_dir = 'result'\n",
    "os.makedirs(result_dir, exist_ok=True)\n",
    "\n",
    "file_name1 = 'TrainLOSS_matrix_MNIST_normal.npy'\n",
    "np.save(os.path.join(result_dir, file_name1), TrainLOSS_matrix)\n",
    "\n",
    "file_name2 = 'ACCURACY_matrix_MNIST_normal.npy'\n",
    "np.save(os.path.join(result_dir, file_name2), ACCURACY_matrix)\n",
    "\n",
    "file_name3 = 'TestLOSS_matrix_MNIST_normal.npy'\n",
    "np.save(os.path.join(result_dir, file_name3), TestLOSS_matrix)"
   ]
  },
  {
   "cell_type": "markdown",
   "metadata": {
    "id": "7XXhnhB0d9UA"
   },
   "source": [
    "**Confusion Matrix**"
   ]
  },
  {
   "cell_type": "code",
   "execution_count": 16,
   "metadata": {
    "id": "xNyx4fQc2s77"
   },
   "outputs": [
    {
     "name": "stdout",
     "output_type": "stream",
     "text": [
      "[[0.95 0.   0.   0.   0.   0.   0.03 0.03 0.   0.  ]\n",
      " [0.   0.97 0.   0.   0.   0.   0.   0.   0.03 0.  ]\n",
      " [0.03 0.   0.75 0.   0.17 0.   0.   0.   0.06 0.  ]\n",
      " [0.03 0.   0.   0.83 0.   0.   0.   0.   0.14 0.  ]\n",
      " [0.   0.   0.   0.   0.92 0.   0.05 0.   0.   0.03]\n",
      " [0.   0.   0.   0.   0.   0.96 0.   0.   0.04 0.  ]\n",
      " [0.   0.   0.   0.   0.   0.   1.   0.   0.   0.  ]\n",
      " [0.   0.   0.   0.   0.   0.   0.   1.   0.   0.  ]\n",
      " [0.   0.   0.   0.   0.   0.06 0.03 0.   0.91 0.  ]\n",
      " [0.   0.   0.   0.   0.   0.   0.   0.09 0.   0.91]]\n"
     ]
    }
   ],
   "source": [
    "from sklearn.metrics import confusion_matrix\n",
    "import numpy as np\n",
    "model.eval()\n",
    "\n",
    "all_y = []\n",
    "all_predictions = []\n",
    "\n",
    "# Iterate over the dataset\n",
    "for x, y in test_loader:\n",
    "    x = x.to(device)\n",
    "\n",
    "    with torch.no_grad():\n",
    "        outputs = model(x)\n",
    "        _, predicted = torch.max(outputs, 1)\n",
    "\n",
    "    all_y.extend(y.numpy())\n",
    "    all_predictions.extend(predicted.cpu().numpy())\n",
    "\n",
    "all_y = np.array(all_y)\n",
    "all_predictions = np.array(all_predictions)\n",
    "\n",
    "conf_matrix = confusion_matrix(all_y, all_predictions, normalize = \"true\")\n",
    "\n",
    "print(conf_matrix.round(decimals=2))"
   ]
  },
  {
   "cell_type": "code",
   "execution_count": 17,
   "metadata": {
    "id": "NX2jfWVc2t50"
   },
   "outputs": [
    {
     "data": {
      "image/png": "[encoded data removed]",
      "text/plain": [
       "<Figure size 432x288 with 2 Axes>"
      ]
     },
     "metadata": {
      "needs_background": "light"
     },
     "output_type": "display_data"
    }
   ],
   "source": [
    "classes =dataset_test.classes\n",
    "\n",
    "plt.figure(figsize=(6, 4))\n",
    "plt.imshow(conf_matrix)\n",
    "plt.title(\"Confusion matrix\")\n",
    "plt.colorbar()\n",
    "\n",
    "tick_marks = np.arange(len(classes))\n",
    "plt.xticks(tick_marks, classes, rotation=45)\n",
    "plt.yticks(tick_marks, classes)\n",
    "\n",
    "\n",
    "plt.tight_layout()\n",
    "plt.ylabel('True label')\n",
    "plt.xlabel('Predicted label')\n",
    "\n",
    "plt.show()"
   ]
  },
  {
   "cell_type": "markdown",
   "metadata": {
    "id": "3jbvkfBcT1_F"
   },
   "source": [
    "# Prova"
   ]
  },
  {
   "cell_type": "code",
   "execution_count": 18,
   "metadata": {
    "executionInfo": {
     "elapsed": 9,
     "status": "aborted",
     "timestamp": 1717776497286,
     "user": {
      "displayName": "Valentina Barletta",
      "userId": "10868763587431229161"
     },
     "user_tz": -120
    },
    "id": "9_shGteuw8Ky"
   },
   "outputs": [
    {
     "ename": "TypeError",
     "evalue": "train() missing 2 required positional arguments: 'loss_function' and 'optimizer'",
     "output_type": "error",
     "traceback": [
      "\u001b[1;31m---------------------------------------------------------------------------\u001b[0m",
      "\u001b[1;31mTypeError\u001b[0m                                 Traceback (most recent call last)",
      "\u001b[1;32m~\\AppData\\Local\\Temp/ipykernel_29400/2411754454.py\u001b[0m in \u001b[0;36m<module>\u001b[1;34m\u001b[0m\n\u001b[0;32m     26\u001b[0m \u001b[1;33m\u001b[0m\u001b[0m\n\u001b[0;32m     27\u001b[0m         \u001b[0mx_train\u001b[0m\u001b[1;33m,\u001b[0m \u001b[0my_train\u001b[0m \u001b[1;33m=\u001b[0m \u001b[0mx_train\u001b[0m\u001b[1;33m.\u001b[0m\u001b[0mto\u001b[0m\u001b[1;33m(\u001b[0m\u001b[0mdevice\u001b[0m\u001b[1;33m)\u001b[0m\u001b[1;33m,\u001b[0m \u001b[0my_train\u001b[0m\u001b[1;33m.\u001b[0m\u001b[0mto\u001b[0m\u001b[1;33m(\u001b[0m\u001b[0mdevice\u001b[0m\u001b[1;33m)\u001b[0m\u001b[1;33m\u001b[0m\u001b[1;33m\u001b[0m\u001b[0m\n\u001b[1;32m---> 28\u001b[1;33m         \u001b[0mloss\u001b[0m \u001b[1;33m=\u001b[0m \u001b[0mtrain\u001b[0m\u001b[1;33m(\u001b[0m\u001b[0mmodel\u001b[0m\u001b[1;33m,\u001b[0m \u001b[0mx_train\u001b[0m\u001b[1;33m,\u001b[0m \u001b[0my_train\u001b[0m\u001b[1;33m)\u001b[0m\u001b[1;33m\u001b[0m\u001b[1;33m\u001b[0m\u001b[0m\n\u001b[0m\u001b[0;32m     29\u001b[0m         \u001b[0mtrain_loss\u001b[0m \u001b[1;33m+=\u001b[0m \u001b[0mloss\u001b[0m\u001b[1;33m\u001b[0m\u001b[1;33m\u001b[0m\u001b[0m\n\u001b[0;32m     30\u001b[0m \u001b[1;33m\u001b[0m\u001b[0m\n",
      "\u001b[1;31mTypeError\u001b[0m: train() missing 2 required positional arguments: 'loss_function' and 'optimizer'"
     ]
    }
   ],
   "source": [
    "n_train = 2000\n",
    "n_test = 500\n",
    "\n",
    "batch_size_train = 32\n",
    "batch_size_test = n_test\n",
    "\n",
    "dataset_train.data, dataset_train.targets = dataset_train.data[:n_train], dataset_train.targets[:n_train]\n",
    "train_loader = torch.utils.data.DataLoader(dataset_train, batch_size = batch_size_train, shuffle = True,  drop_last = True)\n",
    "\n",
    "EPOCHS = 100\n",
    "\n",
    "train_losses = []\n",
    "train_accuracies = []\n",
    "test_accuracies = []\n",
    "\n",
    "learning_rate = 0.1\n",
    "optimizer = torch.optim.SGD(model.parameters(), lr = learning_rate)\n",
    "\n",
    "for epoch in range(EPOCHS):\n",
    "\n",
    "    train_loss = 0\n",
    "\n",
    "  ## TRAIN STEP\n",
    "\n",
    "    for x_train, y_train in train_loader:\n",
    "\n",
    "        x_train, y_train = x_train.to(device), y_train.to(device)\n",
    "        loss = train(model, x_train, y_train)\n",
    "        train_loss += loss\n",
    "\n",
    "    train_loss /= len(train_loader)                    # we divide by the number of batches\n",
    "    train_losses.append(train_loss)\n",
    "\n",
    "  ## TEST STEP\n",
    "\n",
    "    if epoch % 10 == 0:\n",
    "\n",
    "        train_acc, test_acc = evaluate(model, train_loader, test_loader)\n",
    "        train_accuracies.append(train_acc)\n",
    "        test_accuracies.append(test_acc)\n",
    "\n",
    "        print(\"Epoch:\", epoch, \"Loss:\", float(train_loss), \"train_acc:\", train_acc, \"test_acc:\", test_acc)\n"
   ]
  },
  {
   "cell_type": "code",
   "execution_count": null,
   "metadata": {
    "executionInfo": {
     "elapsed": 9,
     "status": "aborted",
     "timestamp": 1717776497286,
     "user": {
      "displayName": "Valentina Barletta",
      "userId": "10868763587431229161"
     },
     "user_tz": -120
    },
    "id": "7Jpmuuflxacn"
   },
   "outputs": [],
   "source": [
    "epochs = [i*10 for i in range(EPOCHS//10)]\n",
    "\n",
    "plt.plot(epochs, train_accuracies, label = \"Train\")\n",
    "plt.plot(epochs, test_accuracies, label = \"Test\")\n",
    "\n",
    "plt.xlabel(\"Epochs\")\n",
    "plt.ylabel(\"Accuracy\")\n",
    "\n",
    "\n",
    "plt.legend()\n",
    "\n",
    "plt.show()"
   ]
  }
 ],
 "metadata": {
  "accelerator": "GPU",
  "colab": {
   "gpuType": "T4",
   "provenance": []
  },
  "kernelspec": {
   "display_name": "Python 3 (ipykernel)",
   "language": "python",
   "name": "python3"
  },
  "language_info": {
   "codemirror_mode": {
    "name": "ipython",
    "version": 3
   },
   "file_extension": ".py",
   "mimetype": "text/x-python",
   "name": "python",
   "nbconvert_exporter": "python",
   "pygments_lexer": "ipython3",
   "version": "3.9.7"
  }
 },
 "nbformat": 4,
 "nbformat_minor": 1
}
